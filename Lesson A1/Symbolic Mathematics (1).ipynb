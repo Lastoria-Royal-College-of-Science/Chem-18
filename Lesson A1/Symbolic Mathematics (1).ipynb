{
 "cells": [
  {
   "metadata": {
    "collapsed": true
   },
   "cell_type": "markdown",
   "source": [
    "# Lesson A1: Symbolic Mathematics (1)\n",
    "\n",
    "> Instructor: [Yuki Oyama](mailto:y.oyama@lrcs.ac), [Prprnya](mailto:nya@prpr.zip)\n",
    ">\n",
    "> The Christian F. Weichman Department of Chemistry, Lastoria Royal College of Science\n",
    "\n",
    "This material is licensed under <a href=\"https://creativecommons.org/licenses/by-nc-sa/4.0/\">CC BY-NC-SA 4.0</a><img src=\"https://mirrors.creativecommons.org/presskit/icons/cc.svg\" alt=\"\" style=\"max-width: 1em;max-height:1em;margin-left: .2em;\"><img src=\"https://mirrors.creativecommons.org/presskit/icons/by.svg\" alt=\"\" style=\"max-width: 1em;max-height:1em;margin-left: .2em;\"><img src=\"https://mirrors.creativecommons.org/presskit/icons/nc.svg\" alt=\"\" style=\"max-width: 1em;max-height:1em;margin-left: .2em;\"><img src=\"https://mirrors.creativecommons.org/presskit/icons/sa.svg\" alt=\"\" style=\"max-width: 1em;max-height:1em;margin-left: .2em;\">"
   ],
   "id": "ba9846d86b0085da"
  },
  {
   "metadata": {},
   "cell_type": "markdown",
   "source": "Welcome to the second part of the course! The first four lessons covered the basics of Python and its core libraries, so they're meant to be learned in sequence. This second part, however, is more application-oriented, and the lessons are independent of each other. We've arranged them alphabetically—not as a learning order, but simply to keep track of the order in which they were created. From here on, you are free to choose any lesson to start with( ´▽｀)",
   "id": "e14b7f0cf8cc15eb"
  },
  {
   "metadata": {},
   "cell_type": "markdown",
   "source": [
    "## Introduction\n",
    "Perhaps all calculations we've done in previous lessons have been done using numerical values. However, in many cases, we want to do calculations using symbols. For example, given the [Maxwell–Boltzmann distribution](https://en.wikipedia.org/wiki/Maxwell%E2%80%93Boltzmann_distribution):\n",
    "\n",
    "$$ f(v) = 4\\pi \\left( \\frac{m}{2\\pi k_B T} \\right)^\\frac{3}{2} v^2 e^{-\\frac{mv^2}{2k_BT}} $$\n",
    "\n",
    "with $v$ the speed of a particle, $m$ the mass of this particle, $T$ the temperature, and $k_B$ the Boltzmann constant. We want to find the most probable speed $v_\\text{mp}$, which is the speed at which the particle is most likely to be at a given temperature. The canonical way to do this is to find the maximum of $f(v)$, and this requires us to evaluate the derivative of $f(v)$ with respect to $v$, and set it to be zero. What if we don't want to do this tedious (_well, it's not quite tedious—you should know it! but I'm lazy..._) calculation? You can use an expensive calculator with **CAS (Computer Algebra System)** functionality to do this, or you can use software like Mathematica or Maple... These all take a lot of money! Luckily, there is a fantastic library in Python: [SymPy](https://www.sympy.org/), that can carry symbolic mathematics like finding derivatives, and this is what we will study in this lesson.\n",
    "\n",
    "*By the way, the most probable speed is $v_\\text{mp} = \\sqrt{\\frac{2k_BT}{m}}$. Do you get it?*"
   ],
   "id": "1f43eb013645b9a2"
  },
  {
   "metadata": {},
   "cell_type": "markdown",
   "source": [
    "## Exact is Magic!\n",
    "\n",
    "What an amaze symbolic mathematics is it can give us exact answers, not just numbers, to problems we'd otherwise have to work out by hand. Suppose you want to get the simplified form of $\\sqrt{8}$ (this time... you MUST know this!). Let's see what NumPy tells us…\n",
    "\n",
    "```python\n",
    "import numpy as np\n",
    "np.sqrt(8)\n",
    "```"
   ],
   "id": "6c2b73242573c311"
  },
  {
   "metadata": {},
   "cell_type": "code",
   "source": [
    "import numpy as np\n",
    "np.sqrt(8)"
   ],
   "id": "ba6ada6e7b1e0297",
   "outputs": [],
   "execution_count": null
  },
  {
   "metadata": {},
   "cell_type": "markdown",
   "source": [
    "It's a number… well, kinda not the stuff we want. Let's try SymPy... oh, we need to import it first:\n",
    "\n",
    "```python\n",
    "import sympy as sp\n",
    "```"
   ],
   "id": "e1716019b6644872"
  },
  {
   "metadata": {},
   "cell_type": "code",
   "source": "import sympy as sp",
   "id": "4ea3315b815a60a0",
   "outputs": [],
   "execution_count": null
  },
  {
   "metadata": {},
   "cell_type": "markdown",
   "source": [
    "`sp` is the recommended alias for `sympy`.\n",
    "\n",
    "This time let's see:\n",
    "\n",
    "```python\n",
    "sp.sqrt(8)\n",
    "```"
   ],
   "id": "a77259927ca7b593"
  },
  {
   "metadata": {},
   "cell_type": "code",
   "source": "sp.sqrt(8)",
   "id": "6b73174be80a02ae",
   "outputs": [],
   "execution_count": null
  },
  {
   "metadata": {},
   "cell_type": "markdown",
   "source": [
    "Wow! This is an exact result! We can even do some more complicated things:\n",
    "\n",
    "$$ \\sqrt{8} + \\sqrt{2} $$\n",
    "\n",
    "```python\n",
    "sp.sqrt(8) + sp.sqrt(2)\n",
    "```"
   ],
   "id": "97095095ed976ae1"
  },
  {
   "metadata": {},
   "cell_type": "code",
   "source": "sp.sqrt(8) + sp.sqrt(2)",
   "id": "262b248f7b23a134",
   "outputs": [],
   "execution_count": null
  },
  {
   "metadata": {},
   "cell_type": "markdown",
   "source": [
    "... even this:\n",
    "\n",
    "$$ \\int \\left[e^\\xi \\sin(\\xi) + e^\\xi \\cos(\\xi)\\right] \\, d\\xi $$\n",
    "\n",
    "```python\n",
    "xi = sp.symbols('xi')\n",
    "sp.integrate(sp.exp(xi)*sp.sin(xi) + sp.exp(xi)*sp.cos(xi), xi)\n",
    "```"
   ],
   "id": "b723b221a615607f"
  },
  {
   "metadata": {},
   "cell_type": "code",
   "source": [
    "xi = sp.symbols(r'\\xi')\n",
    "sp.integrate(sp.exp(xi)*sp.sin(xi) + sp.exp(xi)*sp.cos(xi), xi)"
   ],
   "id": "39a9a0c9f3ef66a2",
   "outputs": [],
   "execution_count": null
  },
  {
   "metadata": {},
   "cell_type": "markdown",
   "source": "Also, do you notice that the results are beautiful mathematical expressions, just like the LaTeX expressions we've seen before? This is because SymPy has this feature called \"pretty printing,\" which automatically renders the output to make it look nice.",
   "id": "6e643ccabe1eae41"
  },
  {
   "metadata": {},
   "cell_type": "markdown",
   "source": [
    "## Symbols and Functions\n",
    "\n",
    "### Symbols\n",
    "\n",
    "Okay, fancy demonstrations over. Let's get back to the real deal: **symbols**. Have you noticed that when we are going to carry out calculations of algebra—like $\\xi$ above, we need to create a symbol using `sp.symbols()`? In SymPy, we cannot use `x` or `y` directly, but we need to assign them to be symbols. If you try to add a defined symbol (like `xi` above) with an undefined symbol, SymPy will throw an error:\n",
    "\n",
    "```python\n",
    "xi + x\n",
    "```"
   ],
   "id": "7c4a066c000fdd46"
  },
  {
   "metadata": {},
   "cell_type": "code",
   "source": "#xi + x",
   "id": "9d5f8ffec15d9b7e",
   "outputs": [],
   "execution_count": null
  },
  {
   "metadata": {},
   "cell_type": "markdown",
   "source": [
    "We need to define `x` as symbols first:\n",
    "\n",
    "```python\n",
    "x = sp.symbols('x')\n",
    "xi + x\n",
    "```"
   ],
   "id": "724ea1062c3b3590"
  },
  {
   "metadata": {},
   "cell_type": "code",
   "source": [
    "x = sp.symbols('x')\n",
    "xi + x"
   ],
   "id": "247e49c311a21040",
   "outputs": [],
   "execution_count": null
  },
  {
   "metadata": {},
   "cell_type": "markdown",
   "source": [
    "You can assign multiple symbols at once:\n",
    "\n",
    "```python\n",
    "x, y, z = sp.symbols('x y z')\n",
    "x + y + z\n",
    "```"
   ],
   "id": "265fffbced7420cc"
  },
  {
   "metadata": {},
   "cell_type": "code",
   "source": [
    "x, y, z = sp.symbols('x y z')\n",
    "x + y + z"
   ],
   "id": "b355a439cb748346",
   "outputs": [],
   "execution_count": null
  },
  {
   "metadata": {},
   "cell_type": "markdown",
   "source": [
    "The name of a symbol and the name of the variable it is assigned to need **NOT** have anything to do with one another. For example, we can assign `a` to be the symbol $b$, and `b` to be the symbol $a$:\n",
    "\n",
    "```python\n",
    "a, b = sp.symbols('b a')\n",
    "a # this should gives $b$\n",
    "```"
   ],
   "id": "d0aa5b358fae8a44"
  },
  {
   "metadata": {},
   "cell_type": "code",
   "source": [
    "a, b = sp.symbols('b a')\n",
    "a # this should gives $b$"
   ],
   "id": "7b18c868a6d3238f",
   "outputs": [],
   "execution_count": null
  },
  {
   "metadata": {},
   "cell_type": "markdown",
   "source": [
    "```python\n",
    "b # this should gives $a$\n",
    "```"
   ],
   "id": "1f6667b344dab9e2"
  },
  {
   "metadata": {},
   "cell_type": "code",
   "source": "b # this should gives $a$",
   "id": "7006c1770ffdac75",
   "outputs": [],
   "execution_count": null
  },
  {
   "metadata": {},
   "cell_type": "markdown",
   "source": [
    "But! This is really a bad practice! Please don't do this...\n",
    "\n",
    "There is a shortcut to define common symbols from alphabet and Greek letters. That is, you can import `sympy.abc` to get the entire alphabetical (Roman) letters and lowercase Greek letters, except letters you have defined before (`x`, `y`, `z`, `xi`, `a`, `b` in this document) and some special letters reserved for Python (like `lambda`)\n",
    "\n",
    "```python\n",
    "from sympy.abc import *\n",
    "```"
   ],
   "id": "62d01ae4bcba0e3e"
  },
  {
   "metadata": {},
   "cell_type": "code",
   "source": "from sympy.abc import *",
   "id": "77919e697d95b7f3",
   "outputs": [],
   "execution_count": null
  },
  {
   "metadata": {},
   "cell_type": "markdown",
   "source": [
    "Here, `import *` means that all elements in `sympy.abc` will be imported. Now you can check:\n",
    "\n",
    "```python\n",
    "(c + d) / e + (P + Q) + alpha * beta / gamma\n",
    "```"
   ],
   "id": "9cb0a7cb0887ad99"
  },
  {
   "metadata": {},
   "cell_type": "code",
   "source": "(c + d) / e + (P + Q) + alpha * beta / gamma",
   "id": "24eb474922873367",
   "outputs": [],
   "execution_count": null
  },
  {
   "metadata": {},
   "cell_type": "markdown",
   "source": [
    "Uppercase Greek letters need to be defined by our own:\n",
    "\n",
    "```python\n",
    "Gamma = sp.symbols('Gamma')\n",
    "Gamma\n",
    "```"
   ],
   "id": "3c14146b31a6ad9b"
  },
  {
   "metadata": {},
   "cell_type": "code",
   "source": [
    "Gamma = sp.symbols('Gamma')\n",
    "Gamma"
   ],
   "id": "be8486a3bed08f36",
   "outputs": [],
   "execution_count": null
  },
  {
   "metadata": {},
   "cell_type": "markdown",
   "source": [
    "We can also assign specific predicates to symbols, like `positive` and `negative`. This can be achieved by giving assumptions when defining the symbol:\n",
    "\n",
    "```python\n",
    "x1 = sp.symbols('x', positive=True)\n",
    "x2 = sp.symbols('x', positive=True)\n",
    "x1 == x2\n",
    "```"
   ],
   "id": "9c4afc369dd7a02d"
  },
  {
   "metadata": {},
   "cell_type": "code",
   "source": [
    "x1 = sp.symbols('x', positive=True)\n",
    "x2 = sp.symbols('x')\n",
    "x1 == x2"
   ],
   "id": "53cbf248e5d6735e",
   "outputs": [],
   "execution_count": null
  },
  {
   "metadata": {},
   "cell_type": "markdown",
   "source": [
    "See? `x1` and `x2` are not equal, because `x1` is defined as a positive symbol, but `x2` has no restrictions on it. Some commonly seen predicates are shown below.\n",
    "\n",
    "\n",
    "| **Predicate** | **Definition**                                                                                                                   | **Implications / Relations**                       |\n",
    "| ------------- |----------------------------------------------------------------------------------------------------------------------------------| -------------------------------------------------- |\n",
    "| **complex**   | A complex number $a + bi$, where $a, b \\in \\mathbb{R}$. All complex numbers are finite and include all real numbers.             | → `commutative`, → `finite`                        |\n",
    "| **real**      | A real number ($\\mathbb{R}$). Every real is also complex ($\\mathbb{R} \\subset \\mathbb{C}$); includes all rationals and integers. | → `complex`, == (`negative` | `zero` | `positive`) |\n",
    "| **imaginary** | A number of the form $bi$, where $b \\in \\mathbb{R}$ and $b \\neq 0$. Complex but not real.                                        | → `complex`, → `!real`                             |\n",
    "| **integer**   | An integer $(\\cdots, -2, -1, 0, 1, 2, \\cdots)$.                                                                                  | → `rational`, → `real`                             |\n",
    "| **even**      | An even integer ($2n$). Includes zero.                                                                                           | → `integer`, → `!odd`                              |\n",
    "| **odd**       | An odd integer ($2n + 1$).                                                                                                       | → `integer`, → `!even`                             |\n",
    "| **prime**     | A positive integer greater than $1$ that has no divisors other than $1$ and itself.                                              | → (`integer` & `positive`)                         |\n",
    "| **nonzero**   | A real or complex number that is not zero.                                                                                       | == (`!zero`), → (`real` | `complex`)               |\n",
    "| **positive**  | A real number $> 0$. All positive numbers are finite.                                                                            | == (`nonnegative` & `nonzero`), → `real`           |\n",
    "| **negative**  | A real number $< 0$. All negative numbers are finite.                                                                            | == (`nonpositive` & `nonzero`), → `real`           |\n",
    "\n",
    "\n",
    "A complete list of predicates can be accessed in the [SymPy documentation of assumptions](https://docs.sympy.org/latest/guides/assumptions.html#gotcha-symbols-with-different-assumptions:~:text=A%20full%20table%20of%20the%20possible%20predicates%20and%20their%20definitions%20is%20given%20below)."
   ],
   "id": "17f73dc54a1d060a"
  },
  {
   "metadata": {},
   "cell_type": "markdown",
   "source": [
    "### Functions\n",
    "\n",
    "Functions can be defined by using `Function` class, and the syntax is similar to defining symbols. For example, we can define an abstract function $f(x)$ as follows:\n",
    "\n",
    "```python\n",
    "f = sp.Function('f')\n",
    "f\n",
    "```"
   ],
   "id": "48b239e0280fa86e"
  },
  {
   "metadata": {},
   "cell_type": "code",
   "source": [
    "f = sp.Function('f')\n",
    "f"
   ],
   "id": "eef387a5b7ea1ceb",
   "outputs": [],
   "execution_count": null
  },
  {
   "metadata": {},
   "cell_type": "markdown",
   "source": [
    "Well... this is only a function definition, not a function call. For calling a function, we need to use the `f(x)`:\n",
    "\n",
    "```python\n",
    "f(x)\n",
    "```"
   ],
   "id": "a9e051106f20dfc1"
  },
  {
   "metadata": {},
   "cell_type": "code",
   "source": "f(x)",
   "id": "5f338f20ba831297",
   "outputs": [],
   "execution_count": null
  },
  {
   "metadata": {},
   "cell_type": "markdown",
   "source": [
    "Explicitly including variables can give the same result as above:\n",
    "\n",
    "```python\n",
    "g = sp.Function('g')(x)\n",
    "g\n",
    "```"
   ],
   "id": "6aa33f0772e87d64"
  },
  {
   "metadata": {},
   "cell_type": "code",
   "source": [
    "g = sp.Function('g')(x)\n",
    "g"
   ],
   "id": "5e1b0cfcc7c0ba31",
   "outputs": [],
   "execution_count": null
  },
  {
   "metadata": {},
   "cell_type": "markdown",
   "source": [
    "You can also define a function with multiple arguments:\n",
    "\n",
    "```python\n",
    "h = sp.Function('h')(x, y)\n",
    "h\n",
    "```"
   ],
   "id": "82cd382256b1f081"
  },
  {
   "metadata": {},
   "cell_type": "code",
   "source": [
    "h = sp.Function('h')(x, y)\n",
    "h"
   ],
   "id": "c107a34180e1795d",
   "outputs": [],
   "execution_count": null
  },
  {
   "metadata": {},
   "cell_type": "markdown",
   "source": [
    "Assumptions can be provided to a `Function` in the same way as they are for a `Symbol`. Alternatively, you can define a `Symbol` that already has assumptions, and when used as the function's name, the function automatically inherits those assumptions.\n",
    "\n",
    "```python\n",
    "f_real = sp.Function('f', real=True)\n",
    "f_real(x).is_real\n",
    "```"
   ],
   "id": "55e8c80467aed535"
  },
  {
   "metadata": {},
   "cell_type": "code",
   "source": [
    "f_real = sp.Function('f', real=True)\n",
    "f_real(x).is_real"
   ],
   "id": "889bc13172fd5d7c",
   "outputs": [],
   "execution_count": null
  },
  {
   "metadata": {},
   "cell_type": "markdown",
   "source": [
    "```python\n",
    "f_real_inherit = sp.Function(sp.Symbol('f', real=True))\n",
    "f_real_inherit(x).is_real\n",
    "```"
   ],
   "id": "7f06c54ec0a7335f"
  },
  {
   "metadata": {},
   "cell_type": "code",
   "source": [
    "f_real_inherit = sp.Function(sp.Symbol('f', real=True))\n",
    "f_real_inherit(x).is_real"
   ],
   "id": "23b50a6013a1bcf",
   "outputs": [],
   "execution_count": null
  },
  {
   "metadata": {},
   "cell_type": "markdown",
   "source": "You can also define a specific function in SymPy, but this is more complicated than defining a general function. We will not spend much time on this, but you can refer to the [SymPy documentation of Writing Custom Functions](https://docs.sympy.org/latest/guides/custom-functions.html).",
   "id": "603ea82670d3b35c"
  },
  {
   "metadata": {},
   "cell_type": "markdown",
   "source": [
    "## Basic Operations\n",
    "\n",
    "### Substitution and Evaluation\n",
    "\n",
    "One of the most important thing that you may want to do with symbols is to substitute them with numbers or other symbols. For example, recall that the wavefunction of a quantum harmonic oscillator is given by\n",
    "\n",
    "$$\\psi_n(x) = \\left(\\frac{m \\omega}{\\pi \\hbar}\\right)^{1/4} \\frac{1}{\\sqrt{2^n n!}} H_n\\left(\\sqrt{\\frac{m \\omega}{\\hbar}} x\\right) e^{-\\frac{m \\omega x^2}{2 \\hbar}}$$\n",
    "\n",
    "Sometimes people may shorten this writing by using $\\xi = \\sqrt{\\frac{m \\omega}{\\hbar}} x$, so the above expression reduces to\n",
    "\n",
    "$$\\psi_n(\\xi) = \\left(\\frac{m \\omega}{\\pi \\hbar}\\right)^{1/4} \\frac{1}{\\sqrt{2^n n!}} H_n\\left(\\xi\\right) e^{\\frac{-\\xi^2}{2}}$$\n",
    "\n",
    "However, if we want to do the above procedure in reverse, I bet you wouldn't want to manually substitute all the symbols twice and then simplify the square root of a square by hand. Using SymPy, we can do this easily. First, let's define the expression:\n",
    "\n",
    "```python\n",
    "# Don't be worried about these imports!\n",
    "# They are just for defining constants and functions from sympy\n",
    "# We will show you how to use them later\n",
    "from sympy.functions.special.polynomials import hermite\n",
    "from sympy.physics.quantum import hbar\n",
    "\n",
    "psi_n = ((m * omega)/(sp.pi * hbar))**(1/4) * 1/sp.sqrt(2**n * sp.factorial(n)) * hermite(n, xi) * sp.exp(-xi**2 / 2)\n",
    "psi_n\n",
    "```"
   ],
   "id": "1b4ec8e5dbb75c23"
  },
  {
   "metadata": {},
   "cell_type": "code",
   "source": [
    "# Don't be worried about these imports!\n",
    "# They are just for defining constants and functions from sympy\n",
    "# We will show you how to use them later\n",
    "from sympy.functions.special.polynomials import hermite\n",
    "from sympy.physics.quantum import hbar\n",
    "\n",
    "psi_n = ((m * omega)/(sp.pi * hbar))**(1/4) * 1/sp.sqrt(2**n * sp.factorial(n)) * hermite(n, xi) * sp.exp(-xi**2 / 2)\n",
    "psi_n"
   ],
   "id": "d28a8654c3a1b05b",
   "outputs": [],
   "execution_count": null
  },
  {
   "metadata": {},
   "cell_type": "markdown",
   "source": [
    "We can substitute the symbol $\\xi$ with $\\sqrt{\\frac{m \\omega}{\\hbar}} x$ with the `subs()` function, which is a **method**, so you need to call it by add `.subs()` after your expression. This function takes two arguments: the symbol to be substituted, and the value to be substituted with. You can check the [documentation](https://docs.sympy.org/latest/modules/core.html#sympy.core.basic.Basic.subs:~:text=Substitutes%20old%20for%20new%20in%20an%20expression%20after%20sympifying%20args.) of `subs()` for more details.\n",
    "\n",
    "```python\n",
    "psi_n.subs(xi, sp.sqrt(m*omega/hbar) * x)\n",
    "```"
   ],
   "id": "8730d6a3fdb63d88"
  },
  {
   "metadata": {},
   "cell_type": "code",
   "source": [
    "psi_n_full = psi_n.subs(xi, sp.sqrt(m*omega/hbar) * x)\n",
    "psi_n_full"
   ],
   "id": "130d2febd4e850e0",
   "outputs": [],
   "execution_count": null
  },
  {
   "metadata": {},
   "cell_type": "markdown",
   "source": "The result is a symbolic expression, which can be evaluated using `evalf()`:",
   "id": "f05d1cdbcff32345"
  },
  {
   "metadata": {},
   "cell_type": "markdown",
   "source": [
    "You can try substituiton again with $n=0$ to find the ground state wavefunction:\n",
    "\n",
    "```python\n",
    "psi_0 = psi_n_full.subs(n, 0)\n",
    "psi_0\n",
    "```"
   ],
   "id": "1d11c67872d1433e"
  },
  {
   "metadata": {},
   "cell_type": "code",
   "source": [
    "psi_0 = psi_n_full.subs(n, 0)\n",
    "psi_0"
   ],
   "id": "751f266cb3d8fed6",
   "outputs": [],
   "execution_count": null
  },
  {
   "metadata": {},
   "cell_type": "markdown",
   "source": [
    "It's not difficult to generate excited state wavefunctions with different `n`:\n",
    "\n",
    "```python\n",
    "from ipywidgets import interact, BoundedIntText\n",
    "\n",
    "# Generate a widget to let user input n from 0 to 15\n",
    "@interact(nval=BoundedIntText(value=0, description='n:', min=0, max=15))\n",
    "def psi_n_full_expr(nval):\n",
    "    return psi_n_full.subs(n, nval)\n",
    "```"
   ],
   "id": "fafe16fd78b4e208"
  },
  {
   "metadata": {},
   "cell_type": "code",
   "source": [
    "from ipywidgets import interact, BoundedIntText\n",
    "\n",
    "# Generate a widget to let user input n from 0 to 15\n",
    "@interact(nval=BoundedIntText(value=0, description='n:', min=0, max=15))\n",
    "def psi_n_full_expr(nval):\n",
    "    return psi_n_full.subs(n, nval)"
   ],
   "id": "3002380baef34c33",
   "outputs": [],
   "execution_count": null
  },
  {
   "metadata": {},
   "cell_type": "markdown",
   "source": [
    "What if we want to evaluate the wavefunction $\\psi_0$ at a specific point, like $\\psi_0(0)$? We can use `subs()` again:\n",
    "\n",
    "```python\n",
    "psi_n_full.subs([(x, 0), (n, 0)])\n",
    "```"
   ],
   "id": "efd7ceaf5ca013fa"
  },
  {
   "metadata": {},
   "cell_type": "code",
   "source": "psi_n_full.subs([(x, 0), (n, 0)])",
   "id": "1bb1a02e12288ed6",
   "outputs": [],
   "execution_count": null
  },
  {
   "metadata": {},
   "cell_type": "markdown",
   "source": [
    "This will give us an exact result. We can also convert this expression to a numerical value, by using `evalf()`:\n",
    "\n",
    "```python\n",
    "# Normally we don't use `print()` to output SymPy results\n",
    "# Here is a special case - the output needs to be converted to string by `print()`\n",
    "# You can try not to use `print()` and see what happens\n",
    "print(psi_n_full.subs([(x, 0), (n, 0)]).evalf())\n",
    "```"
   ],
   "id": "b419199d026e29f"
  },
  {
   "metadata": {},
   "cell_type": "code",
   "source": "psi_n_full.subs([(x, 0), (n, 0)]).evalf()",
   "id": "a8d3cb59c8a0a525",
   "outputs": [],
   "execution_count": null
  },
  {
   "metadata": {},
   "cell_type": "markdown",
   "source": [
    "Hmm... it seems that we forget to substitute $\\omega$ and $m$ with their actual values. Assume that we are treating a $\\ce{H2}$ molecule as an harmonic oscillator, we can substitute them with $\\omega = 8.28 \\times 10^{14}\\, \\mathrm{s^{-1}}$ and $m = 8.37 \\times 10^{28}\\, \\mathrm{kg}$:\n",
    "\n",
    "```python\n",
    "psi_n_full.subs([(x, 0),\n",
    "                 (n, 0),\n",
    "                 (omega, 8.28e-14),\n",
    "                 (m, 8.37e-28)]).evalf()\n",
    "```"
   ],
   "id": "2a43dfeccc8c2056"
  },
  {
   "metadata": {},
   "cell_type": "code",
   "source": [
    "psi_n_full.subs([(x, 0),\n",
    "                 (n, 0),\n",
    "                 (omega, 8.28e-14),\n",
    "                 (m, 8.37e-28)]).evalf()"
   ],
   "id": "9b3a674099d5e295",
   "outputs": [],
   "execution_count": null
  },
  {
   "metadata": {},
   "cell_type": "markdown",
   "source": [
    "SymPy can evaluate floating point expressions to arbitrary precision. By default, 15 digits of precision are used, but you can pass any number as the argument to `evalf()`. For example:\n",
    "\n",
    "```python\n",
    "psi_n_full.subs([(x, 0),\n",
    "                 (n, 0),\n",
    "                 (omega, 8.28e-14),\n",
    "                 (m, 8.37e-28)]).evalf(5)\n",
    "```"
   ],
   "id": "ae41bd8a0e9b3ebf"
  },
  {
   "metadata": {},
   "cell_type": "code",
   "source": [
    "psi_n_full.subs([(x, 0),\n",
    "                 (n, 0),\n",
    "                 (omega, 8.28e-14),\n",
    "                 (m, 8.37e-28)]).evalf(5)"
   ],
   "id": "1ba10092e4e38ab9",
   "outputs": [],
   "execution_count": null
  },
  {
   "metadata": {},
   "cell_type": "markdown",
   "source": [
    "See how it gives the answer? Basically, you can use SymPy as a really powerful calculator( ´▽｀)\n",
    "\n",
    "For more information about `subs()` and `evalf()`, you can refer to the [SymPy tutorials of Basic Operations](https://docs.sympy.org/latest/tutorials/intro-tutorial/basic_operations.html#:~:text=y%20z%22\\)-,Substitution,-%C2%B6)."
   ],
   "id": "c69c6f455848b5fe"
  },
  {
   "metadata": {},
   "cell_type": "markdown",
   "source": [
    "### \"Lambdification\"\n",
    "\n",
    "`subs()` and `evalf()` work well for quick evaluations, but they become inefficient when you need to compute values at many points. If you’re evaluating an expression thousands of times—especially at machine precision—SymPy will be much slower than necessary. In such cases, it’s better to use NumPy or SciPy instead.\n",
    "\n",
    "The easiest way to make a SymPy expression numerically evaluable is with `sp.lambdify()`, which converts symbolic expressions into fast, NumPy-compatible functions. This function takes two arguments: the variables to be substituted, and the expression to be converted. If you want to convert the expression to a function that takes multiple arguments, just pass a tuple of variables to the first argument of `sp.lambdify()`. Let's try it out with our harmonic oscillator wavefunction:\n",
    "\n",
    "```python\n",
    "# We first define a `psi_for_lambdify` that substitutes the values of `omega` and `m`\n",
    "psi_for_lambdify = psi_n_full.subs([(omega, 8.28e-14), (m, 8.37e-28)])\n",
    "# Then we use `lambdify()` to convert it to a function that takes `x` and `n` as arguments\n",
    "harmonic_psi_from_sympy = sp.lambdify((x, n), psi_for_lambdify)\n",
    "# Finally, we can evaluate the function at any `x` and `n` we want\n",
    "harmonic_psi_from_sympy(1, 0)\n",
    "```"
   ],
   "id": "f0cda4bf13509086"
  },
  {
   "metadata": {},
   "cell_type": "code",
   "source": [
    "# We first define a `psi_for_lambdify` that substitutes the values of `omega` and `m`\n",
    "psi_for_lambdify = psi_n_full.subs([(omega, 8.28e-14), (m, 8.37e-28)])\n",
    "# Then we use `lambdify()` to convert it to a function that takes `x` and `n` as arguments\n",
    "harmonic_psi_from_sympy = sp.lambdify((x, n), psi_for_lambdify)\n",
    "# Finally, we can evaluate the function at any `x` and `n` we want\n",
    "harmonic_psi_from_sympy(1, 0)"
   ],
   "id": "61770eb0734d68ee",
   "outputs": [],
   "execution_count": null
  },
  {
   "metadata": {},
   "cell_type": "markdown",
   "source": [
    "From here, we can pass an NumPy array to this function and we can easily plot the wavefunction with Matplotlib:\n",
    "\n",
    "```python\n",
    "import matplotlib.pyplot as plt\n",
    "\n",
    "x_vals = np.linspace(-10, 10, 100)\n",
    "psi_vals = harmonic_psi_from_sympy(x_vals, 0)\n",
    "\n",
    "plt.plot(x_vals, psi_vals)\n",
    "plt.xlabel(r'$x$')\n",
    "plt.ylabel(r'$\\psi(x)$')\n",
    "plt.show()\n",
    "```"
   ],
   "id": "952a924550745037"
  },
  {
   "metadata": {},
   "cell_type": "code",
   "source": [
    "import matplotlib.pyplot as plt\n",
    "\n",
    "x_vals = np.linspace(-7500, 7500, 200)\n",
    "\n",
    "plt.figure(figsize=(10, 6))\n",
    "\n",
    "plt.hlines(0, -9000, 9000, ls='--', color='k')\n",
    "plt.vlines(0, -0.03, 0.03, ls='--', color='k')\n",
    "\n",
    "for i in range (5):\n",
    "    psi_vals = harmonic_psi_from_sympy(x_vals, i)\n",
    "    plt.plot(x_vals, psi_vals, label=f'$n={i}$', ls='-')\n",
    "\n",
    "plt.xlim(-8000,8000)\n",
    "plt.ylim(-0.025,0.025)\n",
    "plt.xlabel(r'$x$')\n",
    "plt.ylabel(r'$\\psi(x)$')\n",
    "plt.legend()\n",
    "plt.title('Wavefunctions of Quantum Harmonic Oscillator')\n",
    "plt.grid(ls='--', alpha=0.8)\n",
    "\n",
    "plt.show()"
   ],
   "id": "b1234b8d9ee176d",
   "outputs": [],
   "execution_count": null
  },
  {
   "metadata": {},
   "cell_type": "markdown",
   "source": [
    "Nice plots, right? This is similar to what we did in the End-of-Lesson Problems of Lesson 2.\n",
    "\n",
    "There are more functionalities of `sp.lambdify()`, like specifying the module to use for the numeric library, or the module to use for the printing library. You can check more details in the [SymPy documentation of Lambdify](https://docs.sympy.org/latest/modules/utilities/lambdify.html#sympy.utilities.lambdify.lambdify).\n",
    "\n",
    "<span style=\"color:green\">**Exercise**:</span> Use SymPy to make a function of our old friend—Morse potential:\n",
    "\n",
    "$$V_\\text{Morse}(r) = D_e \\left( 1 - e^{-a \\left( r - r_0 \\right)} \\right)^2$$\n",
    "\n",
    "Evaluate it at $r = r_0$, and use `sp.lambdify()` to make a function that takes $r$ as an argument and returns the value of $V_\\text{Morse}(r)$. Try to plot ths function with $D_e = 10.98\\,\\mathrm{eV}$, $a = 2.32\\,\\mathrm{Å}^{-1}$, and $r_0 = 1.128\\,\\mathrm{Å}$ from $r = 0.8\\, \\mathrm{Å}$ to $r = 3\\, \\mathrm{Å}$."
   ],
   "id": "b008f565d809711"
  },
  {
   "metadata": {},
   "cell_type": "code",
   "source": "",
   "id": "ede21dc816070e4d",
   "outputs": [],
   "execution_count": null
  },
  {
   "metadata": {},
   "cell_type": "markdown",
   "source": [
    "## Simplification\n",
    "\n",
    "While \"simplification\" sounds like a great word, it actually covers a lot. We all know that expressions like $1 + 2x - x$ can be simplified to $1 + x$, and $\\cos^2 x + \\sin^2 x = 1$, but what about expressions like $x^2 + 2x + 1$? Do you think that's already simplified? Well, if you want to get $(x + 1)^2$, that's **factorization**, but if you prefer to keep it as it is, that's also a simplified—or rather, **expanded** form.\n",
    "\n",
    "### Naive Simplification\n",
    "\n",
    "SymPy has many built-in simplification functions, each useful for different levels or types of simplification. The most common one is probably `sp.simplify()`. As its name suggests, this function simplifies expressions—and it does so *smartly*, using a heuristic approach. We'll go over the details later, but first, let's look at a few examples:\n",
    "\n",
    "```python\n",
    "sp.simplify(sp.sin(x)**2 + sp.cos(x)**2)\n",
    "```\n",
    "\n",
    "$$\\text{simplify}\\; \\sin^2 x + \\cos^2 x$$"
   ],
   "id": "be09a84843154869"
  },
  {
   "metadata": {},
   "cell_type": "code",
   "source": "sp.simplify(sp.sin(x)**2 + sp.cos(x)**2)",
   "id": "4a2172ec2b1ea900",
   "outputs": [],
   "execution_count": null
  },
  {
   "metadata": {},
   "cell_type": "markdown",
   "source": [
    "```python\n",
    "sp.simplify((x**3 + x**2 - x - 1)/(x**2 + 2*x + 1))\n",
    "```\n",
    "\n",
    "$$ \\text{simplify}\\; \\frac{x^3 + x^2 - x - 1}{x^2 + 2x + 1}$$"
   ],
   "id": "df11b3483ee0c52d"
  },
  {
   "metadata": {},
   "cell_type": "code",
   "source": "sp.simplify((x**3 + x**2 - x - 1)/(x**2 + 2*x + 1))",
   "id": "3d337cd79b21ef3b",
   "outputs": [],
   "execution_count": null
  },
  {
   "metadata": {},
   "cell_type": "markdown",
   "source": [
    "```python\n",
    "sp.simplify(sp.gamma(x)/sp.gamma(x - 2))\n",
    "```\n",
    "\n",
    "$$ \\text{simplify}\\; \\frac{\\Gamma(x)}{\\Gamma(x - 2)} $$\n",
    "\n",
    "(Here $\\Gamma(x)$ is the [gamma function](https://en.wikipedia.org/wiki/Gamma_function). It is closely related to factorials.)"
   ],
   "id": "9c8d74dff4e596c8"
  },
  {
   "metadata": {},
   "cell_type": "code",
   "source": "sp.simplify(sp.gamma(x)/sp.gamma(x - 2))",
   "id": "3a6ac012954109b8",
   "outputs": [],
   "execution_count": null
  },
  {
   "metadata": {},
   "cell_type": "markdown",
   "source": [
    "What about $x^2 + 2x + 1$? In fact, `sp.simplify()` doesn't change it—it either doesn't know a simpler form or considers it already simplified, so it just returns the original expression:\n",
    "\n",
    "```python\n",
    "sp.simplify(x**2 + 2*x + 1)\n",
    "```\n",
    "\n",
    "$$ \\text{simplify}\\; x^2 + 2x + 1 $$"
   ],
   "id": "f16dab6d86477e34"
  },
  {
   "metadata": {},
   "cell_type": "code",
   "source": "sp.simplify(x**2 + 2*x + 1)",
   "id": "af136e855533e776",
   "outputs": [],
   "execution_count": null
  },
  {
   "metadata": {},
   "cell_type": "markdown",
   "source": [
    "### Expansion\n",
    "\n",
    "For polynomials like $x^2 + 2x + 1$, SymPy has functions to simplify them specifically. `sp.expand()` will convert a polynomial to a canonical form of a sum of monomials. Well, $x^2 + 2x + 1$ is already in this form, so let's see what happens if we use `sp.expand()` on $(x+1)^2$:\n",
    "\n",
    "```python\n",
    "sp.expand((x+1)**2)\n",
    "```\n",
    "\n",
    "$$ \\text{expand}\\; (x+1)^2 $$"
   ],
   "id": "be506cfb066907f5"
  },
  {
   "metadata": {},
   "cell_type": "code",
   "source": "sp.expand((x+1)**2)",
   "id": "50fa9b768216b381",
   "outputs": [],
   "execution_count": null
  },
  {
   "metadata": {},
   "cell_type": "markdown",
   "source": [
    "`sp.expand()` might not sound like a simplification function. After all, its name suggests making expressions larger, not smaller, and that’s usually true, but sometimes applying `sp.expand()` can actually make an expression simpler due to term cancellations.\n",
    "\n",
    "```python\n",
    "sp.expand((x+1)**2 - 1)\n",
    "```\n",
    "\n",
    "$$ \\text{expand}\\; (x+1)^2 - 1 $$"
   ],
   "id": "b2c6d06c72c88d3e"
  },
  {
   "metadata": {},
   "cell_type": "code",
   "source": "sp.expand((x + 1)*(x - 2) - (x - 1)*x)",
   "id": "d20578a22e42ae0",
   "outputs": [],
   "execution_count": null
  },
  {
   "metadata": {},
   "cell_type": "markdown",
   "source": [
    "### Factorization\n",
    "\n",
    "For polynomials, factorization is the reverse of expansion. `sp.factor()` will convert a polynomial to a product of irreducible factors over the rational numbers. For example:\n",
    "\n",
    "```python\n",
    "sp.factor(x**2 + 2*x + 1)\n",
    "```\n",
    "\n",
    "$$ \\text{factor}\\; x^2 + 2x + 1 $$"
   ],
   "id": "c1160b54a2d4a735"
  },
  {
   "metadata": {},
   "cell_type": "code",
   "source": "sp.factor(x**2 + 2*x + 1)",
   "id": "c87ce348ff5c8694",
   "outputs": [],
   "execution_count": null
  },
  {
   "metadata": {},
   "cell_type": "markdown",
   "source": [
    "You can actually pass any expression to `sp.factor()` and `sp.expand()` and they will try to factor or expand it, even it is not a pure polynomial.\n",
    "\n",
    "```python\n",
    "sp.factor(sp.sin(x)**2 + sp.cos(x)**2)\n",
    "```\n",
    "\n",
    "$$ \\text{factor}\\; \\sin^2 x + \\cos^2 x $$"
   ],
   "id": "4ed7a1d4bfa1c09"
  },
  {
   "metadata": {},
   "cell_type": "code",
   "source": "sp.expand((sp.sin(x) + sp.cos(x))**2)",
   "id": "b4744cdbdc36e37f",
   "outputs": [],
   "execution_count": null
  },
  {
   "metadata": {},
   "cell_type": "markdown",
   "source": [
    "```python\n",
    "sp.expand(sp.sin(x)**2 + sp.cos(x)**2)\n",
    "```\n",
    "\n",
    "$$ \\text{expand}\\; (\\sin x + \\cos x)^2 $$"
   ],
   "id": "c7906f92cd216e7d"
  },
  {
   "metadata": {},
   "cell_type": "code",
   "source": "sp.expand((sp.sin(x) + sp.cos(x))**2)",
   "id": "880f62ffc6cddd16",
   "outputs": [],
   "execution_count": null
  },
  {
   "metadata": {},
   "cell_type": "markdown",
   "source": [
    "### Collection\n",
    "\n",
    "The `sp.collect()` function will combine terms in an expression that share a common factor, and it takes two arguments: the expression to be combined, and the factor to be combined. For example:\n",
    "\n",
    "```python\n",
    "sp.collect(x*y + x - 3 + 2*x**2 - z*x**2 + x**3, x)\n",
    "```\n",
    "\n",
    "$$ \\text{collect}\\; xy + x - 3 + 2x^2 - zx^2 + x^3 \\; \\text{for $x$} $$"
   ],
   "id": "a679928bb21aadb7"
  },
  {
   "metadata": {},
   "cell_type": "code",
   "source": "sp.collect(x*y + x - 3 + 2*x**2 - z*x**2 + x**3, x)",
   "id": "22df6fe915b20e78",
   "outputs": [],
   "execution_count": null
  },
  {
   "metadata": {},
   "cell_type": "markdown",
   "source": [
    "### Cancellation\n",
    "\n",
    "The `sp.cancel()` function simplifies a rational expression into its canonical form $\\frac{p}{q}$, where $p$ and $q$ are expanded polynomials that share no common factors. In this canonical form, the leading coefficients of $p$ and $q$ are integers, meaning they have no denominators.\n",
    "\n",
    "```python\n",
    "sp.cancel((x**2 + 2*x + 1)/(x**2 + x))\n",
    "```\n",
    "\n",
    "$$ \\text{cancel}\\; \\frac{x^2 + 2x + 1}{x^2 + x} $$"
   ],
   "id": "54b6bd0f84aa3b32"
  },
  {
   "metadata": {},
   "cell_type": "code",
   "source": "sp.cancel((x**2 + 2*x + 1)/(x**2 + x))",
   "id": "66c61d280d50b116",
   "outputs": [],
   "execution_count": null
  },
  {
   "metadata": {},
   "cell_type": "markdown",
   "source": [
    "### Partial Fraction Decomposition\n",
    "\n",
    "The `sp.apart()` function will decompose a rational expression into a product of linear combinations of monomials; i.e., the [partial fraction decomposition](https://en.wikipedia.org/wiki/Partial_fraction_decomposition). For example:\n",
    "\n",
    "```python\n",
    "sp.apart((4*x**3 + 21*x**2 + 10*x + 12)/(x**4 + 5*x**3 + 5*x**2 + 4*x))\n",
    "```\n",
    "\n",
    "$$ \\text{decompose}\\; \\frac{4x^3 + 21x^2 + 10x + 12}{x^4 + 5x^3 + 5x^2 + 4x} $$"
   ],
   "id": "5dabb05daf5740a1"
  },
  {
   "metadata": {},
   "cell_type": "code",
   "source": "sp.apart((4*x**3 + 21*x**2 + 10*x + 12)/(x**4 + 5*x**3 + 5*x**2 + 4*x))",
   "id": "98bdb1304b3bd143",
   "outputs": [],
   "execution_count": null
  },
  {
   "metadata": {},
   "cell_type": "markdown",
   "source": [
    "### Trigonometric Simplification\n",
    "\n",
    "The `sp.trigsimp()` function can simplify trigonometric expressions using [trigonometric identities](https://en.wikipedia.org/wiki/List_of_trigonometric_identities).\n",
    "\n",
    "```python\n",
    "sp.trigsimp(sp.sin(x)**2 + sp.cos(x)**2)\n",
    "```\n",
    "\n",
    "$$ \\text{trig simplify}\\; \\sin^2 x + \\cos^2 x $$"
   ],
   "id": "bd251ea554aa8ab1"
  },
  {
   "metadata": {},
   "cell_type": "markdown",
   "source": [
    "This can also do for hyperbolic trigonometric functions:\n",
    "\n",
    "```python\n",
    "sp.trigsimp(sp.sinh(x)**2 + sp.cosh(x)**2)\n",
    "```\n",
    "\n",
    "$$ \\text{trig simplify}\\; \\sinh^2 x + \\cosh^2 x $$"
   ],
   "id": "933e825bd0ef05eb"
  },
  {
   "metadata": {},
   "cell_type": "code",
   "source": "sp.trigsimp(sp.sinh(x)**2 + sp.cosh(x)**2)",
   "id": "593d3908c8fcaa46",
   "outputs": [],
   "execution_count": null
  },
  {
   "metadata": {},
   "cell_type": "markdown",
   "source": [
    "The reverse of trigonometric simplification is `sp.expand_trig()`, which applies the sum or double angle identities to expand trigonometric functions.\n",
    "\n",
    "```python\n",
    "sp.expand_trig(sp.sin(x + y))\n",
    "```\n",
    "\n",
    "$$ \\text{trig expand}\\; \\sin(x + y) $$"
   ],
   "id": "386b47cd26670be5"
  },
  {
   "metadata": {},
   "cell_type": "code",
   "source": "sp.expand_trig(sp.sin(x + y))",
   "id": "c193ef3f78ea2cdd",
   "outputs": [],
   "execution_count": null
  },
  {
   "metadata": {},
   "cell_type": "markdown",
   "source": "There are definitely more functions to simplify expressions. You can check the [SymPy tutorial of Simplification](https://docs.sympy.org/latest/tutorials/intro-tutorial/simplification.html) and [API of Simplification](https://docs.sympy.org/latest/modules/simplify/index.html#module-sympy.simplify) for more details.",
   "id": "c42307498e2d9e9d"
  },
  {
   "metadata": {},
   "cell_type": "markdown",
   "source": [
    "<span style=\"color:green\">**Exercise**:</span> Simplify the following expressions.\n",
    "\n",
    "- $\\displaystyle \\frac{x^2 - 1}{x - 1}$\n",
    "\n",
    "- $\\tan^2 x + 1$\n",
    "\n",
    "- $(x + y)^2 - (x^2 + 2xy + y^2)$\n",
    "\n",
    "- $\\displaystyle \\frac{x^3 - 3x^2 + 3x - 1}{(x - 1)^3}$\n",
    "\n",
    "- $\\displaystyle \\frac{\\sinh(2x)}{2\\sinh(x)\\cosh(x)}$\n",
    "\n",
    "- $\\displaystyle \\frac{e^{2\\ln(x)} - 1}{e^{\\ln(x)} - 1}$"
   ],
   "id": "facf80dfce0fe74b"
  },
  {
   "metadata": {},
   "cell_type": "code",
   "source": "",
   "id": "5b2981af9567d53c",
   "outputs": [],
   "execution_count": null
  },
  {
   "metadata": {},
   "cell_type": "markdown",
   "source": [
    "## Calculus\n",
    "\n",
    "Calculus is probably the first nightmare most students face when they step into college. As chemists, we might not always have the strongest grip on it—but luckily, we don't have to! With SymPy, we can let Python handle all those tedious derivatives, integrals, and limits for us. In this section, we'll see how symbolic calculus works in SymPy and how it can make life a lot easier when dealing with real chemical and physical problems.\n",
    "\n",
    "### Derivatives\n",
    "\n",
    "Finding derivatives is a very common task in chemistry and physics. It is also easy to perform in SymPy. You can use the `sp.diff()` function to find the derivative of an expression. This function takes two arguments: the expression to be differentiated, and the variable to be differentiated with respect to. For example:\n",
    "\n",
    "```python\n",
    "sp.diff(sp.sin(x), x)\n",
    "```\n",
    "\n",
    "$$ \\frac{d}{dx} \\sin x $$"
   ],
   "id": "ae36e7b49ff8ce59"
  },
  {
   "metadata": {},
   "cell_type": "code",
   "source": "sp.diff(sp.sin(x), x)",
   "id": "8943fa8e8e4a4014",
   "outputs": [],
   "execution_count": null
  },
  {
   "metadata": {},
   "cell_type": "markdown",
   "source": [
    "We can also take derivatives of higher order, by either passing the variable to be differentiated and the order of the derivative as separate arguments:\n",
    "\n",
    "```python\n",
    "sp.diff(x**3 + 2*x + 1, x, 3)\n",
    "```\n",
    "\n",
    "$$ \\frac{d^3}{dx^3} (x^3 + 2x + 1) $$"
   ],
   "id": "ff4404dfb1edaf31"
  },
  {
   "metadata": {},
   "cell_type": "code",
   "source": "sp.diff(x**3 + 2*x + 1, x, 3)",
   "id": "2aac199fbde592e1",
   "outputs": [],
   "execution_count": null
  },
  {
   "metadata": {},
   "cell_type": "markdown",
   "source": [
    "Or by passing the variable to be differentiated for multiple times:\n",
    "\n",
    "```python\n",
    "sp.diff(x**3 + 2*x + 1, x, x, x)\n",
    "```\n",
    "\n",
    "$$ \\frac{d}{dx} \\frac{d}{dx} \\frac{d}{dx} (x^3 + 2x + 1) $$"
   ],
   "id": "3201648d207e07f2"
  },
  {
   "metadata": {},
   "cell_type": "code",
   "source": "sp.diff(x**3 + 2*x + 1, x, x, x)",
   "id": "e69ef2f6294b2123",
   "outputs": [],
   "execution_count": null
  },
  {
   "metadata": {},
   "cell_type": "markdown",
   "source": [
    "For partial derivatives, the implementation is similar—just pass each variable to be differentiated and the order of the derivative as separate arguments:\n",
    "\n",
    "```python\n",
    "sp.diff(sp.exp(x*y*z), x, 2, y, 1, z, 3)\n",
    "```\n",
    "\n",
    "$$ \\frac{\\partial^6}{\\partial x^2 \\partial y \\partial z^3} e^{x y z} $$"
   ],
   "id": "ae2a2184048e2e1b"
  },
  {
   "metadata": {},
   "cell_type": "code",
   "source": "sp.diff(sp.exp(x*y*z), x, 2, y, 1, z, 3)",
   "id": "f40f56be3c51f316",
   "outputs": [],
   "execution_count": null
  },
  {
   "metadata": {},
   "cell_type": "markdown",
   "source": [
    "For clarity, you can collect each variable and its order in a tuple:\n",
    "\n",
    "```python\n",
    "sp.diff(e**(x*y*z), (x, 2), (y, 1), (z, 3))\n",
    "```"
   ],
   "id": "f8f2db036fffa482"
  },
  {
   "metadata": {},
   "cell_type": "code",
   "source": "sp.diff(sp.exp(x*y*z), (x, 2), (y, 1), (z, 3))",
   "id": "fa5f156abed6a542",
   "outputs": [],
   "execution_count": null
  },
  {
   "metadata": {},
   "cell_type": "markdown",
   "source": [
    "`diff()` can also be called as a method:\n",
    "\n",
    "```python\n",
    "expr = sp.sin(x**2) * sp.exp(x*y)\n",
    "expr.diff(x, 2, y)\n",
    "```\n",
    "\n",
    "$$ \\frac{\\partial^3}{\\partial x^2 \\partial y} \\sin(x^2) e^{xy} $$"
   ],
   "id": "1ef3b13ea33bc2ea"
  },
  {
   "metadata": {},
   "cell_type": "code",
   "source": [
    "expr = sp.sin(x**2) * sp.exp(x*y)\n",
    "expr.diff(x, 2, y)"
   ],
   "id": "79d7d099ad14d499",
   "outputs": [],
   "execution_count": null
  },
  {
   "metadata": {},
   "cell_type": "markdown",
   "source": [
    "We can also make an unevaluated derivative by using the `sp.Derivative` class. It has the same syntax as `sp.diff()` (but you can't use it as a method).\n",
    "\n",
    "```python\n",
    "sp.Derivative(sp.sin(x**2), x, 2, y)\n",
    "```"
   ],
   "id": "cac7b5a2c254211f"
  },
  {
   "metadata": {},
   "cell_type": "code",
   "source": "sp.Derivative(expr, x, 2, y)",
   "id": "c9ce333cbcccfead",
   "outputs": [],
   "execution_count": null
  },
  {
   "metadata": {},
   "cell_type": "markdown",
   "source": [
    "To evaluate an unevaluated derivative, you can use the `doit()` method:\n",
    "\n",
    "```python\n",
    "deriv_expr = sp.Derivative(expr, x, 2, y)\n",
    "deriv_expr.doit()\n",
    "```"
   ],
   "id": "7e63090e4ce7da2c"
  },
  {
   "metadata": {},
   "cell_type": "code",
   "source": [
    "deriv_expr = sp.Derivative(expr, x, 2, y)\n",
    "deriv_expr.doit()"
   ],
   "id": "3d9f53ae4da3bac1",
   "outputs": [],
   "execution_count": null
  },
  {
   "metadata": {},
   "cell_type": "markdown",
   "source": [
    "These unevaluated derivative objects are useful when you want to postpone evaluation or display the derivative symbolically. They are also used in cases where SymPy cannot directly compute the derivative, such as when dealing with differential equations that include undefined functions.\n",
    "\n",
    "Derivatives of any order can be defined by using a tuple `(x, n)`, where `n` specifies the order of differentiation with respect to `x`.\n",
    "\n",
    "```python\n",
    "deriv_any_order = (a*x + b)**m\n",
    "deriv_any_order.diff((x, n))\n",
    "```"
   ],
   "id": "3511566bdf0112ae"
  },
  {
   "metadata": {},
   "cell_type": "code",
   "source": [
    "deriv_any_order = (a*x + b)**m\n",
    "deriv_any_order.diff((x, n))"
   ],
   "id": "7179109b04af1108",
   "outputs": [],
   "execution_count": null
  },
  {
   "metadata": {},
   "cell_type": "markdown",
   "source": [
    "For more details, you can check the [SymPy documentation of `diff()`](https://docs.sympy.org/latest/modules/core.html#sympy.core.function.diff) and [SymPy documentation of Derivatives](https://docs.sympy.org/latest/modules/core.html#sympy.core.function.Derivative).\n",
    "\n",
    "<span style=\"color:green\">**Exercise**:</span> Find the following derivatives.\n",
    "\n",
    "- $\\displaystyle \\frac{d}{dt} \\left( \\frac{2t}{\\sqrt{t} - e^{-t}} + \\frac{3t}{\\sqrt{t} + e^{-t}} \\right)$\n",
    "\n",
    "- $\\displaystyle \\frac{\\partial^2}{\\partial \\theta^2} \\left( \\left( \\frac{1 + \\sin\\theta}{1 - \\cos\\phi}  + \\cosh r \\right)^2 \\right)$\n",
    "\n",
    "- $\\displaystyle \\frac{\\partial^2}{\\partial x \\partial y} \\left( \\sqrt{x^5 + y^5} \\csc(e^{x+y}) \\right)$"
   ],
   "id": "15ebe55c62844c3d"
  },
  {
   "metadata": {},
   "cell_type": "code",
   "source": "",
   "id": "37cffa46cab60c1d",
   "outputs": [],
   "execution_count": null
  },
  {
   "metadata": {},
   "cell_type": "markdown",
   "source": [
    "<span style=\"color:green\">**Exercise**:</span> Given the Morse potential\n",
    "\n",
    "$$V_\\text{Morse}(r) = D_e \\left( 1 - e^{-a \\left( r - r_0 \\right)} \\right)^2$$\n",
    "\n",
    "find the first derivative of $V_\\text{Morse}$ with respect to $r$. Then use `subs()` to set $r = r_0$ to verify that the derivative is zero at the equilibrium distance."
   ],
   "id": "80796e0ee7cd81d9"
  },
  {
   "metadata": {},
   "cell_type": "code",
   "source": "",
   "id": "c6448e246caf8274",
   "outputs": [],
   "execution_count": null
  },
  {
   "metadata": {},
   "cell_type": "markdown",
   "source": [
    "### Integrals\n",
    "\n",
    "There are two kinds of integrals: definite and indefinite. To compute an indefinite integral, we can use the `sp.integrate()` function. The first argument is the expression to be integrated, and the second argument is the variable to be integrated with respect to. For example:\n",
    "\n",
    "```python\n",
    "sp.integrate(sp.sin(x), x)\n",
    "```\n",
    "\n",
    "$$ \\int \\sin x \\, dx $$"
   ],
   "id": "e66b6770eccb0705"
  },
  {
   "metadata": {},
   "cell_type": "code",
   "source": "sp.integrate(sp.sin(x), x)",
   "id": "55e2e1b244305685",
   "outputs": [],
   "execution_count": null
  },
  {
   "metadata": {},
   "cell_type": "markdown",
   "source": [
    "Note that the integration constant is NOT included in the result.\n",
    "\n",
    "To compute a definite integral, just pass the variable to be integrated and the lower and upper bounds of the integration interval as the second argument, wrapped in parentheses (tuple):\n",
    "\n",
    "```python\n",
    "sp.integrate(sp.sin(x), (x, 0, 2*sp.pi))\n",
    "```\n",
    "\n",
    "$$ \\int_0^{2\\pi} \\sin x \\, dx $$"
   ],
   "id": "3868ba60d0f77f7e"
  },
  {
   "metadata": {},
   "cell_type": "code",
   "source": "sp.integrate(sp.sin(x), (x, 0, 2*sp.pi))",
   "id": "e251123a50281a75",
   "outputs": [],
   "execution_count": null
  },
  {
   "metadata": {},
   "cell_type": "markdown",
   "source": [
    "For integrals containing $\\infty$, you can pass `sp.oo` as the corresponding bound—this is $\\infty$ in SymPy—a good imitation, isn't it?\n",
    "\n",
    "```python\n",
    "sp.integrate(sp.exp(-x), (x, 0, sp.oo))\n",
    "```\n",
    "\n",
    "$$ \\int_0^\\infty e^{-x} \\, dx $$"
   ],
   "id": "a67ee785275694b2"
  },
  {
   "metadata": {},
   "cell_type": "code",
   "source": "sp.integrate(sp.exp(-x), (x, 0, sp.oo))",
   "id": "b69a4ec69c6a2282",
   "outputs": [],
   "execution_count": null
  },
  {
   "metadata": {},
   "cell_type": "markdown",
   "source": [
    "Multiple integrals can be computed by passing multiple tuples:\n",
    "\n",
    "```python\n",
    "sp.integrate(sp.exp(-x**2 - y**2), (x, -sp.oo, sp.oo), (y, -sp.oo, sp.oo))\n",
    "```\n",
    "\n",
    "$$ \\int_{-\\infty}^{\\infty} \\int_{-\\infty}^{\\infty} e^{-x^2 -y^2} \\, dx \\, dy $$"
   ],
   "id": "53046a386cbc5c7a"
  },
  {
   "metadata": {},
   "cell_type": "code",
   "source": "sp.integrate(sp.exp(-x**2 - y**2), (x, -sp.oo, sp.oo), (y, -sp.oo, sp.oo))",
   "id": "2f92ab9229d0f4b7",
   "outputs": [],
   "execution_count": null
  },
  {
   "metadata": {},
   "cell_type": "markdown",
   "source": [
    "If `sp.integrate()` is unable to compute an integral, it will return an unevaluated `sp.Integral` object.\n",
    "\n",
    "```python\n",
    "sp.integrate(x**x, x)\n",
    "```\n",
    "\n",
    "$$ \\int x^x \\, dx $$"
   ],
   "id": "fed31bf99a6ccc23"
  },
  {
   "metadata": {},
   "cell_type": "code",
   "source": "sp.integrate(x**x, x)",
   "id": "43ce64544392396d",
   "outputs": [],
   "execution_count": null
  },
  {
   "metadata": {},
   "cell_type": "markdown",
   "source": [
    "To evaluate an unevaluated `sp.Integral`, you can use the `doit()` method, similar to how we did for `sp.Derivative`.\n",
    "\n",
    "```python\n",
    "integral = sp.Integral(x**2 * sp.exp(-x**3), x)\n",
    "integral\n",
    "```"
   ],
   "id": "6e2545b41efbe439"
  },
  {
   "metadata": {},
   "cell_type": "code",
   "source": [
    "integral = sp.Integral(x**2 * sp.exp(-x**3), x)\n",
    "integral"
   ],
   "id": "e2ba9fb7fc51a13d",
   "outputs": [],
   "execution_count": null
  },
  {
   "metadata": {},
   "cell_type": "markdown",
   "source": [
    "```python\n",
    "integral.doit()\n",
    "```"
   ],
   "id": "d7d135bfdc01d059"
  },
  {
   "metadata": {},
   "cell_type": "code",
   "source": "integral.doit()",
   "id": "b2a3fbc4afa2b9a5",
   "outputs": [],
   "execution_count": null
  },
  {
   "metadata": {},
   "cell_type": "markdown",
   "source": [
    "SymPy can even output results as special functions or piecewise functions:\n",
    "\n",
    "```python\n",
    "sp.integrate(sp.sin(x**2), x)\n",
    "```\n",
    "\n",
    "$$ \\int \\sin x^2 \\, dx $$"
   ],
   "id": "f8f61c0952690712"
  },
  {
   "metadata": {},
   "cell_type": "code",
   "source": "sp.integrate(sp.sin(x**2), x)",
   "id": "bee301d8778f2edf",
   "outputs": [],
   "execution_count": null
  },
  {
   "metadata": {},
   "cell_type": "markdown",
   "source": [
    "Here $S(x)$ is the [Fresnel integral of sine](https://en.wikipedia.org/wiki/Fresnel_integral).\n",
    "\n",
    "Also see this:\n",
    "```python\n",
    "sp.integrate(x**y*sp.exp(-x), (x, 0, sp.oo))\n",
    "```\n",
    "\n",
    "$$ \\int_0^\\infty x^y e^{-x} \\, dx $$"
   ],
   "id": "adc6bbbc38b1a466"
  },
  {
   "metadata": {},
   "cell_type": "code",
   "source": "sp.integrate(x**y*sp.exp(-x), (x, 0, sp.oo))",
   "id": "9a4e2e94b234371d",
   "outputs": [],
   "execution_count": null
  },
  {
   "metadata": {},
   "cell_type": "markdown",
   "source": [
    "Here the output is a piecewise function, with $\\mathrm{re}(y)$ the _real part_ of $y$.\n",
    "\n",
    "Integrals can also be evaluated numerically. This can be done by using the method `evalf()` on the `sp.Integral` object.\n",
    "\n",
    "```python\n",
    "integral2 = sp.Integral(x * sp.exp(x**2), x)\n",
    "integral2.evalf()\n",
    "```\n",
    "\n",
    "$$ \\int_0^1 x e^{x^2} \\, dx $$"
   ],
   "id": "1969d5bc00b8ac1d"
  },
  {
   "metadata": {},
   "cell_type": "code",
   "source": "integral2 = sp.Integral(x * sp.exp(x**2), x)",
   "id": "277fbf0c1dab311b",
   "outputs": [],
   "execution_count": null
  },
  {
   "metadata": {},
   "cell_type": "code",
   "source": [
    "integral2 = sp.Integral(x * sp.exp(x**2), (x, 0, 1))\n",
    "integral2.evalf(10)"
   ],
   "id": "86ca0a567ab4b2c2",
   "outputs": [],
   "execution_count": null
  },
  {
   "metadata": {},
   "cell_type": "markdown",
   "source": [
    "One thing to be aware of is that numerical integration in SymPy can be quite slow. The `evalf()` and `subs()` methods can provide accurate results with any desired level of precision, but if you value speed over accuracy, especially when working with large datasets, it's better to use another library, such as NumPy or SciPy, to handle these calculations. One way to do this is by using `sp.lambdify()` to convert a SymPy expression into a function that can be evaluated efficiently by numerical libraries, as introduced earlier. For more methods, check the [SymPy documentation on Numerical Computation](https://docs.sympy.org/latest/modules/numeric-computation.html).\n",
    "\n",
    "<span style=\"color:green\">**Exercise**:</span> Evaluate the following integrals.\n",
    "\n",
    "- $ \\displaystyle \\int_0^1 \\frac{1 - \\cos 2x}{2x^3}  \\, dx $\n",
    "\n",
    "- $ \\displaystyle \\int \\frac{1}{x^5 + 1} \\, dx $\n",
    "\n",
    "- The so-called [elliptic integral](https://en.wikipedia.org/wiki/Elliptic_integral): $ \\displaystyle \\int \\frac{d\\theta}{ \\sqrt{1 - k^2 \\sin^2 \\theta} } $"
   ],
   "id": "b8242b4ad70aab74"
  },
  {
   "metadata": {},
   "cell_type": "code",
   "source": "sp.integrate(1/(x**5 + 1), x)",
   "id": "b5947da7b1d5007",
   "outputs": [],
   "execution_count": null
  },
  {
   "metadata": {},
   "cell_type": "markdown",
   "source": [
    "<span style=\"color:green\">**Exercise**:</span> Integral with variable limits can also be computed in SymPy. Verify the following expression, which is called the [general Leibniz integral rule](https://en.wikipedia.org/wiki/Leibniz_integral_rule#:~:text=of%20limits.-,General%20form%3A%20differentiation%20under%20the%20integral%20sign,-%5Bedit%5D):\n",
    "\n",
    "$$ \\frac{d}{dx} \\left( \\int_{a(x)}^{b(x)} f(x, t) \\, dt \\right)\n",
    "= f(x, b(x)) \\frac{d}{dx} b(x)\n",
    "- f(x, a(x)) \\frac{d}{dx} a(x)\n",
    "+ \\int_{a(x)}^{b(x)} \\frac{\\partial}{\\partial x} f(x, t) \\, dt.\n",
    "$$\n",
    "\n",
    "You should define your function $f(x, t)$, $a(x)$, and $b(x)$ as follows:\n",
    "\n",
    "```python\n",
    "f = sp.Function('f')(x, t)\n",
    "a = sp.Function('a')(x)\n",
    "b = sp.Function('b')(x)\n",
    "```"
   ],
   "id": "7e6ca90ca54b86e6"
  },
  {
   "metadata": {},
   "cell_type": "code",
   "source": [
    "f = sp.Function('f')(x, t)\n",
    "a = sp.Function('a')(x)\n",
    "b = sp.Function('b')(x)\n",
    "\n",
    "leib = sp.integrate(f, (t, a, b))\n",
    "leib.diff(x)"
   ],
   "id": "65503838bc2d5a5",
   "outputs": [],
   "execution_count": null
  },
  {
   "metadata": {},
   "cell_type": "markdown",
   "source": [
    "### Limits\n",
    "\n",
    "Limits can be computed using the `sp.limit()` function. The first argument is the expression to be limited, and the second argument is the variable to be limited with respect to, and the third argument is the limit point.\n",
    "\n",
    "```python\n",
    "sp.limit(sp.sin(x)/x, x, 0)\n",
    "```\n",
    "\n",
    "$$ \\lim_{x \\to 0} \\frac{\\sin x}{x} $$"
   ],
   "id": "d73336c3dedd2d0"
  },
  {
   "metadata": {},
   "cell_type": "code",
   "source": "sp.limit(sp.sin(x)/x, x, 0)",
   "id": "b33caf4f412aa316",
   "outputs": [],
   "execution_count": null
  },
  {
   "metadata": {},
   "cell_type": "markdown",
   "source": [
    "Use `sp.limit()` instead of `subs()` when evaluating expressions at singular points. Although SymPy provides objects `sp.oo` to represent infinity ($\\infty$), direct evaluation with them isn't always reliable because it doesn't account for factors like rates of growth. For example, operations such as $\\infty - \\infty$ or $\\frac{\\infty}{\\infty}$ return $\\mathrm{NaN}$ (not-a-number, `nan`). You can compare these two results below:\n",
    "\n",
    "```python\n",
    "expr_lim = x**2/sp.exp(x)\n",
    "expr_lim.subs(x, sp.oo)\n",
    "```\n",
    "\n",
    "$$ \\lim_{x \\to \\infty} \\frac{x^2}{e^x} $$"
   ],
   "id": "58909ab34d54f8f9"
  },
  {
   "metadata": {},
   "cell_type": "code",
   "source": [
    "expr_lim = x**2/sp.exp(x)\n",
    "expr_lim.subs(x, sp.oo)"
   ],
   "id": "315b2d2671f900e4",
   "outputs": [],
   "execution_count": null
  },
  {
   "metadata": {},
   "cell_type": "markdown",
   "source": [
    "```python\n",
    "sp.limit(expr_lim, x, sp.oo)\n",
    "```"
   ],
   "id": "cc6d2fed706cfa80"
  },
  {
   "metadata": {},
   "cell_type": "code",
   "source": "sp.limit(expr_lim, x, sp.oo)",
   "id": "6e34b330864fbdaa",
   "outputs": [],
   "execution_count": null
  },
  {
   "metadata": {},
   "cell_type": "markdown",
   "source": [
    "Similar to `sp.Derivative` and `sp.Integral`, the function `sp.limit()` also has an unevaluated form called `sp.Limit`. You can evaluate it explicitly by calling `doit()`.\n",
    "\n",
    "```python\n",
    "lim = sp.Limit((sp.cos(x) - 1)/x, x, 0)\n",
    "```"
   ],
   "id": "b3b6abf42ba25d1d"
  },
  {
   "metadata": {},
   "cell_type": "code",
   "source": [
    "lim = sp.Limit((sp.cos(x) - 1)/x, x, 0)\n",
    "lim"
   ],
   "id": "d82a845960f37278",
   "outputs": [],
   "execution_count": null
  },
  {
   "metadata": {},
   "cell_type": "markdown",
   "source": [
    "```python\n",
    "lim.doit()\n",
    "```"
   ],
   "id": "1a6c558ae7588471"
  },
  {
   "metadata": {},
   "cell_type": "code",
   "source": "lim.doit()",
   "id": "b2f5a6bd410850cc",
   "outputs": [],
   "execution_count": null
  },
  {
   "metadata": {},
   "cell_type": "markdown",
   "source": [
    "To evaluate a one-sided limit, provide `'+'` or `'-'` as the fourth argument in `sp.limit()`.\n",
    "\n",
    "```python\n",
    "sp.limit(1/x, x, 0, '+')\n",
    "```\n",
    "\n",
    "$$ \\lim_{x \\to 0^+} \\frac{1}{x} $$"
   ],
   "id": "bf27dd10c64aad35"
  },
  {
   "metadata": {},
   "cell_type": "code",
   "source": "sp.limit(1/x, x, 0, '+')",
   "id": "fc6473b605a54d58",
   "outputs": [],
   "execution_count": null
  },
  {
   "metadata": {},
   "cell_type": "markdown",
   "source": [
    "From the other side:\n",
    "\n",
    "```python\n",
    "sp.limit(1/x, x, 0, '-')\n",
    "```\n",
    "$$ \\lim_{x \\to 0^-} \\frac{1}{x} $$"
   ],
   "id": "6f3b8a47a0c879a"
  },
  {
   "metadata": {},
   "cell_type": "code",
   "source": "sp.limit(1/x, x, 0, '-')",
   "id": "8ab8017c6edd2bba",
   "outputs": [],
   "execution_count": null
  },
  {
   "metadata": {},
   "cell_type": "markdown",
   "source": [
    "<span style=\"color:green\">**Exercise**:</span> In relativity, the observed length of a moving object, such as a rocket, depends on its velocity relative to the observer—this is called the [length contraction](https://en.wikipedia.org/wiki/Length_contraction) or Lorentz contraction.\n",
    "\n",
    "If the rocket's length at rest is $L_0$, then at speed $v$ its length appears as:\n",
    "\n",
    "$$L = L_0 \\sqrt{1 - \\frac{v^2}{c^2}}.$$\n",
    "\n",
    "Here, $c$ represents the speed of light in a vacuum.\n",
    "\n",
    "How does $L$ change as $v$ increases? Find the limit $\\displaystyle \\lim_{v \\to c^-} L$. Why is the <u>left-hand limit</u> required in this case?\n",
    "\n",
    "Question is adapted from Hass, J. R.; Heil, C. E.; Weir, M. D. *Thomas' Calculus, 14th ed.*; Pearson: New York, 2017. ISBN 9780134438986."
   ],
   "id": "9ff0cfbf7c2e64f6"
  },
  {
   "metadata": {},
   "cell_type": "code",
   "source": "",
   "id": "556f519809f591a5",
   "outputs": [],
   "execution_count": null
  },
  {
   "metadata": {},
   "cell_type": "markdown",
   "source": [
    "### Series Expansion\n",
    "\n",
    "#### Power Series\n",
    "\n",
    "[Power series](https://en.wikipedia.org/wiki/Power_series) are really useful for approximating functions. They are defined as:\n",
    "\n",
    "$$ \\sum_{n=0}^{\\infty} a_n x^n = a_0 + a_1 x + a_2 x^2 + \\cdots $$\n",
    "\n",
    "For well-behaved [(analytic) functions](https://en.wikipedia.org/wiki/Analytic_function), we can use power series to precisely represent them. You can also perform a power series expansion to get arbitrary-precision approximations.\n",
    "\n",
    "In SymPy, power series expansion can be computed using the `sp.series(expr, x=None, x0=0, n=6, dir='+')` function. The first argument is the expression to be expanded, and the second argument is the variable to be expanded with respect to. The third argument is the expansion point, and the fourth argument is the maximum degree of the expansion. The fifth argument is the direction of the expansion, which can be `'+'` or `'-'`. If an infinite expansion is desired, set the third argument to `sp.oo`. For negative infinity, set `dir=`-`.\n",
    "\n",
    "```python\n",
    "sp.series(sp.exp(x), x)\n",
    "```"
   ],
   "id": "e78eaf20dae76cb2"
  },
  {
   "metadata": {},
   "cell_type": "code",
   "source": "sp.series(sp.exp(x), x)",
   "id": "5f13b374b4cc3044",
   "outputs": [],
   "execution_count": null
  },
  {
   "metadata": {},
   "cell_type": "markdown",
   "source": [
    "Here, $ O(x^n) $ denotes the _asymptotic order_ of the remainder, meaning that as $ x \\to x_0 $, the error term grows no faster than a constant multiple of $ (x - x_0)^n $. If you don't want to see the remainder, you can use the method `removeO()` to remove it (`O` is letter **O** but not number 0!).\n",
    "\n",
    "```python\n",
    "sp.series(sp.exp(x), x).removeO()\n",
    "```"
   ],
   "id": "b3e79f5148d3d89b"
  },
  {
   "metadata": {},
   "cell_type": "code",
   "source": "sp.series(sp.exp(x), x).removeO()",
   "id": "4b026340b06fa967",
   "outputs": [],
   "execution_count": null
  },
  {
   "metadata": {},
   "cell_type": "markdown",
   "source": "For more details, check the [SymPy documentation of `series()`](https://docs.sympy.org/latest/modules/core.html#sympy.core.function.series) (it's not well-written, though...).",
   "id": "52ea4e1d650ed536"
  },
  {
   "metadata": {},
   "cell_type": "markdown",
   "source": [
    "#### Fourier Series\n",
    "\n",
    "[Fourier series](https://mathworld.wolfram.com/FourierSeries.html) provide a way to represent a periodic function as a sum of trigonometric functions.\n",
    "There are several conventions for normalizing Fourier series; SymPy adopts the following form:\n",
    "\n",
    "$$ \\frac{a_0}{2} + \\sum_{n=1}^{\\infty} \\left[ a_n \\cos \\left( \\frac{2\\pi n x}{L} \\right) + b_n \\sin \\left( \\frac{2\\pi n x}{L} \\right) \\right] $$\n",
    "\n",
    "This represents the Fourier series of a function $f(x)$ over the interval $(a, b)$, where $L = b - a$. The coefficients $a_n$ and $b_n$ are defined as:\n",
    "\n",
    "$$ a_0 = \\frac{2}{L} \\int_a^b f(x)\\,dx $$\n",
    "$$ a_n = \\frac{2}{L} \\int_a^b f(x) \\cos \\left( \\frac{2\\pi n x}{L} \\right)\\,dx $$\n",
    "$$ b_n = \\frac{2}{L} \\int_a^b f(x) \\sin \\left( \\frac{2\\pi n x}{L} \\right)\\,dx $$\n",
    "\n",
    "It turns out that it is not strictly necessary for $f(x)$ to be periodic, as the Fourier series can still be defined and analyzed over a finite interval.\n",
    "\n",
    "\n",
    "To compute a Fourier series expansion in SymPy, use the `sp.fourier_series(f, limits=None)` function. The first argument is the expression to be expanded, and the second argument is a tuple specifying the variable along with its lower and upper limits for the expansion interval. If no limits are provided, the default interval is set to $ (-\\pi, \\pi) $."
   ],
   "id": "718ba0b9d7c0ac0a"
  },
  {
   "metadata": {},
   "cell_type": "code",
   "source": "sp.fourier_series(x, (x, 0, 1))",
   "id": "b4df14203fb00a3b",
   "outputs": [],
   "execution_count": null
  },
  {
   "metadata": {},
   "cell_type": "markdown",
   "source": [
    "For more details, check the [SymPy documentation of `fourier_series()`](https://docs.sympy.org/latest/modules/series/fourier.html#sympy.series.fourier.fourier_series).\n",
    "\n",
    "<span style=\"color:green\">**Exercise**:</span> Find the 10th-degree power series expansion of the following functions using SymPy:\n",
    "\n",
    "- $ \\displaystyle \\frac{1}{1 + e^{-x}} $\n",
    "\n",
    "- $ \\displaystyle \\sinh \\left(\\frac{1}{x^2+1} \\right) $\n",
    "\n",
    "- $ \\displaystyle \\int \\cos x^2 \\, dx $"
   ],
   "id": "b259ed8843c9b003"
  },
  {
   "metadata": {},
   "cell_type": "code",
   "source": [
    "fresnel_c = sp.integrate(sp.cos(x**2), x)\n",
    "sp.series(fresnel_c, x, n=10)"
   ],
   "id": "4c39a30f4eea9e5",
   "outputs": [],
   "execution_count": null
  },
  {
   "metadata": {},
   "cell_type": "markdown",
   "source": [
    "<span style=\"color:green\">**Exercise**:</span> Find the Fourier series expansion of the following [square wave](https://en.wikipedia.org/wiki/Square_wave_(waveform)) defined over one period $(0, 2)$:\n",
    "\n",
    "```python\n",
    "p = sp.Piecewise(\n",
    "    (1, (x >= 0) & (x < 1)),\n",
    "    (0, (x >= 1) & (x < 2))\n",
    ")\n",
    "```"
   ],
   "id": "e7b8d3762e614a39"
  },
  {
   "metadata": {},
   "cell_type": "code",
   "source": [
    "p = sp.Piecewise(\n",
    "    (1, (x >= 0) & (x < 1)),\n",
    "    (0, (x >= 1) & (x < 2))\n",
    ")\n",
    "\n",
    "sp.fourier_series(p, (x, 0, 2))"
   ],
   "id": "be2866d53d3f8fc1",
   "outputs": [],
   "execution_count": null
  },
  {
   "metadata": {},
   "cell_type": "markdown",
   "source": [
    "## Solving Equations\n",
    "\n",
    "Probably the most important thing we want to do with a computer is to solve equations. SymPy provides a variety of functions for solving equations. We will briefly cover the process of solving algebraic equations and leave differential equations and other types of equations in Lesson A2.\n",
    "\n",
    "A thing to be noticed is that the equation in SymPy is not represented by the assignment operator (`=`), nor the equality operator (`==`). Instead, the equation needs to be created as an object of the `sp.Eq` class. For example, you can create the equation\n",
    "\n",
    "$$ x^2 + 2x + 1 = 0 $$\n",
    "\n",
    "by using the following code:\n",
    "\n",
    "```python\n",
    "sp.Eq(x**2 + 2*x + 1, 0)\n",
    "```"
   ],
   "id": "a0522e1caa2c8b7b"
  },
  {
   "metadata": {},
   "cell_type": "code",
   "source": [
    "eq_1 = sp.Eq(x**2, 0)\n",
    "eq_1"
   ],
   "id": "6a6f802fcd2799e8",
   "outputs": [],
   "execution_count": null
  },
  {
   "metadata": {},
   "cell_type": "markdown",
   "source": [
    "There are two kinds of equation solvers in SymPy: `sp.solve()` and `sp.solveset()`. The main difference is that `sp.solve()` will provide exact forms of symbolic representations of the solutions, while `sp.solveset()` will provide a set of solutions. They sound similar, but in practice, the result of `sp.solve()` can use the method `subs()` but `sp.solveset()` cannot; also, `sp.solveset()` can provide more than one solution that `sp.solve()` sometimes cannot, especially for periodic solutions. Besides these, their syntax is basically the same.\n",
    "\n",
    "Let's see some examples:\n",
    "\n",
    "```python\n",
    "sp.solve(eq_1, x)\n",
    "```"
   ],
   "id": "899ddcca7ce7d239"
  },
  {
   "metadata": {},
   "cell_type": "code",
   "source": "sp.solve(eq_1, x)",
   "id": "df083d54aafca7c2",
   "outputs": [],
   "execution_count": null
  },
  {
   "metadata": {},
   "cell_type": "markdown",
   "source": [
    "```python\n",
    "sp.solveset(eq_1, x)\n",
    "```"
   ],
   "id": "650cae144e19479d"
  },
  {
   "metadata": {},
   "cell_type": "code",
   "source": "sp.solveset(eq_1, x)",
   "id": "d915126e92d2950a",
   "outputs": [],
   "execution_count": null
  },
  {
   "metadata": {},
   "cell_type": "markdown",
   "source": [
    "```python\n",
    "sp.solve(sp.Eq(sp.sin(x), 0), x)\n",
    "```"
   ],
   "id": "26c027d9f4679f95"
  },
  {
   "metadata": {},
   "cell_type": "code",
   "source": "sp.solve(sp.Eq(sp.sin(x), 0), x)",
   "id": "8e5efecbbbeb459c",
   "outputs": [],
   "execution_count": null
  },
  {
   "metadata": {},
   "cell_type": "markdown",
   "source": [
    "```python\n",
    "sp.solveset(sp.Eq(sp.sin(x), 0), x)\n",
    "```"
   ],
   "id": "7ee29da657a6763f"
  },
  {
   "metadata": {},
   "cell_type": "code",
   "source": "sp.solveset(sp.Eq(sp.sin(x), 0), x)",
   "id": "1b6d6ba77b4138a7",
   "outputs": [],
   "execution_count": null
  },
  {
   "metadata": {},
   "cell_type": "markdown",
   "source": [
    "See? For simple equations, `sp.solve()` and `sp.solveset()` are the same, but for periodic solutions, `sp.solveset()` can catch all solutions, while `sp.solve()` will only give solutions in one period (but there are some ways that you can generate a full set of solutions from this one period, which we will not cover in this lesson).\n",
    "\n",
    "A shortcut here is, you can pass a simple expression to `sp.solve()` and `sp.solveset()`, without creating an `sp.Eq` object. In this case, solvers will automatically interpret the expression as an equation, with the right-hand side equal to $0$.\n",
    "\n",
    "```python\n",
    "sp.solve(x**2, x)\n",
    "```"
   ],
   "id": "59b574c1185204fa"
  },
  {
   "metadata": {},
   "cell_type": "code",
   "source": "sp.solve(x**2, x)",
   "id": "d1d645bd29da55e2",
   "outputs": [],
   "execution_count": null
  },
  {
   "metadata": {},
   "cell_type": "markdown",
   "source": [
    "```python\n",
    "sp.solveset(x**2, x)\n",
    "```"
   ],
   "id": "74a23b27594e4201"
  },
  {
   "metadata": {},
   "cell_type": "code",
   "source": "sp.solveset(x**2, x)",
   "id": "2d8f9ebb87dbb242",
   "outputs": [],
   "execution_count": null
  },
  {
   "metadata": {},
   "cell_type": "markdown",
   "source": [
    "## End-of-Lesson Problems\n",
    "\n",
    "### Problem 1:"
   ],
   "id": "dc97c0aef17e7529"
  },
  {
   "metadata": {},
   "cell_type": "markdown",
   "source": [
    "## Acknowledgement\n",
    "\n",
    "This lesson draws on ideas from the following sources:\n",
    "\n",
    "- [Anaconda](https://www.anaconda.com/) for providing an out-of-the-box Python environment\n",
    "- [SymPy Documentation](https://docs.sympy.org/latest/tutorials/index.html)\n",
    "- GenAI for making paragraphs and codes(・ω< )★\n",
    "- And so many resources on Reddit, StackExchange, etc.!"
   ],
   "id": "726b1383c09ed3a2"
  }
 ],
 "metadata": {
  "kernelspec": {
   "display_name": "Python 3",
   "language": "python",
   "name": "python3"
  },
  "language_info": {
   "codemirror_mode": {
    "name": "ipython",
    "version": 2
   },
   "file_extension": ".py",
   "mimetype": "text/x-python",
   "name": "python",
   "nbconvert_exporter": "python",
   "pygments_lexer": "ipython2",
   "version": "2.7.6"
  }
 },
 "nbformat": 4,
 "nbformat_minor": 5
}
