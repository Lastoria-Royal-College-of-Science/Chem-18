{
 "cells": [
  {
   "cell_type": "markdown",
   "id": "6d2607cb5cfc6d1a",
   "metadata": {},
   "source": [
    "# Lesson 2-extra: More about NumPy, Pandas\n",
    "\n",
    "> Instructor: [Yuki Oyama](mailto:y.oyama@lrcs.ac), [Prprnya](mailto:nya@prpr.zip)\n",
    ">\n",
    "> The Christian F. Weichman Department of Chemistry, Lastoria Royal College of Science\n",
    "\n",
    "This material is licensed under <a href=\"https://creativecommons.org/licenses/by-nc-sa/4.0/\">CC BY-NC-SA 4.0</a><img src=\"https://mirrors.creativecommons.org/presskit/icons/cc.svg\" alt=\"\" style=\"max-width: 1em;max-height:1em;margin-left: .2em;\"><img src=\"https://mirrors.creativecommons.org/presskit/icons/by.svg\" alt=\"\" style=\"max-width: 1em;max-height:1em;margin-left: .2em;\"><img src=\"https://mirrors.creativecommons.org/presskit/icons/nc.svg\" alt=\"\" style=\"max-width: 1em;max-height:1em;margin-left: .2em;\"><img src=\"https://mirrors.creativecommons.org/presskit/icons/sa.svg\" alt=\"\" style=\"max-width: 1em;max-height:1em;margin-left: .2em;\">"
   ]
  },
  {
   "cell_type": "markdown",
   "id": "5b997a88b4c90c72",
   "metadata": {},
   "source": [
    "After finishing Lesson 2, we have a basic understanding of NumPy, which still has many useful features worth learning. However, when processing large and complicated datasets, we need to use a more powerful tool, Pandas. In this lesson, we are going to learn the advanced features of NumPy in the first half, and Pandas in the second half."
   ]
  },
  {
   "cell_type": "markdown",
   "id": "a0bdc2ab4eac0c44",
   "metadata": {},
   "source": [
    "## Indexing and Masking\n",
    "\n",
    "Our lesson begins by expanding the concept of indexing. NumPy arrays support not only integer indexing and slicing, but also several different but useful indexing methods. Let's import NumPy first.\n",
    "\n",
    "```python\n",
    "import numpy as np\n",
    "```"
   ]
  },
  {
   "cell_type": "code",
   "id": "278de3dd2fec977d",
   "metadata": {},
   "source": "import numpy as np",
   "outputs": [],
   "execution_count": null
  },
  {
   "cell_type": "markdown",
   "id": "ef63432557158159",
   "metadata": {},
   "source": [
    "### Arbitrary Indexing\n",
    "\n",
    "In lesson 2, we have learned how to get a single element from an array using integer indexing or get a regularly spaced subset of elements using slicing. However, NumPy also supports arbitrary indexing, which means that we can get elements using arbitrary conditions. Consider the following matrix:\n",
    "\n",
    "```python\n",
    "mat = np.array([\n",
    "    [1.1, 1.2, 1.3, 1.4, 1.5],\n",
    "    [2.1, 2.2, 2.3, 2.4, 2.5],\n",
    "    [3.1, 3.2, 3.3, 3.4, 3.5],\n",
    "    [4.1, 4.2, 4.3, 4.4, 4.5],\n",
    "    [5.1, 5.2, 5.3, 5.4, 5.5],\n",
    "])\n",
    "mat\n",
    "```"
   ]
  },
  {
   "cell_type": "code",
   "id": "a7a8836bd96bf9bc",
   "metadata": {},
   "source": [
    "mat = np.array([\n",
    "    [1.1, 1.2, 1.3, 1.4, 1.5],\n",
    "    [2.1, 2.2, 2.3, 2.4, 2.5],\n",
    "    [3.1, 3.2, 3.3, 3.4, 3.5],\n",
    "    [4.1, 4.2, 4.3, 4.4, 4.5],\n",
    "    [5.1, 5.2, 5.3, 5.4, 5.5],\n",
    "])\n",
    "mat"
   ],
   "outputs": [],
   "execution_count": null
  },
  {
   "cell_type": "markdown",
   "id": "d182a936460005b3",
   "metadata": {},
   "source": [
    "We want to take some elements from the matrix, for example, the orange elements below:\n",
    "\n",
    "$$\n",
    "\\begin{bmatrix}\n",
    "1.1 & 1.2 & 1.3 & {\\color{orange} 1.4} & 1.5 \\\\\n",
    "2.1 & 2.2 & 2.3 & 2.4 & 2.5 \\\\\n",
    "{\\color{orange} 3.1} & 3.2 & 3.3 & 3.4 & 3.5 \\\\\n",
    "4.1 & 4.2 & 4.3 & 4.4 & 4.5 \\\\\n",
    "5.1 & {\\color{orange} 5.2} & 5.3 & 5.4 & 5.5\n",
    "\\end{bmatrix}\n",
    "$$\n",
    "\n",
    "These elements are located at the following indices: $3.1$ at $(2, 0)$, $1.4$ at $(0, 3)$, and $5.2$ at $(4, 1)$. We can use two lists to represent the row indices and column indices of these elements, and use them to index the matrix:\n",
    "\n",
    "```python\n",
    "rows = [2, 0, 4]\n",
    "cols = [0, 3, 1]\n",
    "\n",
    "mat[rows, cols]\n",
    "```"
   ]
  },
  {
   "cell_type": "code",
   "id": "5ba77f9bdaf70a9c",
   "metadata": {},
   "source": [
    "rows = [2, 0, 4]\n",
    "cols = [0, 3, 1]\n",
    "\n",
    "mat[rows, cols]"
   ],
   "outputs": [],
   "execution_count": null
  },
  {
   "cell_type": "markdown",
   "id": "6a68280430a3b95f",
   "metadata": {},
   "source": [
    "### Masking\n",
    "\n",
    "Sometimes we want to filter out some elements from an array that meet certain conditions. Using the control flows we have learned in Lesson 1-extra, we can write a simple iteration combined with conditional statements to achieve this goal. However, NumPy provides a more convenient way to achieve this goal, which is called **masking**. For example, suppose we have some prime numbers such as\n",
    "\n",
    "```python\n",
    "primes = np.array([2, 3, 5, 7, 11, 13, 17, 19, 23, 29, 31, 37])\n",
    "primes\n",
    "```"
   ]
  },
  {
   "cell_type": "code",
   "id": "4aaddb0fd82e549e",
   "metadata": {},
   "source": [
    "primes = np.array([2, 3, 5, 7, 11, 13, 17, 19, 23, 29, 31, 37])\n",
    "primes.all()"
   ],
   "outputs": [],
   "execution_count": null
  },
  {
   "metadata": {},
   "cell_type": "markdown",
   "source": [
    "We want to find out all the primes $p$ of the form $4n + 3$ from the array. This condition can be expressed as `p % 4 == 3` in Python. To create a mask that acts on `primes` using this condition, we just need to replace the `p` in the condition with `primes`:\n",
    "\n",
    "```python\n",
    "mask = primes % 4 == 3\n",
    "mask\n",
    "```"
   ],
   "id": "c53c14f3a3925753"
  },
  {
   "cell_type": "code",
   "id": "699d402bf94e65ba",
   "metadata": {},
   "source": [
    "mask = primes % 4 == 3\n",
    "mask"
   ],
   "outputs": [],
   "execution_count": null
  },
  {
   "metadata": {},
   "cell_type": "markdown",
   "source": [
    "The result is a boolean array that is `True` for all the elements that meet the condition and `False` for the rest (why?). We can use this mask to index the array to get the desired elements:\n",
    "\n",
    "```python\n",
    "primes_filtered = primes[mask]\n",
    "primes_filtered\n",
    "```"
   ],
   "id": "faf65edb00328468"
  },
  {
   "cell_type": "code",
   "id": "86f31286ec8e70d7",
   "metadata": {},
   "source": [
    "primes_filtered = primes[mask]\n",
    "primes_filtered"
   ],
   "outputs": [],
   "execution_count": null
  },
  {
   "metadata": {},
   "cell_type": "markdown",
   "source": [
    "Now check the mask again:\n",
    "\n",
    "```python\n",
    "mask_filtered = primes_filtered % 4 == 3\n",
    "mask_filtered\n",
    "```"
   ],
   "id": "73fb26b134004051"
  },
  {
   "metadata": {},
   "cell_type": "code",
   "source": [
    "mask_filtered = primes_filtered % 4 == 3\n",
    "mask_filtered"
   ],
   "id": "a58846d7a5578d3",
   "outputs": [],
   "execution_count": null
  },
  {
   "metadata": {},
   "cell_type": "markdown",
   "source": [
    "As you can see, all the elements in `primes_filtered` meet the condition. However, checking each element in the mask manually is not very efficient. To simplify this process, we can use the `any()` and `all()` methods of NumPy boolean arrays to check whether any or all the elements meet the condition:\n",
    "\n",
    "```python\n",
    "mask.any(), mask.all(), mask_filtered.any(), mask_filtered.all()\n",
    "```"
   ],
   "id": "bee036a81a693898"
  },
  {
   "metadata": {},
   "cell_type": "code",
   "source": "mask.any(), mask.all(), mask_filtered.any(), mask_filtered.all()",
   "id": "32e0a5a440aa31b1",
   "outputs": [],
   "execution_count": null
  },
  {
   "metadata": {},
   "cell_type": "markdown",
   "source": [
    "The results of these two methods are `np.True_` and `np.False_`, which are wrapped by NumPy from the built-in `True` and `False` in Python, so you can treat them as the same. For boolean array, the `any()` method returns `True` if at least one of the elements in the array is `True`, and the `all()` method returns `True` if all the elements in the array `True`.\n",
    "\n",
    "<span style=\"color:green\">**Exercise**:</span> Imagine that we mark the grid points (points with integer coordinates) on the 2D plane and then draw a circle centered at the origin with a radius of $r$ (for simplicity, $r$ only takes integer values). Use masking to show how many grid points are in the circle (including the boundary). We can use the `meshgrid()` function to generate a grid of points, for example:\n",
    "\n",
    "```python\n",
    "xrange = np.arange(2)\n",
    "yrange = np.arange(3)\n",
    "x, y = np.meshgrid(xrange, yrange)\n",
    "x, y\n",
    "```"
   ],
   "id": "bbddd6d50b234346"
  },
  {
   "metadata": {},
   "cell_type": "code",
   "source": [
    "xrange = np.arange(2)\n",
    "yrange = np.arange(3)\n",
    "x, y = np.meshgrid(xrange, yrange)\n",
    "x, y"
   ],
   "id": "a5be06a40aca5617",
   "outputs": [],
   "execution_count": null
  },
  {
   "metadata": {},
   "cell_type": "markdown",
   "source": [
    "Each pair of elements with the same index in `x` and `y` represents a grid coordinate.\n",
    "\n",
    "_Hint: the mask is also an array, which can be indexed using the mask itself._"
   ],
   "id": "df2eb3169c0637d3"
  },
  {
   "metadata": {},
   "cell_type": "code",
   "source": [
    "def grids(r: int) -> int:\n",
    "    points = np.arange(-r, r + 1)\n",
    "    x, y = np.meshgrid(points, points)\n",
    "    mask = x ** 2 + y ** 2 <= r ** 2\n",
    "    return mask[mask].size\n",
    "\n",
    "grids(5)"
   ],
   "id": "b61678e6ab41abd0",
   "outputs": [],
   "execution_count": null
  },
  {
   "cell_type": "markdown",
   "id": "703279d32fc56bb3",
   "metadata": {},
   "source": [
    "## Array Manipulation\n",
    "\n",
    "NumPy provides a series of functions that allow us to perform various operations on arrays like kneading dough."
   ]
  },
  {
   "cell_type": "markdown",
   "id": "c50da44326f124a5",
   "metadata": {},
   "source": [
    "### Reshape"
   ]
  },
  {
   "cell_type": "code",
   "id": "d64a172553682a93",
   "metadata": {},
   "source": [
    "arr1d = np.arange(12)\n",
    "arr1d"
   ],
   "outputs": [],
   "execution_count": null
  },
  {
   "cell_type": "code",
   "id": "ac3f9f9a8c814055",
   "metadata": {},
   "source": [
    "arr1d.size, arr1d.ndim, arr1d.shape"
   ],
   "outputs": [],
   "execution_count": null
  },
  {
   "cell_type": "code",
   "id": "d01a202c612393f6",
   "metadata": {},
   "source": [
    "arr2d = arr1d.reshape(3, 4)\n",
    "arr2d"
   ],
   "outputs": [],
   "execution_count": null
  },
  {
   "cell_type": "code",
   "id": "b7a771c51b04a11d",
   "metadata": {},
   "source": [
    "arr2d.size, arr2d.ndim, arr2d.shape"
   ],
   "outputs": [],
   "execution_count": null
  },
  {
   "cell_type": "code",
   "id": "dd3e6efe6dd6c68e",
   "metadata": {},
   "source": [
    "# arr1d.reshape(2, 5)"
   ],
   "outputs": [],
   "execution_count": null
  },
  {
   "cell_type": "code",
   "id": "2ca01e33705d62b3",
   "metadata": {},
   "source": [
    "arr3d = arr1d.reshape(2, 3, 2)\n",
    "arr3d"
   ],
   "outputs": [],
   "execution_count": null
  },
  {
   "cell_type": "markdown",
   "id": "5bb5b3b687dcb63d",
   "metadata": {},
   "source": [
    "### Flatten"
   ]
  },
  {
   "cell_type": "code",
   "id": "9ba0e773d5ccdd23",
   "metadata": {},
   "source": [
    "arr3d.flatten()"
   ],
   "outputs": [],
   "execution_count": null
  },
  {
   "cell_type": "markdown",
   "id": "e1b15ad2f28d6376",
   "metadata": {},
   "source": [
    "### Transpose"
   ]
  },
  {
   "cell_type": "code",
   "id": "2f2dd2e231422df1",
   "metadata": {},
   "source": [
    "arr2d.transpose()"
   ],
   "outputs": [],
   "execution_count": null
  },
  {
   "cell_type": "code",
   "id": "77561d4318eb79f",
   "metadata": {},
   "source": [
    "arr3d.transpose(1, 0, 2)"
   ],
   "outputs": [],
   "execution_count": null
  },
  {
   "cell_type": "markdown",
   "id": "89ab3ab9015b1e49",
   "metadata": {},
   "source": [
    "## Vectorization\n",
    "\n",
    "NumPy arrays naturally support batch operations, which is good indeed. However, when we need to combine arrays with Python native functions, we may encounter scenarios where batch operations cannot be used, and we have to fall back to regular loops and iterations. Fortunately, NumPy provides a feature called [**vectorization**](https://numpy.org/doc/stable/reference/generated/numpy.vectorize.html), which can be used to convert Python native functions into vectorized functions that support array operations using decorator syntax."
   ]
  },
  {
   "cell_type": "code",
   "id": "93fb99e64296a9ae",
   "metadata": {},
   "source": [
    "squares = np.arange(5) ** 2\n",
    "squares"
   ],
   "outputs": [],
   "execution_count": null
  },
  {
   "cell_type": "code",
   "id": "3f7f190a9f8cac62",
   "metadata": {},
   "source": [
    "np.sqrt(squares)"
   ],
   "outputs": [],
   "execution_count": null
  },
  {
   "cell_type": "code",
   "id": "cfe9c3452812a823",
   "metadata": {},
   "source": [
    "import math\n",
    "math.sqrt(squares)"
   ],
   "outputs": [],
   "execution_count": null
  },
  {
   "cell_type": "code",
   "id": "c60489375cf3656e",
   "metadata": {},
   "source": [
    "@np.vectorize\n",
    "def sqrt(n: int | float) -> float:\n",
    "    return math.sqrt(n)\n",
    "\n",
    "sqrt(squares)"
   ],
   "outputs": [],
   "execution_count": null
  },
  {
   "cell_type": "markdown",
   "id": "51e82a30dc42bcd7",
   "metadata": {},
   "source": [
    "## Broadcasting\n",
    "\n",
    "When we need to combine arrays with different shapes, NumPy provides a feature called [**broadcasting**](https://numpy.org/doc/stable/user/basics.broadcasting.html), which can be used to convert arrays with different shapes into arrays with the same shape.\n"
   ]
  },
  {
   "cell_type": "code",
   "id": "513bf3b055ee2602",
   "metadata": {},
   "source": [
    "a = np.array([[1, 2], [3, 4]])\n",
    "b = np.array([2, 5])\n",
    "a, b"
   ],
   "outputs": [],
   "execution_count": null
  },
  {
   "cell_type": "code",
   "id": "863b187c75389bc",
   "metadata": {},
   "source": [
    "a + b"
   ],
   "outputs": [],
   "execution_count": null
  },
  {
   "cell_type": "code",
   "id": "5496b82abe1eb3a4",
   "metadata": {},
   "source": [
    "a = np.array([[1, 2], [3, 4]])\n",
    "b = np.array([2])\n",
    "a * b"
   ],
   "outputs": [],
   "execution_count": null
  },
  {
   "cell_type": "code",
   "id": "3044894e3721bb58",
   "metadata": {},
   "source": [
    "a = np.array([[1, 2], [3, 4]])\n",
    "b = np.array([[1, 1, 1],\n",
    "              [2, 2, 2],\n",
    "              [3, 3, 3]])\n",
    "a + b"
   ],
   "outputs": [],
   "execution_count": null
  },
  {
   "cell_type": "code",
   "id": "29c847187daa5490",
   "metadata": {},
   "source": [
    "a = np.array([[1, 2], [3, 4], [5, 6], [7, 8]])\n",
    "b = np.array([8, 7])\n",
    "a + b"
   ],
   "outputs": [],
   "execution_count": null
  },
  {
   "cell_type": "code",
   "id": "c42bed292b337fcb",
   "metadata": {},
   "source": [
    "# TODO: More precise examples"
   ],
   "outputs": [],
   "execution_count": null
  },
  {
   "cell_type": "markdown",
   "id": "3109c5ce481a4bbe",
   "metadata": {},
   "source": [
    "## Linear Algebra in NumPy (`numpy.linalg`)\n",
    "\n",
    "Since matrices can also be viewed as two-dimensional arrays, it is natural for NumPy to implement various concepts in linear algebra."
   ]
  },
  {
   "cell_type": "code",
   "id": "e10a6a83fbc6aaa1",
   "metadata": {},
   "source": [
    "vec1 = np.array([1, 1, 1])\n",
    "vec2 = np.array([-1, -1, 1])\n",
    "vec1, vec2"
   ],
   "outputs": [],
   "execution_count": null
  },
  {
   "cell_type": "code",
   "id": "9c847dac8142dda2",
   "metadata": {},
   "source": [
    "norm1 = np.linalg.norm(vec1)\n",
    "norm2 = np.linalg.norm(vec2)\n",
    "norm1, norm2"
   ],
   "outputs": [],
   "execution_count": null
  },
  {
   "cell_type": "code",
   "id": "f3a2e3c8dff68869",
   "metadata": {},
   "source": [
    "np.vdot(vec1, vec2)"
   ],
   "outputs": [],
   "execution_count": null
  },
  {
   "cell_type": "code",
   "id": "3b7a9792c0c4e01a",
   "metadata": {},
   "source": [
    "np.cross(vec1, vec2)"
   ],
   "outputs": [],
   "execution_count": null
  },
  {
   "cell_type": "code",
   "id": "d01ed576f45ab396",
   "metadata": {},
   "source": [
    "mat1 = np.array([\n",
    "    [1, 0, 0],\n",
    "    [0, 0, -1],\n",
    "    [0, 1, 0],\n",
    "])\n",
    "mat2 = np.array([\n",
    "    [0, -1, 0],\n",
    "    [1, 0, 0],\n",
    "    [0, 0, 1],\n",
    "])\n",
    "mat = mat1 @ mat2\n",
    "mat"
   ],
   "outputs": [],
   "execution_count": null
  },
  {
   "cell_type": "code",
   "id": "120257679f644604",
   "metadata": {},
   "source": [
    "x = np.array([1, 0, 0])\n",
    "y = np.array([0, 1, 0])\n",
    "z = np.array([0, 0, 1])\n",
    "mat @ x, mat @ y, mat @ z"
   ],
   "outputs": [],
   "execution_count": null
  },
  {
   "cell_type": "code",
   "id": "9d5958f89e21d3e4",
   "metadata": {},
   "source": [
    "# TODO: Trace, determinant, eigenvalues and eigenvectors (Hückel method)"
   ],
   "outputs": [],
   "execution_count": null
  },
  {
   "cell_type": "markdown",
   "id": "ecb1489ea957da1c",
   "metadata": {},
   "source": [
    "## Pandas\n",
    "\n",
    "- `Series` and `DataFrame`\n",
    "- loading and saving files"
   ]
  }
 ],
 "metadata": {
  "kernelspec": {
   "display_name": "Python 3 (ipykernel)",
   "language": "python",
   "name": "python3"
  },
  "language_info": {
   "codemirror_mode": {
    "name": "ipython",
    "version": 3
   },
   "file_extension": ".py",
   "mimetype": "text/x-python",
   "name": "python",
   "nbconvert_exporter": "python",
   "pygments_lexer": "ipython3",
   "version": "3.13.9"
  }
 },
 "nbformat": 4,
 "nbformat_minor": 5
}
