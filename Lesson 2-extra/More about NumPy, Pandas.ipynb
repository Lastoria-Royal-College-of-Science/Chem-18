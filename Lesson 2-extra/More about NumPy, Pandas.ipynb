{
 "cells": [
  {
   "metadata": {},
   "cell_type": "markdown",
   "source": [
    "# Lesson 2-extra: More about NumPy, Pandas\n",
    "\n",
    "> Instructor: [Yuki Oyama](mailto:y.oyama@lrcs.ac), [Prprnya](mailto:nya@prpr.zip)\n",
    ">\n",
    "> The Christian F. Weichman Department of Chemistry, Lastoria Royal College of Science\n",
    "\n",
    "This material is licensed under <a href=\"https://creativecommons.org/licenses/by-nc-sa/4.0/\">CC BY-NC-SA 4.0</a><img src=\"https://mirrors.creativecommons.org/presskit/icons/cc.svg\" alt=\"\" style=\"max-width: 1em;max-height:1em;margin-left: .2em;\"><img src=\"https://mirrors.creativecommons.org/presskit/icons/by.svg\" alt=\"\" style=\"max-width: 1em;max-height:1em;margin-left: .2em;\"><img src=\"https://mirrors.creativecommons.org/presskit/icons/nc.svg\" alt=\"\" style=\"max-width: 1em;max-height:1em;margin-left: .2em;\"><img src=\"https://mirrors.creativecommons.org/presskit/icons/sa.svg\" alt=\"\" style=\"max-width: 1em;max-height:1em;margin-left: .2em;\">\n"
   ],
   "id": "6d2607cb5cfc6d1a"
  },
  {
   "metadata": {},
   "cell_type": "markdown",
   "source": "After finishing Lesson 2, we have a basic understanding of NumPy, which still has many useful features worth learning. However, when processing large and complicated datasets, we need to use a more powerful tool, Pandas. In this lesson, we are going to learn the advanced features of NumPy in the first half, and Pandas in the second half.",
   "id": "5b997a88b4c90c72"
  },
  {
   "metadata": {},
   "cell_type": "code",
   "source": "import numpy as np",
   "id": "30ef923df49e252e",
   "outputs": [],
   "execution_count": null
  },
  {
   "metadata": {},
   "cell_type": "markdown",
   "source": [
    "## Indexing and Masking\n",
    "\n",
    "Our lesson begins by expanding the concept of indexing. NumPy arrays support not only integer indexing and slicing, but also several different but useful indexing methods."
   ],
   "id": "a0bdc2ab4eac0c44"
  },
  {
   "metadata": {},
   "cell_type": "markdown",
   "source": "### Arbitrary Indexing",
   "id": "c0ef1f4c3f2262dc"
  },
  {
   "metadata": {},
   "cell_type": "code",
   "source": [
    "mat = np.array([\n",
    "    [0.0, 0.1, 0.2, 0.3, 0.4],\n",
    "    [1.0, 1.1, 1.2, 1.3, 1.4],\n",
    "    [2.0, 2.1, 2.2, 2.3, 2.4],\n",
    "    [3.0, 3.1, 3.2, 3.3, 3.4],\n",
    "])\n",
    "mat"
   ],
   "id": "43343ac8ad1da630",
   "outputs": [],
   "execution_count": null
  },
  {
   "metadata": {},
   "cell_type": "code",
   "source": [
    "rows = [2, 2, 0]\n",
    "cols = [0, 1, 3]\n",
    "\n",
    "mat[rows, cols]"
   ],
   "id": "5ba77f9bdaf70a9c",
   "outputs": [],
   "execution_count": null
  },
  {
   "metadata": {},
   "cell_type": "markdown",
   "source": "### Masking",
   "id": "6a68280430a3b95f"
  },
  {
   "metadata": {},
   "cell_type": "code",
   "source": [
    "primes = np.array([2, 3, 5, 7, 11, 13, 17, 19, 23, 29, 31, 37])\n",
    "primes"
   ],
   "id": "4aaddb0fd82e549e",
   "outputs": [],
   "execution_count": null
  },
  {
   "metadata": {},
   "cell_type": "code",
   "source": [
    "mask = primes % 4 == 3\n",
    "mask"
   ],
   "id": "699d402bf94e65ba",
   "outputs": [],
   "execution_count": null
  },
  {
   "metadata": {},
   "cell_type": "code",
   "source": "primes[mask]",
   "id": "86f31286ec8e70d7",
   "outputs": [],
   "execution_count": null
  },
  {
   "metadata": {},
   "cell_type": "markdown",
   "source": [
    "## Array Manipulation\n",
    "\n",
    "NumPy provides a series of functions that allow us to perform various operations on arrays like kneading dough."
   ],
   "id": "703279d32fc56bb3"
  },
  {
   "metadata": {},
   "cell_type": "markdown",
   "source": "### Reshape",
   "id": "c50da44326f124a5"
  },
  {
   "metadata": {},
   "cell_type": "code",
   "source": [
    "arr1d = np.arange(12)\n",
    "arr1d"
   ],
   "id": "d64a172553682a93",
   "outputs": [],
   "execution_count": null
  },
  {
   "metadata": {},
   "cell_type": "code",
   "source": "arr1d.size, arr1d.ndim, arr1d.shape",
   "id": "ac3f9f9a8c814055",
   "outputs": [],
   "execution_count": null
  },
  {
   "metadata": {},
   "cell_type": "code",
   "source": [
    "arr2d = arr1d.reshape(3, 4)\n",
    "arr2d"
   ],
   "id": "d01a202c612393f6",
   "outputs": [],
   "execution_count": null
  },
  {
   "metadata": {},
   "cell_type": "code",
   "source": "arr2d.size, arr2d.ndim, arr2d.shape",
   "id": "b7a771c51b04a11d",
   "outputs": [],
   "execution_count": null
  },
  {
   "metadata": {},
   "cell_type": "code",
   "source": "arr1d.reshape(2, 5)",
   "id": "dd3e6efe6dd6c68e",
   "outputs": [],
   "execution_count": null
  },
  {
   "metadata": {},
   "cell_type": "code",
   "source": [
    "arr3d = arr1d.reshape(2, 3, 2)\n",
    "arr3d"
   ],
   "id": "2ca01e33705d62b3",
   "outputs": [],
   "execution_count": null
  },
  {
   "metadata": {},
   "cell_type": "markdown",
   "source": "### Flatten",
   "id": "5bb5b3b687dcb63d"
  },
  {
   "metadata": {},
   "cell_type": "code",
   "source": "arr3d.flatten()",
   "id": "9ba0e773d5ccdd23",
   "outputs": [],
   "execution_count": null
  },
  {
   "metadata": {},
   "cell_type": "markdown",
   "source": "### Transpose",
   "id": "e1b15ad2f28d6376"
  },
  {
   "metadata": {},
   "cell_type": "code",
   "source": "arr2d.transpose()",
   "id": "2f2dd2e231422df1",
   "outputs": [],
   "execution_count": null
  },
  {
   "metadata": {},
   "cell_type": "code",
   "source": "arr3d.transpose()",
   "id": "77561d4318eb79f",
   "outputs": [],
   "execution_count": null
  },
  {
   "metadata": {},
   "cell_type": "markdown",
   "source": [
    "## Vectorization\n",
    "\n",
    "NumPy arrays naturally support batch operations, which is good indeed. However, when we need to combine arrays with Python native functions, we may encounter scenarios where batch operations cannot be used, and we have to fall back to regular loops and iterations. Fortunately, NumPy provides a feature called [**vectorization**](https://numpy.org/doc/stable/reference/generated/numpy.vectorize.html), which can be used to convert Python native functions into vectorized functions that support array operations using decorator syntax."
   ],
   "id": "89ab3ab9015b1e49"
  },
  {
   "metadata": {},
   "cell_type": "code",
   "source": [
    "squares = np.arange(5) ** 2\n",
    "squares"
   ],
   "id": "93fb99e64296a9ae",
   "outputs": [],
   "execution_count": null
  },
  {
   "metadata": {},
   "cell_type": "code",
   "source": "np.sqrt(squares)",
   "id": "3f7f190a9f8cac62",
   "outputs": [],
   "execution_count": null
  },
  {
   "metadata": {},
   "cell_type": "code",
   "source": [
    "import math\n",
    "math.sqrt(squares)"
   ],
   "id": "cfe9c3452812a823",
   "outputs": [],
   "execution_count": null
  },
  {
   "metadata": {},
   "cell_type": "code",
   "source": [
    "@np.vectorize\n",
    "def sqrt(n: int | float) -> float:\n",
    "    return math.sqrt(n)\n",
    "\n",
    "sqrt(squares)"
   ],
   "id": "c60489375cf3656e",
   "outputs": [],
   "execution_count": null
  },
  {
   "metadata": {},
   "cell_type": "markdown",
   "source": [
    "## Broadcasting\n",
    "\n",
    "When we need to combine arrays with different shapes, NumPy provides a feature called [**broadcasting**](https://numpy.org/doc/stable/user/basics.broadcasting.html), which can be used to convert arrays with different shapes into arrays with the same shape.\n"
   ],
   "id": "51e82a30dc42bcd7"
  },
  {
   "metadata": {},
   "cell_type": "code",
   "source": [
    "a = np.array([[1, 2], [3, 4]])\n",
    "b = np.array([2, 5])\n",
    "a, b"
   ],
   "id": "513bf3b055ee2602",
   "outputs": [],
   "execution_count": null
  },
  {
   "metadata": {},
   "cell_type": "code",
   "source": "a + b",
   "id": "863b187c75389bc",
   "outputs": [],
   "execution_count": null
  },
  {
   "metadata": {},
   "cell_type": "code",
   "source": [
    "a = np.array([[1, 2], [3, 4]])\n",
    "b = np.array([2])\n",
    "a * b"
   ],
   "id": "5496b82abe1eb3a4",
   "outputs": [],
   "execution_count": null
  },
  {
   "metadata": {},
   "cell_type": "code",
   "source": [
    "a = np.array([[1, 2], [3, 4]])\n",
    "b = np.array([[1, 1, 1],\n",
    "              [2, 2, 2],\n",
    "              [3, 3, 3]])\n",
    "a + b"
   ],
   "id": "3044894e3721bb58",
   "outputs": [],
   "execution_count": null
  },
  {
   "metadata": {},
   "cell_type": "code",
   "source": [
    "a = np.array([[1, 2], [3, 4], [5, 6], [7, 8]])\n",
    "b = np.array([8, 7])\n",
    "a + b"
   ],
   "id": "29c847187daa5490",
   "outputs": [],
   "execution_count": null
  },
  {
   "metadata": {},
   "cell_type": "code",
   "source": "# TODO: More precise examples",
   "id": "c42bed292b337fcb",
   "outputs": [],
   "execution_count": null
  },
  {
   "metadata": {},
   "cell_type": "markdown",
   "source": [
    "## Linear Algebra in NumPy (`numpy.linalg`)\n",
    "\n",
    "Since matrices can also be viewed as two-dimensional arrays, it is natural for NumPy to implement various concepts in linear algebra."
   ],
   "id": "3109c5ce481a4bbe"
  },
  {
   "metadata": {},
   "cell_type": "code",
   "source": [
    "vec1 = np.array([1, 1, 1])\n",
    "vec2 = np.array([-1, -1, 1])\n",
    "vec1, vec2"
   ],
   "id": "e10a6a83fbc6aaa1",
   "outputs": [],
   "execution_count": null
  },
  {
   "metadata": {},
   "cell_type": "code",
   "source": [
    "norm1 = np.linalg.norm(vec1)\n",
    "norm2 = np.linalg.norm(vec2)\n",
    "norm1, norm2"
   ],
   "id": "9c847dac8142dda2",
   "outputs": [],
   "execution_count": null
  },
  {
   "metadata": {},
   "cell_type": "code",
   "source": "np.vdot(vec1, vec2)",
   "id": "f3a2e3c8dff68869",
   "outputs": [],
   "execution_count": null
  },
  {
   "metadata": {},
   "cell_type": "code",
   "source": "np.cross(vec1, vec2)",
   "id": "3b7a9792c0c4e01a",
   "outputs": [],
   "execution_count": null
  },
  {
   "metadata": {},
   "cell_type": "code",
   "source": [
    "mat1 = np.array([\n",
    "    [1, 0, 0],\n",
    "    [0, 0, -1],\n",
    "    [0, 1, 0],\n",
    "])\n",
    "mat2 = np.array([\n",
    "    [0, -1, 0],\n",
    "    [1, 0, 0],\n",
    "    [0, 0, 1],\n",
    "])\n",
    "mat = mat1 @ mat2\n",
    "mat"
   ],
   "id": "d01ed576f45ab396",
   "outputs": [],
   "execution_count": null
  },
  {
   "metadata": {},
   "cell_type": "code",
   "source": [
    "x = np.array([1, 0, 0])\n",
    "y = np.array([0, 1, 0])\n",
    "z = np.array([0, 0, 1])\n",
    "mat @ x, mat @ y, mat @ z"
   ],
   "id": "120257679f644604",
   "outputs": [],
   "execution_count": null
  },
  {
   "metadata": {},
   "cell_type": "code",
   "source": "# TODO: Trace, determinant, eigenvalues and eigenvectors",
   "id": "1a7950dce1c29be2",
   "outputs": [],
   "execution_count": null
  },
  {
   "metadata": {},
   "cell_type": "markdown",
   "source": [
    "## Pandas\n",
    "\n",
    "- `Series` and `DataFrame`\n",
    "- loading and saving files"
   ],
   "id": "ecb1489ea957da1c"
  }
 ],
 "metadata": {
  "kernelspec": {
   "display_name": "Python 3",
   "language": "python",
   "name": "python3"
  },
  "language_info": {
   "codemirror_mode": {
    "name": "ipython",
    "version": 2
   },
   "file_extension": ".py",
   "mimetype": "text/x-python",
   "name": "python",
   "nbconvert_exporter": "python",
   "pygments_lexer": "ipython2",
   "version": "2.7.6"
  }
 },
 "nbformat": 4,
 "nbformat_minor": 5
}
