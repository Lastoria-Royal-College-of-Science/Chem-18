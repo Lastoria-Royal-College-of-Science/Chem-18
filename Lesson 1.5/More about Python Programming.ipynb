{
 "cells": [
  {
   "metadata": {},
   "cell_type": "markdown",
   "source": [
    "# Lesson 1.5: More about Python Programming\n",
    "\n",
    "> Instructor: [Yuki Oyama](mailto:y.oyama@lrcs.ac), [Prprnya](mailto:nya@prpr.zip)\n",
    ">\n",
    "> The Christian F. Weichman Department of Chemistry, Lastoria Royal College of Science\n",
    "\n",
    "This material is licensed under <a href=\"https://creativecommons.org/licenses/by-nc-sa/4.0/\">CC BY-NC-SA 4.0</a><img src=\"https://mirrors.creativecommons.org/presskit/icons/cc.svg\" alt=\"\" style=\"max-width: 1em;max-height:1em;margin-left: .2em;\"><img src=\"https://mirrors.creativecommons.org/presskit/icons/by.svg\" alt=\"\" style=\"max-width: 1em;max-height:1em;margin-left: .2em;\"><img src=\"https://mirrors.creativecommons.org/presskit/icons/nc.svg\" alt=\"\" style=\"max-width: 1em;max-height:1em;margin-left: .2em;\"><img src=\"https://mirrors.creativecommons.org/presskit/icons/sa.svg\" alt=\"\" style=\"max-width: 1em;max-height:1em;margin-left: .2em;\">\n",
    "\n",
    "Congratulations! You have finished the first lesson of the course! Now you are ready to dig deeper into Python. This lesson will introduce you to some advanced topics in Python. For now, let's get started!"
   ],
   "id": "a03cb197948f33dd"
  },
  {
   "metadata": {},
   "cell_type": "markdown",
   "source": [
    "## Reading Documentation Is Important!\n",
    "\n",
    "As an advanced Python learner, you should make reading documentation a habit. Python provides a comprehensive [documentation website](https://docs.python.org/) that covers most of the details of this language. This website contains documentation for different versions of Python, so make sure to select the version you are using. You can also find documentation for specific modules and libraries that you may be using in your projects. For example:\n",
    "\n",
    "- [NumPy](https://numpy.org/doc/stable/)\n",
    "- [Pandas](https://pandas.pydata.org/docs/)\n",
    "- [Matplotlib](https://matplotlib.org/stable/)\n",
    "- [Scikit-Learn](https://scikit-learn.org/stable/)\n",
    "- [TensorFlow](https://www.tensorflow.org/api_docs)\n",
    "- [PyTorch](https://pytorch.org/docs/stable/)\n",
    "- [Jupyter Notebook](https://jupyter.org/documentation)"
   ],
   "id": "16f20de4cd6482cf"
  },
  {
   "metadata": {},
   "cell_type": "markdown",
   "source": [
    "## Builtin Collection Types\n",
    "\n",
    "Collections are data structures that store multiple items. Python provides a variety of collection types, including `list`, `tuple`, `str`, `range`, `set`, and `dict`."
   ],
   "id": "b31dddce7961f449"
  },
  {
   "metadata": {},
   "cell_type": "markdown",
   "source": [
    "### Tuple\n",
    "\n",
    "Tuple is an **immutable** builtin collection type in Python, where \"immutable\" means that its elements cannot be changed once created. In Python code, you can use parentheses (`()`) to create a `tuple` object. For example, the following code creates a tuple of integers from `1` to `5`:\n",
    "\n",
    "```python\n",
    "t1 = (1, 2, 3, 4, 5)\n",
    "t1\n",
    "```"
   ],
   "id": "9fe9c8e2bc021aa9"
  },
  {
   "metadata": {
    "ExecuteTime": {
     "end_time": "2025-10-05T08:41:32.455700Z",
     "start_time": "2025-10-05T08:41:32.449235Z"
    }
   },
   "cell_type": "code",
   "source": [
    "t1 = (1, 2, 3, 4, 5)\n",
    "t1"
   ],
   "id": "6e3851971c827668",
   "outputs": [
    {
     "data": {
      "text/plain": [
       "(1, 2, 3, 4, 5)"
      ]
     },
     "execution_count": 1,
     "metadata": {},
     "output_type": "execute_result"
    }
   ],
   "execution_count": 1
  },
  {
   "metadata": {},
   "cell_type": "markdown",
   "source": [
    "Even if we do not surround our values with parentheses, Python will still pack them into a tuple automatically. For example, the following code creates a tuple of integers from `6` to `10`:\n",
    "\n",
    "```python\n",
    "t2 = 6, 7, 8, 9, 10\n",
    "t2\n",
    "```"
   ],
   "id": "bc051063f0f10033"
  },
  {
   "metadata": {
    "ExecuteTime": {
     "end_time": "2025-10-05T08:41:32.475538Z",
     "start_time": "2025-10-05T08:41:32.472239Z"
    }
   },
   "cell_type": "code",
   "source": [
    "t2 = 6, 7, 8, 9, 10\n",
    "t2"
   ],
   "id": "9d2aee302289b073",
   "outputs": [
    {
     "data": {
      "text/plain": [
       "(6, 7, 8, 9, 10)"
      ]
     },
     "execution_count": 2,
     "metadata": {},
     "output_type": "execute_result"
    }
   ],
   "execution_count": 2
  },
  {
   "metadata": {},
   "cell_type": "markdown",
   "source": [
    "Using builtin function `type()` to check the type of `t1` and `t2`:\n",
    "\n",
    "```python\n",
    "type(t1), type(t2)\n",
    "```"
   ],
   "id": "1014375700a7dc3"
  },
  {
   "metadata": {
    "ExecuteTime": {
     "end_time": "2025-10-05T08:41:32.503499Z",
     "start_time": "2025-10-05T08:41:32.499938Z"
    }
   },
   "cell_type": "code",
   "source": "type(t1), type(t2)",
   "id": "69f79629486eb905",
   "outputs": [
    {
     "data": {
      "text/plain": [
       "(tuple, tuple)"
      ]
     },
     "execution_count": 3,
     "metadata": {},
     "output_type": "execute_result"
    }
   ],
   "execution_count": 3
  },
  {
   "metadata": {},
   "cell_type": "markdown",
   "source": [
    "Since `tuple` is immutable, we are not able to modify an existing tuple in place. Instead, we can create a new tuple by unpacking two existing tuples into a new tuple using the `*` syntax. For example, the following code creates a new tuple `t` by unpacking `t1` and `t2`:\n",
    "\n",
    "```python\n",
    "t = (*t1, *t2)\n",
    "t\n",
    "```"
   ],
   "id": "99b52b5182d720f0"
  },
  {
   "metadata": {
    "ExecuteTime": {
     "end_time": "2025-10-05T08:41:32.533152Z",
     "start_time": "2025-10-05T08:41:32.528769Z"
    }
   },
   "cell_type": "code",
   "source": [
    "t = (*t1, *t2)\n",
    "t"
   ],
   "id": "4e7db267cb1ece66",
   "outputs": [
    {
     "data": {
      "text/plain": [
       "(1, 2, 3, 4, 5, 6, 7, 8, 9, 10)"
      ]
     },
     "execution_count": 4,
     "metadata": {},
     "output_type": "execute_result"
    }
   ],
   "execution_count": 4
  },
  {
   "metadata": {},
   "cell_type": "markdown",
   "source": [
    "To get the length of a tuple, you can use the builtin `len()` function:\n",
    "\n",
    "```python\n",
    "len(t)\n",
    "```"
   ],
   "id": "56b668d6a1a3f6f3"
  },
  {
   "metadata": {
    "ExecuteTime": {
     "end_time": "2025-10-05T08:41:32.599031Z",
     "start_time": "2025-10-05T08:41:32.595085Z"
    }
   },
   "cell_type": "code",
   "source": "len(t)",
   "id": "b720b53e99d9ddf7",
   "outputs": [
    {
     "data": {
      "text/plain": [
       "10"
      ]
     },
     "execution_count": 5,
     "metadata": {},
     "output_type": "execute_result"
    }
   ],
   "execution_count": 5
  },
  {
   "metadata": {},
   "cell_type": "markdown",
   "source": [
    "As a sequence, tuples can be indexed by integers. The index of collections, including tuple, starts from `0` in Python, which means that the first element has index `0`. For example, the following code extracts the second element of `t`:\n",
    "\n",
    "```python\n",
    "t[1]\n",
    "```"
   ],
   "id": "3bc0d7ca628c3b99"
  },
  {
   "metadata": {
    "ExecuteTime": {
     "end_time": "2025-10-05T08:41:32.637714Z",
     "start_time": "2025-10-05T08:41:32.633736Z"
    }
   },
   "cell_type": "code",
   "source": "t[1]",
   "id": "6b0b9799e4c750a5",
   "outputs": [
    {
     "data": {
      "text/plain": [
       "2"
      ]
     },
     "execution_count": 6,
     "metadata": {},
     "output_type": "execute_result"
    }
   ],
   "execution_count": 6
  },
  {
   "metadata": {},
   "cell_type": "markdown",
   "source": [
    "When the index is negative, it counts from the end of the tuple. In this case, `-1` refers to the last element of the tuple, `-2` refers to the second-last element, and so on. For example, the following code extracts the third last element of `t`:\n",
    "\n",
    "```python\n",
    "t[-3]\n",
    "```"
   ],
   "id": "dbf17990495501f2"
  },
  {
   "metadata": {
    "ExecuteTime": {
     "end_time": "2025-10-05T08:41:32.691672Z",
     "start_time": "2025-10-05T08:41:32.688158Z"
    }
   },
   "cell_type": "code",
   "source": "t[-3]",
   "id": "ca56da7a75b27b22",
   "outputs": [
    {
     "data": {
      "text/plain": [
       "8"
      ]
     },
     "execution_count": 7,
     "metadata": {},
     "output_type": "execute_result"
    }
   ],
   "execution_count": 7
  },
  {
   "metadata": {},
   "cell_type": "markdown",
   "source": [
    "Notice that the negative index `-i` is equivalent to `len(t) - i`. The previous example is equivalent to the following code:\n",
    "\n",
    "```python\n",
    "t[len(t) - 3]\n",
    "```"
   ],
   "id": "850c04b0f059c5eb"
  },
  {
   "metadata": {
    "ExecuteTime": {
     "end_time": "2025-10-05T08:41:32.720336Z",
     "start_time": "2025-10-05T08:41:32.716331Z"
    }
   },
   "cell_type": "code",
   "source": "t[len(t) - 3]",
   "id": "96649478c4bd4a27",
   "outputs": [
    {
     "data": {
      "text/plain": [
       "8"
      ]
     },
     "execution_count": 8,
     "metadata": {},
     "output_type": "execute_result"
    }
   ],
   "execution_count": 8
  },
  {
   "metadata": {},
   "cell_type": "markdown",
   "source": [
    "Tuples can also be sliced. The general syntax of slicing is `start:stop` or `start:stop:step`, where `start` is the index of the first element to include, `stop` is the index of the first element to exclude, and `step` is the step size. If `start` is omitted, it defaults to `0`. If `stop` is omitted, it defaults to the length of the tuple. If `step` is omitted, it defaults to `1`. For example, the following code creates a slice of `t` from index `2` to `5` (exclusive):\n",
    "\n",
    "```python\n",
    "t[2:5]\n",
    "```"
   ],
   "id": "1c6a1d586313ad50"
  },
  {
   "metadata": {
    "ExecuteTime": {
     "end_time": "2025-10-05T08:41:32.768866Z",
     "start_time": "2025-10-05T08:41:32.765299Z"
    }
   },
   "cell_type": "code",
   "source": "t[2:5]",
   "id": "31fd5289a162f08c",
   "outputs": [
    {
     "data": {
      "text/plain": [
       "(3, 4, 5)"
      ]
     },
     "execution_count": 9,
     "metadata": {},
     "output_type": "execute_result"
    }
   ],
   "execution_count": 9
  },
  {
   "metadata": {},
   "cell_type": "markdown",
   "source": [
    "Here is another example that creates a slice of `t` from index `1` to `7` (exclusive) with a step size of `2`:\n",
    "\n",
    "```python\n",
    "t[1:7:2]\n",
    "```"
   ],
   "id": "caad313791e2453"
  },
  {
   "metadata": {
    "ExecuteTime": {
     "end_time": "2025-10-05T08:41:32.824777Z",
     "start_time": "2025-10-05T08:41:32.820228Z"
    }
   },
   "cell_type": "code",
   "source": "t[1:7:2]",
   "id": "779eadd1941c5f51",
   "outputs": [
    {
     "data": {
      "text/plain": [
       "(2, 4, 6)"
      ]
     },
     "execution_count": 10,
     "metadata": {},
     "output_type": "execute_result"
    }
   ],
   "execution_count": 10
  },
  {
   "metadata": {},
   "cell_type": "markdown",
   "source": [
    "Especially, the following code gives us a reversed version of `t`:\n",
    "\n",
    "```python\n",
    "t[::-1]\n",
    "```"
   ],
   "id": "988c4cf79c2ffc60"
  },
  {
   "metadata": {
    "ExecuteTime": {
     "end_time": "2025-10-05T08:41:32.867524Z",
     "start_time": "2025-10-05T08:41:32.861342Z"
    }
   },
   "cell_type": "code",
   "source": "t[::-1]",
   "id": "6154fb92e5eaa762",
   "outputs": [
    {
     "data": {
      "text/plain": [
       "(10, 9, 8, 7, 6, 5, 4, 3, 2, 1)"
      ]
     },
     "execution_count": 11,
     "metadata": {},
     "output_type": "execute_result"
    }
   ],
   "execution_count": 11
  },
  {
   "metadata": {},
   "cell_type": "markdown",
   "source": [
    "Sometimes we need to extract some elements from a tuple and assign them to some variables. This operation can be done by the following syntax:\n",
    "\n",
    "```python\n",
    "one, _, three, four, _ = t1\n",
    "one, three, four\n",
    "```"
   ],
   "id": "266d66d8d4065aa8"
  },
  {
   "metadata": {
    "ExecuteTime": {
     "end_time": "2025-10-05T08:41:32.894842Z",
     "start_time": "2025-10-05T08:41:32.890554Z"
    }
   },
   "cell_type": "code",
   "source": [
    "one, _, three, four, _ = t1\n",
    "one, three, four"
   ],
   "id": "d5e6663b3ce3c828",
   "outputs": [
    {
     "data": {
      "text/plain": [
       "(1, 3, 4)"
      ]
     },
     "execution_count": 12,
     "metadata": {},
     "output_type": "execute_result"
    }
   ],
   "execution_count": 12
  },
  {
   "metadata": {},
   "cell_type": "markdown",
   "source": [
    "Expanding the values of `t1` (in the form without parentheses), we can see what happens in the previous example. It is actually equivalent to `one, _, three, four, _ = 1, 2, 3, 4, 5`, which is [assigning multiple values to multiple variables](https://www.w3schools.com/python/python_variables_multiple.asp). The `_` items appeared in assignment are usually used to drop these values, even though `_` itself is a valid variable name.\n",
    "\n",
    "Combine the syntax of unpacking and multiple assignments, we can even extrack a specific number of elements from any tuple. For example, the following code extracts the first two elements of `t2` and drops the rest:\n",
    "\n",
    "```python\n",
    "six, seven, *_ = t2\n",
    "six, seven\n",
    "```"
   ],
   "id": "41c3ee868cfbf781"
  },
  {
   "metadata": {
    "ExecuteTime": {
     "end_time": "2025-10-05T08:41:32.935991Z",
     "start_time": "2025-10-05T08:41:32.932245Z"
    }
   },
   "cell_type": "code",
   "source": [
    "six, seven, *_ = t2\n",
    "six, seven"
   ],
   "id": "24dcac0f1e083455",
   "outputs": [
    {
     "data": {
      "text/plain": [
       "(6, 7)"
      ]
     },
     "execution_count": 13,
     "metadata": {},
     "output_type": "execute_result"
    }
   ],
   "execution_count": 13
  },
  {
   "metadata": {},
   "cell_type": "markdown",
   "source": [
    "Sometimes we want to keep the unpacked elements extracted from a tuple. To do this, give the unpacked elements a new name. For example, the following code divides `t` into three parts—the first element, the middle elements, and the last element:\n",
    "\n",
    "```python\n",
    "first, *middle, last = t\n",
    "first, middle, last\n",
    "```"
   ],
   "id": "97f3c232e1b913d1"
  },
  {
   "metadata": {
    "ExecuteTime": {
     "end_time": "2025-10-05T08:41:32.993970Z",
     "start_time": "2025-10-05T08:41:32.990477Z"
    }
   },
   "cell_type": "code",
   "source": [
    "first, *middle, last = t\n",
    "first, middle, last"
   ],
   "id": "18939d9bf5c99eb2",
   "outputs": [
    {
     "data": {
      "text/plain": [
       "(1, [2, 3, 4, 5, 6, 7, 8, 9], 10)"
      ]
     },
     "execution_count": 14,
     "metadata": {},
     "output_type": "execute_result"
    }
   ],
   "execution_count": 14
  },
  {
   "metadata": {},
   "cell_type": "markdown",
   "source": "See? The value of `middle` is surrounded by brackets (`[]`), which belongs to a new type that we will introduce next.",
   "id": "2715988a6be6a4d4"
  },
  {
   "metadata": {},
   "cell_type": "markdown",
   "source": [
    "### List\n",
    "\n",
    "List is a mutable sequence of objects, where \"mutable\" means that its elements can be changed. In Python code, you can use brackets (`[]`) to create a `list` object. For example, the following code creates a list of integers from `1` to `5`:\n",
    "\n",
    "```python\n",
    "l1 = [1, 2, 3, 4, 5]\n",
    "l1\n",
    "```"
   ],
   "id": "ed8f3646d9bafd01"
  },
  {
   "metadata": {
    "ExecuteTime": {
     "end_time": "2025-10-05T08:41:33.048743Z",
     "start_time": "2025-10-05T08:41:33.043718Z"
    }
   },
   "cell_type": "code",
   "source": [
    "l1 = [1, 2, 3, 4, 5]\n",
    "l1"
   ],
   "id": "76eae75225a14ffc",
   "outputs": [
    {
     "data": {
      "text/plain": [
       "[1, 2, 3, 4, 5]"
      ]
     },
     "execution_count": 15,
     "metadata": {},
     "output_type": "execute_result"
    }
   ],
   "execution_count": 15
  },
  {
   "metadata": {},
   "cell_type": "markdown",
   "source": [
    "List can also be created by unpacking another collection in brackets. For example, the following code creates a list of integers from the tuple `t2`:\n",
    "\n",
    "```python\n",
    "l2 = [*t2]\n",
    "l2\n",
    "```"
   ],
   "id": "7757d6874b551a7a"
  },
  {
   "metadata": {
    "ExecuteTime": {
     "end_time": "2025-10-05T08:41:33.102375Z",
     "start_time": "2025-10-05T08:41:33.098146Z"
    }
   },
   "cell_type": "code",
   "source": [
    "l2 = [*t2]\n",
    "l2"
   ],
   "id": "9fa90b357de6f1fe",
   "outputs": [
    {
     "data": {
      "text/plain": [
       "[6, 7, 8, 9, 10]"
      ]
     },
     "execution_count": 16,
     "metadata": {},
     "output_type": "execute_result"
    }
   ],
   "execution_count": 16
  },
  {
   "metadata": {},
   "cell_type": "markdown",
   "source": [
    "Check the type of `l1` and `l2`:\n",
    "\n",
    "```python\n",
    "type(l1), type(l2)\n",
    "```"
   ],
   "id": "e2d077c90255942"
  },
  {
   "metadata": {
    "ExecuteTime": {
     "end_time": "2025-10-05T08:41:33.134357Z",
     "start_time": "2025-10-05T08:41:33.130324Z"
    }
   },
   "cell_type": "code",
   "source": "type(l1), type(l2)",
   "id": "249e047bd43121ab",
   "outputs": [
    {
     "data": {
      "text/plain": [
       "(list, list)"
      ]
     },
     "execution_count": 17,
     "metadata": {},
     "output_type": "execute_result"
    }
   ],
   "execution_count": 17
  },
  {
   "metadata": {},
   "cell_type": "markdown",
   "source": [
    "Since `list` is also a collection type, most of the operations that can be applied to a tuple can also be applied to a list. Here are some examples:\n",
    "\n",
    "```python\n",
    "l = [*l1, *l2]\n",
    "l\n",
    "```"
   ],
   "id": "2538ace4f59f00b6"
  },
  {
   "metadata": {
    "ExecuteTime": {
     "end_time": "2025-10-05T08:41:33.170601Z",
     "start_time": "2025-10-05T08:41:33.166603Z"
    }
   },
   "cell_type": "code",
   "source": [
    "l = [*l1, *l2]\n",
    "l"
   ],
   "id": "17f2e07949a0d3f0",
   "outputs": [
    {
     "data": {
      "text/plain": [
       "[1, 2, 3, 4, 5, 6, 7, 8, 9, 10]"
      ]
     },
     "execution_count": 18,
     "metadata": {},
     "output_type": "execute_result"
    }
   ],
   "execution_count": 18
  },
  {
   "metadata": {},
   "cell_type": "markdown",
   "source": [
    "```python\n",
    "l[1], l[-3], l[2:5], l[1:7:2], l[::-1]\n",
    "```"
   ],
   "id": "7be2367bd0c86c2c"
  },
  {
   "metadata": {
    "ExecuteTime": {
     "end_time": "2025-10-05T08:41:33.209671Z",
     "start_time": "2025-10-05T08:41:33.205826Z"
    }
   },
   "cell_type": "code",
   "source": "l[1], l[-3], l[2:5], l[1:7:2], l[::-1]",
   "id": "37346c7ba10d7002",
   "outputs": [
    {
     "data": {
      "text/plain": [
       "(2, 8, [3, 4, 5], [2, 4, 6], [10, 9, 8, 7, 6, 5, 4, 3, 2, 1])"
      ]
     },
     "execution_count": 19,
     "metadata": {},
     "output_type": "execute_result"
    }
   ],
   "execution_count": 19
  },
  {
   "metadata": {},
   "cell_type": "markdown",
   "source": [
    "```python\n",
    "one, _, three, four, _ = l1\n",
    "one, three, four\n",
    "```"
   ],
   "id": "e4051e697dfa1819"
  },
  {
   "metadata": {
    "ExecuteTime": {
     "end_time": "2025-10-05T08:41:33.260765Z",
     "start_time": "2025-10-05T08:41:33.255248Z"
    }
   },
   "cell_type": "code",
   "source": [
    "one, _, three, four, _ = l1\n",
    "one, three, four"
   ],
   "id": "9d9c82edee938f21",
   "outputs": [
    {
     "data": {
      "text/plain": [
       "(1, 3, 4)"
      ]
     },
     "execution_count": 20,
     "metadata": {},
     "output_type": "execute_result"
    }
   ],
   "execution_count": 20
  },
  {
   "metadata": {},
   "cell_type": "markdown",
   "source": [
    "```python\n",
    "six, seven, *_ = l2\n",
    "six, seven\n",
    "```"
   ],
   "id": "637d89d4dfd46ba6"
  },
  {
   "metadata": {
    "ExecuteTime": {
     "end_time": "2025-10-05T08:41:33.313706Z",
     "start_time": "2025-10-05T08:41:33.309194Z"
    }
   },
   "cell_type": "code",
   "source": [
    "six, seven, *_ = l2\n",
    "six, seven"
   ],
   "id": "66d4c92855580053",
   "outputs": [
    {
     "data": {
      "text/plain": [
       "(6, 7)"
      ]
     },
     "execution_count": 21,
     "metadata": {},
     "output_type": "execute_result"
    }
   ],
   "execution_count": 21
  },
  {
   "metadata": {},
   "cell_type": "markdown",
   "source": [
    "```python\n",
    "first, *middle, last = l\n",
    "first, middle, last\n",
    "```"
   ],
   "id": "f02e9e462c7f197"
  },
  {
   "metadata": {
    "ExecuteTime": {
     "end_time": "2025-10-05T08:41:33.337757Z",
     "start_time": "2025-10-05T08:41:33.333041Z"
    }
   },
   "cell_type": "code",
   "source": [
    "first, *middle, last = l\n",
    "first, middle, last"
   ],
   "id": "c01b7dfa37da54fa",
   "outputs": [
    {
     "data": {
      "text/plain": [
       "(1, [2, 3, 4, 5, 6, 7, 8, 9], 10)"
      ]
     },
     "execution_count": 22,
     "metadata": {},
     "output_type": "execute_result"
    }
   ],
   "execution_count": 22
  },
  {
   "metadata": {},
   "cell_type": "markdown",
   "source": [
    "As a **mutable** sequence, `list` has a bunch of **methods** (which are functions binding to a specific type) that can be used to manipulate its elements. For example, the `append()` method appends an element to the end of `l`:\n",
    "\n",
    "```python\n",
    "l.append(11)\n",
    "l\n",
    "```"
   ],
   "id": "615d8edf9353af45"
  },
  {
   "metadata": {
    "ExecuteTime": {
     "end_time": "2025-10-05T08:41:33.369909Z",
     "start_time": "2025-10-05T08:41:33.366381Z"
    }
   },
   "cell_type": "code",
   "source": [
    "l.append(11)\n",
    "l"
   ],
   "id": "b8c607332249cf7e",
   "outputs": [
    {
     "data": {
      "text/plain": [
       "[1, 2, 3, 4, 5, 6, 7, 8, 9, 10, 11]"
      ]
     },
     "execution_count": 23,
     "metadata": {},
     "output_type": "execute_result"
    }
   ],
   "execution_count": 23
  },
  {
   "metadata": {},
   "cell_type": "markdown",
   "source": [
    "Here, `append()` is a method of `list` type, which should be called from an instance of `list`. The `pop()` method removes and returns an element from the end of `l`, defaulting to the last element if `index` is not specified:\n",
    "\n",
    "```python\n",
    "l.pop()\n",
    "```"
   ],
   "id": "5039bfea4590462a"
  },
  {
   "metadata": {
    "ExecuteTime": {
     "end_time": "2025-10-05T08:41:33.395364Z",
     "start_time": "2025-10-05T08:41:33.391194Z"
    }
   },
   "cell_type": "code",
   "source": "l.pop()",
   "id": "c20ee0333a770a62",
   "outputs": [
    {
     "data": {
      "text/plain": [
       "11"
      ]
     },
     "execution_count": 24,
     "metadata": {},
     "output_type": "execute_result"
    }
   ],
   "execution_count": 24
  },
  {
   "metadata": {},
   "cell_type": "markdown",
   "source": [
    "Check values of `l` after popped:\n",
    "\n",
    "```python\n",
    "l\n",
    "```"
   ],
   "id": "2f80077ac82daad6"
  },
  {
   "metadata": {
    "ExecuteTime": {
     "end_time": "2025-10-05T08:41:33.418248Z",
     "start_time": "2025-10-05T08:41:33.414763Z"
    }
   },
   "cell_type": "code",
   "source": "l",
   "id": "79bb614caec55852",
   "outputs": [
    {
     "data": {
      "text/plain": [
       "[1, 2, 3, 4, 5, 6, 7, 8, 9, 10]"
      ]
     },
     "execution_count": 25,
     "metadata": {},
     "output_type": "execute_result"
    }
   ],
   "execution_count": 25
  },
  {
   "metadata": {},
   "cell_type": "markdown",
   "source": [
    "This time, we specify the index of the element to be removed:\n",
    "\n",
    "```python\n",
    "l.pop(3)\n",
    "```"
   ],
   "id": "5dcd556b72c719a7"
  },
  {
   "metadata": {
    "ExecuteTime": {
     "end_time": "2025-10-05T08:41:33.442618Z",
     "start_time": "2025-10-05T08:41:33.439612Z"
    }
   },
   "cell_type": "code",
   "source": "l.pop(3)",
   "id": "209bec70c344f12f",
   "outputs": [
    {
     "data": {
      "text/plain": [
       "4"
      ]
     },
     "execution_count": 26,
     "metadata": {},
     "output_type": "execute_result"
    }
   ],
   "execution_count": 26
  },
  {
   "metadata": {},
   "cell_type": "markdown",
   "source": [
    "Check values of `l` again:\n",
    "\n",
    "```python\n",
    "l\n",
    "```"
   ],
   "id": "6a3886813fe85aed"
  },
  {
   "metadata": {
    "ExecuteTime": {
     "end_time": "2025-10-05T08:41:33.470514Z",
     "start_time": "2025-10-05T08:41:33.465145Z"
    }
   },
   "cell_type": "code",
   "source": "l",
   "id": "9f77e0f23d59f62",
   "outputs": [
    {
     "data": {
      "text/plain": [
       "[1, 2, 3, 5, 6, 7, 8, 9, 10]"
      ]
     },
     "execution_count": 27,
     "metadata": {},
     "output_type": "execute_result"
    }
   ],
   "execution_count": 27
  },
  {
   "metadata": {},
   "cell_type": "markdown",
   "source": [
    "Correspondingly, `insert()` method inserts an element at a specified position, which is called as `insert(index, element)`:\n",
    "\n",
    "```python\n",
    "l.insert(3, 4)\n",
    "l\n",
    "```"
   ],
   "id": "a524a78de1ef7f93"
  },
  {
   "metadata": {
    "ExecuteTime": {
     "end_time": "2025-10-05T08:41:33.493610Z",
     "start_time": "2025-10-05T08:41:33.490235Z"
    }
   },
   "cell_type": "code",
   "source": [
    "l.insert(3, 4)\n",
    "l"
   ],
   "id": "fc989cbd46c637fa",
   "outputs": [
    {
     "data": {
      "text/plain": [
       "[1, 2, 3, 4, 5, 6, 7, 8, 9, 10]"
      ]
     },
     "execution_count": 28,
     "metadata": {},
     "output_type": "execute_result"
    }
   ],
   "execution_count": 28
  },
  {
   "metadata": {},
   "cell_type": "markdown",
   "source": "List also supports more operations of [mutable sequence types](https://docs.python.org/3/library/stdtypes.html#mutable-sequence-types), which are listed in the document just linked to.",
   "id": "74111ce9a466e455"
  },
  {
   "metadata": {},
   "cell_type": "markdown",
   "source": [
    "### String\n",
    "\n",
    "String is an immutable sequence of characters with a bunch of unique methods to handle string-related operations. In Python code, you can use single quotes (`'`) or double quotes (`\"`) to create a `str` object. For example:\n",
    "\n",
    "```python\n",
    "sport = 'snooker'\n",
    "score = \"147\"\n",
    "\n",
    "sport, score\n",
    "```"
   ],
   "id": "352db79434c460c9"
  },
  {
   "metadata": {
    "ExecuteTime": {
     "end_time": "2025-10-05T08:41:33.524888Z",
     "start_time": "2025-10-05T08:41:33.520390Z"
    }
   },
   "cell_type": "code",
   "source": [
    "sport = 'snooker'\n",
    "score = \"147\"\n",
    "\n",
    "sport, score"
   ],
   "id": "93383dd1a17de40e",
   "outputs": [
    {
     "data": {
      "text/plain": [
       "('snooker', '147')"
      ]
     },
     "execution_count": 29,
     "metadata": {},
     "output_type": "execute_result"
    }
   ],
   "execution_count": 29
  },
  {
   "metadata": {},
   "cell_type": "markdown",
   "source": [
    "You may notice that no matter which quote you use to create a string, Python always represents it using single quotes by default. Now check the type of these two strings:\n",
    "\n",
    "```python\n",
    "type(sport), type(score)\n",
    "```"
   ],
   "id": "d1a339e33f46b2e3"
  },
  {
   "metadata": {
    "ExecuteTime": {
     "end_time": "2025-10-05T08:41:33.552123Z",
     "start_time": "2025-10-05T08:41:33.547935Z"
    }
   },
   "cell_type": "code",
   "source": "type(sport), type(score)",
   "id": "a7998ed2c645d01e",
   "outputs": [
    {
     "data": {
      "text/plain": [
       "(str, str)"
      ]
     },
     "execution_count": 30,
     "metadata": {},
     "output_type": "execute_result"
    }
   ],
   "execution_count": 30
  },
  {
   "metadata": {},
   "cell_type": "markdown",
   "source": [
    "As a sequence type, the uniqueness of `str` is that its elements also belong to the `str` type. Actually, Python does not have a builtin character type. Check the characters extracted from the previous example:\n",
    "\n",
    "```python\n",
    "type(sport[1]), type(score[-3])\n",
    "```"
   ],
   "id": "fa8badcf4c0835e8"
  },
  {
   "metadata": {
    "ExecuteTime": {
     "end_time": "2025-10-05T08:41:33.593422Z",
     "start_time": "2025-10-05T08:41:33.589911Z"
    }
   },
   "cell_type": "code",
   "source": "type(sport[1]), type(score[-3])",
   "id": "d3d3c5ac01641cbe",
   "outputs": [
    {
     "data": {
      "text/plain": [
       "(str, str)"
      ]
     },
     "execution_count": 31,
     "metadata": {},
     "output_type": "execute_result"
    }
   ],
   "execution_count": 31
  },
  {
   "metadata": {},
   "cell_type": "markdown",
   "source": [
    "To create a string with multiple lines, you can use triple quotes (`'''` or `\"\"\"`). For example:\n",
    "\n",
    "```python\n",
    "ms1 = '''Multi-line string with\n",
    "three single quotes.'''\n",
    "ms2 = \"\"\"Multi-line string with\n",
    "three double quotes.\"\"\"\n",
    "\n",
    "ms1, ms2\n",
    "```"
   ],
   "id": "354a172671767d4b"
  },
  {
   "metadata": {
    "ExecuteTime": {
     "end_time": "2025-10-05T08:41:33.620304Z",
     "start_time": "2025-10-05T08:41:33.616298Z"
    }
   },
   "cell_type": "code",
   "source": [
    "ms1 = '''Multi-line string with\n",
    "three single quotes.'''\n",
    "ms2 = \"\"\"Multi-line string with\n",
    "three double quotes.\"\"\"\n",
    "\n",
    "ms1, ms2"
   ],
   "id": "465ec02ef267da11",
   "outputs": [
    {
     "data": {
      "text/plain": [
       "('Multi-line string with\\nthree single quotes.',\n",
       " 'Multi-line string with\\nthree double quotes.')"
      ]
     },
     "execution_count": 32,
     "metadata": {},
     "output_type": "execute_result"
    }
   ],
   "execution_count": 32
  },
  {
   "metadata": {},
   "cell_type": "markdown",
   "source": [
    "The `\\n` in the output is the **escape sequence** of line break in Python, where `\\` is the [escape character](https://en.wikipedia.org/wiki/Escape_character). To display a multi-line string properly, you can print it out:\n",
    "\n",
    "```python\n",
    "print(ms1)\n",
    "print(ms2)\n",
    "```"
   ],
   "id": "51460c4f30733193"
  },
  {
   "metadata": {
    "ExecuteTime": {
     "end_time": "2025-10-05T08:41:33.654117Z",
     "start_time": "2025-10-05T08:41:33.648729Z"
    }
   },
   "cell_type": "code",
   "source": [
    "print(ms1)\n",
    "print(ms2)"
   ],
   "id": "93323555eb9d4f63",
   "outputs": [
    {
     "name": "stdout",
     "output_type": "stream",
     "text": [
      "Multi-line string with\n",
      "three single quotes.\n",
      "Multi-line string with\n",
      "three double quotes.\n"
     ]
    }
   ],
   "execution_count": 33
  },
  {
   "metadata": {},
   "cell_type": "markdown",
   "source": [
    "Python also supports other escape sequences. For example, when we want to use a single quote in a single-quoted string (or a double quote in a double-quoted string), we can use the escape sequence `\\` followed by the quote character:\n",
    "\n",
    "```python\n",
    "print('I\\'m a single quote.')\n",
    "print(\"He says, \\\"I'm a double quote.\\\"\")\n",
    "```"
   ],
   "id": "865272ef5961253d"
  },
  {
   "metadata": {
    "ExecuteTime": {
     "end_time": "2025-10-05T08:41:33.675222Z",
     "start_time": "2025-10-05T08:41:33.671490Z"
    }
   },
   "cell_type": "code",
   "source": [
    "print('I\\'m a single quote.')\n",
    "print(\"He says, \\\"I'm a double quote.\\\"\")"
   ],
   "id": "a22aeae38242107f",
   "outputs": [
    {
     "name": "stdout",
     "output_type": "stream",
     "text": [
      "I'm a single quote.\n",
      "He says, \"I'm a double quote.\"\n"
     ]
    }
   ],
   "execution_count": 34
  },
  {
   "metadata": {},
   "cell_type": "markdown",
   "source": "When we want to display a backslash in a string, we can use the escape sequence `\\\\` to escape the backslash itself. For example, the Python string converted from the LaTeX code of $\\frac{1}{2}$ should be like this:",
   "id": "60740cc37971f913"
  },
  {
   "metadata": {
    "ExecuteTime": {
     "end_time": "2025-10-05T08:41:33.719450Z",
     "start_time": "2025-10-05T08:41:33.714880Z"
    }
   },
   "cell_type": "code",
   "source": "'\\\\frac{1}{2}'",
   "id": "1cbe3eabfba068d1",
   "outputs": [
    {
     "data": {
      "text/plain": [
       "'\\\\frac{1}{2}'"
      ]
     },
     "execution_count": 35,
     "metadata": {},
     "output_type": "execute_result"
    }
   ],
   "execution_count": 35
  },
  {
   "metadata": {},
   "cell_type": "markdown",
   "source": [
    "However, too many escape sequences can make the code hard to read. To avoid this, you can use the [raw string](https://docs.python.org/3/reference/lexical_analysis.html#string-and-bytes-literals) syntax, which is defined by the prefix `r` before the quote character. For example, $e^{i\\omega t} = \\cos{\\omega t} + i\\sin{\\omega t}$ can be represented as:\n",
    "\n",
    "```python\n",
    "r'e^{i\\omega t} = \\cos{\\omega t} + i\\sin{\\omega t}'\n",
    "```"
   ],
   "id": "911e5031b62b649"
  },
  {
   "metadata": {
    "ExecuteTime": {
     "end_time": "2025-10-05T08:41:33.741950Z",
     "start_time": "2025-10-05T08:41:33.738402Z"
    }
   },
   "cell_type": "code",
   "source": "r'e^{i\\omega t} = \\cos{\\omega t} + i\\sin{\\omega t}'",
   "id": "ab6691a04309f364",
   "outputs": [
    {
     "data": {
      "text/plain": [
       "'e^{i\\\\omega t} = \\\\cos{\\\\omega t} + i\\\\sin{\\\\omega t}'"
      ]
     },
     "execution_count": 36,
     "metadata": {},
     "output_type": "execute_result"
    }
   ],
   "execution_count": 36
  },
  {
   "metadata": {},
   "cell_type": "markdown",
   "source": [
    "There are many unique methods of `str` type, which are listed in the [document](https://docs.python.org/3/library/stdtypes.html#string-methods). For example, the `upper()` method converts all characters in a string to uppercase:\n",
    "\n",
    "```python\n",
    "sport.upper()\n",
    "```"
   ],
   "id": "9ccc004668e5715d"
  },
  {
   "metadata": {
    "ExecuteTime": {
     "end_time": "2025-10-05T08:41:33.766249Z",
     "start_time": "2025-10-05T08:41:33.762243Z"
    }
   },
   "cell_type": "code",
   "source": "sport.upper()",
   "id": "3a6f6cd870f424c9",
   "outputs": [
    {
     "data": {
      "text/plain": [
       "'SNOOKER'"
      ]
     },
     "execution_count": 37,
     "metadata": {},
     "output_type": "execute_result"
    }
   ],
   "execution_count": 37
  },
  {
   "metadata": {},
   "cell_type": "markdown",
   "source": [
    "Since `str` is immutable, these methods return a new string instead of modifying the original string. You can check the original string:\n",
    "\n",
    "```python\n",
    "sport\n",
    "```"
   ],
   "id": "f246bdbd59975761"
  },
  {
   "metadata": {
    "ExecuteTime": {
     "end_time": "2025-10-05T08:41:33.786056Z",
     "start_time": "2025-10-05T08:41:33.782545Z"
    }
   },
   "cell_type": "code",
   "source": "sport",
   "id": "f88e82ecc66b6797",
   "outputs": [
    {
     "data": {
      "text/plain": [
       "'snooker'"
      ]
     },
     "execution_count": 38,
     "metadata": {},
     "output_type": "execute_result"
    }
   ],
   "execution_count": 38
  },
  {
   "metadata": {},
   "cell_type": "markdown",
   "source": "Now let's turn our attention to the most powerful feature of strings—[formatting](https://docs.python.org/3/reference/lexical_analysis.html#string-and-bytes-literals). For example, let's format a string to describe the maximum score of snooker:",
   "id": "38dd2e7826969d87"
  },
  {
   "metadata": {
    "ExecuteTime": {
     "end_time": "2025-10-05T08:41:33.808340Z",
     "start_time": "2025-10-05T08:41:33.804822Z"
    }
   },
   "cell_type": "code",
   "source": "f'The maximum score of {sport} is {score}'",
   "id": "2eb1fadef5a3284b",
   "outputs": [
    {
     "data": {
      "text/plain": [
       "'The maximum score of snooker is 147'"
      ]
     },
     "execution_count": 39,
     "metadata": {},
     "output_type": "execute_result"
    }
   ],
   "execution_count": 39
  },
  {
   "metadata": {},
   "cell_type": "markdown",
   "source": [
    "To display braces (`{}`) in an f-string, we can use the unique escape sequence `{{` and `}}`. Using LaTeX code $\\hat{H}_{ij} = E(i^2 + j^2)$ as an example, we have\n",
    "\n",
    "```python\n",
    "H = r'\\hat{H}'\n",
    "E = 11.4514\n",
    "\n",
    "f'{H}_{{ij}} = {E:.2f}(i^2 + j^2)'\n",
    "```"
   ],
   "id": "b0598e24cdeab2d5"
  },
  {
   "metadata": {
    "ExecuteTime": {
     "end_time": "2025-10-05T08:41:33.833563Z",
     "start_time": "2025-10-05T08:41:33.829354Z"
    }
   },
   "cell_type": "code",
   "source": [
    "H = r'\\hat{H}'\n",
    "E = 11.4514\n",
    "\n",
    "f'{H}_{{ij}} = {E:.2f}(i^2 + j^2)'"
   ],
   "id": "9d628ab80039b069",
   "outputs": [
    {
     "data": {
      "text/plain": [
       "'\\\\hat{H}_{ij} = 11.45(i^2 + j^2)'"
      ]
     },
     "execution_count": 40,
     "metadata": {},
     "output_type": "execute_result"
    }
   ],
   "execution_count": 40
  },
  {
   "metadata": {},
   "cell_type": "markdown",
   "source": [
    "### Range\n",
    "\n",
    "Range is a collection of integers like a slice, which means that `range(start, stop, step)` creates a range of integers from `start` to `stop` with a step of `step`, like the indices of slice `start:stop:step`. For example:\n",
    "\n",
    "```python\n",
    "range(1, 10, 3)\n",
    "```"
   ],
   "id": "6ae11aa04496a8ed"
  },
  {
   "metadata": {
    "ExecuteTime": {
     "end_time": "2025-10-05T08:41:33.854311Z",
     "start_time": "2025-10-05T08:41:33.850706Z"
    }
   },
   "cell_type": "code",
   "source": "range(1, 10, 3)",
   "id": "adc1088b4af15366",
   "outputs": [
    {
     "data": {
      "text/plain": [
       "range(1, 10, 3)"
      ]
     },
     "execution_count": 41,
     "metadata": {},
     "output_type": "execute_result"
    }
   ],
   "execution_count": 41
  },
  {
   "metadata": {},
   "cell_type": "markdown",
   "source": [
    "However, unlike other collection types, we cannot see the elements of a range directly. One of the ways to get the elements of a range is to dump it into a list:\n",
    "\n",
    "```python\n",
    "[*range(1, 10, 3)]\n",
    "```"
   ],
   "id": "d54311ad5c4bc003"
  },
  {
   "metadata": {
    "ExecuteTime": {
     "end_time": "2025-10-05T08:41:33.874294Z",
     "start_time": "2025-10-05T08:41:33.870293Z"
    }
   },
   "cell_type": "code",
   "source": "[*range(1, 10, 3)]",
   "id": "f60affa7a2d53687",
   "outputs": [
    {
     "data": {
      "text/plain": [
       "[1, 4, 7]"
      ]
     },
     "execution_count": 42,
     "metadata": {},
     "output_type": "execute_result"
    }
   ],
   "execution_count": 42
  },
  {
   "metadata": {},
   "cell_type": "markdown",
   "source": "If we want to create a nonempty range of negative `step`, we should make sure that the `start` is larger than `stop`.",
   "id": "6e3dbb6a12346fb6"
  },
  {
   "metadata": {
    "ExecuteTime": {
     "end_time": "2025-10-05T08:41:33.898916Z",
     "start_time": "2025-10-05T08:41:33.895759Z"
    }
   },
   "cell_type": "code",
   "source": "[*range(10, 1, -3)]",
   "id": "8a53f1678c0e5d55",
   "outputs": [
    {
     "data": {
      "text/plain": [
       "[10, 7, 4]"
      ]
     },
     "execution_count": 43,
     "metadata": {},
     "output_type": "execute_result"
    }
   ],
   "execution_count": 43
  },
  {
   "metadata": {},
   "cell_type": "markdown",
   "source": [
    "### Set\n",
    "\n",
    "Set is an unordered collection of unique elements. In Python code, you can use braces (`{}`) to create a `set` object. For example, the following code creates a set of powers of prime numbers within `20`:\n",
    "\n",
    "```python\n",
    "s1 = {2**0, 2**1, 2**2, 2**3, 2**4, 3**0, 3**1, 3**2, 5**0, 5**1}\n",
    "s1\n",
    "```"
   ],
   "id": "7688813b429b3e33"
  },
  {
   "metadata": {
    "ExecuteTime": {
     "end_time": "2025-10-05T08:41:33.925536Z",
     "start_time": "2025-10-05T08:41:33.922021Z"
    }
   },
   "cell_type": "code",
   "source": [
    "s1 = {2**0, 2**1, 2**2, 2**3, 2**4, 3**0, 3**1, 3**2, 5**0, 5**1}\n",
    "s1"
   ],
   "id": "3c76ff1f9afa81d1",
   "outputs": [
    {
     "data": {
      "text/plain": [
       "{1, 2, 3, 4, 5, 8, 9, 16}"
      ]
     },
     "execution_count": 44,
     "metadata": {},
     "output_type": "execute_result"
    }
   ],
   "execution_count": 44
  },
  {
   "metadata": {},
   "cell_type": "markdown",
   "source": [
    "Note that the set will merge duplicate elements such as `2**0`, `3**0`, and `5**0`. Unpacking another collection into a set is also supported:\n",
    "\n",
    "```python\n",
    "s2 = {*t2}\n",
    "s2\n",
    "```"
   ],
   "id": "381a6e33878d04d"
  },
  {
   "metadata": {
    "ExecuteTime": {
     "end_time": "2025-10-05T08:41:33.950253Z",
     "start_time": "2025-10-05T08:41:33.945645Z"
    }
   },
   "cell_type": "code",
   "source": [
    "s2 = {*t2}\n",
    "s2"
   ],
   "id": "6105238d96355351",
   "outputs": [
    {
     "data": {
      "text/plain": [
       "{6, 7, 8, 9, 10}"
      ]
     },
     "execution_count": 45,
     "metadata": {},
     "output_type": "execute_result"
    }
   ],
   "execution_count": 45
  },
  {
   "metadata": {},
   "cell_type": "markdown",
   "source": [
    "The `set` type has the following methods to support set operations, including `union()`, `intersection()`, and `difference()`:\n",
    "\n",
    "```python\n",
    "s1.union(s2)\n",
    "```"
   ],
   "id": "1289eb5b92c8dca6"
  },
  {
   "metadata": {
    "ExecuteTime": {
     "end_time": "2025-10-05T08:41:33.974113Z",
     "start_time": "2025-10-05T08:41:33.970386Z"
    }
   },
   "cell_type": "code",
   "source": "s1.union(s2)",
   "id": "4ebc29c45bf1a7bd",
   "outputs": [
    {
     "data": {
      "text/plain": [
       "{1, 2, 3, 4, 5, 6, 7, 8, 9, 10, 16}"
      ]
     },
     "execution_count": 46,
     "metadata": {},
     "output_type": "execute_result"
    }
   ],
   "execution_count": 46
  },
  {
   "metadata": {},
   "cell_type": "markdown",
   "source": [
    "```python\n",
    "s1.intersection(s2)\n",
    "```"
   ],
   "id": "f49fe1edfc0b251c"
  },
  {
   "metadata": {
    "ExecuteTime": {
     "end_time": "2025-10-05T08:41:33.995870Z",
     "start_time": "2025-10-05T08:41:33.992708Z"
    }
   },
   "cell_type": "code",
   "source": "s1.intersection(s2)",
   "id": "bde14932e06eb675",
   "outputs": [
    {
     "data": {
      "text/plain": [
       "{8, 9}"
      ]
     },
     "execution_count": 47,
     "metadata": {},
     "output_type": "execute_result"
    }
   ],
   "execution_count": 47
  },
  {
   "metadata": {},
   "cell_type": "markdown",
   "source": [
    "```python\n",
    "s1.difference(s2)\n",
    "```"
   ],
   "id": "e3dcee3b659130e6"
  },
  {
   "metadata": {
    "ExecuteTime": {
     "end_time": "2025-10-05T08:41:34.021551Z",
     "start_time": "2025-10-05T08:41:34.018002Z"
    }
   },
   "cell_type": "code",
   "source": "s1.difference(s2)",
   "id": "b06523560eef4d90",
   "outputs": [
    {
     "data": {
      "text/plain": [
       "{1, 2, 3, 4, 5, 16}"
      ]
     },
     "execution_count": 48,
     "metadata": {},
     "output_type": "execute_result"
    }
   ],
   "execution_count": 48
  },
  {
   "metadata": {},
   "cell_type": "markdown",
   "source": [
    "### Dictionary\n",
    "\n",
    "Dictionary is a mutable collection of key-value pairs. In Python code, you can use braces (`{}`) to create a `dict` object. Different from `set`, the elements of a dictionary are in the form of `key: value`. For example, the following code creates a dictionary of students' names and grades:"
   ],
   "id": "a52497edb91bd64"
  },
  {
   "metadata": {
    "ExecuteTime": {
     "end_time": "2025-10-05T08:41:34.044021Z",
     "start_time": "2025-10-05T08:41:34.040702Z"
    }
   },
   "cell_type": "code",
   "source": [
    "d = {'Alice': 95, 'Bob': 85, 'Charlie': 75}\n",
    "d"
   ],
   "id": "17d68072c165b366",
   "outputs": [
    {
     "data": {
      "text/plain": [
       "{'Alice': 95, 'Bob': 85, 'Charlie': 75}"
      ]
     },
     "execution_count": 49,
     "metadata": {},
     "output_type": "execute_result"
    }
   ],
   "execution_count": 49
  },
  {
   "metadata": {},
   "cell_type": "markdown",
   "source": "To access the value of a key, you can use the indexing syntax `dict[key]`:",
   "id": "b0644030b90cf874"
  },
  {
   "metadata": {
    "ExecuteTime": {
     "end_time": "2025-10-05T08:41:34.068188Z",
     "start_time": "2025-10-05T08:41:34.064595Z"
    }
   },
   "cell_type": "code",
   "source": "d['Alice'], d['Bob']",
   "id": "ec922c14863752a5",
   "outputs": [
    {
     "data": {
      "text/plain": [
       "(95, 85)"
      ]
     },
     "execution_count": 50,
     "metadata": {},
     "output_type": "execute_result"
    }
   ],
   "execution_count": 50
  },
  {
   "metadata": {},
   "cell_type": "markdown",
   "source": [
    "Since `dict` is mutable, you can also modify the value of a key by the assignment syntax:\n",
    "\n",
    "```python\n",
    "d['Alice'] = 100\n",
    "d\n",
    "```"
   ],
   "id": "8bcaf1560346ec75"
  },
  {
   "metadata": {
    "ExecuteTime": {
     "end_time": "2025-10-05T08:41:34.095777Z",
     "start_time": "2025-10-05T08:41:34.092887Z"
    }
   },
   "cell_type": "code",
   "source": [
    "d['Alice'] = 100\n",
    "d"
   ],
   "id": "77d97e89c7e46c78",
   "outputs": [
    {
     "data": {
      "text/plain": [
       "{'Alice': 100, 'Bob': 85, 'Charlie': 75}"
      ]
     },
     "execution_count": 51,
     "metadata": {},
     "output_type": "execute_result"
    }
   ],
   "execution_count": 51
  },
  {
   "metadata": {},
   "cell_type": "markdown",
   "source": [
    "Appending a new key-value pair to a dictionary also uses the assignment syntax:\n",
    "\n",
    "```python\n",
    "d['David'] = 65\n",
    "d\n",
    "```"
   ],
   "id": "26e24b97c5e52588"
  },
  {
   "metadata": {
    "ExecuteTime": {
     "end_time": "2025-10-05T08:41:34.180693Z",
     "start_time": "2025-10-05T08:41:34.176934Z"
    }
   },
   "cell_type": "code",
   "source": [
    "d['David'] = 65\n",
    "d"
   ],
   "id": "396c373fed395cd8",
   "outputs": [
    {
     "data": {
      "text/plain": [
       "{'Alice': 100, 'Bob': 85, 'Charlie': 75, 'David': 65}"
      ]
     },
     "execution_count": 52,
     "metadata": {},
     "output_type": "execute_result"
    }
   ],
   "execution_count": 52
  },
  {
   "metadata": {},
   "cell_type": "markdown",
   "source": [
    "## Control Flows\n",
    "\n",
    "Control flows are the basic building blocks of programming. They help you to organize your code and make it more readable.\n",
    "The most common control flows are `if`, `while`, and `for` statements.\n",
    "\n",
    "### Conditional Statements (`if`)\n",
    "\n",
    "The `if` statement is used to execute a block of code if a certain condition is met. This statement uses the `if` keyword, followed by an expression of type `bool` as the condition. For example, the following code prints `n is even` if the integer `n` is divisible by `2`:\n",
    "\n",
    "```python\n",
    "n = ...\n",
    "\n",
    "if n % 2 == 0:\n",
    "    print('n is even')\n",
    "```\n",
    "\n",
    "Replace `...` with an integer value and run the code to see the result."
   ],
   "id": "ec60f37c26de6da5"
  },
  {
   "metadata": {
    "ExecuteTime": {
     "end_time": "2025-10-05T08:41:34.372655Z",
     "start_time": "2025-10-05T08:41:34.369146Z"
    }
   },
   "cell_type": "code",
   "source": [
    "n = 2\n",
    "\n",
    "if n % 2 == 0:\n",
    "    print('n is even')"
   ],
   "id": "487ad1b2762a77a",
   "outputs": [
    {
     "name": "stdout",
     "output_type": "stream",
     "text": [
      "n is even\n"
     ]
    }
   ],
   "execution_count": 53
  },
  {
   "metadata": {},
   "cell_type": "markdown",
   "source": [
    "Sometimes we want to execute different blocks of code depending on whether the condiction is met. In this case, we can use the `if`-`else` statement. For example, in the previous example, if we want to print out the case where `n is odd`, we can add the `else` statement as follows:\n",
    "\n",
    "```python\n",
    "n = ...\n",
    "\n",
    "if n % 2 == 0:\n",
    "    print('n is even')\n",
    "else:\n",
    "    print('n is odd')\n",
    "```"
   ],
   "id": "83d23d034e534cd5"
  },
  {
   "metadata": {
    "ExecuteTime": {
     "end_time": "2025-10-05T08:41:34.443086Z",
     "start_time": "2025-10-05T08:41:34.438027Z"
    }
   },
   "cell_type": "code",
   "source": [
    "n = 1\n",
    "\n",
    "if n % 2 == 0:\n",
    "    print('n is even')\n",
    "else:\n",
    "    print('n is odd')"
   ],
   "id": "4b7f2e807b1bd2be",
   "outputs": [
    {
     "name": "stdout",
     "output_type": "stream",
     "text": [
      "n is odd\n"
     ]
    }
   ],
   "execution_count": 54
  },
  {
   "metadata": {},
   "cell_type": "markdown",
   "source": [
    "In more complex cases, we need to provide different blocks of code for <u>multiple</u> conditions. The `elif` statement is used for this purpose, which can be considered as an abbreviation of `else if` in other programming languages.\n",
    "For example, the following code prints whether `n` is positive, negative, or zero:\n",
    "\n",
    "```python\n",
    "n = ...\n",
    "\n",
    "if n > 0:\n",
    "    print('n is positive')\n",
    "elif n < 0:\n",
    "    print('n is negative')\n",
    "else:\n",
    "    print('n is zero')\n",
    "```"
   ],
   "id": "357112ab602f3e21"
  },
  {
   "metadata": {
    "ExecuteTime": {
     "end_time": "2025-10-05T08:41:34.502741Z",
     "start_time": "2025-10-05T08:41:34.498828Z"
    }
   },
   "cell_type": "code",
   "source": [
    "n = -1\n",
    "\n",
    "if n > 0:\n",
    "    print('n is positive')\n",
    "elif n < 0:\n",
    "    print('n is negative')\n",
    "else:\n",
    "    print('n is zero')"
   ],
   "id": "6341873a2338e8c2",
   "outputs": [
    {
     "name": "stdout",
     "output_type": "stream",
     "text": [
      "n is negative\n"
     ]
    }
   ],
   "execution_count": 55
  },
  {
   "metadata": {},
   "cell_type": "markdown",
   "source": [
    "### Loops (`while`)\n",
    "\n",
    "The `while` statement is used to execute a block of code <u>repeatedly</u> when a certain condition (which also belongs to `bool` type) is met. For example, the following code shows how to use [Euclidean algorithm](https://en.wikipedia.org/wiki/Euclidean_algorithm) to find the greatest common divisor of two integers:\n",
    "\n",
    "```python\n",
    "m = ...\n",
    "n = ...\n",
    "print(f'The greatest common divisor of {m} and {n} is', end=' ')\n",
    "\n",
    "while m % n != 0:\n",
    "    m, n = n, m % n\n",
    "\n",
    "print(n)\n",
    "```"
   ],
   "id": "b3a7a055912c6a19"
  },
  {
   "metadata": {
    "ExecuteTime": {
     "end_time": "2025-10-05T08:41:34.572889Z",
     "start_time": "2025-10-05T08:41:34.569873Z"
    }
   },
   "cell_type": "code",
   "source": [
    "m = 18\n",
    "n = 48\n",
    "print(f'The greatest common divisor of {m} and {n} is', end=' ')\n",
    "\n",
    "while m % n != 0:\n",
    "    m, n = n, m % n\n",
    "\n",
    "print(n)"
   ],
   "id": "306767249d17ff74",
   "outputs": [
    {
     "name": "stdout",
     "output_type": "stream",
     "text": [
      "The greatest common divisor of 18 and 48 is 6\n"
     ]
    }
   ],
   "execution_count": 56
  },
  {
   "metadata": {},
   "cell_type": "markdown",
   "source": [
    "### Iterations (`for`)\n",
    "\n",
    "The `for` statement is used to iterate over a collection of items. For example, the following code prints the elements in our tuple `t1`:\n",
    "\n",
    "```python\n",
    "for i in t1:\n",
    "    print(i)\n",
    "```"
   ],
   "id": "6e851928e52e2eb0"
  },
  {
   "metadata": {
    "ExecuteTime": {
     "end_time": "2025-10-05T08:41:34.612948Z",
     "start_time": "2025-10-05T08:41:34.609498Z"
    }
   },
   "cell_type": "code",
   "source": [
    "for i in t1:\n",
    "    print(i)"
   ],
   "id": "e7e0784f04c5d091",
   "outputs": [
    {
     "name": "stdout",
     "output_type": "stream",
     "text": [
      "1\n",
      "2\n",
      "3\n",
      "4\n",
      "5\n"
     ]
    }
   ],
   "execution_count": 57
  },
  {
   "metadata": {},
   "cell_type": "markdown",
   "source": [
    "To access the index of an item in a collection, you can use the built-in function `enumerate()`. Using our tuple `t2` as an example:\n",
    "\n",
    "```python\n",
    "for i, x in enumerate(t2):\n",
    "    print(f't2[{i}] = {x}')\n",
    "```"
   ],
   "id": "5a662892b032e011"
  },
  {
   "metadata": {
    "ExecuteTime": {
     "end_time": "2025-10-05T08:41:34.647744Z",
     "start_time": "2025-10-05T08:41:34.644216Z"
    }
   },
   "cell_type": "code",
   "source": [
    "for i, x in enumerate(t2):\n",
    "    print(f't2[{i}] = {x}')"
   ],
   "id": "a45107394724edb1",
   "outputs": [
    {
     "name": "stdout",
     "output_type": "stream",
     "text": [
      "t2[0] = 6\n",
      "t2[1] = 7\n",
      "t2[2] = 8\n",
      "t2[3] = 9\n",
      "t2[4] = 10\n"
     ]
    }
   ],
   "execution_count": 58
  },
  {
   "metadata": {},
   "cell_type": "markdown",
   "source": [
    "To iterate over a collection of items, you can use the built-in function `zip()`. Using our sets `s1` and `s2` as examples:\n",
    "\n",
    "```python\n",
    "for x, y in zip(s1, s2):\n",
    "    print(f'{x=}, {y=}')\n",
    "```"
   ],
   "id": "495768688750c934"
  },
  {
   "metadata": {
    "ExecuteTime": {
     "end_time": "2025-10-05T08:41:34.673473Z",
     "start_time": "2025-10-05T08:41:34.671111Z"
    }
   },
   "cell_type": "code",
   "source": [
    "for x, y in zip(s1, s2):\n",
    "    print(f'{x=}, {y=}')"
   ],
   "id": "8cf2cb33694f24b8",
   "outputs": [
    {
     "name": "stdout",
     "output_type": "stream",
     "text": [
      "x=1, y=6\n",
      "x=2, y=7\n",
      "x=3, y=8\n",
      "x=4, y=9\n",
      "x=5, y=10\n"
     ]
    }
   ],
   "execution_count": 59
  },
  {
   "metadata": {},
   "cell_type": "markdown",
   "source": [
    "To iterate over a dictionary, you can use the built-in method `items()` of `dict` type. Using our dictionary `d` as an example:\n",
    "\n",
    "```python\n",
    "for name, grade in d.items():\n",
    "    print(f'The grade of {name} is {grade}.')\n",
    "```"
   ],
   "id": "78a95df0aba5e590"
  },
  {
   "metadata": {
    "ExecuteTime": {
     "end_time": "2025-10-05T08:41:34.706428Z",
     "start_time": "2025-10-05T08:41:34.702688Z"
    }
   },
   "cell_type": "code",
   "source": [
    "for name, grade in d.items():\n",
    "    print(f'The grade of {name} is {grade}.')"
   ],
   "id": "ea5bf8e79f356dec",
   "outputs": [
    {
     "name": "stdout",
     "output_type": "stream",
     "text": [
      "The grade of Alice is 100.\n",
      "The grade of Bob is 85.\n",
      "The grade of Charlie is 75.\n",
      "The grade of David is 65.\n"
     ]
    }
   ],
   "execution_count": 60
  },
  {
   "metadata": {},
   "cell_type": "markdown",
   "source": [
    "### >>>Recursion\n",
    "_You should complete this part. I think fibonacci is a good example._"
   ],
   "id": "a9fa60f01fb45cd0"
  },
  {
   "metadata": {},
   "cell_type": "markdown",
   "source": [
    "## A Deep Dive into Functions\n",
    "\n",
    "Functions in Python are snippets of code that can be reused in your code, which input some parameters and output some results. They are defined using the `def` keyword, followed by a function name, a list of parameters, and a block of code."
   ],
   "id": "7226a14884f18672"
  },
  {
   "metadata": {},
   "cell_type": "markdown",
   "source": [
    "### Parameters and Arguments\n",
    "\n",
    "When we define a function, we can specify the inputs of the function using [parameters](https://docs.python.org/3/glossary.html#term-parameter), which are the named entities between parentheses. When we call a function, we can pass in some values to these parameters, which are called [arguments](https://docs.python.org/3/glossary.html#term-argument). To see the difference between parameters and arguments, check this [FAQ](https://docs.python.org/3/faq/programming.html#what-is-the-difference-between-arguments-and-parameters). Usually, the order of arguments when calling a function is the same as the order of parameters when defining the function. This is called a **positional argument**. For example, the following code defines a function `power()` that takes `base` as the base and `exp` as the exponent, and returns the result of `base ** exp`:\n",
    "\n",
    "```python\n",
    "def power(base, exp):\n",
    "    return base ** exp\n",
    "\n",
    "power(2, 3)\n",
    "```"
   ],
   "id": "61995352643e6f8c"
  },
  {
   "metadata": {
    "ExecuteTime": {
     "end_time": "2025-10-05T08:41:34.737049Z",
     "start_time": "2025-10-05T08:41:34.733517Z"
    }
   },
   "cell_type": "code",
   "source": [
    "def power(base, exp):\n",
    "    return base ** exp\n",
    "\n",
    "power(2, 3)"
   ],
   "id": "371846981470d53e",
   "outputs": [
    {
     "data": {
      "text/plain": [
       "8"
      ]
     },
     "execution_count": 61,
     "metadata": {},
     "output_type": "execute_result"
    }
   ],
   "execution_count": 61
  },
  {
   "metadata": {},
   "cell_type": "markdown",
   "source": [
    "However, we can also specify the order of arguments when calling a function using **keyword arguments**, which has the form `param=arg`. Using the previous example, we can call the function as follows:\n",
    "\n",
    "```python\n",
    "power(exp=2, base=3)\n",
    "```"
   ],
   "id": "39c8c7da8010315"
  },
  {
   "metadata": {
    "ExecuteTime": {
     "end_time": "2025-10-05T08:41:34.762770Z",
     "start_time": "2025-10-05T08:41:34.759502Z"
    }
   },
   "cell_type": "code",
   "source": "power(exp=2, base=3)",
   "id": "87069f7b4ff2209f",
   "outputs": [
    {
     "data": {
      "text/plain": [
       "9"
      ]
     },
     "execution_count": 62,
     "metadata": {},
     "output_type": "execute_result"
    }
   ],
   "execution_count": 62
  },
  {
   "metadata": {},
   "cell_type": "markdown",
   "source": [
    "Moreover, we can even mix positional and keyword arguments when calling a function. The only thing to note is that positional arguments must appear before keyword arguments. For example:\n",
    "\n",
    "```python\n",
    "power(2, exp=4)\n",
    "```"
   ],
   "id": "ffb93a6f2fe449e"
  },
  {
   "metadata": {
    "ExecuteTime": {
     "end_time": "2025-10-05T08:41:34.790874Z",
     "start_time": "2025-10-05T08:41:34.787727Z"
    }
   },
   "cell_type": "code",
   "source": "power(2, exp=4)",
   "id": "7b1d6521d0321612",
   "outputs": [
    {
     "data": {
      "text/plain": [
       "16"
      ]
     },
     "execution_count": 63,
     "metadata": {},
     "output_type": "execute_result"
    }
   ],
   "execution_count": 63
  },
  {
   "metadata": {},
   "cell_type": "markdown",
   "source": [
    "The special parameter `/` can force the parameter before it to be a positional parameter. For example, inserting `/` between `base` and `exp` in the previous example will make `base` a positional-only parameter:\n",
    "\n",
    "```python\n",
    "def power(base, /, exp):\n",
    "    return base ** exp\n",
    "\n",
    "power(2, 5), power(4, exp=3)\n",
    "```"
   ],
   "id": "cd42cd4d3698d3f8"
  },
  {
   "metadata": {
    "ExecuteTime": {
     "end_time": "2025-10-05T08:41:34.823804Z",
     "start_time": "2025-10-05T08:41:34.820259Z"
    }
   },
   "cell_type": "code",
   "source": [
    "def power(base, /, exp):\n",
    "    return base ** exp\n",
    "\n",
    "power(2, 5), power(4, exp=3)"
   ],
   "id": "8aff2bc429622e85",
   "outputs": [
    {
     "data": {
      "text/plain": [
       "(32, 64)"
      ]
     },
     "execution_count": 64,
     "metadata": {},
     "output_type": "execute_result"
    }
   ],
   "execution_count": 64
  },
  {
   "metadata": {},
   "cell_type": "markdown",
   "source": [
    "If we want to capture a bunch of arguments in one place, we can use the `*` operator for positional arguments, and the `**` operator for keyword arguments, to unpack them into a collection. For example, the following code defines a function `print_args` that prints out the values of all positional arguments and keyword arguments:\n",
    "\n",
    "```python\n",
    "def print_args(*args, **kwargs):\n",
    "    print(f'Positional arguments {type(args)}: {args}')\n",
    "    print(f'Keyword arguments {type(kwargs)}: {kwargs}')\n",
    "\n",
    "print_args(1, 2, 3, a=4, b=5)\n",
    "```"
   ],
   "id": "6dbb2d038ed0f25c"
  },
  {
   "metadata": {
    "ExecuteTime": {
     "end_time": "2025-10-05T08:41:34.861563Z",
     "start_time": "2025-10-05T08:41:34.858150Z"
    }
   },
   "cell_type": "code",
   "source": [
    "def print_args(*args, **kwargs):\n",
    "    print(f'Positional arguments {type(args)}: {args}')\n",
    "    print(f'Keyword arguments {type(kwargs)}: {kwargs}')\n",
    "\n",
    "print_args(1, 2, 3, *[4, 5], a=4, b=5)"
   ],
   "id": "651769260cae3b22",
   "outputs": [
    {
     "name": "stdout",
     "output_type": "stream",
     "text": [
      "Positional arguments <class 'tuple'>: (1, 2, 3, 4, 5)\n",
      "Keyword arguments <class 'dict'>: {'a': 4, 'b': 5}\n"
     ]
    }
   ],
   "execution_count": 65
  },
  {
   "metadata": {},
   "cell_type": "markdown",
   "source": [
    "Notice that the type of `args` is `tuple`, and the type of `kwargs` is `dict`. Therefore, we can index, slice, and unpack the captured arguments as we have learned. Since the parameter `*args` captures all positional arguments, any parameter after it can only accept keyword arguments. For example, the following code defines a function `sum_args()` that sums up all the positional arguments from an initial value:\n",
    "\n",
    "```python\n",
    "def sum_args(*args, init):\n",
    "    result = init\n",
    "    for arg in args:\n",
    "        result += arg\n",
    "    return result\n",
    "\n",
    "sum_args(1, 2, 3, init=0)\n",
    "```"
   ],
   "id": "b97d58f3f8ee995"
  },
  {
   "metadata": {
    "ExecuteTime": {
     "end_time": "2025-10-05T08:41:34.893443Z",
     "start_time": "2025-10-05T08:41:34.889443Z"
    }
   },
   "cell_type": "code",
   "source": [
    "def sum_args(*args, init):\n",
    "    result = init\n",
    "    for arg in args:\n",
    "        result += arg\n",
    "    return result\n",
    "\n",
    "sum_args(1, 2, 3, init=0)"
   ],
   "id": "ebed7fee1da38a5a",
   "outputs": [
    {
     "data": {
      "text/plain": [
       "6"
      ]
     },
     "execution_count": 66,
     "metadata": {},
     "output_type": "execute_result"
    }
   ],
   "execution_count": 66
  },
  {
   "metadata": {},
   "cell_type": "markdown",
   "source": [
    "### Default Values\n",
    "\n",
    "Sometimes we want to make some parameters optional so that we can call the function with fewer arguments. To do this, we can specify default values for the parameters. For example, the following code makes the `init` parameter optional by giving it a default value of `0`:\n",
    "\n",
    "```python\n",
    "def sum_args(*args, init=0):\n",
    "    result = init\n",
    "    for arg in args:\n",
    "        result += arg\n",
    "    return result\n",
    "\n",
    "sum_args(1, 2, 3), sum_args(1, 2, 3, init=10)\n",
    "```"
   ],
   "id": "9ae6ca37e2d1037e"
  },
  {
   "metadata": {
    "ExecuteTime": {
     "end_time": "2025-10-05T08:41:34.920997Z",
     "start_time": "2025-10-05T08:41:34.916515Z"
    }
   },
   "cell_type": "code",
   "source": [
    "def sum_args(*args, init=0):\n",
    "    result = init\n",
    "    for arg in args:\n",
    "        result += arg\n",
    "    return result\n",
    "\n",
    "sum_args(1, 2, 3), sum_args(1, 2, 3, init=10)"
   ],
   "id": "45830658e804bb7a",
   "outputs": [
    {
     "data": {
      "text/plain": [
       "(6, 16)"
      ]
     },
     "execution_count": 67,
     "metadata": {},
     "output_type": "execute_result"
    }
   ],
   "execution_count": 67
  },
  {
   "metadata": {},
   "cell_type": "markdown",
   "source": [
    "There is one thing to note here. Any optional positional parameter must be placed after all the positional parameters without default values. Using `power()` as an example, if we give the parameter `exp` a default value of `1`, then the parameter `base` must be placed before it:\n",
    "\n",
    "```python\n",
    "def power(base, exp=1):\n",
    "    return base ** exp\n",
    "\n",
    "power(7), power(7, exp=2)\n",
    "```"
   ],
   "id": "80bac60d851f1795"
  },
  {
   "metadata": {
    "ExecuteTime": {
     "end_time": "2025-10-05T08:41:34.956517Z",
     "start_time": "2025-10-05T08:41:34.953227Z"
    }
   },
   "cell_type": "code",
   "source": [
    "def power(base, exp=1):\n",
    "    return base ** exp\n",
    "\n",
    "power(7), power(7, exp=2)"
   ],
   "id": "255752ba1dd1c187",
   "outputs": [
    {
     "data": {
      "text/plain": [
       "(7, 49)"
      ]
     },
     "execution_count": 68,
     "metadata": {},
     "output_type": "execute_result"
    }
   ],
   "execution_count": 68
  },
  {
   "metadata": {},
   "cell_type": "markdown",
   "source": [
    "### Typing\n",
    "\n",
    "The [type system in Python](https://typing.python.org/en/latest/spec/type-system.html) is [dynamic](https://typing.python.org/en/latest/spec/concepts.html#static-dynamic-and-gradual-typing), which means that the type of variable can be changed at any time. However, it is sometimes useful to specify the type variable when we define it. This is called _type hint_. We just need to add a colon (`:`) after the variable name and type name, and the type checker will check the type of the variable. For example:\n",
    "\n",
    "```python\n",
    "a: int = 1\n",
    "b: float = 2.0\n",
    "c: str = 'hello'\n",
    "\n",
    "a, b, c\n",
    "```"
   ],
   "id": "57a3b6fff1e36159"
  },
  {
   "metadata": {
    "ExecuteTime": {
     "end_time": "2025-10-05T08:41:34.984569Z",
     "start_time": "2025-10-05T08:41:34.980570Z"
    }
   },
   "cell_type": "code",
   "source": [
    "a: int = 1\n",
    "b: float = 2.0\n",
    "c: str = 'hello'\n",
    "\n",
    "a, b, c"
   ],
   "id": "8ec4e9b0ff128b51",
   "outputs": [
    {
     "data": {
      "text/plain": [
       "(1, 2.0, 'hello')"
      ]
     },
     "execution_count": 69,
     "metadata": {},
     "output_type": "execute_result"
    }
   ],
   "execution_count": 69
  },
  {
   "metadata": {},
   "cell_type": "markdown",
   "source": [
    "When we define a function, we can not only specify the type of parameters, but also the return type (using the `->` operator). For example, if we expect that our `sum_args()` function accepts only integers as input and returns integers as output, we can specify the type as follows:\n",
    "\n",
    "```python\n",
    "def sum_args(*args: int, init: int = 0) -> int:\n",
    "    result = init\n",
    "    for arg in args:\n",
    "        result += arg\n",
    "    return result\n",
    "\n",
    "sum_args(1, 2, 3), sum_args(1, 2, 3, init=10)\n",
    "```"
   ],
   "id": "d5c1169bfc15d338"
  },
  {
   "metadata": {
    "ExecuteTime": {
     "end_time": "2025-10-05T08:41:35.024038Z",
     "start_time": "2025-10-05T08:41:35.019583Z"
    }
   },
   "cell_type": "code",
   "source": [
    "def sum_args(*args: int, init: int = 0) -> int:\n",
    "    result = init\n",
    "    for arg in args:\n",
    "        result += arg\n",
    "    return result\n",
    "\n",
    "sum_args(1, 2, 3), sum_args(1, 2, 3, init=10)"
   ],
   "id": "ec129866a42fc4e",
   "outputs": [
    {
     "data": {
      "text/plain": [
       "(6, 16)"
      ]
     },
     "execution_count": 70,
     "metadata": {},
     "output_type": "execute_result"
    }
   ],
   "execution_count": 70
  },
  {
   "metadata": {},
   "cell_type": "markdown",
   "source": [
    "### Docstring\n",
    "\n",
    "The docstring is a string that describes the purpose and usage of a function. It is placed immediately after the function definition, and is typically a multi-line string surrounded by triple quotes (preferred `\"\"\"`). For example, we can add a docstring to the `sum_args()` function as follows:\n",
    "\n",
    "```python\n",
    "def sum_args(*args: int, init: int = 0):\n",
    "    \"\"\"\n",
    "    Return the sum of all positional arguments from an initial value.\n",
    "    If `init` is not specified, it defaults to `0`.\n",
    "    Only accepts integer arguments.\n",
    "    \"\"\"\n",
    "    result = init\n",
    "    for arg in args:\n",
    "        result += arg\n",
    "    return result\n",
    "\n",
    "sum_args(1, 2, 3), sum_args(1, 2, 3, init=10)\n",
    "```"
   ],
   "id": "d3c1922bc2be417f"
  },
  {
   "metadata": {
    "ExecuteTime": {
     "end_time": "2025-10-05T08:41:35.060399Z",
     "start_time": "2025-10-05T08:41:35.056394Z"
    }
   },
   "cell_type": "code",
   "source": [
    "def sum_args(*args: int, init: int = 0):\n",
    "    \"\"\"\n",
    "    Return the sum of all positional arguments from an initial value.\n",
    "    If `init` is not specified, it defaults to `0`.\n",
    "    Only accepts integer arguments.\n",
    "    \"\"\"\n",
    "    result = init\n",
    "    for arg in args:\n",
    "        result += arg\n",
    "    return result\n",
    "\n",
    "sum_args(1, 2, 3), sum_args(1, 2, 3, init=10)"
   ],
   "id": "c1837064d1dda4a3",
   "outputs": [
    {
     "data": {
      "text/plain": [
       "(6, 16)"
      ]
     },
     "execution_count": 71,
     "metadata": {},
     "output_type": "execute_result"
    }
   ],
   "execution_count": 71
  },
  {
   "metadata": {},
   "cell_type": "markdown",
   "source": [
    "Docstrings are stored as an attribute of the function object. You can access it using the `help()` function:\n",
    "\n",
    "```python\n",
    "help(sum_args)\n",
    "```"
   ],
   "id": "ca6d25eb4287a769"
  },
  {
   "metadata": {
    "ExecuteTime": {
     "end_time": "2025-10-05T08:41:35.091944Z",
     "start_time": "2025-10-05T08:41:35.089204Z"
    }
   },
   "cell_type": "code",
   "source": "help(sum_args)",
   "id": "cc601c830d6ce4de",
   "outputs": [
    {
     "name": "stdout",
     "output_type": "stream",
     "text": [
      "Help on function sum_args in module __main__:\n",
      "\n",
      "sum_args(*args: int, init: int = 0)\n",
      "    Return the sum of all positional arguments from an initial value.\n",
      "    If `init` is not specified, it defaults to `0`.\n",
      "    Only accepts integer arguments.\n",
      "\n"
     ]
    }
   ],
   "execution_count": 72
  },
  {
   "metadata": {},
   "cell_type": "markdown",
   "source": [
    "### Decorators\n",
    "\n",
    "Decorators are functions that take a function as input and return a function as output. They are used to modify the behavior of a function without changing its code. For example, the following code defines a decorator `show_help()` that prints out the docstring of the function it decorates:\n",
    "\n",
    "```python\n",
    "def show_help(func):\n",
    "    def wrapper(*args, **kwargs):\n",
    "        help(func)\n",
    "        return func(*args, **kwargs)\n",
    "    return wrapper\n",
    "\n",
    "show_help\n",
    "```"
   ],
   "id": "679bbcf38c4aebed"
  },
  {
   "metadata": {
    "ExecuteTime": {
     "end_time": "2025-10-05T08:41:35.127084Z",
     "start_time": "2025-10-05T08:41:35.123922Z"
    }
   },
   "cell_type": "code",
   "source": [
    "def show_help(func):\n",
    "    def wrapper(*args, **kwargs):\n",
    "        help(func)\n",
    "        return func(*args, **kwargs)\n",
    "    return wrapper\n",
    "\n",
    "show_help"
   ],
   "id": "8a486426fad93395",
   "outputs": [
    {
     "data": {
      "text/plain": [
       "<function __main__.show_help(func)>"
      ]
     },
     "execution_count": 73,
     "metadata": {},
     "output_type": "execute_result"
    }
   ],
   "execution_count": 73
  },
  {
   "metadata": {},
   "cell_type": "markdown",
   "source": [
    "We see that decorators are treated as normal functions in Python. To use a decorator, we can simply pass the function to be decorated as an argument to the decorator. For example, we can decorate the `sum_args()` function using `show_help()` as follows:\n",
    "\n",
    "```python\n",
    "sum_args = show_help(sum_args)\n",
    "sum_args(1, 2, 3)\n",
    "```"
   ],
   "id": "d271600d47c391aa"
  },
  {
   "metadata": {
    "ExecuteTime": {
     "end_time": "2025-10-05T08:41:35.170477Z",
     "start_time": "2025-10-05T08:41:35.166563Z"
    }
   },
   "cell_type": "code",
   "source": [
    "sum_args = show_help(sum_args)\n",
    "sum_args(1, 2, 3)"
   ],
   "id": "399328adce069f58",
   "outputs": [
    {
     "name": "stdout",
     "output_type": "stream",
     "text": [
      "Help on function sum_args in module __main__:\n",
      "\n",
      "sum_args(*args: int, init: int = 0)\n",
      "    Return the sum of all positional arguments from an initial value.\n",
      "    If `init` is not specified, it defaults to `0`.\n",
      "    Only accepts integer arguments.\n",
      "\n"
     ]
    },
    {
     "data": {
      "text/plain": [
       "6"
      ]
     },
     "execution_count": 74,
     "metadata": {},
     "output_type": "execute_result"
    }
   ],
   "execution_count": 74
  },
  {
   "metadata": {},
   "cell_type": "markdown",
   "source": [
    "It does show the docstring of `power()`, but it does not seem very useful. The correct use of decorators is to use the `@` syntax to decorate a function when defining it. For example, the following code warps the Euclidean algorithm into a function `euclidean_gcd()`, and decorates it using `show_help()`:\n",
    "\n",
    "```python\n",
    "@show_help\n",
    "def euclidean_gcd(m: int, n: int) -> int:\n",
    "    \"\"\"\n",
    "    Calculate the greatest common divisor of two integers using Euclidean algorithm.\n",
    "    For more details, see <https://en.wikipedia.org/wiki/Euclidean_algorithm>.\n",
    "    \"\"\"\n",
    "    while m % n != 0:\n",
    "        m, n = n, m % n\n",
    "    return n\n",
    "\n",
    "euclidean_gcd(18, 48)\n",
    "```"
   ],
   "id": "9ad00f083dfa117c"
  },
  {
   "metadata": {
    "ExecuteTime": {
     "end_time": "2025-10-05T08:41:35.227906Z",
     "start_time": "2025-10-05T08:41:35.223388Z"
    }
   },
   "cell_type": "code",
   "source": [
    "@show_help\n",
    "def euclidean_gcd(m: int, n: int) -> int:\n",
    "    \"\"\"\n",
    "    Calculate the greatest common divisor of two integers using Euclidean algorithm.\n",
    "    For more details, see <https://en.wikipedia.org/wiki/Euclidean_algorithm>.\n",
    "    \"\"\"\n",
    "    while m % n != 0:\n",
    "        m, n = n, m % n\n",
    "    return n\n",
    "\n",
    "euclidean_gcd(18, 48)"
   ],
   "id": "c8fa388c71afe254",
   "outputs": [
    {
     "name": "stdout",
     "output_type": "stream",
     "text": [
      "Help on function euclidean_gcd in module __main__:\n",
      "\n",
      "euclidean_gcd(m: int, n: int) -> int\n",
      "    Calculate the greatest common divisor of two integers using Euclidean algorithm.\n",
      "    For more details, see <https://en.wikipedia.org/wiki/Euclidean_algorithm>.\n",
      "\n"
     ]
    },
    {
     "data": {
      "text/plain": [
       "6"
      ]
     },
     "execution_count": 75,
     "metadata": {},
     "output_type": "execute_result"
    }
   ],
   "execution_count": 75
  },
  {
   "metadata": {},
   "cell_type": "markdown",
   "source": [
    "## >>>Error Handling\n",
    "_Again, your part._"
   ],
   "id": "b31fda136e4a2601"
  },
  {
   "metadata": {},
   "cell_type": "markdown",
   "source": [
    "## End-of-Lesson Problems\n",
    "\n",
    "Now it's your turn! We will leave you with some interesting questions at the end of each lesson. Feel free to reach us out or discuss with your friends if you have any questions(´▽｀)\n",
    "\n",
    "### Problem 1: Time it!\n",
    "\n",
    "Write a decorator that measures the execution time of a function. Your code should begin with the following lines:\n",
    "\n",
    "```python\n",
    "import time\n",
    "```"
   ],
   "id": "8a8c76fa758b916a"
  },
  {
   "metadata": {
    "ExecuteTime": {
     "end_time": "2025-10-05T08:41:35.260895Z",
     "start_time": "2025-10-05T08:41:35.258433Z"
    }
   },
   "cell_type": "code",
   "source": "import time",
   "id": "b57ae35865f8be75",
   "outputs": [],
   "execution_count": 76
  },
  {
   "metadata": {},
   "cell_type": "markdown",
   "source": [
    "Now, define a function `timeit()` that takes a function as input and returns a function as output. The returned function should implement the logic in the following order:\n",
    "1. Record the start time using `time.time()`, which returns the current time in seconds since the epoch as a floating point number. More details can be found [here](https://docs.python.org/3/library/time.html#time.time).\n",
    "2. Call the input function.\n",
    "3. Record the end time using `time.time()`.\n",
    "4. Calculate the execution time using the difference between the start and end time.\n",
    "5. Print out the execution time in a formatted string, where the time is in seconds with six decimal places.\n",
    "6. Return the result of the input function."
   ],
   "id": "8f4949435e703de3"
  },
  {
   "metadata": {
    "ExecuteTime": {
     "end_time": "2025-10-05T08:41:35.279826Z",
     "start_time": "2025-10-05T08:41:35.276381Z"
    }
   },
   "cell_type": "code",
   "source": [
    "def timeit(func):\n",
    "    def wrapper(*args, **kwargs):\n",
    "        start_time = time.time()\n",
    "        result = func(*args, **kwargs)\n",
    "        end_time = time.time()\n",
    "        print(f'Execution time: {end_time - start_time:.6f} seconds')\n",
    "        return result\n",
    "    return wrapper"
   ],
   "id": "9fe7cdfe3a309818",
   "outputs": [],
   "execution_count": 77
  },
  {
   "metadata": {},
   "cell_type": "markdown",
   "source": [
    "Define a test function `sleep()` that meets the following requirements:\n",
    "1. Use the `timeit()` decorator to time the execution of `sleep()`.\n",
    "2. Take a single argument `seconds` and sleeps for that many seconds by pass it to `time.sleep()`.\n",
    "3. Complete typing (take a `float`, return `None`) and docstring.\n",
    "4. Specify a default value for `seconds`."
   ],
   "id": "df96761697c873d0"
  },
  {
   "metadata": {
    "ExecuteTime": {
     "end_time": "2025-10-05T08:41:35.395048Z",
     "start_time": "2025-10-05T08:41:35.291748Z"
    }
   },
   "cell_type": "code",
   "source": [
    "@timeit\n",
    "def sleep(seconds: float = 0.1) -> None:\n",
    "    \"\"\"Sleep for a given number of seconds.\"\"\"\n",
    "    time.sleep(seconds)\n",
    "\n",
    "sleep()"
   ],
   "id": "61f7bde0fb59c58",
   "outputs": [
    {
     "name": "stdout",
     "output_type": "stream",
     "text": [
      "Execution time: 0.100944 seconds\n"
     ]
    }
   ],
   "execution_count": 78
  },
  {
   "metadata": {},
   "cell_type": "markdown",
   "source": [
    "### Problem 2: Sieve of Eratosthenes\n",
    "\n",
    "Write a function `sieve()` that takes a single argument `n` and returns a `set` of all prime numbers up to `n`. You should use the [Sieve of Eratosthenes](https://en.wikipedia.org/wiki/Sieve_of_Eratosthenes) to generate the result. You should decorate the function with `timeit()`. Your function `sieve()` should have complete typing and docstring."
   ],
   "id": "f403bc3dd7b2b03c"
  },
  {
   "metadata": {
    "ExecuteTime": {
     "end_time": "2025-10-05T08:41:35.405246Z",
     "start_time": "2025-10-05T08:41:35.401972Z"
    }
   },
   "cell_type": "code",
   "source": [
    "@timeit\n",
    "def sieve(n: int) -> set:\n",
    "    \"\"\"Return a set of all prime numbers up to n.\"\"\"\n",
    "    primes = {*range(2, n+1)}\n",
    "    i = 2\n",
    "    while i * i <= n:\n",
    "        if i in primes:\n",
    "            primes.difference_update(range(i*i, n+1, i))\n",
    "        i += 1\n",
    "    return primes"
   ],
   "id": "8f56ba3aaf95d6d5",
   "outputs": [],
   "execution_count": 79
  },
  {
   "metadata": {},
   "cell_type": "markdown",
   "source": "Check your implementation by calling `sieve(100)`.",
   "id": "c3add4c7f2b36fc6"
  },
  {
   "metadata": {
    "ExecuteTime": {
     "end_time": "2025-10-05T08:41:35.425877Z",
     "start_time": "2025-10-05T08:41:35.422428Z"
    }
   },
   "cell_type": "code",
   "source": "sieve(100)",
   "id": "1730ffc752ee4386",
   "outputs": [
    {
     "name": "stdout",
     "output_type": "stream",
     "text": [
      "Execution time: 0.000000 seconds\n"
     ]
    },
    {
     "data": {
      "text/plain": [
       "{2,\n",
       " 3,\n",
       " 5,\n",
       " 7,\n",
       " 11,\n",
       " 13,\n",
       " 17,\n",
       " 19,\n",
       " 23,\n",
       " 29,\n",
       " 31,\n",
       " 37,\n",
       " 41,\n",
       " 43,\n",
       " 47,\n",
       " 53,\n",
       " 59,\n",
       " 61,\n",
       " 67,\n",
       " 71,\n",
       " 73,\n",
       " 79,\n",
       " 83,\n",
       " 89,\n",
       " 97}"
      ]
     },
     "execution_count": 80,
     "metadata": {},
     "output_type": "execute_result"
    }
   ],
   "execution_count": 80
  },
  {
   "metadata": {},
   "cell_type": "markdown",
   "source": [
    "## Acknowledgement\n",
    "\n",
    "This lesson draws on ideas from the following sources:\n",
    "\n",
    "- [The Official Documentation of Python](https://docs.python.org/3/)\n",
    "- Charles J. Weiss's [Scientific Computing for Chemists with Python](https://weisscharlesj.github.io/SciCompforChemists/notebooks/introduction/intro.html)\n",
    "- W3Schools' [Python Tutorial](https://www.w3schools.com/python/default.asp)\n",
    "- GenAI for making paragraphs and codes(・ω< )★\n",
    "- And so many resources on Reddit, StackExchange, etc.!"
   ],
   "id": "eb4bd61538a730a7"
  }
 ],
 "metadata": {
  "kernelspec": {
   "display_name": "Python [conda env:base] *",
   "language": "python",
   "name": "conda-base-py"
  },
  "language_info": {
   "codemirror_mode": {
    "name": "ipython",
    "version": 2
   },
   "file_extension": ".py",
   "mimetype": "text/x-python",
   "name": "python",
   "nbconvert_exporter": "python",
   "pygments_lexer": "ipython2",
   "version": "2.7.6"
  }
 },
 "nbformat": 4,
 "nbformat_minor": 5
}
