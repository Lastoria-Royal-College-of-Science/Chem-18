{
 "cells": [
  {
   "cell_type": "markdown",
   "id": "77c025685acb0a64",
   "metadata": {},
   "source": [
    "# 第1课：Python 编程基础\n",
    "\n",
    "> 授课教师： [Yuki Oyama](mailto:y.oyama@lrcs.ac), [Prprnya](mailto:nya@prpr.zip)\n",
    ">\n",
    "> 克里斯蒂安·弗雷德里希·魏希曼化学系, 拉斯托利亚皇家理学院\n",
    "\n",
    "本材料采用<a href=\"https://creativecommons.org/licenses/by-nc-sa/4.0/deed.zh-hans\">知识共享 署名-非商业性使用-相同方式共享 4.0</a> 许可协议授权<img src=\"https://mirrors.creativecommons.org/presskit/icons/cc.svg\" alt=\"\" style=\"max-width: 1em;max-height:1em;margin-left: .2em;\"><img src=\"https://mirrors.creativecommons.org/presskit/icons/by.svg\" alt=\"\" style=\"max-width: 1em;max-height:1em;margin-left: .2em;\"><img src=\"https://mirrors.creativecommons.org/presskit/icons/nc.svg\" alt=\"\" style=\"max-width: 1em;max-height:1em;margin-left: .2em;\"><img src=\"https://mirrors.creativecommons.org/presskit/icons/sa.svg\" alt=\"\" style=\"max-width: 1em;max-height:1em;margin-left: .2em;\">\n",
    "\n",
    "\n",
    "欢迎我们的新同学！在第一节课里，我们将一起学习 python 的基础使用。别担心！如果你从来没有写过程序，我们将从零开始。如果你写过一些程序里，那么就让我们一起来回顾一下吧。"
   ]
  },
  {
   "cell_type": "markdown",
   "id": "fc4c9226849d29e4",
   "metadata": {},
   "source": [
    "## 变量和数据类型\n",
    "\n",
    "在 python 中，数据用**变量（variables）**储存。你可以认为，变量像一个标签盒一样：标签纸就是变量名，标签盒里面则什么都可以装。由此引出：变量是指向数据的一个代号。\n",
    "\n",
    "你可以通过向\"标签盒\"中投放数据的方式创建变量，这个操作叫做**赋值（assignment）**。给变量的赋值可以使用 `=` 这个**运算符（operator）**。例如：\n",
    "\n",
    "```python\n",
    "x = 5\n",
    "```\n",
    "\n",
    "把这段代码粘贴到下面的单元格里，然后按下<kbd>Shift</kbd> + <kbd>Enter</kbd> （如果你使用 macOS，按下 <kbd>Shift</kbd> + <kbd>Return</kbd> 代替之）来运行。你不会看到任何输出，但是变量 `x` 已经被创建了，他现在的值是 `5`。\n",
    "\n",
    "（译者注：单元格(cell)是 Jupyter Notebook 的基本组成单位。每个单元格可以包含代码或文本说明。代码单元格可以被独立运行，运行时 python 会从上到下**依次运行每一行**代码，输出结果会显示在单元格下方。你现在阅读的这段文字就在一个 Markdown 单元格里，而下面灰色背景的空白区域则是一个代码单元格，你可以在里面输入并运行 Python 代码。每个单元格内一次可以输入多行，执行单元格时也不必严格顺序执行。）"
   ]
  },
  {
   "cell_type": "code",
   "id": "7262c0fc1fce2b28",
   "metadata": {},
   "source": [
    "x = 5"
   ],
   "outputs": [],
   "execution_count": null
  },
  {
   "cell_type": "markdown",
   "id": "b6cf4ac5112251ec",
   "metadata": {},
   "source": [
    "你可以通过单独输入变量名，随后运行该单元格的方式检查该变量当前的值。注意，在检查之前，你必须要先定义这个变量。例如：\n",
    "\n",
    "```python\n",
    "y = 10\n",
    "y\n",
    "```"
   ]
  },
  {
   "cell_type": "code",
   "id": "34b538dedc9502f1",
   "metadata": {},
   "source": [
    "y = 10\n",
    "y"
   ],
   "outputs": [],
   "execution_count": null
  },
  {
   "cell_type": "markdown",
   "id": "668ea2646e91deae",
   "metadata": {},
   "source": [
    "变量名可以任取，只要以字母或者下划线（`_`）开头即可。变量名中可以包含字母、数字、下划线。\n",
    "\n",
    "（译者注：变量名不能以数字开头。中文也可以做变量名、函数名，但由于可能的兼容性问题**极度不推荐**。强烈**不建议**涉及到代码的任何文件夹、文件名、文件路径、文件内容包含中文！）\n",
    "\n",
    "- 合法的变量名： `my_variable`, `data1`, `_temp` \n",
    "- 不合法的变量名： `1data`, `my-variable`, `my variable`\n",
    "\n",
    "变量名对大小写敏感，因此 `CAP`, `Cap` 和 `cap` 是完全不同的变量。运行下面的代码试试吧！\n",
    "\n",
    "（译者注：变量名 `绪山雪_有希` 也是合法的变量名，但强烈**不建议**使用！此外，python 的开发者们约定：全大写的变量名，例如 `CAP` ，一般用以表示常量。尽管 python 没有任何措施来阻止你修改常量，为了更好的代码可读性，译者不建议大家在定义后对常量进行修改。在 Jupyter notebook 中，上一个单元格干过的所有事会继承到这个单元格，你可以运行命令 `x, y` 来检查之）\n",
    "\n",
    "```python\n",
    "CAP = 0\n",
    "Cap = 1\n",
    "cap = 2\n",
    "CAP, Cap, cap\n",
    "```"
   ]
  },
  {
   "cell_type": "code",
   "id": "6bce64aa2981e8ba",
   "metadata": {},
   "source": [
    "CAP = 0\n",
    "Cap = 1\n",
    "cap = 2\n",
    "CAP, Cap, cap"
   ],
   "outputs": [],
   "execution_count": null
  },
  {
   "cell_type": "markdown",
   "id": "396381791b1746ac",
   "metadata": {},
   "source": [
    "Note that in the code mode, we can output multiple variables by separating them with commas. The output will give them in a sequence wrapped by parentheses and separated by commas. Otherwise, you can use `print()` **function** to customize the output format. _We will introduce functions later._\n",
    "\n",
    "注意，在代码单元格中，我们可以用逗号分隔多个变量。代码的输出将会是一个用括号括起，用逗号分隔的序列（译者注：即**元组（Tuple）**）。除此之外，用 `print()` *函数* 可以自定义输出格式。*之后我们再来详细介绍函数的概念。*\n",
    "\n",
    "```python\n",
    "print(CAP, Cap, cap)\n",
    "```"
   ]
  },
  {
   "cell_type": "code",
   "id": "e7d09723f2568fbe",
   "metadata": {},
   "source": [
    "print(CAP, Cap, cap)"
   ],
   "outputs": [],
   "execution_count": null
  },
  {
   "cell_type": "markdown",
   "id": "eb9d8ca4e68af455",
   "metadata": {},
   "source": [
    "Spacing between the variable name and the operator is optional. However, it is good practice to put a single space after each operator.\n",
    "\n",
    "变量名和运算符之间的空格可加可不加，但运算符的两边各加一个空格是好的码风。\n",
    "\n",
    "```python\n",
    "space1=10\n",
    "space2 = 10\n",
    "space3    =      10\n",
    "print(space1, space2, space3)\n",
    "```"
   ]
  },
  {
   "cell_type": "code",
   "id": "11e2830b433a1e48",
   "metadata": {},
   "source": [
    "space1=10\n",
    "space2 = 10\n",
    "space3    =      10\n",
    "print(space1, space2, space3)"
   ],
   "outputs": [],
   "execution_count": null
  },
  {
   "cell_type": "markdown",
   "id": "3abe9ab8f21d1301",
   "metadata": {},
   "source": [
    "### 数据类型"
   ]
  },
  {
   "cell_type": "markdown",
   "id": "b69e5be6e9e4b2d5",
   "metadata": {},
   "source": [
    "Python 中有多种基本的数据类型。我们之前将**整型（integer）** `5` 赋值给了 `x`。其他数据类型包括：\n",
    "- **浮点型（Float）**：带小数点的数字，例如：`3.14`\n",
    "- **字符串型（String）**：一串字符组成的序列，例如： `'Hello, World!'`\n",
    "- **布尔型（Boolean）**：只能取值 `True` 或者 `False`"
   ]
  },
  {
   "cell_type": "markdown",
   "id": "7de3db01e54647ce",
   "metadata": {},
   "source": [
    "### 整型\n",
    "\n",
    "整型即整数，或正或负，不带有小数点。例如：\n",
    "\n",
    "```python\n",
    "beta = 147\n",
    "beta\n",
    "```"
   ]
  },
  {
   "cell_type": "code",
   "id": "d7307ded112f0b69",
   "metadata": {},
   "source": [
    "beta = 147\n",
    "beta"
   ],
   "outputs": [],
   "execution_count": null
  },
  {
   "cell_type": "markdown",
   "id": "8cb8c45cf7f9608b",
   "metadata": {},
   "source": [
    "We can check the type of variable using the `type()` function (again, we will introduce functions later, don't worry!), type your variable name inside the parentheses of `type()`:\n",
    "\n",
    "我们用 `type()` *函数（同样的，不用担心，我们稍后会介绍）* 来检查变量的类型。把你的变量放入 `type()` 函数的空格中：\n",
    "\n",
    "```python\n",
    "type(beta)\n",
    "```"
   ]
  },
  {
   "cell_type": "code",
   "id": "93eb301c1fe01366",
   "metadata": {},
   "source": [
    "type(beta)"
   ],
   "outputs": [],
   "execution_count": null
  },
  {
   "cell_type": "markdown",
   "id": "622099d1a585ad45",
   "metadata": {},
   "source": [
    "这里， `int` 代表整数。（译者注：整型、整数的概念实际上不需要区分）"
   ]
  },
  {
   "cell_type": "markdown",
   "id": "bf0ff3bec5456cb0",
   "metadata": {},
   "source": [
    "### 浮点型\n",
    "\n",
    "浮点型即浮点数，是带有小数点的数字。例如：\n",
    "\n",
    "```python\n",
    "phi = 1.618\n",
    "phi, type(phi)\n",
    "```"
   ]
  },
  {
   "cell_type": "code",
   "id": "b28ee27054e804c",
   "metadata": {},
   "source": [
    "phi = 1.618\n",
    "phi, type(phi)"
   ],
   "outputs": [],
   "execution_count": null
  },
  {
   "cell_type": "markdown",
   "id": "63fbc6836c518604",
   "metadata": {},
   "source": [
    "即使一个浮点数的小数部分是0，它仍然是浮点数。为表区分，需要在浮点数的整数部分之后加入 `.0` 来表明这是一个浮点数：\n",
    "\n",
    "```python\n",
    "type(8), type(8.0)\n",
    "```"
   ]
  },
  {
   "cell_type": "code",
   "id": "438f402aa9dbe9b3",
   "metadata": {},
   "source": [
    "type(8), type(8.0)"
   ],
   "outputs": [],
   "execution_count": null
  },
  {
   "cell_type": "markdown",
   "id": "c1b209b184b0e688",
   "metadata": {},
   "source": [
    "从上面可以看到，整数和浮点数是不同的数据类型。他们有不同的冠词（译者注：prepose；我猜这里应该是目的purpose），并且在某些操作中表现得不太一样。后面我们会看到更多相关的例子。\n",
    "\n",
    "一些浮点数可以用科学技术法表示。科学技术法是一种常见的用来表示较大数和较小数的方法。例如：`3.0e8` 代表 $3.0 \\times 10^8$ (300,000,000)， 并且 `1.5e-4` 代表 $1.5 \\times 10^{-4}$ (0.00015)：\n",
    "\n",
    "```python\n",
    "speed_of_light = 3.0e8  # in meters per second (translator hint: even if in comments, I don't recommend using Chinese characters while writing codes)\n",
    "avogadro_number = 6.022e23  # in mol^-1\n",
    "speed_of_light, avogadro_number\n",
    "```"
   ]
  },
  {
   "cell_type": "code",
   "id": "d56fd6605fc71bee",
   "metadata": {},
   "source": [
    "speed_of_light = 3.0e8  # in meters per second\n",
    "avogadro_number = 6.022e23  # in mol^-1\n",
    "speed_of_light, avogadro_number"
   ],
   "outputs": [],
   "execution_count": null
  },
  {
   "cell_type": "markdown",
   "id": "47773c421272bc93",
   "metadata": {},
   "source": [
    "注意在 `#` 后面的内容是[注释](https://www.runoob.com/python3/python3-comment.html)，Python 不会执行他们。"
   ]
  },
  {
   "cell_type": "markdown",
   "id": "fff4043b939ffb0e",
   "metadata": {},
   "source": [
    "### 字符串\n",
    "\n",
    "字符串是一串字符组成的序列，用单引号或双引号括起。\n",
    "\n",
    "```python\n",
    "greeting = 'Hello, Chem 18!'\n",
    "greeting, type(greeting)\n",
    "```"
   ]
  },
  {
   "cell_type": "code",
   "id": "732ba0502912336d",
   "metadata": {
    "collapsed": true
   },
   "source": [
    "greeting = 'Hello, Chem 18!'\n",
    "greeting, type(greeting)"
   ],
   "outputs": [],
   "execution_count": null
  },
  {
   "cell_type": "markdown",
   "id": "33b909362799487",
   "metadata": {},
   "source": [
    "这里，`str` 代表字符串。"
   ]
  },
  {
   "cell_type": "markdown",
   "id": "4162e2295d5bd381",
   "metadata": {},
   "source": [
    "### 布尔\n",
    "\n",
    "布尔的取值是 `True` 或 `False` 中的一个。它们在条件判断和比较重较常用。\n",
    "\n",
    "```python\n",
    "is_chem_fun = True\n",
    "is_chem_fun, type(is_chem_fun)\n",
    "```"
   ]
  },
  {
   "cell_type": "code",
   "id": "57d8e64c5f269916",
   "metadata": {},
   "source": [
    "is_chem_fun = True\n",
    "is_chem_fun, type(is_chem_fun)"
   ],
   "outputs": [],
   "execution_count": null
  },
  {
   "cell_type": "markdown",
   "id": "4f4a414a82502076",
   "metadata": {},
   "source": [
    "这里，`bool` 代表布尔。"
   ]
  },
  {
   "cell_type": "markdown",
   "id": "b9e5e717e5a8374d",
   "metadata": {},
   "source": [
    "## 运算符和基本算术运算\n",
    "\n",
    "我们接下来将学习如何使用**运算符（operators）**来操作这些变量。运算符是一些特殊的符号，它们可以对变量和值进行运算。Python 支持多种类型的运算符，包括：\n",
    "- **算术运算符（Arithmetic Operators）**：`+`，`-`，`*`，`/`，`//`（整除），`%`（取模），`**`（幂运算）\n",
    "- **比较运算符（Comparison Operators）**：`==`，`!=`，`>`，`<`，`>=`，`<=`\n",
    "- **逻辑运算符（Logical Operators）**：`and`，`or`，`not`"
   ]
  },
  {
   "cell_type": "markdown",
   "id": "55ac5ce0f02f926a",
   "metadata": {},
   "source": [
    "### 算术运算符\n",
    "\n",
    "下面是一些由算术运算符构成的表达式：\n",
    "\n",
    "```python\n",
    "3+2, 5-2, 4*3\n",
    "```"
   ]
  },
  {
   "cell_type": "code",
   "id": "a86b08e8ea8466f4",
   "metadata": {},
   "source": [
    "3+2, 5-2, 4*3"
   ],
   "outputs": [],
   "execution_count": null
  },
  {
   "cell_type": "markdown",
   "id": "74961051a8c96d52",
   "metadata": {},
   "source": [
    "我们可以使用括号来组合运算并控制运算顺序：\n",
    "\n",
    "```python\n",
    "(3+2)*4, 3+2*4\n",
    "```"
   ]
  },
  {
   "cell_type": "code",
   "id": "ee92c26425a2874",
   "metadata": {},
   "source": [
    "(3+2)*4, 3+2*4"
   ],
   "outputs": [],
   "execution_count": null
  },
  {
   "cell_type": "markdown",
   "id": "66475f3e04eb3e3c",
   "metadata": {},
   "source": [
    "对于幂运算，使用 `**`：\n",
    "\n",
    "```python\n",
    "2**3, 4**0.5\n",
    "```"
   ]
  },
  {
   "cell_type": "code",
   "id": "804f41cf33ae6127",
   "metadata": {},
   "source": [
    "2**3, 4**0.5"
   ],
   "outputs": [],
   "execution_count": null
  },
  {
   "cell_type": "markdown",
   "id": "c26733a60d065016",
   "metadata": {},
   "source": [
    "对于除法，Python 使用 `/` 表示浮点除法，使用 `//` 表示整除（地板除，向下取整）：\n",
    "\n",
    "```python\n",
    "7/2, 7//2\n",
    "```\n",
    "\n",
    "（译者注：无论使用整数还是浮点数进行运算，浮点除法的返回值一定是浮点数；对于整除，其返回值（运算结果）的数据类型与参数（参与运算的数字）有关，可以自行尝试其规律）"
   ]
  },
  {
   "cell_type": "code",
   "id": "678fc0cb9bc98c9c",
   "metadata": {},
   "source": [
    "7/2, 7//2"
   ],
   "outputs": [],
   "execution_count": null
  },
  {
   "cell_type": "markdown",
   "id": "e12e9197df3de728",
   "metadata": {},
   "source": [
    "那么整除的余数呢？取模 `%` 可以返回余数：\n",
    "\n",
    "```python\n",
    "7 % 2\n",
    "```"
   ]
  },
  {
   "cell_type": "code",
   "id": "dc90b2d2159bae90",
   "metadata": {},
   "source": [
    "7 % 2"
   ],
   "outputs": [],
   "execution_count": null
  },
  {
   "cell_type": "markdown",
   "id": "e9a60f27dd226555",
   "metadata": {},
   "source": [
    "上述过程可以表示为：\n",
    "$$7 \\div 2 = 3 \\cdots 1$$"
   ]
  },
  {
   "cell_type": "markdown",
   "id": "354e53ef4f9d8526",
   "metadata": {},
   "source": [
    "你可能会注意到，根据参数类型的不同，返回值的类型也会有所变化。欢迎自行尝试其规律！"
   ]
  },
  {
   "cell_type": "markdown",
   "id": "c72f40d5b13d3cff",
   "metadata": {},
   "source": [
    "### 比较运算符\n",
    "\n",
    "比较运算符根据两个数值的比较结果返回一个布尔值（`True` 或 `False`）。Python 中有六个比较运算符：\n",
    "\n",
    "- `==`：等于（$=$）\n",
    "- `!=`：不等于（$\\ne$）\n",
    "- `>`：大于（$>$）\n",
    "- `<`：小于（$<$）\n",
    "- `>=`：大于或等于（$\\ge$）\n",
    "- `<=`：小于或等于（$\\le$）\n",
    "\n",
    "注意不要混淆 `=`（赋值运算符）和 `==`（等于，比较运算符）！\n",
    "\n",
    "下面是一些用比较运算符构成的表达式：\n",
    "\n",
    "```python\n",
    "a = 5\n",
    "b = 3\n",
    "a == b, a != b, a > b, a < b, a >= b, a <= b\n",
    "```"
   ]
  },
  {
   "cell_type": "code",
   "id": "6329f73fe89d4004",
   "metadata": {},
   "source": [
    "a = 5\n",
    "b = 3\n",
    "a == b, a != b, a > b, a < b, a >= b, a <= b"
   ],
   "outputs": [],
   "execution_count": null
  },
  {
   "cell_type": "markdown",
   "id": "1bbc298370881100",
   "metadata": {},
   "source": [
    "### 逻辑运算符\n",
    "\n",
    "逻辑运算符用于运算布尔值。Python 中有三个逻辑运算符：\n",
    "\n",
    "- `and`：当两个参数都是 `True` 时返回 `True`\n",
    "- `or`：当至少一个参数是 `True` 时返回 `True`\n",
    "- `not`：返回参数的相反值，即如果参数是 `False` 则返回 `True`，如果参数是 `True` 则返回 `False`\n",
    "\n",
    "下面是一些用逻辑运算符构成的表达式：\n",
    "\n",
    "```python\n",
    "x = True\n",
    "y = False\n",
    "x and y, x or y, not x\n",
    "```"
   ]
  },
  {
   "cell_type": "code",
   "id": "3f059cf87aa4cd29",
   "metadata": {},
   "source": [
    "x = True\n",
    "y = False\n",
    "x and y, x or y, not x"
   ],
   "outputs": [],
   "execution_count": null
  },
  {
   "cell_type": "markdown",
   "id": "9f9cb10ff67feded",
   "metadata": {},
   "source": [
    "如果你不明白逻辑运算符是怎么运算的，可以点击[这个链接](https://math.libretexts.org/Courses/SUNY_Schenectady_County_Community_College/Discrete_Structures/02%3A_Logical_Reasoning/2.01%3A_Statements_and_Logical_Operators)或参考任何关于逻辑学的教材。"
   ]
  },
  {
   "cell_type": "markdown",
   "id": "66adb5e18f1442df",
   "metadata": {},
   "source": [
    "### 赋值运算符\n",
    "\n",
    "介绍赋值运算符之前，这里先介绍如何更新变量的值。你可以简单地给变量赋一个新值：\n",
    "\n",
    "```python\n",
    "count = 10\n",
    "print(count)\n",
    "count = 15\n",
    "print(count)\n",
    "count = 30\n",
    "print(count)\n",
    "```"
   ]
  },
  {
   "cell_type": "code",
   "id": "668e4f49609fa8f7",
   "metadata": {},
   "source": [
    "count = 10\n",
    "print(count)\n",
    "count = 15\n",
    "print(count)\n",
    "count = 30\n",
    "print(count)"
   ],
   "outputs": [],
   "execution_count": null
  },
  {
   "cell_type": "markdown",
   "id": "a9e5d88171a338e1",
   "metadata": {},
   "source": [
    "这个新值可以是任意的值，可以是由算术运算符构成的表达式。表达式中，甚至可以有**该变量原有的值**的参与：\n",
    "\n",
    "```python\n",
    "count = 10\n",
    "print(count)\n",
    "count = count + 5\n",
    "print(count)\n",
    "```\n",
    "\n",
    "（译者注：绝对不要将 `=` 看作一个比较运算符！因为 `=` 只是赋值语句，上面的 count = count + 5 并不构成一个方程）"
   ]
  },
  {
   "cell_type": "code",
   "id": "b3d2800ba3d134ec",
   "metadata": {},
   "source": [
    "count = 10\n",
    "print(count)\n",
    "count = count + 5\n",
    "print(count)"
   ],
   "outputs": [],
   "execution_count": null
  },
  {
   "cell_type": "markdown",
   "id": "f6fceed1120e9b6c",
   "metadata": {},
   "source": [
    "让我们用乘法运算符再试一次：\n",
    "\n",
    "```python\n",
    "count = 15\n",
    "print(count)\n",
    "count = count * 2\n",
    "print(count)\n",
    "```"
   ]
  },
  {
   "cell_type": "code",
   "id": "a38f0bcc8cc24272",
   "metadata": {},
   "source": [
    "count = 15\n",
    "print(count)\n",
    "count = count * 2\n",
    "print(count)"
   ],
   "outputs": [],
   "execution_count": null
  },
  {
   "cell_type": "markdown",
   "id": "5d50fd55f6035e04",
   "metadata": {},
   "source": [
    "`=`，即赋值运算符，用于给变量赋值。此外，Python 还提供了几个复合赋值运算符，它们将算术运算与赋值结合在一起：\n",
    "\n",
    "- `+=`：加法并赋值\n",
    "- `-=`：减法并赋值\n",
    "- `*=`：乘法并赋值\n",
    "- `**=`：幂运算并赋值\n",
    "- `/=`：除法并赋值\n",
    "- `//=`：整除并赋值\n",
    "- `%=`：取模并赋值\n",
    "\n",
    "例如：\n",
    "\n",
    "```python\n",
    "count = 10\n",
    "print(count)\n",
    "count += 5  # 等价于 count = count + 5\n",
    "print(count)\n",
    "count *= 2  # 等价于 count = count * 2\n",
    "print(count)\n",
    "```\n",
    "\n",
    "（译者注：复合运算符的参数当然也可以是一个表达式，甚至这个表达式仍然可以包含该变量原有的值。感兴趣的同学可以自行尝试）"
   ]
  },
  {
   "cell_type": "code",
   "id": "b38888dabd0b0622",
   "metadata": {},
   "source": [
    "count = 10\n",
    "print(count)\n",
    "count += 5  # Equivalent to count = count + 5\n",
    "print(count)\n",
    "count *= 2  # Equivalent to count = count * 2\n",
    "print(count)"
   ],
   "outputs": [],
   "execution_count": null
  },
  {
   "cell_type": "markdown",
   "id": "cfe9db26a7b5be29",
   "metadata": {},
   "source": [
    "## 定义函数\n",
    "\n",
    "你可以想象吗？如果你是一个数据分析师，可能会涉及到很多复杂的数学函数的使用（例如高斯函数：$ \\exp \\left[\\frac{-(x-\\mu)^2}{2\\sigma^2}\\right] $）。如果每次都写一遍：\n",
    "\n",
    "```python\n",
    "x = 0.5\n",
    "E = 2.718282\n",
    "mu, sigma = (0.0, 1.0)\n",
    "Result = E ** ( -(x - mu) ** 2 / (2 * sigma ** 2) )\n",
    "```\n",
    "\n",
    "是一件非常痛苦的事情。为避免大量重复降低代码可读性，以及避免重复造轮子，Python概念：**函数（function）**便出现了。函数是执行特定任务的代码块，可以实现“代码复用”。我们之前已经见过一些函数了。例如，`print()` 是一个打印变量或表达式值的函数。我们可以使用 `def` 关键字来定义自己的函数：\n",
    "\n",
    "```python\n",
    "def plus_one(n):\n",
    "    return n + 1\n",
    "\n",
    "plus_one(146)\n",
    "```"
   ]
  },
  {
   "cell_type": "code",
   "id": "e479445ce256d7b7",
   "metadata": {},
   "source": [
    "def plus_one(n):\n",
    "    return n + 1\n",
    "\n",
    "plus_one(146)"
   ],
   "outputs": [],
   "execution_count": null
  },
  {
   "cell_type": "markdown",
   "id": "8148cc8522543f63",
   "metadata": {},
   "source": [
    "定义函数时，函数名后面应紧跟一个括号，括号内声明函数所需的所有参数（译者注：即使某个函数不需要任何参数，这个括号也不能省略）。在函数的末尾，我们使用 `return` 语句（关键字）来返回函数的值。如果不需要返回值，可以省略 `return` 关键字。这种情况比较少见，你不需要太在意它(´▽｀)\n",
    "\n",
    "若需要传入多个参数，需要用逗号分隔之：\n",
    "\n",
    "```python\n",
    "def plus(x, y):\n",
    "    return x+y\n",
    "\n",
    "plus(114, 514)\n",
    "```"
   ]
  },
  {
   "cell_type": "code",
   "id": "fb7579fbadeb2fa9",
   "metadata": {},
   "source": [
    "def plus(x, y):\n",
    "    return x+y\n",
    "\n",
    "plus(114, 514)"
   ],
   "outputs": [],
   "execution_count": null
  },
  {
   "cell_type": "markdown",
   "id": "397380e7d0fc3e7b",
   "metadata": {},
   "source": [
    "有时函数的部分参数有极为常用的取值，以至于可以为其设定*默认值*。被设置了默认值的参数将变为可选参数。若不额外传入，该参数将直接取默认值；如果进行额外传入，默认值将被传入的值覆盖：\n",
    "\n",
    "```python\n",
    "def Gauss(x, mu = 0.0, sigma = 1.0):\n",
    "    E = 2.718282\n",
    "    return E ** ( -(x - mu) ** 2 / (2 * sigma ** 2) )\n",
    "\n",
    "print(Gauss(0.5))\n",
    "print(Gauss(0.5, 0.5))\n",
    "print(Gauss(0.5, sigma = 2))\n",
    "print(Gauss(0.5, 2, 1))\n",
    "print(Gauss(0.5, sigma = 2, mu = 1))\n",
    "```\n",
    "\n",
    "你必须先声明全部的必需参数，再声明可选参数。传入参数时，可以按顺序传入，也可以用如上所示的方式指定参数取值。"
   ]
  },
  {
   "cell_type": "code",
   "id": "3e6a17647f7cad2",
   "metadata": {},
   "source": [
    "def Gauss(x, mu = 0.0, sigma = 1.0):\n",
    "    E = 2.718282\n",
    "    return E ** ( -(x - mu) ** 2 / (2 * sigma ** 2) )\n",
    "\n",
    "print(Gauss(0.5))\n",
    "print(Gauss(0.5, 0.5))\n",
    "print(Gauss(0.5, sigma = 2))\n",
    "print(Gauss(0.5, 2, 1))\n",
    "print(Gauss(0.5, sigma = 2, mu = 0.2))"
   ],
   "outputs": [],
   "execution_count": null
  },
  {
   "cell_type": "markdown",
   "id": "85f38860bf438c8f",
   "metadata": {},
   "source": [
    "我们甚至可以定义没有参数的函数：\n",
    "\n",
    "```python\n",
    "def hello():\n",
    "    print('Hello, world!')\n",
    "\n",
    "hello()\n",
    "```"
   ]
  },
  {
   "cell_type": "code",
   "id": "fdc8645d461c7867",
   "metadata": {},
   "source": [
    "def hello():\n",
    "    print('Hello, world!')\n",
    "\n",
    "hello()"
   ],
   "outputs": [],
   "execution_count": null
  },
  {
   "cell_type": "markdown",
   "id": "e88152544496798f",
   "metadata": {},
   "source": [
    "## 课后习题\n",
    "\n",
    "轮到你了！我们会在每节课的最后留一些有趣的问题。如果你有问题，欢迎联系我们或与你的朋友讨论(´▽｀)\n",
    "\n",
    "### 问题 1：八八折\n",
    "\n",
    "公交公司为符合条件的人群打八八折：如果一个人是未成年人（18 岁以下）、老年人（65 岁及以上）或持有学生证，则有资格获得折扣。\n",
    "\n",
    "在一个函数中定义以下变量并写出布尔表达式来判断：\n",
    "- `is_minor`：`age` 是否小于 18\n",
    "- `is_senior`：`age` 是否至少为 65\n",
    "- `eligible_discount`：如果一个人是未成年人、老年人或持有学生证，则为真\n",
    "\n",
    "在函数结束时返回 `eligible_discount`。该人的信息已给出。\n",
    "\n",
    "```python\n",
    "def Check_Eligibility(age = 20, has_student_id = True):\n",
    "    \n",
    "    return None # To be implemented\n",
    "Check_Eligibility(age = 20, has_student_id = True)\n",
    "```"
   ]
  },
  {
   "cell_type": "code",
   "id": "60c14f58c6c43839",
   "metadata": {},
   "source": [
    "def Check_Eligibility(age, has_student_id):\n",
    "    \n",
    "    return None # To be implemented\n",
    "Check_Eligibility(age = 20, has_student_id = True)"
   ],
   "outputs": [],
   "execution_count": null
  },
  {
   "cell_type": "markdown",
   "id": "58a9b53b1cc1f76",
   "metadata": {},
   "source": [
    "### 问题 2：函数\n",
    "\n",
    "定义以下函数：\n",
    "- 多项式函数：$f(x) = 3x^2 - 2x + 1$\n",
    "- 平方根函数：$g(x) = \\sqrt{x} = x^{\\frac{1}{2}}$\n",
    "- 指数函数：$h(x, y) = 2^{x+y}$\n",
    "\n",
    "用你定义的函数计算 $f(h(1, 3)) + f(6) \\cdot g(9)$。"
   ]
  },
  {
   "cell_type": "code",
   "id": "06d6d2a5",
   "metadata": {},
   "source": [],
   "outputs": [],
   "execution_count": null
  },
  {
   "cell_type": "markdown",
   "id": "7f36f9823be7b63e",
   "metadata": {},
   "source": [
    "### 问题 3：碘量法\n",
    "\n",
    "<span style=\"color:#39c5bb\">Yue 20 **Van Nya** \"<u>**5min**</u>\"</span> 想通过以下步骤测量 $\\ce{KMnO4}$ 溶液的浓度：\n",
    "\n",
    "- 向锥形瓶中加入 $2.0\\ \\mathrm{g}$ 的 $\\ce{KI}$ 和 $10\\ \\mathrm{mL}$ 浓度为 $1.0\\ \\mathrm{mol\\cdot L^{-1}}$ 的 $\\ce{H2SO4}$ 溶液。\n",
    "- 向瓶中加入 $5.00\\ \\mathrm{mL}$ 待测 $\\ce{KMnO4}$ 溶液，等待反应完全。反应方程式为：\n",
    "    $$\\ce{2MnO4-(aq) + 10I-(aq) + 16H+(aq) -> 2Mn^2+(aq) + 5I2(aq) + 8H2O(aq)}$$\n",
    "- 使用 $0.1020\\ \\mathrm{mol\\,L^{-1}}$ 的 $\\ce{Na2S2O3}$ 溶液滴定生成的 $\\ce{I2}$。在滴定接近终点时加入五滴淀粉溶液。继续滴定直到溶液的蓝色消失。滴定消耗了 $26.43\\ \\mathrm{mL}$ 的 $\\ce{Na2S2O3}$ 溶液。滴定方程式为：\n",
    "    $$\\ce{I2(aq) + 2S2O3^2-(aq) -> 2I-(aq) + S4O6^2-(aq)}$$\n",
    "\n",
    "计算 $\\ce{KMnO4}$ 溶液的浓度。定义变量，进行计算，输出答案，并确保<u>**在下面的代码单元格中展示所有步骤。**</u>\n",
    "\n",
    "$$\\ce{Mn^2+ \\sim 5I^- \\sim 5S2O3^2-}$$\n",
    "\n",
    "```python\n",
    "C_S2O3 = 0.1020\n",
    "V_S2O3 = 26.43e-3\n",
    "V_KMnO4 = 5.00e-3\n",
    "\n",
    "C_KMnO4 = None # To be implemented\n",
    "round(C_KMnO4, 3)\n",
    "```"
   ]
  },
  {
   "cell_type": "code",
   "id": "18201675",
   "metadata": {},
   "source": [],
   "outputs": [],
   "execution_count": null
  },
  {
   "cell_type": "markdown",
   "id": "acaf2fdd",
   "metadata": {},
   "source": [
    "## 答案"
   ]
  },
  {
   "cell_type": "code",
   "id": "f1fd076256068b45",
   "metadata": {},
   "source": [
    "C_S2O3 = 0.1020\n",
    "V_S2O3 = 26.43e-3\n",
    "V_KMnO4 = 5.00e-3\n",
    "\n",
    "C_KMnO4 = (C_S2O3 * V_S2O3) / (5 * V_KMnO4)\n",
    "round(C_KMnO4, 3)"
   ],
   "outputs": [],
   "execution_count": null
  },
  {
   "cell_type": "code",
   "id": "15b04fee41ed23f3",
   "metadata": {},
   "source": [
    "def f(x):\n",
    "    return 3 * x**2 - 2*x + 1\n",
    "\n",
    "def g(x):\n",
    "    return x**0.5\n",
    "\n",
    "def h(x, y):\n",
    "    return 2**(x + y)\n",
    "\n",
    "print(f(h(1, 3)) + f(6) * g(9))"
   ],
   "outputs": [],
   "execution_count": null
  },
  {
   "cell_type": "markdown",
   "id": "88af57559fa54c14",
   "metadata": {},
   "source": [
    "## 致谢\n",
    "\n",
    "本课程借鉴了以下资源：\n",
    "\n",
    "- [The Python Tutorial](https://docs.python.org/3/tutorial/)\n",
    "- [Scientific Python Lectures](https://lectures.scientific-python.org/)\n",
    "- Charles J. Weiss's [Scientific Computing for Chemists with Python](https://weisscharlesj.github.io/SciCompforChemists/notebooks/introduction/intro.html)\n",
    "- [An Introduction to Python for Chemistry](https://pythoninchemistry.org/intro_python_chemists/intro.html)\n",
    "- GenAI for making paragraphs and codes(・ω< )★\n",
    "- And so many resources on Reddit, StackExchange, etc.!"
   ]
  }
 ],
 "metadata": {
  "kernelspec": {
   "display_name": "DataAnaLec",
   "language": "python",
   "name": "python3"
  },
  "language_info": {
   "codemirror_mode": {
    "name": "ipython",
    "version": 3
   },
   "file_extension": ".py",
   "mimetype": "text/x-python",
   "name": "python",
   "nbconvert_exporter": "python",
   "pygments_lexer": "ipython3",
   "version": "3.13.5"
  }
 },
 "nbformat": 4,
 "nbformat_minor": 5
}
