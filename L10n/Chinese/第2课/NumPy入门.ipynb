{
 "cells": [
  {
   "cell_type": "markdown",
   "id": "c02863bc1ba075df",
   "metadata": {},
   "source": [
    "# 第2课：NumPy入门\n",
    "\n",
    "> 授课教师： [Yuki Oyama](mailto:y.oyama@lrcs.ac), [Prprnya](mailto:nya@prpr.zip)\n",
    ">\n",
    "> 克里斯蒂安·弗雷德里希·魏希曼化学系, 拉斯托利亚皇家理学院\n",
    "\n",
    "本材料采用<a href=\"https://creativecommons.org/licenses/by-nc-sa/4.0/deed.zh-hans\">知识共享 署名-非商业性使用-相同方式共享 4.0</a> 许可协议授权<img src=\"https://mirrors.creativecommons.org/presskit/icons/cc.svg\" alt=\"\" style=\"max-width: 1em;max-height:1em;margin-left: .2em;\"><img src=\"https://mirrors.creativecommons.org/presskit/icons/by.svg\" alt=\"\" style=\"max-width: 1em;max-height:1em;margin-left: .2em;\"><img src=\"https://mirrors.creativecommons.org/presskit/icons/nc.svg\" alt=\"\" style=\"max-width: 1em;max-height:1em;margin-left: .2em;\"><img src=\"https://mirrors.creativecommons.org/presskit/icons/sa.svg\" alt=\"\" style=\"max-width: 1em;max-height:1em;margin-left: .2em;\">\n",
    "\n",
    "本节课将介绍 Python 中用于数值计算的第三方库—— `numpy` 的一些基本功能。这个库支持数组与矩阵运算，并提供了丰富的数学函数。本节课我们将主要聚焦于 NumPy 的核心功能。"
   ]
  },
  {
   "cell_type": "markdown",
   "id": "78da17417f4c4e43",
   "metadata": {},
   "source": [
    "## 导入库\n",
    "\n",
    "\n",
    "在第一节课中，我们介绍了 Python 中变量与运算的基本概念，但在实际应用中，我们常常需要借助额外的库（libraries）来完成更复杂的任务。所谓库，就是一组预先编写好的代码集合，能够为 Python 提供额外的功能。\n",
    "\n",
    "本节课我们将使用一个最常见的库：`numpy`。\n",
    "\n",
    "要使用某个库，首先需要将其导入。这可以通过 import 语句实现。例如，要导入 `numpy` 库，可以使用以下代码：\n",
    "\n",
    "```python\n",
    "import numpy\n",
    "```\n"
   ]
  },
  {
   "cell_type": "code",
   "execution_count": null,
   "id": "5e1667ba3698448",
   "metadata": {},
   "outputs": [],
   "source": [
    "import numpy"
   ]
  },
  {
   "cell_type": "markdown",
   "id": "dc9827128e6dc031",
   "metadata": {},
   "source": [
    "导入 `numpy` 后，我们便可调用其中的函数和方法，对数组或矩阵执行各种操作。例如，我们可以使用 `numpy` 查看圆周率 $\\pi$ 的值：\n",
    "\n",
    "```python\n",
    "pi\n",
    "```\n"
   ]
  },
  {
   "cell_type": "code",
   "execution_count": null,
   "id": "6919032a86601a1",
   "metadata": {},
   "outputs": [],
   "source": [
    "#pi"
   ]
  },
  {
   "cell_type": "markdown",
   "id": "b4789968bda0e9af",
   "metadata": {},
   "source": [
    "Oh, no... 运行这段代码后，你应该会看到一个 `NameError`。这个错误说明 `pi` 并未被定义。其实，`pi` 是 `numpy` 库的一部分，因此我们必须明确指出它是从 `numpy` 中调用的。正确的做法是在它前面加上 `numpy.` 前缀：\n",
    "\n",
    "```python\n",
    "numpy.pi\n",
    "```\n",
    "\n",
    "（译者注：我们特意将上一个代码单元格中的 `pi` 注释掉了。因为直接运行它会产生 `NameError` 错误并中断单元格的执行。你可以尝试删除注释并运行，来亲自观察这个错误。）"
   ]
  },
  {
   "cell_type": "code",
   "execution_count": null,
   "id": "922fd3d83f3160c1",
   "metadata": {},
   "outputs": [],
   "source": [
    "numpy.pi"
   ]
  },
  {
   "cell_type": "markdown",
   "id": "d59b4ad3db49d7fd",
   "metadata": {},
   "source": [
    "不过，每次都要输入 `numpy.` 未免繁琐。为方便起见，我们可以使用 `as` 关键字为库指定一个**别名**（alias），从而用更简短的名称来引用它。例如，可以将 `numpy` 导入为 `np`：\n",
    "\n",
    "```python\n",
    "import numpy as np\n",
    "```"
   ]
  },
  {
   "cell_type": "code",
   "execution_count": null,
   "id": "4207e49b3c0a87a1",
   "metadata": {},
   "outputs": [],
   "source": [
    "import numpy as np"
   ]
  },
  {
   "cell_type": "markdown",
   "id": "d8aa3998ee20abf7",
   "metadata": {},
   "source": [
    "当然，你也可以根据你的喜好，使用任意名称作为别名，如 `nyanya` ：\n",
    "（译者注：正如我们在第一节课中提到的，Python 语法允许使用中文作为标识符，故此处你也可以用 `囊派`作为别名。但为了保证代码的可读性、避免潜在的编码兼容性问题，我们强烈建议在实际编程中坚持使用英文。）\n",
    "\n",
    "```python\n",
    "import numpy as nyanya\n",
    "nyanya.pi\n",
    "\n",
    "```"
   ]
  },
  {
   "cell_type": "code",
   "execution_count": null,
   "id": "c46a0df780c277f1",
   "metadata": {},
   "outputs": [],
   "source": [
    "import numpy as nyanya\n",
    "nyanya.pi"
   ]
  },
  {
   "cell_type": "markdown",
   "id": "b96a5784d244421",
   "metadata": {},
   "source": [
    "为了我们自己及他人的精神健康着想，我们统一采用 `np` 作为 `numpy` 的别名——这也是 Python 科学计算社区中最广泛使用的惯例。现在，你可以再次查看 $\\pi$ 的值了：\n",
    "\n",
    "```python\n",
    "import numpy as np\n",
    "np.pi"
   ]
  },
  {
   "cell_type": "code",
   "execution_count": null,
   "id": "1db290f802300794",
   "metadata": {},
   "outputs": [],
   "source": [
    "import numpy as np\n",
    "np.pi"
   ]
  },
  {
   "cell_type": "markdown",
   "id": "886dffb7dc8dcab2",
   "metadata": {},
   "source": [
    "你是否已经体会到使用别名的好处了？它省下了大量的重复输入工作！"
   ]
  },
  {
   "cell_type": "markdown",
   "id": "f5077a8a2ce23914",
   "metadata": {},
   "source": [
    "## 常见数学函数\n",
    "\n",
    "NumPy 提供了广泛的数学函数，如：\n",
    "\n",
    "| 函数         | 描述                                     |\n",
    "|--------------|------------------------------------------|\n",
    "| `np.sin(x)`  |  `x` 的正弦函数($\\sin x$, $x$ 使用弧度制表示)    |\n",
    "| `np.cos(x)`  |  `x` 的余弦函数($\\cos x$, $x$ 使用弧度制表示)  |\n",
    "| `np.tan(x)`  |  `x` 的正切函数($\\tan x$, $x$ 使用弧度制表示) |\n",
    "| `np.exp(x)`  |  `x` 的指数函数($e^x$)                |\n",
    "| `np.log(x)`  |  `x` 的自然对数($\\ln x$)        |\n",
    "| `np.sqrt(x)` |  `x` 的平方根($\\sqrt{x}$)           |\n",
    "\n",
    "有关更多数学函数的定义与使用，请参见 [NumPy Document](https://numpy.org/doc/stable/reference/routines.math.html)或[Numpy 中文文档](https://numpy.com.cn/doc/stable/reference/routines.math.html)。\n",
    "\n",
    "让我们来试试吧：\n",
    "\n",
    "```python\n",
    "np.sqrt(2)\n",
    "```"
   ]
  },
  {
   "cell_type": "code",
   "execution_count": null,
   "id": "e7194e21a0630132",
   "metadata": {},
   "outputs": [],
   "source": [
    "np.sqrt(2)"
   ]
  },
  {
   "cell_type": "markdown",
   "id": "48c00139bd35e584",
   "metadata": {},
   "source": [
    "同样的，我们也可以：\n",
    "\n",
    "```python\n",
    "np.exp(1)\n",
    "```"
   ]
  },
  {
   "cell_type": "code",
   "execution_count": null,
   "id": "42ba68ab69818630",
   "metadata": {},
   "outputs": [],
   "source": [
    "np.exp(1)"
   ]
  },
  {
   "cell_type": "markdown",
   "id": "c63c370217a4840",
   "metadata": {},
   "source": [
    "接下来，再试试：\n",
    "\n",
    "```python\n",
    "np.cos(np.pi/2)\n",
    "```"
   ]
  },
  {
   "cell_type": "code",
   "execution_count": null,
   "id": "462700386e3f9a9e",
   "metadata": {},
   "outputs": [],
   "source": [
    "np.cos(np.pi/2)"
   ]
  },
  {
   "cell_type": "markdown",
   "id": "a0b3d3f53e9cc342",
   "metadata": {},
   "source": [
    "你可能会注意到，最后一个输出结果并非严格等于零。这是由于计算机在进行浮点数运算时存在着精度限制，从而引入了微小的数值误差。在实际应用中，我们通常会将绝对值足够小（例如，小于某个预设容差）的数视为零。\n",
    "\n",
    "（译者注：这种误差源于“机器精度”（machine epsilon）。简单来说，它指的是计算机能够区分的两个最接近的浮点数之间的最小差值。由于这种限制，任何浮点数运算都可能引入并累积微小的误差。因此，**所有浮点数计算都不可避免地存在这类误差**。这并非代码或库的缺陷，而是计算机存储和处理数字的固有特性。你可以尝试计算 `0.1 + 0.2`，看看结果是否精确等于 `0.3`，从而更直观地理解这个问题。）"
   ]
  },
  {
   "cell_type": "markdown",
   "id": "25c900a1d24c2093",
   "metadata": {},
   "source": [
    "## 数组\n",
    "\n",
    "\n",
    "NumPy 提供了一种强大的数据结构——**数组**（array），它是由**相同类型**的元素所组成的集合。数组可以是一维的（类似一个列表）、二维的（类似一个矩阵），甚至更高的维度。下面我们来看一个创建一维数组的例子：\n",
    "\n",
    "$$\n",
    "\\begin{bmatrix}1 & 2 & 3 & 4 & 5\\end{bmatrix}\n",
    "$$\n",
    "\n",
    "```python\n",
    "arr = np.array([1, 2, 3, 4, 5])\n",
    "arr\n",
    "```"
   ]
  },
  {
   "cell_type": "code",
   "execution_count": null,
   "id": "8cfd2958f9561bcb",
   "metadata": {},
   "outputs": [],
   "source": [
    "arr = np.array([1, 2, 3, 4, 5])\n",
    "arr"
   ]
  },
  {
   "cell_type": "markdown",
   "id": "4da10968d208f4a2",
   "metadata": {},
   "source": [
    "在上面的代码中，我们使用 `np.array()` 函数创建了一个名为 `arr` 的一维数组。数组的元素用方括号包围，并以逗号分隔。我们可以通过 `type()` 函数查看变量 `arr` 的类型：\n",
    "```python\n",
    "type(arr)\n",
    "```"
   ]
  },
  {
   "cell_type": "code",
   "execution_count": null,
   "id": "f918f161cb5d9415",
   "metadata": {},
   "outputs": [],
   "source": [
    "type(arr)"
   ]
  },
  {
   "cell_type": "markdown",
   "id": "42a575cd7fab6c08",
   "metadata": {},
   "source": [
    "输出结果表明，`arr` 的类型是 `numpy.ndarray`，即“n 维数组”（n-dimensional array）。这与我们在第一节课中介绍的基本类型（如 `int`、`float` 等）有所不同，但目前我们暂时无需深究其细节。\n",
    "\n",
    "我们还可以通过数组的 `size` 属性来查看其元素个数，方法是在数组名后加上 `.size`：\n",
    "\n",
    "```python\n",
    "arr.size"
   ]
  },
  {
   "cell_type": "code",
   "execution_count": null,
   "id": "8780a8c3fdee9c18",
   "metadata": {},
   "outputs": [],
   "source": [
    "arr.size"
   ]
  },
  {
   "cell_type": "markdown",
   "id": "129bcce022db727e",
   "metadata": {},
   "source": [
    "由于数组中的元素必须是同一类型，如果尝试创建包含不同类型元素的数组，NumPy 会自动尝试将所有元素转换为一个兼容的公共类型。比如：\n",
    "\n",
    "```python\n",
    "arr_mixed = np.array([1, 2.5, 3, 4.0, 5])\n",
    "arr_mixed\n",
    "```"
   ]
  },
  {
   "cell_type": "code",
   "execution_count": null,
   "id": "ad162ed0e186990b",
   "metadata": {},
   "outputs": [],
   "source": [
    "arr_mixed = np.array([1, 2.5, 3, 4.0, 5])\n",
    "arr_mixed"
   ]
  },
  {
   "cell_type": "markdown",
   "id": "a35b57818cdfaabd",
   "metadata": {},
   "source": [
    "```python\n",
    "arr_mixed2 = np.array([1, 'two', 3, 4.0, 5])\n",
    "arr_mixed2\n",
    "```"
   ]
  },
  {
   "cell_type": "code",
   "execution_count": null,
   "id": "a9450e8ed42fd370",
   "metadata": {},
   "outputs": [],
   "source": [
    "arr_mixed2 = np.array([1, 'two', 3, 4.0, 5])\n",
    "arr_mixed2"
   ]
  },
  {
   "cell_type": "markdown",
   "id": "ddd275a2dc3f7cbc",
   "metadata": {},
   "source": [
    "### 基本操作\n",
    "\n",
    "NumPy 数组支持与单个数字（标量）进行加、减、乘、除等基本算术运算。例如：\n",
    "\n",
    "$$\n",
    "\\begin{bmatrix}1+1 & 2+1 & 3+1 & 4+1 & 5+1\\end{bmatrix} = \\begin{bmatrix}2 & 3 & 4 & 5 & 6\\end{bmatrix}\n",
    "$$\n",
    "\n",
    "```python\n",
    "arr + 1\n",
    "```"
   ]
  },
  {
   "cell_type": "code",
   "execution_count": null,
   "id": "a60c3a4df182cee6",
   "metadata": {},
   "outputs": [],
   "source": [
    "arr + 1"
   ]
  },
  {
   "cell_type": "markdown",
   "id": "9110df937f17eb17",
   "metadata": {},
   "source": [
    "$$\n",
    "\\begin{bmatrix}1 \\times 2 & 2 \\times 2 & 3 \\times 2 & 4 \\times 2 & 5 \\times 2\\end{bmatrix} = \\begin{bmatrix}2 & 4 & 6 & 8 & 10\\end{bmatrix}\n",
    "$$\n",
    "\n",
    "```python\n",
    "arr * 2\n",
    "```"
   ]
  },
  {
   "cell_type": "code",
   "execution_count": null,
   "id": "a2a4d79baa7e9acd",
   "metadata": {},
   "outputs": [],
   "source": [
    "arr * 2"
   ]
  },
  {
   "cell_type": "markdown",
   "id": "5f2066382cf40037",
   "metadata": {},
   "source": [
    "$$\n",
    "\\begin{bmatrix}1/3 & 2/3 & 3/3 & 4/3 & 5/3\\end{bmatrix} = \\begin{bmatrix}0.\\dot{3} & 0.\\dot{6} & 1 & 1.\\dot{3} & 1.\\dot{6}\\end{bmatrix}\n",
    "$$\n",
    "\n",
    "```python\n",
    "arr / 3\n",
    "```"
   ]
  },
  {
   "cell_type": "code",
   "execution_count": null,
   "id": "1bae687367a2f900",
   "metadata": {},
   "outputs": [],
   "source": [
    "arr / 3"
   ]
  },
  {
   "cell_type": "markdown",
   "id": "14176085d042c85d",
   "metadata": {},
   "source": [
    "我们还可以对两个形状相同的数组进行逐元素（element-wise）运算。例如：\n",
    "\n",
    "$$\n",
    "\\begin{bmatrix}10 & 20 & 30 & 40 & 50\\end{bmatrix} + \\begin{bmatrix}1 & 2 & 3 & 4 & 5\\end{bmatrix} = \\begin{bmatrix}11 & 22 & 33 & 44 & 55\\end{bmatrix}\n",
    "$$\n",
    "\n",
    "```python\n",
    "arr1 = np.array([10, 20, 30, 40, 50])\n",
    "arr2 = np.array([1, 2, 3, 4, 5])\n",
    "arr1 + arr2\n",
    "```"
   ]
  },
  {
   "cell_type": "code",
   "execution_count": null,
   "id": "c0fe2b9448443d1b",
   "metadata": {},
   "outputs": [],
   "source": [
    "arr1 = np.array([10, 20, 30, 40, 50])\n",
    "arr2 = np.array([1, 2, 3, 4, 5])\n",
    "arr1 + arr2"
   ]
  },
  {
   "cell_type": "markdown",
   "id": "88dbe12f12e811d9",
   "metadata": {},
   "source": [
    "$$\n",
    "\\begin{bmatrix}10 & 20 & 30 & 40 & 50\\end{bmatrix} - \\begin{bmatrix}1 & 2 & 3 & 4 & 5\\end{bmatrix} = \\begin{bmatrix}9 & 18 & 27 & 36 & 45\\end{bmatrix}\n",
    "$$\n",
    "\n",
    "```python\n",
    "arr1 - arr2\n",
    "```"
   ]
  },
  {
   "cell_type": "code",
   "execution_count": null,
   "id": "3ccddbaafd88ded5",
   "metadata": {},
   "outputs": [],
   "source": [
    "arr1 - arr2"
   ]
  },
  {
   "cell_type": "markdown",
   "id": "1ebcc3a8e65874c4",
   "metadata": {},
   "source": [
    "$$\n",
    "\\begin{bmatrix}10 \\times 1 & 20 \\times 2 & 30 \\times 3 & 40 \\times 4 & 50 \\times 5\\end{bmatrix} = \\begin{bmatrix}10 & 40 & 90 & 160 & 250\\end{bmatrix}\n",
    "$$\n",
    "\n",
    "```python\n",
    "arr1 * arr2\n",
    "```"
   ]
  },
  {
   "cell_type": "code",
   "execution_count": null,
   "id": "f5aa69cb7b1d22d0",
   "metadata": {},
   "outputs": [],
   "source": [
    "arr1 * arr2"
   ]
  },
  {
   "cell_type": "markdown",
   "id": "882b8987fce68d8c",
   "metadata": {},
   "source": [
    "$$\n",
    "\\begin{bmatrix}10/1 & 20/2 & 30/3 & 40/4 & 50/5\\end{bmatrix} = \\begin{bmatrix}10 & 10 & 10 & 10 & 10\\end{bmatrix}\n",
    "$$\n",
    "\n",
    "```python\n",
    "arr1 / arr2\n",
    "```"
   ]
  },
  {
   "cell_type": "code",
   "execution_count": null,
   "id": "946edc7994582899",
   "metadata": {},
   "outputs": [],
   "source": [
    "arr1 / arr2"
   ]
  },
  {
   "cell_type": "markdown",
   "id": "c8d5f4a6f8d606f2",
   "metadata": {},
   "source": [
    "我们还可以对数组直接应用一些数学函数。例如：\n",
    "\n",
    "$$\n",
    "\\begin{bmatrix}\\sin 0 & \\sin \\dfrac{\\pi}{2} & \\sin \\pi\\end{bmatrix} = \\begin{bmatrix}0 & 1 & 0\\end{bmatrix}\n",
    "$$\n",
    "\n",
    "```python\n",
    "arr3 = np.array([0, np.pi/2, np.pi])\n",
    "np.sin(arr3)\n",
    "```"
   ]
  },
  {
   "cell_type": "code",
   "execution_count": null,
   "id": "f40373d595e0ecde",
   "metadata": {},
   "outputs": [],
   "source": [
    "arr3 = np.array([0, np.pi/2, np.pi])\n",
    "np.sin(arr3)"
   ]
  },
  {
   "cell_type": "markdown",
   "id": "10910ba730e2899d",
   "metadata": {},
   "source": [
    "### 索引与切片\n",
    "\n",
    "有时我们只想从数组中取出某一个特定元素，这时可以使用**索引**（indexing）。<u>**在 Python 中，索引是从 `0` 开始的。**</u> 索引值必须是整数。例如，如果我们想要获取数组 `arr` 的第一个元素，可以这样写：\n",
    "\n",
    "```python\n",
    "arr[0]"
   ]
  },
  {
   "cell_type": "code",
   "execution_count": null,
   "id": "e25c4b6dace7e448",
   "metadata": {},
   "outputs": [],
   "source": [
    "arr[0]"
   ]
  },
  {
   "cell_type": "markdown",
   "id": "9323e3bd31c7f51",
   "metadata": {},
   "source": [
    "同理：\n",
    "```python\n",
    "arr[1]\n",
    "```"
   ]
  },
  {
   "cell_type": "code",
   "execution_count": null,
   "id": "3f8ba822b07b3790",
   "metadata": {},
   "outputs": [],
   "source": [
    "arr[1]"
   ]
  },
  {
   "cell_type": "markdown",
   "id": "b0a0add98eedc620",
   "metadata": {},
   "source": [
    "```python\n",
    "arr[4]\n",
    "```"
   ]
  },
  {
   "cell_type": "code",
   "execution_count": null,
   "id": "203a5a46333a2810",
   "metadata": {},
   "outputs": [],
   "source": [
    "arr[4]"
   ]
  },
  {
   "cell_type": "markdown",
   "id": "e0e4061c8bbc173c",
   "metadata": {},
   "source": [
    "```python\n",
    "arr[-1]\n",
    "```"
   ]
  },
  {
   "cell_type": "code",
   "execution_count": null,
   "id": "b8c33f6fa4cf5fba",
   "metadata": {},
   "outputs": [],
   "source": [
    "arr[-1]"
   ]
  },
  {
   "cell_type": "markdown",
   "id": "2266724c295ee97e",
   "metadata": {},
   "source": [
    "你注意到 `arr[-1]` 的结果了吗？索引 `-1` 代表着数组的最后一个元素，`-2` 代表着倒数第二个元素，依此类推。\n",
    "\n",
    "那如果我们尝试访问一个超出范围的索引呢？例如：\n",
    "\n",
    "```python\n",
    "arr[5]"
   ]
  },
  {
   "cell_type": "code",
   "execution_count": null,
   "id": "b79c239fe2c500c9",
   "metadata": {},
   "outputs": [],
   "source": [
    "# arr[5]"
   ]
  },
  {
   "cell_type": "markdown",
   "id": "ab675aa5e986e06b",
   "metadata": {},
   "source": [
    "就像之前未导入 `numpy` 就直接使用 `pi` 会报错一样，这里我们再次遇到了一个错误，但这次是另一种类型的错误：`IndexError`，表示索引超出了这个数组的有效范围。在这个例子中，`arr` 的合法索引为 `0` 到 `4`（或者 `-1` 到 `-5`），因此访问索引 `5` 会导致错误。我们将在后续的内容中来详细讨论错误处理。\n",
    "\n",
    "如果我们想一次访问数组中的多个元素，可以使用切片（slicing）。切片允许我们通过指定一个索引范围来获取数组的一部分。其语法为 `array[start:stop]`，其中 `start` 是要<u>**包含**</u>的第一个元素的索引，`stop` 是要<u>**排除**</u>的第一个元素的索引（换句话说，切片的结果是从索引为`start` 到 索引为`stop-1` 的所有元素）。由于 `start` 和 `stop` 都是索引，因此必须为整数。例如：\n",
    "\n",
    "```python\n",
    "arr[1:4]"
   ]
  },
  {
   "cell_type": "code",
   "execution_count": null,
   "id": "6cbadbd61b59d707",
   "metadata": {},
   "outputs": [],
   "source": [
    "arr[1:4]"
   ]
  },
  {
   "cell_type": "markdown",
   "id": "be516e77be71c826",
   "metadata": {},
   "source": [
    "```python\n",
    "arr[0:3]\n",
    "```"
   ]
  },
  {
   "cell_type": "code",
   "execution_count": null,
   "id": "2981636b842c8c90",
   "metadata": {},
   "outputs": [],
   "source": [
    "arr[0:3]"
   ]
  },
  {
   "cell_type": "markdown",
   "id": "87a1c416bca33333",
   "metadata": {},
   "source": [
    "```python\n",
    "arr[2:5]\n",
    "```"
   ]
  },
  {
   "cell_type": "code",
   "execution_count": null,
   "id": "15aefd640d646adb",
   "metadata": {},
   "outputs": [],
   "source": [
    "arr[2:5]"
   ]
  },
  {
   "cell_type": "markdown",
   "id": "6ac9ddced2939025",
   "metadata": {},
   "source": [
    "如果我们将 `stop` 和 `start` 设置为相等的值，我们将得到一个空数组：\n",
    "\n",
    "```python\n",
    "arr[3:3]\n",
    "```"
   ]
  },
  {
   "cell_type": "code",
   "execution_count": null,
   "id": "67a204cfecd8c153",
   "metadata": {},
   "outputs": [],
   "source": [
    "arr[3:3]"
   ]
  },
  {
   "cell_type": "markdown",
   "id": "3241e613531daee6",
   "metadata": {},
   "source": [
    "显然，如果 `start` 大于 `stop`，我们也会得到一个空数组：\n",
    "```python\n",
    "arr[4:2]\n",
    "```"
   ]
  },
  {
   "cell_type": "code",
   "execution_count": null,
   "id": "6cb6fbbfd38a04ca",
   "metadata": {},
   "outputs": [],
   "source": [
    "arr[4:2]"
   ]
  },
  {
   "cell_type": "markdown",
   "id": "cc4f4a3999c46fe7",
   "metadata": {},
   "source": [
    "如果我们省略 `start` 索引，它将会默认为 `0`。如果省略 `stop` 索引，它默认为数组的长度。例如：\n",
    "\n",
    "```python\n",
    "arr[:3]\n",
    "```"
   ]
  },
  {
   "cell_type": "code",
   "execution_count": null,
   "id": "cba6e7856339bd0d",
   "metadata": {},
   "outputs": [],
   "source": [
    "arr[:3]"
   ]
  },
  {
   "cell_type": "markdown",
   "id": "de3112bf1be9c5f",
   "metadata": {},
   "source": [
    "```python\n",
    "arr[2:]\n",
    "```"
   ]
  },
  {
   "cell_type": "code",
   "execution_count": null,
   "id": "f259424ae2fbaab7",
   "metadata": {},
   "outputs": [],
   "source": [
    "arr[2:]"
   ]
  },
  {
   "cell_type": "markdown",
   "id": "9ec34cff352119c4",
   "metadata": {},
   "source": [
    "如果我们同时省略 `start` 和 `stop`，我们将得到完整的原始数组：\n",
    "\n",
    "```python\n",
    "arr[:]\n",
    "```"
   ]
  },
  {
   "cell_type": "code",
   "execution_count": null,
   "id": "d9397867a6b08160",
   "metadata": {},
   "outputs": [],
   "source": [
    "arr[:]"
   ]
  },
  {
   "cell_type": "markdown",
   "id": "d41d9fafc8b05d82",
   "metadata": {},
   "source": [
    "在 `start` 和 `stop`之外，我们还可以使用语法 `array[start:stop:step]` 指定一个 `step` 值。`step` 决定了切片中元素之间的间隔。为避免混淆，`step` 必须是非零整数。如果省略 `step`，其默认值为 `1`。例如：\n",
    "\n",
    "\n",
    "```python\n",
    "arrlong = np.array([1, 2, 3, 4, 5, 6, 7, 8, 9, 10])\n",
    "arrlong[2:7:2]\n",
    "```"
   ]
  },
  {
   "cell_type": "code",
   "execution_count": null,
   "id": "debe9c92d6eb16fc",
   "metadata": {},
   "outputs": [],
   "source": [
    "arrlong = np.array([1, 2, 3, 4, 5, 6, 7, 8, 9, 10])\n",
    "arrlong[2:7:2]"
   ]
  },
  {
   "cell_type": "markdown",
   "id": "744f3348d7620741",
   "metadata": {},
   "source": [
    "```python\n",
    "arrlong[::3]\n",
    "```"
   ]
  },
  {
   "cell_type": "code",
   "execution_count": null,
   "id": "8411e4dea9199f63",
   "metadata": {},
   "outputs": [],
   "source": [
    "arrlong[::3]"
   ]
  },
  {
   "cell_type": "markdown",
   "id": "1daf328eb1fa6744",
   "metadata": {},
   "source": [
    "```python\n",
    "arrlong[2:5:1]\n",
    "```"
   ]
  },
  {
   "cell_type": "code",
   "execution_count": null,
   "id": "c5e9d649990de150",
   "metadata": {},
   "outputs": [],
   "source": [
    "arrlong[2:5:1]"
   ]
  },
  {
   "cell_type": "markdown",
   "id": "dd61e293d3afe0b7",
   "metadata": {},
   "source": [
    "如果 `step`参数为负数, 切片将 _逆向_ 进行。例如:\n",
    "\n",
    "```python\n",
    "arrlong[::-1]\n",
    "```"
   ]
  },
  {
   "cell_type": "code",
   "execution_count": null,
   "id": "e3609d38f8d72c05",
   "metadata": {},
   "outputs": [],
   "source": [
    "arrlong[::-1]"
   ]
  },
  {
   "cell_type": "markdown",
   "id": "7e610e1195bfee4d",
   "metadata": {},
   "source": [
    "如果`step`参数为负数, 需要保证`start`索引必须大于`stop`索引, 否则将得到一个空数组。如:\n",
    "```python\n",
    "arrlong[7:2:-2]\n",
    "```"
   ]
  },
  {
   "cell_type": "code",
   "execution_count": null,
   "id": "20d2a36a270fb881",
   "metadata": {},
   "outputs": [],
   "source": [
    "arrlong[7:2:-2]"
   ]
  },
  {
   "cell_type": "markdown",
   "id": "c7af74f8ff528a02",
   "metadata": {},
   "source": [
    "```python\n",
    "arrlong[2:7:-2]\n",
    "```"
   ]
  },
  {
   "cell_type": "code",
   "execution_count": null,
   "id": "c58ff3afdca84d32",
   "metadata": {},
   "outputs": [],
   "source": [
    "arrlong[2:7:-2]"
   ]
  },
  {
   "cell_type": "markdown",
   "id": "5f7ffae47b312f9d",
   "metadata": {},
   "source": [
    "<span style=\"color:green\">**练习**:</span> 下面的代码生成了一个从1到20的整数数组\n",
    "\n",
    "```python\n",
    "arr_ex = np.arange(1, 21)\n",
    "```\n",
    "\n",
    "试写一个代码来实现以下任务：\n",
    "  -  使用切片，提取该数组中位于奇数索引（即索引1、3、5、...）的元素。\n",
    "  -  从这些提取的元素中减去1。\n",
    "  -  将每个结果元素乘以 $\\pi/6$。\n",
    "  -  使用 `np.cos()` 计算每个修改后元素的余弦值。\n",
    "\n",
    "在每步都输出结果来验证你的代码正确性。"
   ]
  },
  {
   "cell_type": "code",
   "execution_count": null,
   "id": "795217d5ac19061d",
   "metadata": {},
   "outputs": [],
   "source": []
  },
  {
   "cell_type": "markdown",
   "id": "c0b759d0937af2c",
   "metadata": {},
   "source": [
    "## 二维数组\n",
    "\n",
    "NumPy 也支持多维数组。二维数组可以被视为一个具有行和列的[矩阵](https://zh.wikipedia.org/wiki/%E7%9F%A9%E9%98%B5)。我们可以使用 `np.array()` 函数通过传递一个嵌套的列表来创建二维数组。例如：\n",
    "\n",
    "$$\n",
    "\\begin{bmatrix}\n",
    "1 & 2 & 3 \\\\\n",
    "4 & 5 & 6 \\\\\n",
    "7 & 8 & 9\n",
    "\\end{bmatrix}\n",
    "$$\n",
    "\n",
    "```python\n",
    "matrix = np.array([[1, 2, 3], [4, 5, 6], [7, 8, 9]])\n",
    "matrix\n",
    "```"
   ]
  },
  {
   "cell_type": "code",
   "execution_count": null,
   "id": "1f491e92b16ebc91",
   "metadata": {},
   "outputs": [],
   "source": [
    "matrix = np.array([[1, 2, 3], [4, 5, 6], [7, 8, 9]])\n",
    "matrix"
   ]
  },
  {
   "cell_type": "markdown",
   "id": "57599dd24791b73",
   "metadata": {},
   "source": [
    "与一维数组类似，我们也可以获取二维数组的类型：\n",
    "\n",
    "```python\n",
    "type(matrix)\n",
    "```"
   ]
  },
  {
   "cell_type": "code",
   "execution_count": null,
   "id": "bdb51e4ca379b224",
   "metadata": {},
   "outputs": [],
   "source": [
    "type(matrix)"
   ]
  },
  {
   "cell_type": "markdown",
   "id": "e52ffdf10a34dcb0",
   "metadata": {},
   "source": [
    "可以注意到，类型仍然是 `numpy.ndarray`，这意味着 NumPy 在类型上并不显示的区分一维数组和多维数组。我们还可以获取二维数组的大小，即数组中元素的总数：\n",
    "\n",
    "```python\n",
    "matrix.size\n",
    "```"
   ]
  },
  {
   "cell_type": "code",
   "execution_count": null,
   "id": "fb81d88befae0c1a",
   "metadata": {},
   "outputs": [],
   "source": [
    "matrix.size"
   ]
  },
  {
   "cell_type": "markdown",
   "id": "285d6e6ac16ae49e",
   "metadata": {},
   "source": [
    "对于二维数组，我们还可以通过 `shape` 属性查看其**形状**。`shape` 以 `(行数, 列数)` 的形式返回数组的维度信息：\n",
    "\n",
    "\n",
    "```python\n",
    "matrix.shape\n",
    "```"
   ]
  },
  {
   "cell_type": "code",
   "execution_count": null,
   "id": "72490066b6b404bc",
   "metadata": {},
   "outputs": [],
   "source": [
    "matrix.shape"
   ]
  },
  {
   "cell_type": "markdown",
   "id": "3e9a56cd2f5a3ae1",
   "metadata": {},
   "source": [
    "如前所述，一维数组的运算同样适用于二维数组。例如，对于两个形状相同的矩阵，我们可以进行逐元素的加法、减法、乘法和除法运算，也可以对矩阵中的每个元素应用数学函数。\n",
    "\n",
    "$$\n",
    "\\begin{bmatrix}\n",
    "1 & 2 & 3 \\\\\n",
    "4 & 5 & 6 \\\\\n",
    "7 & 8 & 9\n",
    "\\end{bmatrix}\n",
    "+\n",
    "\\begin{bmatrix}\n",
    "9 & 8 & 7 \\\\\n",
    "6 & 5 & 4 \\\\\n",
    "3 & 2 & 1\n",
    "\\end{bmatrix}\n",
    "=\n",
    "\\begin{bmatrix}\n",
    "10 & 10 & 10 \\\\\n",
    "10 & 10 & 10 \\\\\n",
    "10 & 10 & 10\n",
    "\\end{bmatrix}\n",
    "$$\n",
    "\n",
    "```python\n",
    "matrix2 = np.array([[9, 8, 7], [6, 5, 4], [3, 2, 1]])\n",
    "matrix + matrix2\n",
    "```"
   ]
  },
  {
   "cell_type": "code",
   "execution_count": null,
   "id": "cb31c8df009e349f",
   "metadata": {},
   "outputs": [],
   "source": [
    "matrix2 = np.array([[9, 8, 7], [6, 5, 4], [3, 2, 1]])\n",
    "matrix + matrix2"
   ]
  },
  {
   "cell_type": "markdown",
   "id": "95e0ec8632bf24eb",
   "metadata": {},
   "source": [
    "$$\n",
    "\\begin{bmatrix}\n",
    "\\sqrt{1} & \\sqrt{2} & \\sqrt{3} \\\\\n",
    "\\sqrt{4} & \\sqrt{5} & \\sqrt{6} \\\\\n",
    "\\sqrt{7} & \\sqrt{8} & \\sqrt{9}\n",
    "\\end{bmatrix}\n",
    "=\n",
    "\\begin{bmatrix}\n",
    "1 & \\sqrt{2} & \\sqrt{3} \\\\\n",
    "2 & \\sqrt{5} & \\sqrt{6} \\\\\n",
    "\\sqrt{7} & 2\\sqrt{2} & 3\n",
    "\\end{bmatrix}\n",
    "\\approx\n",
    "\\begin{bmatrix}\n",
    "1 & 1.414 & 1.732 \\\\\n",
    "2 & 2.236 & 2.449 \\\\\n",
    "2.646 & 2.828 & 3\n",
    "\\end{bmatrix}\n",
    "$$\n",
    "\n",
    "```python\n",
    "np.sqrt(matrix)\n",
    "```"
   ]
  },
  {
   "cell_type": "code",
   "execution_count": null,
   "id": "cc37218eb03bf880",
   "metadata": {},
   "outputs": [],
   "source": [
    "np.sqrt(matrix)"
   ]
  },
  {
   "cell_type": "markdown",
   "id": "73732432bb975aca",
   "metadata": {},
   "source": [
    "索引与切片功能同样也适用于二维数组。我们可以使用这两个功能来访问单个元素，若干个行或列。如：\n",
    "\n",
    "```python\n",
    "a = np.array([[ 0,  1,  2,  3,  4,  5],\n",
    "              [10, 11, 12, 13, 14, 15],\n",
    "              [20, 21, 22, 23, 24, 25],\n",
    "              [30, 31, 32, 33, 34, 35],\n",
    "              [40, 41, 42, 43, 44, 45],\n",
    "              [50, 51, 52, 53, 54, 55]])\n",
    "a\n",
    "```"
   ]
  },
  {
   "cell_type": "code",
   "execution_count": null,
   "id": "e73f5f77a99a53c5",
   "metadata": {},
   "outputs": [],
   "source": [
    "a = np.array([[ 0,  1,  2,  3,  4,  5],\n",
    "              [10, 11, 12, 13, 14, 15],\n",
    "              [20, 21, 22, 23, 24, 25],\n",
    "              [30, 31, 32, 33, 34, 35],\n",
    "              [40, 41, 42, 43, 44, 45],\n",
    "              [50, 51, 52, 53, 54, 55]])\n",
    "a"
   ]
  },
  {
   "cell_type": "markdown",
   "id": "8bbe69ddde4dd410",
   "metadata": {},
   "source": [
    "如想要获取单行，可以使用单个索引。例如，获取第二行（即 `[10, 11, 12, 13, 14, 15]`）可以这样写：\n",
    "\n",
    "```python\n",
    "a[1]\n",
    "```"
   ]
  },
  {
   "cell_type": "code",
   "execution_count": null,
   "id": "cc809391dd3ee873",
   "metadata": {},
   "outputs": [],
   "source": [
    "a[1]"
   ]
  },
  {
   "cell_type": "markdown",
   "id": "a4d1a2c24b1cc32b",
   "metadata": {},
   "source": [
    "想要得到单个元素，我们需要使用两个索引：第一个索引表示<u>行</u>，第二个索引表示<u>列</u>。例如如果我们想要得到第二行第三列的元素（即 `12`），代码如下：\n",
    "\n",
    "```python\n",
    "a[1][2]\n",
    "```"
   ]
  },
  {
   "cell_type": "code",
   "execution_count": null,
   "id": "1432679add24c8e1",
   "metadata": {},
   "outputs": [],
   "source": [
    "a[1][2]"
   ]
  },
  {
   "cell_type": "markdown",
   "id": "ca6c0ba54150da0d",
   "metadata": {},
   "source": [
    "他也可以简写为：\n",
    "\n",
    "```python\n",
    "a[1, 2]\n",
    "```\n",
    "\n",
    "注意，这一简便的写法只适用于 NumPy 数组，而不适用于 Python 列表。"
   ]
  },
  {
   "cell_type": "code",
   "execution_count": null,
   "id": "6b3998bd0f548b73",
   "metadata": {},
   "outputs": [],
   "source": [
    "a[1, 2]"
   ]
  },
  {
   "cell_type": "markdown",
   "id": "3ca8b34f9a24099",
   "metadata": {},
   "source": [
    "如果我们只用 Python 原生列表来访问单个列会有些麻烦。好在 NumPy 提供了便捷的切片方式来实现这一操作。基于前面介绍的索引简写语法，我们可以将任意一个维度的索引用切片（`start:stop:step`）代替。"
   ]
  },
  {
   "cell_type": "markdown",
   "id": "3d8ebbcbfb93f1f",
   "metadata": {},
   "source": [
    "我们来看看几个例子：\n",
    "\n",
    "<img src=\"./assets/numpy_indexing.png\" alt=\"2D array\" width=\"50%\" style=\"display:block; margin:auto\"/>\n",
    "\n",
    "> 图片来源：[NumPy documentation](https://lectures.scientific-python.org/intro/numpy/array_object.html#indexing-and-slicing)\n",
    "\n",
    "- <span style=\"color:red\">红色</span>部分对应 `a[0, 3:5]`，表示**第 1 行**中**第 4 到第 5 列**的元素（不包含第 6 列）。\n",
    "- <span style=\"color:green\">绿色</span>部分对应 `a[4:, 4:]`，表示**从第 5 行到最后一行**、**从第 5 列到最后一列**的子数组。\n",
    "- <span style=\"color:blue\">蓝色</span>部分对应 `a[:, 2]`，表示**所有行**的**第 3 列**（注意列索引从 0 开始）。\n",
    "- <span style=\"color:purple\">紫色</span>部分对应 `a[2::2, ::2]`，表示**从第 3 行开始、每隔一行取一行**，同时**从第 1 列开始、每隔一列取一列**（即行和列均以步长 2 取值）。\n",
    "\n",
    "你可以运行以下代码来验证这些结果：\n",
    "\n",
    "```python\n",
    "print(a[0, 3:5])    # 红色\n",
    "print(a[4:, 4:])    # 绿色\n",
    "print(a[:, 2])      # 蓝色\n",
    "print(a[2::2, ::2]) # 紫色"
   ]
  },
  {
   "cell_type": "code",
   "execution_count": null,
   "id": "52f1ce591cfcb5c9",
   "metadata": {},
   "outputs": [],
   "source": [
    "print(a[0, 3:5])    # Red\n",
    "print(a[4:, 4:])    # Green\n",
    "print(a[:, 2])      # Blue\n",
    "print(a[2::2, ::2]) # Purple"
   ]
  },
  {
   "cell_type": "markdown",
   "id": "e01c3ea5f31a9fbe",
   "metadata": {},
   "source": [
    "<span style=\"color:green\">**练习**:</span> 使用切片功能，从矩阵 `a` 中提取一个子矩阵，这个子矩阵包含第 2 行到第 4 行（含第 2 行，不含第 5 行）以及第 3 列到第 5 列（含第 3 列，不含第 6 列）的元素（即一个以元素 `23` 为中心的 3×3 子矩阵）。并打印该子矩阵。"
   ]
  },
  {
   "cell_type": "code",
   "execution_count": null,
   "id": "32e2dedfa89d1d1c",
   "metadata": {},
   "outputs": [],
   "source": []
  },
  {
   "cell_type": "markdown",
   "id": "66846ee599d1212d",
   "metadata": {},
   "source": [
    "## 两个关于数组的实用函数\n",
    "\n",
    "以下是两个用于生成一组等间距数值数组的常用函数：\n",
    "\n",
    "- `np.arange(start, stop, step)`：在指定范围内，按给定**步长**生成等间距的数值。\n",
    "- `np.linspace(start, stop, num)`：在两个端点之间生成指定**数量**的等间距数值。\n",
    "\n",
    "例如，若要创建一个包含从 0 到 9 的**整数**的数组，可以使用 `np.arange()`：\n",
    "\n",
    "```python\n",
    "np.arange(0, 10, 1)"
   ]
  },
  {
   "cell_type": "code",
   "execution_count": null,
   "id": "7534cb016a992e25",
   "metadata": {},
   "outputs": [],
   "source": [
    "np.arange(0, 10, 1)"
   ]
  },
  {
   "cell_type": "markdown",
   "id": "d9a5fbf97816231",
   "metadata": {},
   "source": [
    "如果我们想要创建一个从 5 开始，到 15 结束，且只包含_奇数_的数组，我们可以设置步长为 2：\n",
    "\n",
    "```python\n",
    "np.arange(5, 16, 2)\n",
    "```"
   ]
  },
  {
   "cell_type": "code",
   "execution_count": null,
   "id": "6b07233d00bdfe85",
   "metadata": {},
   "outputs": [],
   "source": [
    "np.arange(5, 16, 2)"
   ]
  },
  {
   "cell_type": "markdown",
   "id": "6c423bf4bf90206c",
   "metadata": {},
   "source": [
    "如果我们想在 0 到 1 的闭区间内生成 5 个等间距的数值（间距为 0.25），可以使用 `np.linspace()`：\n",
    "\n",
    "```python\n",
    "np.linspace(0, 1, 5)\n",
    "```"
   ]
  },
  {
   "cell_type": "code",
   "execution_count": null,
   "id": "619d86752489a175",
   "metadata": {},
   "outputs": [],
   "source": [
    "np.linspace(0, 1, 5)"
   ]
  },
  {
   "cell_type": "markdown",
   "id": "afd9efe4fcbb7390",
   "metadata": {},
   "source": [
    "最后，我们来创建一个在 0 到 $\\pi$ 区间内包含 4 个等间距点的数组（其间距为 $\\frac{\\pi}{3}$）：\n",
    "\n",
    "```python\n",
    "np.linspace(0, np.pi, 4)\n",
    "```"
   ]
  },
  {
   "cell_type": "code",
   "execution_count": null,
   "id": "1b958f4817d762e2",
   "metadata": {},
   "outputs": [],
   "source": [
    "np.linspace(0, np.pi, 4)"
   ]
  },
  {
   "cell_type": "markdown",
   "id": "119e30db",
   "metadata": {},
   "source": [
    "译者注：\n",
    "\n",
    "本节课概述了 NumPy 的核心功能。作为 Python 科学计算的基石之一，NumPy 的设计理念与接口（API）深刻影响了许多后续的库（如 SciPy、pandas、JAX、PyTorch 等）。这些库在设计上与 NumPy 保持了高度的一致性，从而降低了用户的学习成本。尽管如此，它们在具体的函数接口和行为上仍可能存在差异。因此，在迁移代码时，我们强烈建议您查阅目标库的官方文档，并进行充分的测试以确保其正确性。\n",
    "\n",
    "请记住，在解决实际问题时，NumPy 并非总是唯一或最优的选择。您应根据具体需求，选择最适合的工具与实现。\n"
   ]
  },
  {
   "cell_type": "markdown",
   "id": "937d49dafe4c120c",
   "metadata": {},
   "source": [
    "## 课后习题\n",
    "\n",
    "### 问题1: 数组的养成方法\n",
    "\n",
    "请**仅**使用本节课介绍过的方法，完成以下任务：\n",
    "\n",
    "1. 使用 `np.linspace` 在 0 到 $\\pi$ 的闭区间内，创建一个包含 9 个等间距数值的一维数组 `radians`。"
   ]
  },
  {
   "cell_type": "code",
   "execution_count": null,
   "id": "35d4b82ecd9c9c61",
   "metadata": {},
   "outputs": [],
   "source": []
  },
  {
   "cell_type": "markdown",
   "id": "b4c0b6b3c6a0057a",
   "metadata": {},
   "source": [
    "2. 计算下面两个数组：\n",
    "   - `s = np.sin(radians)`\n",
    "   - `c = np.cos(radians)`"
   ]
  },
  {
   "cell_type": "code",
   "execution_count": null,
   "id": "fe7e37edf3bafba9",
   "metadata": {},
   "outputs": [],
   "source": []
  },
  {
   "cell_type": "markdown",
   "id": "6030dfbc92704298",
   "metadata": {},
   "source": [
    "3. 计算数组 `t = s*s + c*c`。然后，使用切片，从索引 1 开始，每隔一个元素提取 `t` 中的元素。"
   ]
  },
  {
   "cell_type": "code",
   "execution_count": null,
   "id": "88f986e98e8262eb",
   "metadata": {},
   "outputs": [],
   "source": []
  },
  {
   "cell_type": "markdown",
   "id": "b679c9567cfc4bbe",
   "metadata": {},
   "source": [
    "4. 请使用这个notebook中已经定义的二维数组 `matrix`，完成以下问题：\n",
    "   - 回答 `matrix.size`(元素总数) 和 `matrix.shape` (数组形状)。\n",
    "   - 使用切片或索引提取 `matrix` 的最后一列。\n",
    "   - 提取一个由 `matrix` 的所有行和前两列构成的子矩阵。"
   ]
  },
  {
   "cell_type": "code",
   "execution_count": null,
   "id": "5d62e84140387e84",
   "metadata": {},
   "outputs": [],
   "source": []
  },
  {
   "cell_type": "markdown",
   "id": "431fb956e5f425b",
   "metadata": {},
   "source": [
    "### Problem 2: 量子谐振子\n",
    "\n",
    "考虑一个一维的[量子谐振子](https://zh.wikipedia.org/wiki/%E9%87%8F%E5%AD%90%E8%AB%A7%E6%8C%AF%E5%AD%90)，但其势能函数在原点处增加了一个[狄拉克δ函数](https://zh.wikipedia.org/wiki/%E7%8B%84%E6%8B%89%E5%85%8B%CE%B4%E5%87%BD%E6%95%B0)形式的微扰。其总势能为：\n",
    "\n",
    "$$V(x) = \\frac{1}{2} m \\omega^2 x^2 + \\alpha \\delta(x)$$\n",
    "\n",
    "其中，$m$ 是粒子质量，$\\omega$ 是角频率，$\\alpha$ 是描述微扰强度的常数。为简化问题，我们设 $m = 1$，$\\omega = 1$，$\\alpha = 1$，即：\n",
    "\n",
    "$$V(x) = \\frac{1}{2} x^2 + \\delta(x)$$\n",
    "\n",
    "在不受微扰的情况下，谐振子的波函数为：\n",
    "\n",
    "$$\\psi_n(x) = \\left(\\frac{m \\omega}{\\pi \\hbar}\\right)^{1/4} \\frac{1}{\\sqrt{2^n n!}} H_n\\left(\\sqrt{\\frac{m \\omega}{\\hbar}} x\\right) e^{-\\frac{m \\omega x^2}{2 \\hbar}}$$\n",
    "\n",
    "其中 $H_n$ 是[埃尔米特多项式](https://zh.wikipedia.org/wiki/%E5%9F%83%E5%B0%94%E7%B1%B3%E7%89%B9%E5%A4%9A%E9%A1%B9%E5%BC%8F)。同样，为了简化，我们设普朗克常数 $\\hbar = 1$。代入 $m$、$\\omega$ 和 $\\hbar$ 的值后，上式变为：\n",
    "\n",
    "$$\\psi_n(x) = \\left(\\frac{1}{\\pi}\\right)^{1/4} \\frac{1}{\\sqrt{2^n n!}} H_n(x) e^{-\\frac{x^2}{2}}$$\n",
    "\n",
    "请使用 NumPy 完成以下任务：\n",
    "\n",
    "1. 使用 `np.linspace` 在 -5 到 5 的闭区间内，创建一个包含 200 个等间距数值的一维数组 `x`。"
   ]
  },
  {
   "cell_type": "code",
   "execution_count": null,
   "id": "ddd2a3f4c53743fa",
   "metadata": {},
   "outputs": [],
   "source": []
  },
  {
   "cell_type": "markdown",
   "id": "cc98874d18963402",
   "metadata": {},
   "source": [
    "2. 下面的代码定义了一个函数 `harmonic_psi(n, x)`，用于计算给定量子数 `n` 和位置数组 `x` 所对应的谐振子波函数 $\\psi_n(x)$。请利用此函数，计算并验证基态（$n=0$）在 $x = 0$ 和 $x = 1$ 处的波函数值。\n",
    "\n",
    "    ```python\n",
    "    from scipy.special import eval_hermite, factorial\n",
    "\n",
    "    def harmonic_psi(n, x):\n",
    "        return eval_hermite(n, x) * np.exp(-x ** 2 / 2) / np.sqrt(2 ** n * factorial(n)) / (np.pi) ** 0.25\n",
    "    ```\n"
   ]
  },
  {
   "cell_type": "code",
   "execution_count": null,
   "id": "50554c31c1431ca4",
   "metadata": {},
   "outputs": [],
   "source": []
  },
  {
   "cell_type": "markdown",
   "id": "c3b0149af9b6b695",
   "metadata": {},
   "source": [
    "3. 利用之前创建的数组 `x`，计算基态波函数 $\\psi_0$ 在 $x = -5$ 到 $x = 5$ 范围内的取值，并将结果存入变量 `psi_0`。类似地，分别计算第一至第五激发态（即 $\\psi_1$ 到 $\\psi_5$）的波函数值，并存入变量`psi_1`至 `psi_5`。然后，创建一个二维数组 `psis`，其中每一行对应一个量子态（从 $n=0$ 到 $n=5$），每一列对应 `x` 中的一个位置。"
   ]
  },
  {
   "cell_type": "code",
   "execution_count": null,
   "id": "e6a965c699d21f6c",
   "metadata": {},
   "outputs": [],
   "source": []
  },
  {
   "cell_type": "markdown",
   "id": "eb52fe029b500f92",
   "metadata": {},
   "source": [
    "4. 现在让我们引入微扰势的影响。位于原点的$\\delta$函数会改变波函数，但仅影响偶数态（即 $n=0, 2, 4, \\ldots$）。偶数态的推导稍复杂一些，但奇数态（$n=1, 3, 5$）仍保持不变。请通过对 `psis` 进行切片，提取出奇数态，并存入新的数组 `psis_odd`中。"
   ]
  },
  {
   "cell_type": "code",
   "execution_count": null,
   "id": "a0c2ffc04358c8a0",
   "metadata": {},
   "outputs": [],
   "source": []
  },
  {
   "cell_type": "markdown",
   "id": "6fffa56f8bd9f889",
   "metadata": {},
   "source": [
    "5. 运行下面的代码，你将可视化这些奇数态的波函数。*（我们将在后续课程中学习如何绘制这样的图像。）*\n",
    "（译者注：感兴趣的同学也可以试着修改下代码，以可视化未引入微扰的波函数。）\n",
    "    ```python\n",
    "    from matplotlib import pyplot as plt\n",
    "\n",
    "    plt.figure(figsize=(8, 6))\n",
    "\n",
    "    for n in range(psis_odd.shape[1]):\n",
    "        plt.plot(x, psis_odd[:, n], label=f'n={n}')\n",
    "\n",
    "    plt.grid(linestyle='--')\n",
    "\n",
    "    plt.legend()\n",
    "    plt.show()\n",
    "    ```"
   ]
  },
  {
   "cell_type": "code",
   "execution_count": null,
   "id": "da8bdb00515e6fbc",
   "metadata": {},
   "outputs": [],
   "source": []
  },
  {
   "cell_type": "markdown",
   "id": "bae1c59325cc7e53",
   "metadata": {},
   "source": [
    "## 致谢\n",
    "\n",
    "本课程借鉴了以下资源:\n",
    "\n",
    "- [NumPy Official Website](https://numpy.org)\n",
    "- [Scientific Python Lectures](https://lectures.scientific-python.org/)\n",
    "- Charles J. Weiss's [Scientific Computing for Chemists with Python](https://weisscharlesj.github.io/SciCompforChemists/notebooks/introduction/intro.html)\n",
    "- [An Introduction to Python for Chemistry](https://pythoninchemistry.org/intro_python_chemists/intro.html)\n",
    "- GenAI for making paragraphs and codes(・ω< )★\n",
    "- And so many resources on Reddit, StackExchange, etc.!"
   ]
  }
 ],
 "metadata": {
  "kernelspec": {
   "display_name": "Python 3",
   "language": "python",
   "name": "python3"
  },
  "language_info": {
   "codemirror_mode": {
    "name": "ipython",
    "version": 3
   },
   "file_extension": ".py",
   "mimetype": "text/x-python",
   "name": "python",
   "nbconvert_exporter": "python",
   "pygments_lexer": "ipython3",
   "version": "3.9.13"
  }
 },
 "nbformat": 4,
 "nbformat_minor": 5
}
