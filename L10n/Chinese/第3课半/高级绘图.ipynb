{
 "cells": [
  {
   "metadata": {},
   "cell_type": "markdown",
   "source": [
    "# 第3课半：高级绘图\n",
    "\n",
    "> 授课教师： [Yuki Oyama](mailto:y.oyama@lrcs.ac), [Prprnya](mailto:nya@prpr.zip)\n",
    ">\n",
    "> 克里斯蒂安·弗雷德里希·魏希曼化学系, 拉斯托利亚皇家理学院\n",
    "\n",
    "本材料采用<a href=\"https://creativecommons.org/licenses/by-nc-sa/4.0/deed.zh-hans\">知识共享 署名-非商业性使用-相同方式共享 4.0</a> 许可协议授权<img src=\"https://mirrors.creativecommons.org/presskit/icons/cc.svg\" alt=\"\" style=\"max-width: 1em;max-height:1em;margin-left: .2em;\"><img src=\"https://mirrors.creativecommons.org/presskit/icons/by.svg\" alt=\"\" style=\"max-width: 1em;max-height:1em;margin-left: .2em;\"><img src=\"https://mirrors.creativecommons.org/presskit/icons/nc.svg\" alt=\"\" style=\"max-width: 1em;max-height:1em;margin-left: .2em;\"><img src=\"https://mirrors.creativecommons.org/presskit/icons/sa.svg\" alt=\"\" style=\"max-width: 1em;max-height:1em;margin-left: .2em;\">"
   ],
   "id": "afa3d0b00d11f82a"
  },
  {
   "metadata": {},
   "cell_type": "markdown",
   "source": [
    "**Advanced Matplotlib**\n",
    "- Explicit Object-Oriented (OO) Interface: `axes.Axes` Instances\n",
    "- 3D Plotting\n",
    "- Animations and Interactive Plots\n",
    "\n",
    "**Other Libraries**\n",
    "- Seaborn\n",
    "- Altair\n",
    "- Plotly\n",
    "- Bokeh\n",
    "- Manim"
   ],
   "id": "7d4f3d034a3bebd7"
  },
  {
   "metadata": {},
   "cell_type": "code",
   "outputs": [],
   "execution_count": null,
   "source": "",
   "id": "de669ed323174bbd"
  }
 ],
 "metadata": {
  "kernelspec": {
   "display_name": "Python 3",
   "language": "python",
   "name": "python3"
  },
  "language_info": {
   "codemirror_mode": {
    "name": "ipython",
    "version": 2
   },
   "file_extension": ".py",
   "mimetype": "text/x-python",
   "name": "python",
   "nbconvert_exporter": "python",
   "pygments_lexer": "ipython2",
   "version": "2.7.6"
  }
 },
 "nbformat": 4,
 "nbformat_minor": 5
}
