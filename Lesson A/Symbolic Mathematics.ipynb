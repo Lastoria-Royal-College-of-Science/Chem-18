{
 "cells": [
  {
   "metadata": {
    "collapsed": true
   },
   "cell_type": "markdown",
   "source": [
    "# Lesson A: Symbolic Mathematics\n",
    "\n",
    "> Instructor: [Yuki Oyama](mailto:y.oyama@lrcs.ac), [Prprnya](mailto:nya@prpr.zip)\n",
    ">\n",
    "> The Christian F. Weichman Department of Chemistry, Lastoria Royal College of Science\n",
    "\n",
    "This material is licensed under <a href=\"https://creativecommons.org/licenses/by-nc-sa/4.0/\">CC BY-NC-SA 4.0</a><img src=\"https://mirrors.creativecommons.org/presskit/icons/cc.svg\" alt=\"\" style=\"max-width: 1em;max-height:1em;margin-left: .2em;\"><img src=\"https://mirrors.creativecommons.org/presskit/icons/by.svg\" alt=\"\" style=\"max-width: 1em;max-height:1em;margin-left: .2em;\"><img src=\"https://mirrors.creativecommons.org/presskit/icons/nc.svg\" alt=\"\" style=\"max-width: 1em;max-height:1em;margin-left: .2em;\"><img src=\"https://mirrors.creativecommons.org/presskit/icons/sa.svg\" alt=\"\" style=\"max-width: 1em;max-height:1em;margin-left: .2em;\">"
   ],
   "id": "ba9846d86b0085da"
  },
  {
   "metadata": {},
   "cell_type": "markdown",
   "source": "Welcome to the second part of the course! The first four lessons covered the basics of Python and its core libraries, so they're meant to be learned in sequence. This second part, however, is more application-oriented, and the lessons are independent of each other. We've arranged them alphabetically—not as a learning order, but simply to keep track of the order in which they were created. From here on, you are free to choose any lesson to start with( ´▽｀)",
   "id": "e14b7f0cf8cc15eb"
  },
  {
   "metadata": {},
   "cell_type": "markdown",
   "source": [
    "## Introduction\n",
    "Perhaps all calculations we've done in previous lessons have been done using numerical values. However, in many cases, we want to do calculations using symbols. For example, given the [Maxwell–Boltzmann distribution](https://en.wikipedia.org/wiki/Maxwell%E2%80%93Boltzmann_distribution):\n",
    "\n",
    "$$ f(v) = 4\\pi \\left( \\frac{m}{2\\pi k_B T} \\right)^\\frac{3}{2} v^2 e^{-\\frac{mv^2}{2k_BT}} $$\n",
    "\n",
    "with $v$ the speed of a particle, $m$ the mass of this particle, $T$ the temperature, and $k_B$ the Boltzmann constant. We want to find the most probable speed $v_\\text{mp}$, which is the speed at which the particle is most likely to be at a given temperature. The canonical way to do this is to find the maximum of $f(v)$, and this requires us to evaluate the derivative of $f(v)$ with respect to $v$, and set it to be zero. What if we don't want to do this tedious (_well, it's not quite tedious—you should know it! but I'm lazy..._) calculation? You can use an expensive calculator with **CAS (Computer Algebra System)** functionality to do this, or you can use software like Mathematica or Maple... These all take a lot of money! Luckily, there is a fantastic library in Python: [SymPy](https://www.sympy.org/), that can carry symbolic mathematics like finding derivatives, and this is what we will study in this lesson.\n",
    "\n",
    "*By the way, the most probable speed is $v_\\text{mp} = \\sqrt{\\frac{2k_BT}{m}}$. Do you get it?*"
   ],
   "id": "1f43eb013645b9a2"
  },
  {
   "metadata": {},
   "cell_type": "markdown",
   "source": [
    "## Exact is Magic!\n",
    "\n",
    "What an amaze symbolic mathematics is it can give us exact answers, not just numbers, to problems we'd otherwise have to work out by hand. Suppose you want to get the simplified form of $\\sqrt{8}$ (this time... you MUST know this!). Let's see what NumPy tells us…\n",
    "\n",
    "```python\n",
    "import numpy as np\n",
    "np.sqrt(8)\n",
    "```"
   ],
   "id": "6c2b73242573c311"
  },
  {
   "metadata": {},
   "cell_type": "code",
   "source": [
    "import numpy as np\n",
    "np.sqrt(8)"
   ],
   "id": "ba6ada6e7b1e0297",
   "outputs": [],
   "execution_count": null
  },
  {
   "metadata": {},
   "cell_type": "markdown",
   "source": [
    "It's a number… well, kinda not the stuff we want. Let's try SymPy... oh, we need to import it first:\n",
    "\n",
    "```python\n",
    "import sympy as sp\n",
    "```"
   ],
   "id": "e1716019b6644872"
  },
  {
   "metadata": {},
   "cell_type": "code",
   "source": "import sympy as sp",
   "id": "4ea3315b815a60a0",
   "outputs": [],
   "execution_count": null
  },
  {
   "metadata": {},
   "cell_type": "markdown",
   "source": [
    "`sp` is the recommended alias for `sympy`.\n",
    "\n",
    "This time let's see:\n",
    "\n",
    "```python\n",
    "sp.sqrt(8)\n",
    "```"
   ],
   "id": "a77259927ca7b593"
  },
  {
   "metadata": {},
   "cell_type": "code",
   "source": "sp.sqrt(8)",
   "id": "6b73174be80a02ae",
   "outputs": [],
   "execution_count": null
  },
  {
   "metadata": {},
   "cell_type": "markdown",
   "source": [
    "Wow! This is an exact result! We can even do some more complicated things:\n",
    "\n",
    "$$ \\sqrt{8} + \\sqrt{2} $$\n",
    "\n",
    "```python\n",
    "sp.sqrt(8) + sp.sqrt(2)\n",
    "```"
   ],
   "id": "97095095ed976ae1"
  },
  {
   "metadata": {},
   "cell_type": "code",
   "source": "sp.sqrt(8) + sp.sqrt(2)",
   "id": "262b248f7b23a134",
   "outputs": [],
   "execution_count": null
  },
  {
   "metadata": {},
   "cell_type": "markdown",
   "source": [
    "... even this:\n",
    "\n",
    "$$ \\int \\left[e^\\xi \\sin(\\xi) + e^\\xi \\cos(\\xi)\\right] \\, d\\xi $$\n",
    "\n",
    "```python\n",
    "xi = sp.symbols('xi')\n",
    "sp.integrate(sp.exp(xi)*sp.sin(xi) + sp.exp(xi)*sp.cos(xi), xi)\n",
    "```"
   ],
   "id": "b723b221a615607f"
  },
  {
   "metadata": {},
   "cell_type": "code",
   "source": [
    "xi = sp.symbols(r'\\xi')\n",
    "sp.integrate(sp.exp(xi)*sp.sin(xi) + sp.exp(xi)*sp.cos(xi), xi)"
   ],
   "id": "39a9a0c9f3ef66a2",
   "outputs": [],
   "execution_count": null
  },
  {
   "metadata": {},
   "cell_type": "markdown",
   "source": "Also, do you notice that the results are beautiful mathematical expressions, just like the LaTeX expressions we've seen before? This is because SymPy has this feature called \"pretty printing,\" which automatically renders the output to make it look nice.",
   "id": "6e643ccabe1eae41"
  },
  {
   "metadata": {},
   "cell_type": "markdown",
   "source": [
    "## Symbols\n",
    "\n",
    "Okay, fancy demonstrations over. Let's get back to the real deal: **symbols**. Have you noticed that when we are going to carry out calculations of algebra—like $\\xi$ above, we need to create a symbol using `sp.symbols()`? In SymPy, we cannot use `x` or `y` directly, but we need to assign them to be symbols. If you try to add a defined symbol (like `xi` above) with an undefined symbol, SymPy will throw an error:\n",
    "\n",
    "```python\n",
    "xi + x\n",
    "```"
   ],
   "id": "7c4a066c000fdd46"
  },
  {
   "metadata": {},
   "cell_type": "code",
   "source": "#xi + x",
   "id": "9d5f8ffec15d9b7e",
   "outputs": [],
   "execution_count": null
  },
  {
   "metadata": {},
   "cell_type": "markdown",
   "source": [
    "We need to define `x` as symbols first:\n",
    "\n",
    "```python\n",
    "x = sp.symbols('x')\n",
    "xi + x\n",
    "```"
   ],
   "id": "724ea1062c3b3590"
  },
  {
   "metadata": {},
   "cell_type": "code",
   "source": [
    "x = sp.symbols('x')\n",
    "xi + x"
   ],
   "id": "247e49c311a21040",
   "outputs": [],
   "execution_count": null
  },
  {
   "metadata": {},
   "cell_type": "markdown",
   "source": [
    "You can assign multiple symbols at once:\n",
    "\n",
    "```python\n",
    "x, y, z = sp.symbols('x y z')\n",
    "x + y + z\n",
    "```"
   ],
   "id": "265fffbced7420cc"
  },
  {
   "metadata": {},
   "cell_type": "code",
   "source": [
    "x, y, z = sp.symbols('x y z')\n",
    "x + y + z"
   ],
   "id": "b355a439cb748346",
   "outputs": [],
   "execution_count": null
  },
  {
   "metadata": {},
   "cell_type": "markdown",
   "source": [
    "The name of a symbol and the name of the variable it is assigned to need **NOT** have anything to do with one another. For example, we can assign `a` to be the symbol $b$, and `b` to be the symbol $a$:\n",
    "\n",
    "```python\n",
    "a, b = sp.symbols('b a')\n",
    "a # this should gives $b$\n",
    "```"
   ],
   "id": "d0aa5b358fae8a44"
  },
  {
   "metadata": {},
   "cell_type": "code",
   "source": [
    "a, b = sp.symbols('b a')\n",
    "a # this should gives $b$"
   ],
   "id": "7b18c868a6d3238f",
   "outputs": [],
   "execution_count": null
  },
  {
   "metadata": {},
   "cell_type": "markdown",
   "source": [
    "```python\n",
    "b # this should gives $a$\n",
    "```"
   ],
   "id": "1f6667b344dab9e2"
  },
  {
   "metadata": {},
   "cell_type": "code",
   "source": "b # this should gives $a$",
   "id": "7006c1770ffdac75",
   "outputs": [],
   "execution_count": null
  },
  {
   "metadata": {},
   "cell_type": "markdown",
   "source": [
    "But! This is really a bad practice! Please don't do this...\n",
    "\n",
    "There is a shortcut to define common symbols from alphabet and Greek letters. That is, you can import `sympy.abc` to get the entire alphabetical (Roman) letters and lowercase Greek letters, except letters you have defined before (`x`, `y`, `z`, `xi`, `a`, `b` in this document) and some special letters reserved for Python (like `lambda`)\n",
    "\n",
    "```python\n",
    "from sympy.abc import *\n",
    "```"
   ],
   "id": "62d01ae4bcba0e3e"
  },
  {
   "metadata": {},
   "cell_type": "code",
   "source": "from sympy.abc import *",
   "id": "77919e697d95b7f3",
   "outputs": [],
   "execution_count": null
  },
  {
   "metadata": {},
   "cell_type": "markdown",
   "source": [
    "Here, `import *` means that all elements in `sympy.abc` will be imported. Now you can check:\n",
    "\n",
    "```python\n",
    "(c + d) / e + (P + Q) + alpha * beta / gamma\n",
    "```"
   ],
   "id": "9cb0a7cb0887ad99"
  },
  {
   "metadata": {},
   "cell_type": "code",
   "source": "(c + d) / e + (P + Q) + alpha * beta / gamma",
   "id": "24eb474922873367",
   "outputs": [],
   "execution_count": null
  },
  {
   "metadata": {},
   "cell_type": "markdown",
   "source": [
    "Uppercase Greek letters need to be defined by our own:\n",
    "\n",
    "```python\n",
    "Gamma = sp.symbols('Gamma')\n",
    "Gamma\n",
    "```"
   ],
   "id": "3c14146b31a6ad9b"
  },
  {
   "metadata": {},
   "cell_type": "code",
   "source": [
    "Gamma = sp.symbols('Gamma')\n",
    "Gamma"
   ],
   "id": "be8486a3bed08f36",
   "outputs": [],
   "execution_count": null
  },
  {
   "metadata": {},
   "cell_type": "markdown",
   "source": [
    "We can also assign specific predicates to symbols, like `positive` and `negative`. This can be achieved by giving assumptions when defining the symbol:\n",
    "\n",
    "```python\n",
    "x1 = sp.symbols('x', positive=True)\n",
    "x2 = sp.symbols('x', positive=True)\n",
    "x1 == x2\n",
    "```"
   ],
   "id": "9c4afc369dd7a02d"
  },
  {
   "metadata": {},
   "cell_type": "code",
   "source": [
    "x1 = sp.symbols('x', positive=True)\n",
    "x2 = sp.symbols('x')\n",
    "x1 == x2"
   ],
   "id": "53cbf248e5d6735e",
   "outputs": [],
   "execution_count": null
  },
  {
   "metadata": {},
   "cell_type": "markdown",
   "source": [
    "See? `x1` and `x2` are not equal, because `x1` is defined as a positive symbol, but `x2` has no restrictions on it. Some commonly seen predicates are shown below.\n",
    "\n",
    "\n",
    "| **Predicate** | **Definition**                                                                                                                   | **Implications / Relations**                       |\n",
    "| ------------- |----------------------------------------------------------------------------------------------------------------------------------| -------------------------------------------------- |\n",
    "| **complex**   | A complex number $a + bi$, where $a, b \\in \\mathbb{R}$. All complex numbers are finite and include all real numbers.             | → `commutative`, → `finite`                        |\n",
    "| **real**      | A real number ($\\mathbb{R}$). Every real is also complex ($\\mathbb{R} \\subset \\mathbb{C}$); includes all rationals and integers. | → `complex`, == (`negative` | `zero` | `positive`) |\n",
    "| **imaginary** | A number of the form $bi$, where $b \\in \\mathbb{R}$ and $b \\neq 0$. Complex but not real.                                        | → `complex`, → `!real`                             |\n",
    "| **integer**   | An integer $(\\cdots, -2, -1, 0, 1, 2, \\cdots)$.                                                                                  | → `rational`, → `real`                             |\n",
    "| **even**      | An even integer ($2n$). Includes zero.                                                                                           | → `integer`, → `!odd`                              |\n",
    "| **odd**       | An odd integer ($2n + 1$).                                                                                                       | → `integer`, → `!even`                             |\n",
    "| **prime**     | A positive integer greater than $1$ that has no divisors other than $1$ and itself.                                              | → (`integer` & `positive`)                         |\n",
    "| **nonzero**   | A real or complex number that is not zero.                                                                                       | == (`!zero`), → (`real` | `complex`)               |\n",
    "| **positive**  | A real number $> 0$. All positive numbers are finite.                                                                            | == (`nonnegative` & `nonzero`), → `real`           |\n",
    "| **negative**  | A real number $< 0$. All negative numbers are finite.                                                                            | == (`nonpositive` & `nonzero`), → `real`           |\n",
    "\n",
    "\n",
    "A complete list of predicates can be accessed in the [SymPy documentation of assumptions](https://docs.sympy.org/latest/guides/assumptions.html#gotcha-symbols-with-different-assumptions:~:text=A%20full%20table%20of%20the%20possible%20predicates%20and%20their%20definitions%20is%20given%20below)."
   ],
   "id": "926fc367e98f37a"
  },
  {
   "metadata": {},
   "cell_type": "markdown",
   "source": [
    "## Basic Operations\n",
    "\n",
    "### Substitution and Evaluation\n",
    "\n",
    "One of the most important thing that you may want to do with symbols is to substitute them with numbers or other symbols. For example, recall that the wavefunction of a quantum harmonic oscillator is given by\n",
    "\n",
    "$$\\psi_n(x) = \\left(\\frac{m \\omega}{\\pi \\hbar}\\right)^{1/4} \\frac{1}{\\sqrt{2^n n!}} H_n\\left(\\sqrt{\\frac{m \\omega}{\\hbar}} x\\right) e^{-\\frac{m \\omega x^2}{2 \\hbar}}$$\n",
    "\n",
    "Sometimes people may shorten this writing by using $\\xi = \\sqrt{\\frac{m \\omega}{\\hbar}} x$, so the above expression reduces to\n",
    "\n",
    "$$\\psi_n(\\xi) = \\left(\\frac{m \\omega}{\\pi \\hbar}\\right)^{1/4} \\frac{1}{\\sqrt{2^n n!}} H_n\\left(\\xi\\right) e^{\\frac{-\\xi^2}{2}}$$\n",
    "\n",
    "However, if we want to do the above procedure reversely, I believe that you won't be willing to manually plug in all symbols. Using SymPy, we can do this simply. First let's define the expression:\n",
    "\n",
    "```python\n",
    "from sympy.functions.special.polynomials import hermite\n",
    "from sympy.physics.quantum import hbar\n",
    "\n",
    "psi_n = ((m * omega)/(sp.pi * hbar))**(1/4) * 1/sp.sqrt(2**n * sp.factorial(n)) * hermite(n, xi) * sp.exp(-xi**2 / 2)\n",
    "psi_n\n",
    "```"
   ],
   "id": "3784727463f68764"
  },
  {
   "metadata": {},
   "cell_type": "code",
   "source": [
    "from sympy.functions.special.polynomials import hermite\n",
    "from sympy.physics.quantum import hbar\n",
    "\n",
    "psi_n = ((m * omega)/(sp.pi * hbar))**(1/4) * 1/sp.sqrt(2**n * sp.factorial(n)) * hermite(n, xi) * sp.exp(-xi**2 / 2)\n",
    "psi_n"
   ],
   "id": "6e5094de6607b474",
   "outputs": [],
   "execution_count": null
  },
  {
   "metadata": {},
   "cell_type": "markdown",
   "source": [
    "We can substitute the symbol $\\xi$ with $\\sqrt{\\frac{m \\omega}{\\hbar}} x$:\n",
    "\n",
    "```python\n",
    "psi_n.subs(xi, sp.sqrt(m*omega/hbar) * x)\n",
    "```"
   ],
   "id": "bbff0c24f3358d14"
  },
  {
   "metadata": {},
   "cell_type": "code",
   "source": "psi_n.subs(xi, sp.sqrt(m*omega/hbar) * x)",
   "id": "9b48056e516902b9",
   "outputs": [],
   "execution_count": null
  },
  {
   "metadata": {},
   "cell_type": "markdown",
   "source": "### Simplification",
   "id": "c944a729c171c8f3"
  },
  {
   "metadata": {},
   "cell_type": "markdown",
   "source": [
    "## Calculus\n",
    "\n",
    "### Derivatives\n",
    "\n",
    "### Integrals\n",
    "\n",
    "### Limits\n",
    "\n",
    "### Series"
   ],
   "id": "371fefe46f1429c9"
  },
  {
   "metadata": {},
   "cell_type": "markdown",
   "source": "## Linear Algebra",
   "id": "7e6b11fa4bbf4858"
  },
  {
   "metadata": {},
   "cell_type": "markdown",
   "source": [
    "## Solving Equations\n",
    "\n",
    "### Algebraic Equations\n",
    "\n",
    "### Differential Equations"
   ],
   "id": "70ef6280021daebc"
  },
  {
   "metadata": {},
   "cell_type": "markdown",
   "source": "## Physics",
   "id": "3ef99ad6b26f7cec"
  },
  {
   "metadata": {},
   "cell_type": "markdown",
   "source": "## About Printing",
   "id": "f493a30752a364cf"
  },
  {
   "metadata": {},
   "cell_type": "markdown",
   "source": "## End-of-Lesson Problems",
   "id": "96b20dfad78047e5"
  },
  {
   "metadata": {},
   "cell_type": "markdown",
   "source": [
    "## Acknowledgement\n",
    "\n",
    "This lesson draws on ideas from the following sources:\n",
    "\n",
    "- [Anaconda](https://www.anaconda.com/) for providing an out-of-the-box Python environment\n",
    "- [Project Jupyter](https://jupyter.org/) for providing an interactive code editor\n",
    "- GenAI for making paragraphs and codes(・ω< )★\n",
    "- And so many resources on Reddit, StackExchange, etc.!"
   ],
   "id": "726b1383c09ed3a2"
  }
 ],
 "metadata": {
  "kernelspec": {
   "display_name": "Python 3",
   "language": "python",
   "name": "python3"
  },
  "language_info": {
   "codemirror_mode": {
    "name": "ipython",
    "version": 2
   },
   "file_extension": ".py",
   "mimetype": "text/x-python",
   "name": "python",
   "nbconvert_exporter": "python",
   "pygments_lexer": "ipython2",
   "version": "2.7.6"
  }
 },
 "nbformat": 4,
 "nbformat_minor": 5
}
