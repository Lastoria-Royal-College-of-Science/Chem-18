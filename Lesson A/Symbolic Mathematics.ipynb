{
 "cells": [
  {
   "metadata": {
    "collapsed": true
   },
   "cell_type": "markdown",
   "source": [
    "# Lesson A: Symbolic Mathematics\n",
    "\n",
    "> Instructor: [Yuki Oyama](mailto:y.oyama@lrcs.ac), [Prprnya](mailto:nya@prpr.zip)\n",
    ">\n",
    "> The Christian F. Weichman Department of Chemistry, Lastoria Royal College of Science\n",
    "\n",
    "This material is licensed under <a href=\"https://creativecommons.org/licenses/by-nc-sa/4.0/\">CC BY-NC-SA 4.0</a><img src=\"https://mirrors.creativecommons.org/presskit/icons/cc.svg\" alt=\"\" style=\"max-width: 1em;max-height:1em;margin-left: .2em;\"><img src=\"https://mirrors.creativecommons.org/presskit/icons/by.svg\" alt=\"\" style=\"max-width: 1em;max-height:1em;margin-left: .2em;\"><img src=\"https://mirrors.creativecommons.org/presskit/icons/nc.svg\" alt=\"\" style=\"max-width: 1em;max-height:1em;margin-left: .2em;\"><img src=\"https://mirrors.creativecommons.org/presskit/icons/sa.svg\" alt=\"\" style=\"max-width: 1em;max-height:1em;margin-left: .2em;\">"
   ],
   "id": "ba9846d86b0085da"
  },
  {
   "metadata": {},
   "cell_type": "markdown",
   "source": "Welcome to the second part of the course! The first four lessons covered the basics of Python and its core libraries, so they're meant to be learned in sequence. This second part, however, is more application-oriented, and the lessons are independent of each other. We've arranged them alphabetically—not as a learning order, but simply to keep track of the order in which they were created. From here on, you are free to choose any lesson to start with( ´▽｀)",
   "id": "e14b7f0cf8cc15eb"
  },
  {
   "metadata": {},
   "cell_type": "markdown",
   "source": [
    "## Introduction\n",
    "Perhaps all calculations we've done in previous lessons have been done using numerical values. However, in many cases, we want to do calculations using symbols. For example, given the [Maxwell–Boltzmann distribution](https://en.wikipedia.org/wiki/Maxwell%E2%80%93Boltzmann_distribution):\n",
    "\n",
    "$$ f(v) = 4\\pi \\left( \\frac{m}{2\\pi k_B T} \\right)^\\frac{3}{2} v^2 e^{-\\frac{mv^2}{2k_BT}} $$\n",
    "\n",
    "with $v$ the speed of a particle, $m$ the mass of this particle, $T$ the temperature, and $k_B$ the Boltzmann constant. We want to find the most probable speed $v_\\text{mp}$, which is the speed at which the particle is most likely to be at a given temperature. The canonical way to do this is to find the maximum of $f(v)$, and this requires us to evaluate the derivative of $f(v)$ with respect to $v$, and set it to be zero. What if we don't want to do this tedious (_well, it's not quite tedious—you should know it! but I'm lazy..._) calculation? You can use an expensive calculator with **CAS (Computer Algebra System)** functionality to do this, or you can use software like Mathematica or Maple... These all take a lot of money! Luckily, there is a fantastic library in Python: [SymPy](https://www.sympy.org/), that can carry symbolic mathematics like finding derivatives, and this is what we will study in this lesson.\n",
    "\n",
    "*By the way, the most probable speed is $v_\\text{mp} = \\sqrt{\\frac{2k_BT}{m}}$. Do you get it?*"
   ],
   "id": "1f43eb013645b9a2"
  },
  {
   "metadata": {},
   "cell_type": "markdown",
   "source": [
    "## Exact is Magic!\n",
    "\n",
    "What an amaze symbolic mathematics is it can give us exact answers, not just numbers, to problems we'd otherwise have to work out by hand. Suppose you want to get the simplified form of $\\sqrt{8}$ (this time... you MUST know this!). Let's see what NumPy tells us…\n",
    "\n",
    "```python\n",
    "import numpy as np\n",
    "np.sqrt(8)\n",
    "```"
   ],
   "id": "6c2b73242573c311"
  },
  {
   "metadata": {},
   "cell_type": "code",
   "source": [
    "import numpy as np\n",
    "np.sqrt(8)"
   ],
   "id": "ba6ada6e7b1e0297",
   "outputs": [],
   "execution_count": null
  },
  {
   "metadata": {},
   "cell_type": "markdown",
   "source": [
    "It's a number… well, kinda not the stuff we want. Let's try SymPy... oh, we need to import it first:\n",
    "\n",
    "```python\n",
    "import sympy as sp\n",
    "```"
   ],
   "id": "e1716019b6644872"
  },
  {
   "metadata": {},
   "cell_type": "code",
   "source": "import sympy as sp",
   "id": "4ea3315b815a60a0",
   "outputs": [],
   "execution_count": null
  },
  {
   "metadata": {},
   "cell_type": "markdown",
   "source": [
    "`sp` is the recommended alias for `sympy`.\n",
    "\n",
    "This time let's see:\n",
    "\n",
    "```python\n",
    "sp.sqrt(8)\n",
    "```"
   ],
   "id": "a77259927ca7b593"
  },
  {
   "metadata": {},
   "cell_type": "code",
   "source": "sp.sqrt(8)",
   "id": "6b73174be80a02ae",
   "outputs": [],
   "execution_count": null
  },
  {
   "metadata": {},
   "cell_type": "markdown",
   "source": [
    "Wow! This is an exact result! We can even do some more complicated things:\n",
    "\n",
    "$$ \\sqrt{8} + \\sqrt{2} $$\n",
    "\n",
    "```python\n",
    "sp.sqrt(8) + sp.sqrt(2)\n",
    "```"
   ],
   "id": "97095095ed976ae1"
  },
  {
   "metadata": {},
   "cell_type": "code",
   "source": "sp.sqrt(8) + sp.sqrt(2)",
   "id": "262b248f7b23a134",
   "outputs": [],
   "execution_count": null
  },
  {
   "metadata": {},
   "cell_type": "markdown",
   "source": [
    "... even this:\n",
    "\n",
    "$$ \\int \\left[e^\\xi \\sin(\\xi) + e^\\xi \\cos(\\xi)\\right] \\, d\\xi $$\n",
    "\n",
    "```python\n",
    "xi = sp.symbols('xi')\n",
    "sp.integrate(sp.exp(xi)*sp.sin(xi) + sp.exp(xi)*sp.cos(xi), xi)\n",
    "```"
   ],
   "id": "b723b221a615607f"
  },
  {
   "metadata": {},
   "cell_type": "code",
   "source": [
    "xi = sp.symbols(r'\\xi')\n",
    "sp.integrate(sp.exp(xi)*sp.sin(xi) + sp.exp(xi)*sp.cos(xi), xi)"
   ],
   "id": "39a9a0c9f3ef66a2",
   "outputs": [],
   "execution_count": null
  },
  {
   "metadata": {},
   "cell_type": "markdown",
   "source": "Also, do you notice that the results are beautiful mathematical expressions, just like the LaTeX expressions we've seen before? This is because SymPy has this feature called \"pretty printing,\" which automatically renders the output to make it look nice.",
   "id": "6e643ccabe1eae41"
  },
  {
   "metadata": {},
   "cell_type": "markdown",
   "source": [
    "## Symbols\n",
    "\n",
    "Okay, fancy demonstrations over. Let's get back to the real deal: **symbols**. Have you noticed that when we are going to carry out calculations of algebra—like $\\xi$ above, we need to create a symbol using `sp.symbols()`? In SymPy, we cannot use `x` or `y` directly, but we need to assign them to be symbols. If you try to add a defined symbol (like `xi` above) with an undefined symbol, SymPy will throw an error:\n",
    "\n",
    "```python\n",
    "xi + x\n",
    "```"
   ],
   "id": "7c4a066c000fdd46"
  },
  {
   "metadata": {},
   "cell_type": "code",
   "source": "#xi + x",
   "id": "9d5f8ffec15d9b7e",
   "outputs": [],
   "execution_count": null
  },
  {
   "metadata": {},
   "cell_type": "markdown",
   "source": [
    "We need to define `x` as symbols first:\n",
    "\n",
    "```python\n",
    "x = sp.symbols('x')\n",
    "xi + x\n",
    "```"
   ],
   "id": "724ea1062c3b3590"
  },
  {
   "metadata": {},
   "cell_type": "code",
   "source": [
    "x = sp.symbols('x')\n",
    "xi + x"
   ],
   "id": "247e49c311a21040",
   "outputs": [],
   "execution_count": null
  },
  {
   "metadata": {},
   "cell_type": "markdown",
   "source": [
    "You can assign multiple symbols at once:\n",
    "\n",
    "```python\n",
    "x, y, z = sp.symbols('x y z')\n",
    "x + y + z\n",
    "```"
   ],
   "id": "265fffbced7420cc"
  },
  {
   "metadata": {},
   "cell_type": "code",
   "source": [
    "x, y, z = sp.symbols('x y z')\n",
    "x + y + z"
   ],
   "id": "b355a439cb748346",
   "outputs": [],
   "execution_count": null
  },
  {
   "metadata": {},
   "cell_type": "markdown",
   "source": [
    "The name of a symbol and the name of the variable it is assigned to need **NOT** have anything to do with one another. For example, we can assign `a` to be the symbol $b$, and `b` to be the symbol $a$:\n",
    "\n",
    "```python\n",
    "a, b = sp.symbols('b a')\n",
    "a # this should gives $b$\n",
    "```"
   ],
   "id": "d0aa5b358fae8a44"
  },
  {
   "metadata": {},
   "cell_type": "code",
   "source": [
    "a, b = sp.symbols('b a')\n",
    "a # this should gives $b$"
   ],
   "id": "7b18c868a6d3238f",
   "outputs": [],
   "execution_count": null
  },
  {
   "metadata": {},
   "cell_type": "markdown",
   "source": [
    "```python\n",
    "b # this should gives $a$\n",
    "```"
   ],
   "id": "1f6667b344dab9e2"
  },
  {
   "metadata": {},
   "cell_type": "code",
   "source": "b # this should gives $a$",
   "id": "7006c1770ffdac75",
   "outputs": [],
   "execution_count": null
  },
  {
   "metadata": {},
   "cell_type": "markdown",
   "source": [
    "But! This is really a bad practice! Please don't do this...\n",
    "\n",
    "There is a shortcut to define common symbols from alphabet and Greek letters. That is, you can import `sympy.abc` to get the entire alphabetical (Roman) letters and lowercase Greek letters, except letters you have defined before (`x`, `y`, `z`, `xi`, `a`, `b` in this document) and some special letters reserved for Python (like `lambda`)\n",
    "\n",
    "```python\n",
    "from sympy.abc import *\n",
    "```"
   ],
   "id": "62d01ae4bcba0e3e"
  },
  {
   "metadata": {},
   "cell_type": "code",
   "source": "from sympy.abc import *",
   "id": "77919e697d95b7f3",
   "outputs": [],
   "execution_count": null
  },
  {
   "metadata": {},
   "cell_type": "markdown",
   "source": [
    "Here, `import *` means that all elements in `sympy.abc` will be imported. Now you can check:\n",
    "\n",
    "```python\n",
    "(c + d) / e + (P + Q) + alpha * beta / gamma\n",
    "```"
   ],
   "id": "9cb0a7cb0887ad99"
  },
  {
   "metadata": {},
   "cell_type": "code",
   "source": "(c + d) / e + (P + Q) + alpha * beta / gamma",
   "id": "24eb474922873367",
   "outputs": [],
   "execution_count": null
  },
  {
   "metadata": {},
   "cell_type": "markdown",
   "source": [
    "Uppercase Greek letters need to be defined by our own:\n",
    "\n",
    "```python\n",
    "Gamma = sp.symbols('Gamma')\n",
    "Gamma\n",
    "```"
   ],
   "id": "3c14146b31a6ad9b"
  },
  {
   "metadata": {},
   "cell_type": "code",
   "source": [
    "Gamma = sp.symbols('Gamma')\n",
    "Gamma"
   ],
   "id": "be8486a3bed08f36",
   "outputs": [],
   "execution_count": null
  },
  {
   "metadata": {},
   "cell_type": "markdown",
   "source": [
    "We can also assign specific predicates to symbols, like `positive` and `negative`. This can be achieved by giving assumptions when defining the symbol:\n",
    "\n",
    "```python\n",
    "x1 = sp.symbols('x', positive=True)\n",
    "x2 = sp.symbols('x', positive=True)\n",
    "x1 == x2\n",
    "```"
   ],
   "id": "9c4afc369dd7a02d"
  },
  {
   "metadata": {},
   "cell_type": "code",
   "source": [
    "x1 = sp.symbols('x', positive=True)\n",
    "x2 = sp.symbols('x')\n",
    "x1 == x2"
   ],
   "id": "53cbf248e5d6735e",
   "outputs": [],
   "execution_count": null
  },
  {
   "metadata": {},
   "cell_type": "markdown",
   "source": [
    "See? `x1` and `x2` are not equal, because `x1` is defined as a positive symbol, but `x2` has no restrictions on it. Some commonly seen predicates are shown below.\n",
    "\n",
    "\n",
    "| **Predicate** | **Definition**                                                                                                                   | **Implications / Relations**                       |\n",
    "| ------------- |----------------------------------------------------------------------------------------------------------------------------------| -------------------------------------------------- |\n",
    "| **complex**   | A complex number $a + bi$, where $a, b \\in \\mathbb{R}$. All complex numbers are finite and include all real numbers.             | → `commutative`, → `finite`                        |\n",
    "| **real**      | A real number ($\\mathbb{R}$). Every real is also complex ($\\mathbb{R} \\subset \\mathbb{C}$); includes all rationals and integers. | → `complex`, == (`negative` | `zero` | `positive`) |\n",
    "| **imaginary** | A number of the form $bi$, where $b \\in \\mathbb{R}$ and $b \\neq 0$. Complex but not real.                                        | → `complex`, → `!real`                             |\n",
    "| **integer**   | An integer $(\\cdots, -2, -1, 0, 1, 2, \\cdots)$.                                                                                  | → `rational`, → `real`                             |\n",
    "| **even**      | An even integer ($2n$). Includes zero.                                                                                           | → `integer`, → `!odd`                              |\n",
    "| **odd**       | An odd integer ($2n + 1$).                                                                                                       | → `integer`, → `!even`                             |\n",
    "| **prime**     | A positive integer greater than $1$ that has no divisors other than $1$ and itself.                                              | → (`integer` & `positive`)                         |\n",
    "| **nonzero**   | A real or complex number that is not zero.                                                                                       | == (`!zero`), → (`real` | `complex`)               |\n",
    "| **positive**  | A real number $> 0$. All positive numbers are finite.                                                                            | == (`nonnegative` & `nonzero`), → `real`           |\n",
    "| **negative**  | A real number $< 0$. All negative numbers are finite.                                                                            | == (`nonpositive` & `nonzero`), → `real`           |\n",
    "\n",
    "\n",
    "A complete list of predicates can be accessed in the [SymPy documentation of assumptions](https://docs.sympy.org/latest/guides/assumptions.html#gotcha-symbols-with-different-assumptions:~:text=A%20full%20table%20of%20the%20possible%20predicates%20and%20their%20definitions%20is%20given%20below)."
   ],
   "id": "926fc367e98f37a"
  },
  {
   "metadata": {},
   "cell_type": "markdown",
   "source": [
    "## Basic Operations\n",
    "\n",
    "### Substitution and Evaluation\n",
    "\n",
    "One of the most important thing that you may want to do with symbols is to substitute them with numbers or other symbols. For example, recall that the wavefunction of a quantum harmonic oscillator is given by\n",
    "\n",
    "$$\\psi_n(x) = \\left(\\frac{m \\omega}{\\pi \\hbar}\\right)^{1/4} \\frac{1}{\\sqrt{2^n n!}} H_n\\left(\\sqrt{\\frac{m \\omega}{\\hbar}} x\\right) e^{-\\frac{m \\omega x^2}{2 \\hbar}}$$\n",
    "\n",
    "Sometimes people may shorten this writing by using $\\xi = \\sqrt{\\frac{m \\omega}{\\hbar}} x$, so the above expression reduces to\n",
    "\n",
    "$$\\psi_n(\\xi) = \\left(\\frac{m \\omega}{\\pi \\hbar}\\right)^{1/4} \\frac{1}{\\sqrt{2^n n!}} H_n\\left(\\xi\\right) e^{\\frac{-\\xi^2}{2}}$$\n",
    "\n",
    "However, if we want to do the above procedure in reverse, I bet you wouldn't want to manually substitute all the symbols twice and then simplify the square root of a square by hand. Using SymPy, we can do this easily. First, let's define the expression:\n",
    "\n",
    "```python\n",
    "# Don't be worried about these imports!\n",
    "# They are just for defining constants and functions from sympy\n",
    "# We will show you how to use them later\n",
    "from sympy.functions.special.polynomials import hermite\n",
    "from sympy.physics.quantum import hbar\n",
    "\n",
    "psi_n = ((m * omega)/(sp.pi * hbar))**(1/4) * 1/sp.sqrt(2**n * sp.factorial(n)) * hermite(n, xi) * sp.exp(-xi**2 / 2)\n",
    "psi_n\n",
    "```"
   ],
   "id": "3784727463f68764"
  },
  {
   "metadata": {},
   "cell_type": "code",
   "source": [
    "# Don't be worried about these imports!\n",
    "# They are just for defining constants and functions from sympy\n",
    "# We will show you how to use them later\n",
    "from sympy.functions.special.polynomials import hermite\n",
    "from sympy.physics.quantum import hbar\n",
    "\n",
    "psi_n = ((m * omega)/(sp.pi * hbar))**(1/4) * 1/sp.sqrt(2**n * sp.factorial(n)) * hermite(n, xi) * sp.exp(-xi**2 / 2)\n",
    "psi_n"
   ],
   "id": "6e5094de6607b474",
   "outputs": [],
   "execution_count": null
  },
  {
   "metadata": {},
   "cell_type": "markdown",
   "source": [
    "We can substitute the symbol $\\xi$ with $\\sqrt{\\frac{m \\omega}{\\hbar}} x$ with the `subs()` function, which is a method, so you need to call it by add `.subs()` after your expression. This function takes two arguments: the symbol to be substituted, and the value to be substituted with. You can check the [documentation](https://docs.sympy.org/latest/modules/core.html#sympy.core.basic.Basic.subs:~:text=Substitutes%20old%20for%20new%20in%20an%20expression%20after%20sympifying%20args.) of `subs()` for more details.\n",
    "\n",
    "```python\n",
    "psi_n.subs(xi, sp.sqrt(m*omega/hbar) * x)\n",
    "```"
   ],
   "id": "bbff0c24f3358d14"
  },
  {
   "metadata": {},
   "cell_type": "code",
   "source": [
    "psi_n_full = psi_n.subs(xi, sp.sqrt(m*omega/hbar) * x)\n",
    "psi_n_full"
   ],
   "id": "9b48056e516902b9",
   "outputs": [],
   "execution_count": null
  },
  {
   "metadata": {},
   "cell_type": "markdown",
   "source": "The result is a symbolic expression, which can be evaluated using `evalf()`:",
   "id": "853da370b678ca8d"
  },
  {
   "metadata": {},
   "cell_type": "markdown",
   "source": [
    "You can try substituiton again with $n=0$ to find the ground state wavefunction:\n",
    "\n",
    "```python\n",
    "psi_0 = psi_n_full.subs(n, 0)\n",
    "psi_0\n",
    "```"
   ],
   "id": "48fe5accce072c45"
  },
  {
   "metadata": {},
   "cell_type": "code",
   "source": [
    "psi_0 = psi_n_full.subs(n, 0)\n",
    "psi_0"
   ],
   "id": "982b24f78c73c9e7",
   "outputs": [],
   "execution_count": null
  },
  {
   "metadata": {},
   "cell_type": "markdown",
   "source": [
    "It's not difficult to generate excited state wavefunctions with different `n`:\n",
    "\n",
    "```python\n",
    "from ipywidgets import interact, BoundedIntText\n",
    "\n",
    "# Generate a widget to let user input n from 0 to 15\n",
    "@interact(nval=BoundedIntText(value=0, description='n:', min=0, max=15))\n",
    "def psi_n_full_expr(nval):\n",
    "    return psi_n_full.subs(n, nval)\n",
    "```"
   ],
   "id": "2f15d812a9560f97"
  },
  {
   "metadata": {},
   "cell_type": "code",
   "source": [
    "from ipywidgets import interact, BoundedIntText\n",
    "\n",
    "# Generate a widget to let user input n from 0 to 15\n",
    "@interact(nval=BoundedIntText(value=0, description='n:', min=0, max=15))\n",
    "def psi_n_full_expr(nval):\n",
    "    return psi_n_full.subs(n, nval)"
   ],
   "id": "b6a64008a8fdf8c1",
   "outputs": [],
   "execution_count": null
  },
  {
   "metadata": {},
   "cell_type": "markdown",
   "source": [
    "What if we want to evaluate the wavefunction $\\psi_0$ at a specific point, like $\\psi_0(0)$? We can use `subs()` again:\n",
    "\n",
    "```python\n",
    "psi_n_full.subs([(x, 0), (n, 0)])\n",
    "```"
   ],
   "id": "961584f55830e2af"
  },
  {
   "metadata": {},
   "cell_type": "code",
   "source": "psi_n_full.subs([(x, 0), (n, 0)])",
   "id": "733d119e69bd2669",
   "outputs": [],
   "execution_count": null
  },
  {
   "metadata": {},
   "cell_type": "markdown",
   "source": [
    "This will give us an exact result. We can also convert this expression to a numerical value, by using `evalf()`:\n",
    "\n",
    "```python\n",
    "# Normally we don't use `print()` to output SymPy results\n",
    "# Here is a special case - the output needs to be converted to string by `print()`\n",
    "# You can try not to use `print()` and see what happens\n",
    "print(psi_n_full.subs([(x, 0), (n, 0)]).evalf())\n",
    "```"
   ],
   "id": "22a01afe5c7de14b"
  },
  {
   "metadata": {},
   "cell_type": "code",
   "source": "psi_n_full.subs([(x, 0), (n, 0)]).evalf()",
   "id": "263abd799e0d979",
   "outputs": [],
   "execution_count": null
  },
  {
   "metadata": {},
   "cell_type": "markdown",
   "source": [
    "Hmm... it seems that we forget to substitute $\\omega$ and $m$ with their actual values. Assume that we are treating a $\\ce{H2}$ molecule as an harmonic oscillator, we can substitute them with $\\omega = 8.28 \\times 10^{14}\\, \\mathrm{s^{-1}}$ and $m = 8.37 \\times 10^{28}\\, \\mathrm{kg}$:\n",
    "\n",
    "```python\n",
    "psi_n_full.subs([(x, 0),\n",
    "                 (n, 0),\n",
    "                 (omega, 8.28e-14),\n",
    "                 (m, 8.37e-28)]).evalf()\n",
    "```"
   ],
   "id": "856e92464a42e6aa"
  },
  {
   "metadata": {},
   "cell_type": "code",
   "source": [
    "psi_n_full.subs([(x, 0),\n",
    "                 (n, 0),\n",
    "                 (omega, 8.28e-14),\n",
    "                 (m, 8.37e-28)]).evalf()"
   ],
   "id": "dbe0309bafb4a3a9",
   "outputs": [],
   "execution_count": null
  },
  {
   "metadata": {},
   "cell_type": "markdown",
   "source": [
    "SymPy can evaluate floating point expressions to arbitrary precision. By default, 15 digits of precision are used, but you can pass any number as the argument to `evalf()`. For example:\n",
    "\n",
    "```python\n",
    "psi_n_full.subs([(x, 0),\n",
    "                 (n, 0),\n",
    "                 (omega, 8.28e-14),\n",
    "                 (m, 8.37e-28)]).evalf(5)\n",
    "```"
   ],
   "id": "619f58129c9ffa88"
  },
  {
   "metadata": {},
   "cell_type": "code",
   "source": [
    "psi_n_full.subs([(x, 0),\n",
    "                 (n, 0),\n",
    "                 (omega, 8.28e-14),\n",
    "                 (m, 8.37e-28)]).evalf(5)"
   ],
   "id": "60920e1f088c140c",
   "outputs": [],
   "execution_count": null
  },
  {
   "metadata": {},
   "cell_type": "markdown",
   "source": [
    "See how it gives the answer? Basically, you can use SymPy as a really powerful calculator( ´▽｀)\n",
    "\n",
    "For more information about `subs()` and `evalf()`, you can refer to the [SymPy tutorials of Basic Operations](https://docs.sympy.org/latest/tutorials/intro-tutorial/basic_operations.html#:~:text=y%20z%22\\)-,Substitution,-%C2%B6)."
   ],
   "id": "9569c84135bc5bc2"
  },
  {
   "metadata": {},
   "cell_type": "markdown",
   "source": [
    "### \"Lambdification\"\n",
    "\n",
    "`subs()` and `evalf()` work well for quick evaluations, but they become inefficient when you need to compute values at many points. If you’re evaluating an expression thousands of times—especially at machine precision—SymPy will be much slower than necessary. In such cases, it’s better to use NumPy or SciPy instead.\n",
    "\n",
    "The easiest way to make a SymPy expression numerically evaluable is with `lambdify()`, which converts symbolic expressions into fast, NumPy-compatible functions. This function takes two arguments: the variables to be substituted, and the expression to be converted. If you want to convert the expression to a function that takes multiple arguments, just pass a tuple of variables to the first argument of `lambdify()`. Let's try it out with our harmonic oscillator wavefunction:\n",
    "\n",
    "```python\n",
    "# We first define a `psi_for_lambdify` that substitutes the values of `omega` and `m`\n",
    "psi_for_lambdify = psi_n_full.subs([(omega, 8.28e-14), (m, 8.37e-28)])\n",
    "# Then we use `lambdify()` to convert it to a function that takes `x` and `n` as arguments\n",
    "harmonic_psi_from_sympy = sp.lambdify((x, n), psi_for_lambdify)\n",
    "# Finally, we can evaluate the function at any `x` and `n` we want\n",
    "harmonic_psi_from_sympy(1, 0)\n",
    "```"
   ],
   "id": "40cdae3e2ae8700b"
  },
  {
   "metadata": {},
   "cell_type": "code",
   "source": [
    "# We first define a `psi_for_lambdify` that substitutes the values of `omega` and `m`\n",
    "psi_for_lambdify = psi_n_full.subs([(omega, 8.28e-14), (m, 8.37e-28)])\n",
    "# Then we use `lambdify()` to convert it to a function that takes `x` and `n` as arguments\n",
    "harmonic_psi_from_sympy = sp.lambdify((x, n), psi_for_lambdify)\n",
    "# Finally, we can evaluate the function at any `x` and `n` we want\n",
    "harmonic_psi_from_sympy(1, 0)"
   ],
   "id": "dd29fde3560caa2c",
   "outputs": [],
   "execution_count": null
  },
  {
   "metadata": {},
   "cell_type": "markdown",
   "source": [
    "From here, we can pass an NumPy array to this function and we can easily plot the wavefunction with Matplotlib:\n",
    "\n",
    "```python\n",
    "import matplotlib.pyplot as plt\n",
    "\n",
    "x_vals = np.linspace(-10, 10, 100)\n",
    "psi_vals = harmonic_psi_from_sympy(x_vals, 0)\n",
    "\n",
    "plt.plot(x_vals, psi_vals)\n",
    "plt.xlabel(r'$x$')\n",
    "plt.ylabel(r'$\\psi(x)$')\n",
    "plt.show()\n",
    "```"
   ],
   "id": "f0c3020ea67469de"
  },
  {
   "metadata": {},
   "cell_type": "code",
   "source": [
    "import matplotlib.pyplot as plt\n",
    "\n",
    "x_vals = np.linspace(-7500, 7500, 200)\n",
    "\n",
    "plt.figure(figsize=(10, 6))\n",
    "\n",
    "plt.hlines(0, -9000, 9000, ls='--', color='k')\n",
    "plt.vlines(0, -0.03, 0.03, ls='--', color='k')\n",
    "\n",
    "for i in range (5):\n",
    "    psi_vals = harmonic_psi_from_sympy(x_vals, i)\n",
    "    plt.plot(x_vals, psi_vals, label=f'$n={i}$', ls='-')\n",
    "\n",
    "plt.xlim(-8000,8000)\n",
    "plt.ylim(-0.025,0.025)\n",
    "plt.xlabel(r'$x$')\n",
    "plt.ylabel(r'$\\psi(x)$')\n",
    "plt.legend()\n",
    "plt.title('Wavefunctions of Quantum Harmonic Oscillator')\n",
    "plt.grid(ls='--', alpha=0.8)\n",
    "\n",
    "plt.show()"
   ],
   "id": "b24a6e6317b0b71",
   "outputs": [],
   "execution_count": null
  },
  {
   "metadata": {},
   "cell_type": "markdown",
   "source": [
    "Nice plots, right? This is similar to what we did in the End-of-Lesson Problems of Lesson 2.\n",
    "\n",
    "There are more functionalities of `sp.lambdify()`, like specifying the module to use for the numeric library, or the module to use for the printing library. You can check more details in the [SymPy documentation of Lambdify](https://docs.sympy.org/latest/modules/utilities/lambdify.html#sympy.utilities.lambdify.lambdify).\n",
    "\n",
    "<span style=\"color:green\">**Exercise**:</span> Use SymPy to make a function of our old friend—Morse potential:\n",
    "\n",
    "$$V_\\text{Morse}(r) = D_e \\left( 1 - e^{-a \\left( r - r_0 \\right)} \\right)^2$$\n",
    "\n",
    "Evaluate it at $r = r_0$, and use `lambdify()` to make a function that takes $r$ as an argument and returns the value of $V_\\text{Morse}(r)$. Try to plot ths function with $D_e = 10.98\\,\\mathrm{eV}$, $a = 2.32\\,\\mathrm{Å}^{-1}$, and $r_0 = 1.128\\,\\mathrm{Å}$ from $r = 0.8\\, \\mathrm{Å}$ to $r = 3\\, \\mathrm{Å}$."
   ],
   "id": "1d49856f6f0fb938"
  },
  {
   "metadata": {},
   "cell_type": "code",
   "source": "",
   "id": "8b0a89edc77c1bf2",
   "outputs": [],
   "execution_count": null
  },
  {
   "metadata": {},
   "cell_type": "markdown",
   "source": [
    "## Simplification\n",
    "\n",
    "While \"simplification\" sounds like a great word, it actually covers a lot. We all know that expressions like $1 + 2x - x$ can be simplified to $1 + x$, and $\\cos^2 x + \\sin^2 x = 1$, but what about expressions like $x^2 + 2x + 1$? Do you think that's already simplified? Well, if you want to get $(x + 1)^2$, that's **factorization**, but if you prefer to keep it as it is, that’s also a simplified—or rather, **expanded** form.\n",
    "\n",
    "### Naive Simplification\n",
    "\n",
    "SymPy has many built-in simplification functions, each useful for different levels or types of simplification. The most common one is probably `sp.simplify()`. As its name suggests, this function simplifies expressions—and it does so *smartly*, using a heuristic approach. We'll go over the details later, but first, let's look at a few examples:\n",
    "\n",
    "```python\n",
    "sp.simplify(sp.sin(x)**2 + sp.cos(x)**2)\n",
    "```\n",
    "\n",
    "$$\\text{simplify}\\; \\sin^2 x + \\cos^2 x$$"
   ],
   "id": "abbed5b82799b4fd"
  },
  {
   "metadata": {},
   "cell_type": "code",
   "source": "sp.simplify(sp.sin(x)**2 + sp.cos(x)**2)",
   "id": "9bd7f76934870ef2",
   "outputs": [],
   "execution_count": null
  },
  {
   "metadata": {},
   "cell_type": "markdown",
   "source": [
    "```python\n",
    "sp.simplify((x**3 + x**2 - x - 1)/(x**2 + 2*x + 1))\n",
    "```\n",
    "\n",
    "$$ \\text{simplify}\\; \\frac{x^3 + x^2 - x - 1}{x^2 + 2x + 1}$$"
   ],
   "id": "13590bc4f281badb"
  },
  {
   "metadata": {},
   "cell_type": "code",
   "source": "sp.simplify((x**3 + x**2 - x - 1)/(x**2 + 2*x + 1))",
   "id": "3f0a23d738ee4989",
   "outputs": [],
   "execution_count": null
  },
  {
   "metadata": {},
   "cell_type": "markdown",
   "source": [
    "```python\n",
    "sp.simplify(sp.gamma(x)/sp.gamma(x - 2))\n",
    "```\n",
    "\n",
    "$$ \\text{simplify}\\; \\frac{\\Gamma(x)}{\\Gamma(x - 2)} $$\n",
    "\n",
    "(Here $\\Gamma(x)$ is the [gamma function](https://en.wikipedia.org/wiki/Gamma_function). It is closely related to factorials.)"
   ],
   "id": "4c1acf635bd67f77"
  },
  {
   "metadata": {},
   "cell_type": "code",
   "source": "sp.simplify(sp.gamma(x)/sp.gamma(x - 2))",
   "id": "4bfbf5e0d2c98cb5",
   "outputs": [],
   "execution_count": null
  },
  {
   "metadata": {},
   "cell_type": "markdown",
   "source": [
    "What about $x^2 + 2x + 1$? In fact, `sp.simplify()` doesn't change it—it either doesn't know a simpler form or considers it already simplified, so it just returns the original expression:\n",
    "\n",
    "```python\n",
    "sp.simplify(x**2 + 2*x + 1)\n",
    "```\n",
    "\n",
    "$$ \\text{simplify}\\; x^2 + 2x + 1 $$"
   ],
   "id": "d5e6a663bb3b3c7"
  },
  {
   "metadata": {},
   "cell_type": "code",
   "source": "sp.simplify(x**2 + 2*x + 1)",
   "id": "4dba0e17503996d1",
   "outputs": [],
   "execution_count": null
  },
  {
   "metadata": {},
   "cell_type": "markdown",
   "source": [
    "### Expansion\n",
    "\n",
    "For polynomials like $x^2 + 2x + 1$, SymPy has functions to simplify them specifically. `sp.expand()` will convert a polynomial to a canonical form of a sum of monomials. Well, $x^2 + 2x + 1$ is already in this form, so let's see what happens if we use `sp.expand()` on $(x+1)^2$:\n",
    "\n",
    "```python\n",
    "sp.expand((x+1)**2)\n",
    "```\n",
    "\n",
    "$$ \\text{expand}\\; (x+1)^2 $$"
   ],
   "id": "a76cc7201f4ecf49"
  },
  {
   "metadata": {},
   "cell_type": "code",
   "source": "sp.expand((x+1)**2)",
   "id": "2e8bb6d854ca1635",
   "outputs": [],
   "execution_count": null
  },
  {
   "metadata": {},
   "cell_type": "markdown",
   "source": [
    "`sp.expand()` might not sound like a simplification function. After all, its name suggests making expressions larger, not smaller, and that’s usually true, but sometimes applying `sp.expand()` can actually make an expression simpler due to term cancellations.\n",
    "\n",
    "```python\n",
    "sp.expand((x+1)**2 - 1)\n",
    "```\n",
    "\n",
    "$$ \\text{expand}\\; (x+1)^2 - 1 $$"
   ],
   "id": "f52d828e207a16c1"
  },
  {
   "metadata": {},
   "cell_type": "code",
   "source": "sp.expand((x + 1)*(x - 2) - (x - 1)*x)",
   "id": "9d4c7c694dff0f1",
   "outputs": [],
   "execution_count": null
  },
  {
   "metadata": {},
   "cell_type": "markdown",
   "source": [
    "### Factorization\n",
    "\n",
    "For polynomials, factorization is the reverse of expansion. `sp.factor()` will convert a polynomial to a product of irreducible factors over the rational numbers. For example:\n",
    "\n",
    "```python\n",
    "sp.factor(x**2 + 2*x + 1)\n",
    "```\n",
    "\n",
    "$$ \\text{factor}\\; x^2 + 2x + 1 $$"
   ],
   "id": "23456f20cf308585"
  },
  {
   "metadata": {},
   "cell_type": "code",
   "source": "sp.factor(x**2 + 2*x + 1)",
   "id": "d2f013e30fd207a",
   "outputs": [],
   "execution_count": null
  },
  {
   "metadata": {},
   "cell_type": "markdown",
   "source": [
    "You can actually pass any expression to `sp.factor()` and `sp.expand()` and they will try to factor or expand it, even it is not a pure polynomial.\n",
    "\n",
    "```python\n",
    "sp.factor(sp.sin(x)**2 + sp.cos(x)**2)\n",
    "```\n",
    "\n",
    "$$ \\text{factor}\\; \\sin^2 x + \\cos^2 x $$"
   ],
   "id": "e13765755d7232cb"
  },
  {
   "metadata": {},
   "cell_type": "code",
   "source": "sp.expand((sp.sin(x) + sp.cos(x))**2)",
   "id": "31feb66968cd63d6",
   "outputs": [],
   "execution_count": null
  },
  {
   "metadata": {},
   "cell_type": "markdown",
   "source": [
    "```python\n",
    "sp.expand(sp.sin(x)**2 + sp.cos(x)**2)\n",
    "```\n",
    "\n",
    "$$ \\text{expand}\\; (\\sin x + \\cos x)^2 $$"
   ],
   "id": "5479606ca5ad4a28"
  },
  {
   "metadata": {},
   "cell_type": "code",
   "source": "sp.expand((sp.sin(x) + sp.cos(x))**2)",
   "id": "891cab6dc06630ce",
   "outputs": [],
   "execution_count": null
  },
  {
   "metadata": {},
   "cell_type": "markdown",
   "source": [
    "### Collection\n",
    "\n",
    "The `sp.collect()` function will combine terms in an expression that share a common factor, and it takes two arguments: the expression to be combined, and the factor to be combined. For example:\n",
    "\n",
    "```python\n",
    "sp.collect(x*y + x - 3 + 2*x**2 - z*x**2 + x**3, x)\n",
    "```\n",
    "\n",
    "$$ \\text{collect}\\; xy + x - 3 + 2x^2 - zx^2 + x^3 \\; \\text{for $x$} $$"
   ],
   "id": "f6cb07ff4e2d6ef3"
  },
  {
   "metadata": {},
   "cell_type": "code",
   "source": "sp.collect(x*y + x - 3 + 2*x**2 - z*x**2 + x**3, x)",
   "id": "fb306d7e1d989078",
   "outputs": [],
   "execution_count": null
  },
  {
   "metadata": {},
   "cell_type": "markdown",
   "source": [
    "### Cancellation\n",
    "\n",
    "The `sp.cancel()` function simplifies a rational expression into its canonical form $\\frac{p}{q}$, where $p$ and $q$ are expanded polynomials that share no common factors. In this canonical form, the leading coefficients of $p$ and $q$ are integers, meaning they have no denominators.\n",
    "\n",
    "```python\n",
    "sp.cancel((x**2 + 2*x + 1)/(x**2 + x))\n",
    "```\n",
    "\n",
    "$$ \\text{cancel}\\; \\frac{x^2 + 2x + 1}{x^2 + x} $$"
   ],
   "id": "41705463b316337"
  },
  {
   "metadata": {},
   "cell_type": "code",
   "source": "sp.cancel((x**2 + 2*x + 1)/(x**2 + x))",
   "id": "e1cd1dbfd85b6a67",
   "outputs": [],
   "execution_count": null
  },
  {
   "metadata": {},
   "cell_type": "markdown",
   "source": [
    "### Partial Fraction Decomposition\n",
    "\n",
    "The `sp.apart()` function will decompose a rational expression into a product of linear combinations of monomials; i.e., the [partial fraction decomposition](https://en.wikipedia.org/wiki/Partial_fraction_decomposition). For example:\n",
    "\n",
    "```python\n",
    "sp.apart((4*x**3 + 21*x**2 + 10*x + 12)/(x**4 + 5*x**3 + 5*x**2 + 4*x))\n",
    "```\n",
    "\n",
    "$$ \\text{decompose}\\; \\frac{4x^3 + 21x^2 + 10x + 12}{x^4 + 5x^3 + 5x^2 + 4x} $$"
   ],
   "id": "a47e7d1d12025f9d"
  },
  {
   "metadata": {},
   "cell_type": "code",
   "source": "sp.apart((4*x**3 + 21*x**2 + 10*x + 12)/(x**4 + 5*x**3 + 5*x**2 + 4*x))",
   "id": "9037ba7785a2a599",
   "outputs": [],
   "execution_count": null
  },
  {
   "metadata": {},
   "cell_type": "markdown",
   "source": [
    "### Trigonometric Simplification\n",
    "\n",
    "The `sp.trigsimp()` function can simplify trigonometric expressions using [trigonometric identities](https://en.wikipedia.org/wiki/List_of_trigonometric_identities).\n",
    "\n",
    "```python\n",
    "sp.trigsimp(sp.sin(x)**2 + sp.cos(x)**2)\n",
    "```\n",
    "\n",
    "$$ \\text{trig simplify}\\; \\sin^2 x + \\cos^2 x $$"
   ],
   "id": "182375058cc7a293"
  },
  {
   "metadata": {},
   "cell_type": "markdown",
   "source": [
    "This can also do for hyperbolic trigonometric functions:\n",
    "\n",
    "```python\n",
    "sp.trigsimp(sp.sinh(x)**2 + sp.cosh(x)**2)\n",
    "```\n",
    "\n",
    "$$ \\text{trig simplify}\\; \\sinh^2 x + \\cosh^2 x $$"
   ],
   "id": "93dff9ab287b0418"
  },
  {
   "metadata": {},
   "cell_type": "code",
   "source": "sp.trigsimp(sp.sinh(x)**2 + sp.cosh(x)**2)",
   "id": "1064e1150620506",
   "outputs": [],
   "execution_count": null
  },
  {
   "metadata": {},
   "cell_type": "markdown",
   "source": [
    "The reverse of trigonometric simplification is `sp.expand_trig()`, which applies the sum or double angle identities to expand trigonometric functions.\n",
    "\n",
    "```python\n",
    "sp.expand_trig(sp.sin(x + y))\n",
    "```\n",
    "\n",
    "$$ \\text{trig expand}\\; \\sin(x + y) $$"
   ],
   "id": "16bf5025efb0ebc1"
  },
  {
   "metadata": {},
   "cell_type": "code",
   "source": "sp.expand_trig(sp.sin(x + y))",
   "id": "f8e56e6da6e9396a",
   "outputs": [],
   "execution_count": null
  },
  {
   "metadata": {},
   "cell_type": "markdown",
   "source": "There are definitely more functions to simplify expressions. You can check the [SymPy tutorial of Simplification](https://docs.sympy.org/latest/tutorials/intro-tutorial/simplification.html) and [API of Simplification](https://docs.sympy.org/latest/modules/simplify/index.html#module-sympy.simplify) for more details.",
   "id": "3e92e0b6f4094967"
  },
  {
   "metadata": {},
   "cell_type": "markdown",
   "source": [
    "<span style=\"color:green\">**Exercise**:</span> Simplify the following expressions.\n",
    "\n",
    "- $\\dfrac{x^2 - 1}{x - 1}$\n",
    "\n",
    "- $\\tan^2 x + 1$\n",
    "\n",
    "- $(x + y)^2 - (x^2 + 2xy + y^2)$\n",
    "\n",
    "- $\\dfrac{x^3 - 3x^2 + 3x - 1}{(x - 1)^3}$\n",
    "\n",
    "- $\\dfrac{\\sinh(2x)}{2\\sinh(x)\\cosh(x)}$\n",
    "\n",
    "- $\\dfrac{e^{2\\ln(x)} - 1}{e^{\\ln(x)} - 1}$"
   ],
   "id": "a3e5bb6075c92d9b"
  },
  {
   "metadata": {},
   "cell_type": "code",
   "source": "",
   "id": "94c6e3eafe033cfe",
   "outputs": [],
   "execution_count": null
  },
  {
   "metadata": {},
   "cell_type": "markdown",
   "source": [
    "## Calculus\n",
    "\n",
    "Calculus is probably the first nightmare most students face when they step into college. As chemists, we might not always have the strongest grip on it—but luckily, we don't have to! With SymPy, we can let Python handle all those tedious derivatives, integrals, and limits for us. In this section, we'll see how symbolic calculus works in SymPy and how it can make life a lot easier when dealing with real chemical and physical problems.\n",
    "\n",
    "### Derivatives\n",
    "\n",
    "Finding derivatives is a very common task in chemistry and physics. It is also easy to perform in SymPy. You can use the `sp.diff()` function to find the derivative of an expression. This function takes two arguments: the expression to be differentiated, and the variable to be differentiated with respect to. For example:\n",
    "\n",
    "```python\n",
    "sp.diff(sp.sin(x), x)\n",
    "```\n",
    "\n",
    "$$ \\frac{d}{dx} \\sin x $$"
   ],
   "id": "371fefe46f1429c9"
  },
  {
   "metadata": {},
   "cell_type": "code",
   "source": "sp.diff(sp.sin(x), x)",
   "id": "dc7daaca10d87741",
   "outputs": [],
   "execution_count": null
  },
  {
   "metadata": {},
   "cell_type": "markdown",
   "source": [
    "We can also take derivatives of higher order, by either passing the variable to be differentiated and the order of the derivative as separate arguments:\n",
    "\n",
    "```python\n",
    "sp.diff(x**3 + 2*x + 1, x, 3)\n",
    "```\n",
    "\n",
    "$$ \\frac{d^3}{dx^3} (x^3 + 2x + 1) $$"
   ],
   "id": "cd6d81d931f0e87f"
  },
  {
   "metadata": {},
   "cell_type": "code",
   "source": "sp.diff(x**3 + 2*x + 1, x, 3)",
   "id": "2598165d8286e24f",
   "outputs": [],
   "execution_count": null
  },
  {
   "metadata": {},
   "cell_type": "markdown",
   "source": [
    "Or by passing the variable to be differentiated for multiple times:\n",
    "\n",
    "```python\n",
    "sp.diff(x**3 + 2*x + 1, x, x, x)\n",
    "```\n",
    "\n",
    "$$ \\frac{d}{dx} \\frac{d}{dx} \\frac{d}{dx} (x^3 + 2x + 1) $$"
   ],
   "id": "57507b9993b2fff"
  },
  {
   "metadata": {},
   "cell_type": "code",
   "source": "sp.diff(x**3 + 2*x + 1, x, x, x)",
   "id": "e8e0fb04ee0b52aa",
   "outputs": [],
   "execution_count": null
  },
  {
   "metadata": {},
   "cell_type": "markdown",
   "source": [
    "For partial derivatives, the implementation is similar—just pass each variable to be differentiated and the order of the derivative as separate arguments:\n",
    "\n",
    "```python\n",
    "sp.diff(sp.exp(x*y*z), x, 2, y, 1, z, 3)\n",
    "```\n",
    "\n",
    "$$ \\frac{\\partial^6}{\\partial x^2 \\partial y \\partial z^3} e^{x y z} $$"
   ],
   "id": "3b77d72de92980c6"
  },
  {
   "metadata": {},
   "cell_type": "code",
   "source": "sp.diff(sp.exp(x*y*z), x, 2, y, 1, z, 3)",
   "id": "1ea81072a01081a0",
   "outputs": [],
   "execution_count": null
  },
  {
   "metadata": {},
   "cell_type": "markdown",
   "source": [
    "For clarity, you can collect each variable and its order in a tuple:\n",
    "\n",
    "```python\n",
    "sp.diff(e**(x*y*z), (x, 2), (y, 1), (z, 3))\n",
    "```"
   ],
   "id": "f7080ffb6b29422f"
  },
  {
   "metadata": {},
   "cell_type": "code",
   "source": "sp.diff(sp.exp(x*y*z), (x, 2), (y, 1), (z, 3))",
   "id": "c546f85f3b259c8e",
   "outputs": [],
   "execution_count": null
  },
  {
   "metadata": {},
   "cell_type": "markdown",
   "source": [
    "`diff()` can also be called as a method:\n",
    "\n",
    "```python\n",
    "expr = sp.sin(x**2) * sp.exp(x*y)\n",
    "expr.diff(x, 2, y)\n",
    "```\n",
    "\n",
    "$$ \\frac{\\partial^3}{\\partial x^2 \\partial y} \\sin(x^2) e^{xy} $$"
   ],
   "id": "b5bcf5251ec1f4cc"
  },
  {
   "metadata": {},
   "cell_type": "code",
   "source": [
    "expr = sp.sin(x**2) * sp.exp(x*y)\n",
    "expr.diff(x, 2, y)"
   ],
   "id": "260266036880e253",
   "outputs": [],
   "execution_count": null
  },
  {
   "metadata": {},
   "cell_type": "markdown",
   "source": [
    "We can also make an unevaluated derivative by using the `Derivative` class. It has the same syntax as `diff()` (but you can't use it as a method).\n",
    "\n",
    "```python\n",
    "sp.Derivative(sp.sin(x**2), x, 2, y)\n",
    "```"
   ],
   "id": "abf1283cee2e34b5"
  },
  {
   "metadata": {},
   "cell_type": "code",
   "source": "sp.Derivative(expr, x, 2, y)",
   "id": "4ea9474a6576bc7b",
   "outputs": [],
   "execution_count": null
  },
  {
   "metadata": {},
   "cell_type": "markdown",
   "source": [
    "To evaluate an unevaluated derivative, you can use the `doit()` method:\n",
    "\n",
    "```python\n",
    "deriv_expr = sp.Derivative(expr, x, 2, y)\n",
    "deriv_expr.doit()\n",
    "```"
   ],
   "id": "26729596ecd6c0e5"
  },
  {
   "metadata": {},
   "cell_type": "code",
   "source": [
    "deriv_expr = sp.Derivative(expr, x, 2, y)\n",
    "deriv_expr.doit()"
   ],
   "id": "d926aaf2b88f9d3e",
   "outputs": [],
   "execution_count": null
  },
  {
   "metadata": {},
   "cell_type": "markdown",
   "source": [
    "These unevaluated derivative objects are useful when you want to postpone evaluation or display the derivative symbolically. They are also used in cases where SymPy cannot directly compute the derivative, such as when dealing with differential equations that include undefined functions.\n",
    "\n",
    "Derivatives of any order can be defined by using a tuple `(x, n)`, where `n` specifies the order of differentiation with respect to `x`.\n",
    "\n",
    "```python\n",
    "deriv_any_order = (a*x + b)**m\n",
    "deriv_any_order.diff((x, n))\n",
    "```"
   ],
   "id": "cc44abd59ed853b6"
  },
  {
   "metadata": {},
   "cell_type": "code",
   "source": [
    "deriv_any_order = (a*x + b)**m\n",
    "deriv_any_order.diff((x, n))"
   ],
   "id": "8fe48a7611ecf3cb",
   "outputs": [],
   "execution_count": null
  },
  {
   "metadata": {},
   "cell_type": "markdown",
   "source": "yFor more details, you can check the [SymPy documentation of `diff()`](https://docs.sympy.org/latest/modules/core.html#sympy.core.function.diff) and [SymPy documentation of Derivatives](https://docs.sympy.org/latest/modules/core.html#sympy.core.function.Derivative).",
   "id": "6a75c41e19869e5a"
  },
  {
   "metadata": {},
   "cell_type": "markdown",
   "source": [
    "<span style=\"color:green\">**Exercise**:</span> Find the following derivatives.\n",
    "\n",
    "- $\\dfrac{d}{dt} \\left( \\dfrac{2t}{\\sqrt{t} - e^{-t}} + \\dfrac{3t}{\\sqrt{t} + e^{-t}} \\right)$\n",
    "\n",
    "- $\\dfrac{\\partial^2}{\\partial \\theta^2} \\left( \\left( \\dfrac{1 + \\sin\\theta}{1 - \\cos\\phi}  + \\cosh r \\right)^2 \\right)$\n",
    "\n",
    "- $\\dfrac{\\partial^2}{\\partial x \\partial y} \\left( \\sqrt{x^5 + y^5} \\csc(e^{x+y}) \\right)$"
   ],
   "id": "60f8da597093cdc3"
  },
  {
   "metadata": {},
   "cell_type": "code",
   "source": "",
   "id": "9fef0e0f3254ada7",
   "outputs": [],
   "execution_count": null
  },
  {
   "metadata": {},
   "cell_type": "markdown",
   "source": [
    "<span style=\"color:green\">**Exercise**:</span> Given the Morse potential\n",
    "\n",
    "$$V_\\text{Morse}(r) = D_e \\left( 1 - e^{-a \\left( r - r_0 \\right)} \\right)^2$$\n",
    "\n",
    "find the first derivative of $V_\\text{Morse}$ with respect to $r$. Then use `subs()` to set $r = r_0$ to verify that the derivative is zero at the equilibrium distance."
   ],
   "id": "262639b8450c7beb"
  },
  {
   "metadata": {},
   "cell_type": "code",
   "source": "",
   "id": "5f2ed1f007d491f0",
   "outputs": [],
   "execution_count": null
  },
  {
   "metadata": {},
   "cell_type": "markdown",
   "source": [
    "### Integrals\n",
    "\n",
    "### Limits\n",
    "\n",
    "### Series"
   ],
   "id": "2961b910a0ff7780"
  },
  {
   "metadata": {},
   "cell_type": "markdown",
   "source": "## Linear Algebra",
   "id": "7e6b11fa4bbf4858"
  },
  {
   "metadata": {},
   "cell_type": "markdown",
   "source": [
    "## Solving Equations\n",
    "\n",
    "### Algebraic Equations\n",
    "\n",
    "### Differential Equations"
   ],
   "id": "70ef6280021daebc"
  },
  {
   "metadata": {},
   "cell_type": "markdown",
   "source": "## Physics",
   "id": "3ef99ad6b26f7cec"
  },
  {
   "metadata": {},
   "cell_type": "markdown",
   "source": "## About Printing",
   "id": "f493a30752a364cf"
  },
  {
   "metadata": {},
   "cell_type": "markdown",
   "source": "## End-of-Lesson Problems",
   "id": "96b20dfad78047e5"
  },
  {
   "metadata": {},
   "cell_type": "markdown",
   "source": [
    "## Acknowledgement\n",
    "\n",
    "This lesson draws on ideas from the following sources:\n",
    "\n",
    "- [Anaconda](https://www.anaconda.com/) for providing an out-of-the-box Python environment\n",
    "- [SymPy Documentation](https://docs.sympy.org/latest/tutorials/index.html)\n",
    "- GenAI for making paragraphs and codes(・ω< )★\n",
    "- And so many resources on Reddit, StackExchange, etc.!"
   ],
   "id": "726b1383c09ed3a2"
  },
  {
   "metadata": {},
   "cell_type": "code",
   "source": "",
   "id": "f31fa09b1ef591ad",
   "outputs": [],
   "execution_count": null
  }
 ],
 "metadata": {
  "kernelspec": {
   "display_name": "Python 3",
   "language": "python",
   "name": "python3"
  },
  "language_info": {
   "codemirror_mode": {
    "name": "ipython",
    "version": 2
   },
   "file_extension": ".py",
   "mimetype": "text/x-python",
   "name": "python",
   "nbconvert_exporter": "python",
   "pygments_lexer": "ipython2",
   "version": "2.7.6"
  }
 },
 "nbformat": 4,
 "nbformat_minor": 5
}
