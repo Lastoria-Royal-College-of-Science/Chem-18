{
 "cells": [
  {
   "metadata": {},
   "cell_type": "markdown",
   "source": [
    "# Lesson 2: NumPy Preliminaries\n",
    "\n",
    "> Instructor: [Yuki Oyama](mailto:y.oyama@lrcs.ac), [Prprnya](mailto:nya@prpr.zip)\n",
    ">\n",
    "> The Christian F. Weichman Department of Chemistry, Lastoria Royal College of Science\n",
    "\n",
    "This material is licensed under <a href=\"https://creativecommons.org/licenses/by-nc-sa/4.0/\">CC BY-NC-SA 4.0</a><img src=\"https://mirrors.creativecommons.org/presskit/icons/cc.svg\" alt=\"\" style=\"max-width: 1em;max-height:1em;margin-left: .2em;\"><img src=\"https://mirrors.creativecommons.org/presskit/icons/by.svg\" alt=\"\" style=\"max-width: 1em;max-height:1em;margin-left: .2em;\"><img src=\"https://mirrors.creativecommons.org/presskit/icons/nc.svg\" alt=\"\" style=\"max-width: 1em;max-height:1em;margin-left: .2em;\"><img src=\"https://mirrors.creativecommons.org/presskit/icons/sa.svg\" alt=\"\" style=\"max-width: 1em;max-height:1em;margin-left: .2em;\">\n",
    "\n",
    "In this lesson, we will introduce some basic functionalities of the `numpy` library, which is a powerful library for numerical computing in Python. It provides support for arrays, matrices, and a wide range of mathematical functions. In this lesson, we will cover some of the basic features of NumPy.\n"
   ],
   "id": "c02863bc1ba075df"
  },
  {
   "metadata": {},
   "cell_type": "markdown",
   "source": [
    "## Importing Libraries\n",
    "\n",
    "In the first lesson, we introduced some basic concepts of variables and operations in Python, but in practice, we often need to use additional **libraries** to perform more complex tasks. Libraries are collections of pre-written code that provide additional functionality to Python. In this lesson, we will use the popular library: `numpy`.\n",
    "\n",
    "To use a library, we need to import it first. We can do this using the `import` statement. For example, to import the `numpy` library, we can use the following code:\n",
    "\n",
    "```python\n",
    "import numpy\n",
    "```"
   ],
   "id": "78da17417f4c4e43"
  },
  {
   "metadata": {},
   "cell_type": "code",
   "source": "import numpy",
   "id": "5e1667ba3698448",
   "outputs": [],
   "execution_count": null
  },
  {
   "metadata": {},
   "cell_type": "markdown",
   "source": [
    "After importing `numpy`, we can use its functions and methods to perform various operations on arrays and matrices. For example, we can check the value of $\\pi$ (`pi`) using `numpy`:\n",
    "\n",
    "```python\n",
    "pi\n",
    "```"
   ],
   "id": "dc9827128e6dc031"
  },
  {
   "metadata": {},
   "cell_type": "code",
   "source": "# pi",
   "id": "6919032a86601a1",
   "outputs": [],
   "execution_count": null
  },
  {
   "metadata": {},
   "cell_type": "markdown",
   "source": [
    "Oh, no... What's going on? You should see a `NameError` after running the cell. This _error_ indicates that `pi` is not defined. In fact, `pi` is a part of the `numpy` library, and we need to specify that we are using it from that library, which can be done by prefixing it with `numpy.`:\n",
    "\n",
    "```python\n",
    "numpy.pi\n",
    "```"
   ],
   "id": "b4789968bda0e9af"
  },
  {
   "metadata": {},
   "cell_type": "code",
   "source": "numpy.pi",
   "id": "922fd3d83f3160c1",
   "outputs": [],
   "execution_count": null
  },
  {
   "metadata": {},
   "cell_type": "markdown",
   "source": [
    "However, typing `numpy.` every time can be tedious. To make it easier, we can import the library with an _alias_ using the `as` keyword. This allows us to use a shorter name to refer to the library. For example, we can import `numpy` as `np`:\n",
    "\n",
    "```python\n",
    "import numpy as np\n",
    "```"
   ],
   "id": "d59b4ad3db49d7fd"
  },
  {
   "metadata": {},
   "cell_type": "code",
   "source": "import numpy as np",
   "id": "4207e49b3c0a87a1",
   "outputs": [],
   "execution_count": null
  },
  {
   "metadata": {},
   "cell_type": "markdown",
   "source": [
    "You can even use `nyanya` as an alias if you want—\n",
    "\n",
    "```python\n",
    "import numpy as nyanya\n",
    "nyanya.pi\n",
    "```"
   ],
   "id": "d8aa3998ee20abf7"
  },
  {
   "metadata": {},
   "cell_type": "code",
   "source": [
    "import numpy as nyanya\n",
    "nyanya.pi"
   ],
   "id": "c46a0df780c277f1",
   "outputs": [],
   "execution_count": null
  },
  {
   "metadata": {},
   "cell_type": "markdown",
   "source": [
    "For the sake of our (and more possibly, other people's!) mental health, let's stick to `np` as the alias for `numpy`, which is the most commonly used alias in the scientific Python community. Now, you can check the value of π again:\n",
    "\n",
    "```python\n",
    "import numpy as np\n",
    "np.pi\n",
    "```"
   ],
   "id": "b96a5784d244421"
  },
  {
   "metadata": {},
   "cell_type": "code",
   "source": [
    "import numpy as np\n",
    "np.pi"
   ],
   "id": "1db290f802300794",
   "outputs": [],
   "execution_count": null
  },
  {
   "metadata": {},
   "cell_type": "markdown",
   "source": "Did you see the advantage of using aliases? It saves a lot of typing!",
   "id": "886dffb7dc8dcab2"
  },
  {
   "metadata": {},
   "cell_type": "markdown",
   "source": [
    "## Common Math Functions\n",
    "\n",
    "NumPy provides a wide range of mathematical functions:\n",
    "\n",
    "| Function     | Description                               |\n",
    "|--------------|-------------------------------------------|\n",
    "| `np.sin(x)`  | Sine of `x` ($\\sin x$, $x$ in radians)    |\n",
    "| `np.cos(x)`  | Cosine of `x` ($\\cos x$, $x$ in radians)  |\n",
    "| `np.tan(x)`  | Tangent of `x` ($\\tan x$, $x$ in radians) |\n",
    "| `np.exp(x)`  | Exponential of `x` ($e^x$)                |\n",
    "| `np.log(x)`  | Natural logarithm of `x` ($\\ln x$)        |\n",
    "| `np.sqrt(x)` | Square root of `x` ($\\sqrt{x}$)           |\n",
    "\n",
    "For reference to more functions, see the [NumPy documentation](https://numpy.org/doc/stable/reference/routines.math.html).\n",
    "\n",
    "Let's try this:\n",
    "\n",
    "```python\n",
    "np.sqrt(2)\n",
    "```"
   ],
   "id": "f5077a8a2ce23914"
  },
  {
   "metadata": {},
   "cell_type": "code",
   "source": "np.sqrt(2)",
   "id": "e7194e21a0630132",
   "outputs": [],
   "execution_count": null
  },
  {
   "metadata": {},
   "cell_type": "markdown",
   "source": [
    "Also for this:\n",
    "\n",
    "```python\n",
    "np.exp(1)\n",
    "```"
   ],
   "id": "48c00139bd35e584"
  },
  {
   "metadata": {},
   "cell_type": "code",
   "source": "np.exp(1)",
   "id": "42ba68ab69818630",
   "outputs": [],
   "execution_count": null
  },
  {
   "metadata": {},
   "cell_type": "markdown",
   "source": [
    "...and then:\n",
    "\n",
    "```python\n",
    "np.cos(np.pi/2)\n",
    "```"
   ],
   "id": "c63c370217a4840"
  },
  {
   "metadata": {},
   "cell_type": "code",
   "source": "np.cos(np.pi/2)",
   "id": "462700386e3f9a9e",
   "outputs": [],
   "execution_count": null
  },
  {
   "metadata": {},
   "cell_type": "markdown",
   "source": "You will notice that the last output is not exactly zero. This is due to the limitations of floating-point arithmetic in computers, which can lead to small numerical errors. In practice, we often consider values very close to zero (e.g., within a small tolerance) as effectively zero.",
   "id": "a0b3d3f53e9cc342"
  },
  {
   "metadata": {},
   "cell_type": "markdown",
   "source": [
    "## Arrays\n",
    "\n",
    "\n",
    "NumPy provides a powerful data structure called an **array**, which is a collection of elements of the _same type_. Arrays can be one-dimensional (like a list), two-dimensional (like a matrix), or even multidimensional. Let's see an example of creating a one-dimensional array:\n",
    "\n",
    "$$\n",
    "\\begin{bmatrix}1 & 2 & 3 & 4 & 5\\end{bmatrix}\n",
    "$$\n",
    "\n",
    "```python\n",
    "arr = np.array([1, 2, 3, 4, 5])\n",
    "arr\n",
    "```"
   ],
   "id": "25c900a1d24c2093"
  },
  {
   "metadata": {},
   "cell_type": "code",
   "source": [
    "arr = np.array([1, 2, 3, 4, 5])\n",
    "arr"
   ],
   "id": "8cfd2958f9561bcb",
   "outputs": [],
   "execution_count": null
  },
  {
   "metadata": {},
   "cell_type": "markdown",
   "source": [
    "In the code above, we created a one-dimensional array called `arr` using the `np.array()` function. The elements of the array are enclosed in square brackets and separated by commas. We can check the type of the variable `arr` using the `type()` function:\n",
    "```python\n",
    "type(arr)\n",
    "```"
   ],
   "id": "4da10968d208f4a2"
  },
  {
   "metadata": {},
   "cell_type": "code",
   "source": "type(arr)",
   "id": "f918f161cb5d9415",
   "outputs": [],
   "execution_count": null
  },
  {
   "metadata": {},
   "cell_type": "markdown",
   "source": [
    "The output shows that `arr` is of type `numpy.ndarray`, which stands for \"n-dimensional array\". This is rather a different type than the first lesson (`int`, `float`, etc.), but we don't need to care the details.\n",
    "\n",
    "We can also check the **size** of the array using the `size` attribute of the array, in which you need to add `.size` after the array name:\n",
    "\n",
    "```python\n",
    "arr.size\n",
    "```"
   ],
   "id": "42a575cd7fab6c08"
  },
  {
   "metadata": {},
   "cell_type": "code",
   "source": "arr.size",
   "id": "8780a8c3fdee9c18",
   "outputs": [],
   "execution_count": null
  },
  {
   "metadata": {},
   "cell_type": "markdown",
   "source": [
    "Since arrays can only contain elements of the same type, if we try to create an array with mixed types, NumPy will automatically convert all elements to a common type. For example:\n",
    "\n",
    "```python\n",
    "arr_mixed = np.array([1, 2.5, 3, 4.0, 5])\n",
    "arr_mixed\n",
    "```"
   ],
   "id": "129bcce022db727e"
  },
  {
   "metadata": {},
   "cell_type": "code",
   "source": [
    "arr_mixed = np.array([1, 2.5, 3, 4.0, 5])\n",
    "arr_mixed"
   ],
   "id": "ad162ed0e186990b",
   "outputs": [],
   "execution_count": null
  },
  {
   "metadata": {},
   "cell_type": "markdown",
   "source": [
    "```python\n",
    "arr_mixed2 = np.array([1, 'two', 3, 4.0, 5])\n",
    "arr_mixed2\n",
    "```"
   ],
   "id": "a35b57818cdfaabd"
  },
  {
   "metadata": {},
   "cell_type": "code",
   "source": [
    "arr_mixed2 = np.array([1, 'two', 3, 4.0, 5])\n",
    "arr_mixed2"
   ],
   "id": "a9450e8ed42fd370",
   "outputs": [],
   "execution_count": null
  },
  {
   "metadata": {},
   "cell_type": "markdown",
   "source": [
    "### Basic Operations\n",
    "\n",
    "We can do some basic operations between arrays and numbers, such as addition, subtraction, multiplication, and division. For example:\n",
    "\n",
    "$$\n",
    "\\begin{bmatrix}1+1 & 2+1 & 3+1 & 4+1 & 5+1\\end{bmatrix} = \\begin{bmatrix}2 & 3 & 4 & 5 & 6\\end{bmatrix}\n",
    "$$\n",
    "\n",
    "```python\n",
    "arr + 1\n",
    "```"
   ],
   "id": "ddd275a2dc3f7cbc"
  },
  {
   "metadata": {},
   "cell_type": "code",
   "source": "arr + 1",
   "id": "a60c3a4df182cee6",
   "outputs": [],
   "execution_count": null
  },
  {
   "metadata": {},
   "cell_type": "markdown",
   "source": [
    "$$\n",
    "\\begin{bmatrix}1 \\times 2 & 2 \\times 2 & 3 \\times 2 & 4 \\times 2 & 5 \\times 2\\end{bmatrix} = \\begin{bmatrix}2 & 4 & 6 & 8 & 10\\end{bmatrix}\n",
    "$$\n",
    "\n",
    "```python\n",
    "arr * 2\n",
    "```"
   ],
   "id": "9110df937f17eb17"
  },
  {
   "metadata": {},
   "cell_type": "code",
   "source": "arr * 2",
   "id": "a2a4d79baa7e9acd",
   "outputs": [],
   "execution_count": null
  },
  {
   "metadata": {},
   "cell_type": "markdown",
   "source": [
    "$$\n",
    "\\begin{bmatrix}1/3 & 2/3 & 3/3 & 4/3 & 5/3\\end{bmatrix} = \\begin{bmatrix}0.\\dot{3} & 0.\\dot{6} & 1 & 1.\\dot{3} & 1.\\dot{6}\\end{bmatrix}\n",
    "$$\n",
    "\n",
    "```python\n",
    "arr / 3\n",
    "```"
   ],
   "id": "5f2066382cf40037"
  },
  {
   "metadata": {},
   "cell_type": "code",
   "source": "arr / 3",
   "id": "1bae687367a2f900",
   "outputs": [],
   "execution_count": null
  },
  {
   "metadata": {},
   "cell_type": "markdown",
   "source": [
    "We can also perform element-wise operations between two arrays of the same size. For example:\n",
    "\n",
    "$$\n",
    "\\begin{bmatrix}10 & 20 & 30 & 40 & 50\\end{bmatrix} + \\begin{bmatrix}1 & 2 & 3 & 4 & 5\\end{bmatrix} = \\begin{bmatrix}11 & 22 & 33 & 44 & 55\\end{bmatrix}\n",
    "$$\n",
    "\n",
    "```python\n",
    "arr1 = np.array([10, 20, 30, 40, 50])\n",
    "arr2 = np.array([1, 2, 3, 4, 5])\n",
    "arr1 + arr2\n",
    "```"
   ],
   "id": "14176085d042c85d"
  },
  {
   "metadata": {},
   "cell_type": "code",
   "source": [
    "arr1 = np.array([10, 20, 30, 40, 50])\n",
    "arr2 = np.array([1, 2, 3, 4, 5])\n",
    "arr1 + arr2"
   ],
   "id": "c0fe2b9448443d1b",
   "outputs": [],
   "execution_count": null
  },
  {
   "metadata": {},
   "cell_type": "markdown",
   "source": [
    "$$\n",
    "\\begin{bmatrix}10 & 20 & 30 & 40 & 50\\end{bmatrix} - \\begin{bmatrix}1 & 2 & 3 & 4 & 5\\end{bmatrix} = \\begin{bmatrix}9 & 18 & 27 & 36 & 45\\end{bmatrix}\n",
    "$$\n",
    "\n",
    "```python\n",
    "arr1 - arr2\n",
    "```"
   ],
   "id": "88dbe12f12e811d9"
  },
  {
   "metadata": {},
   "cell_type": "code",
   "source": "arr1 - arr2",
   "id": "3ccddbaafd88ded5",
   "outputs": [],
   "execution_count": null
  },
  {
   "metadata": {},
   "cell_type": "markdown",
   "source": [
    "$$\n",
    "\\begin{bmatrix}10 \\times 1 & 20 \\times 2 & 30 \\times 3 & 40 \\times 4 & 50 \\times 5\\end{bmatrix} = \\begin{bmatrix}10 & 40 & 90 & 160 & 250\\end{bmatrix}\n",
    "$$\n",
    "\n",
    "```python\n",
    "arr1 * arr2\n",
    "```"
   ],
   "id": "1ebcc3a8e65874c4"
  },
  {
   "metadata": {},
   "cell_type": "code",
   "source": "arr1 * arr2",
   "id": "f5aa69cb7b1d22d0",
   "outputs": [],
   "execution_count": null
  },
  {
   "metadata": {},
   "cell_type": "markdown",
   "source": [
    "$$\n",
    "\\begin{bmatrix}10/1 & 20/2 & 30/3 & 40/4 & 50/5\\end{bmatrix} = \\begin{bmatrix}10 & 10 & 10 & 10 & 10\\end{bmatrix}\n",
    "$$\n",
    "\n",
    "```python\n",
    "arr1 / arr2\n",
    "```"
   ],
   "id": "882b8987fce68d8c"
  },
  {
   "metadata": {},
   "cell_type": "code",
   "source": "arr1 / arr2",
   "id": "946edc7994582899",
   "outputs": [],
   "execution_count": null
  },
  {
   "metadata": {},
   "cell_type": "markdown",
   "source": [
    "We can also use some common mathematical functions on arrays. For example:\n",
    "\n",
    "$$\n",
    "\\begin{bmatrix}\\sin 0 & \\sin \\dfrac{\\pi}{2} & \\sin \\pi\\end{bmatrix} = \\begin{bmatrix}0 & 1 & 0\\end{bmatrix}\n",
    "$$\n",
    "\n",
    "```python\n",
    "arr3 = np.array([0, np.pi/2, np.pi])\n",
    "np.sin(arr3)\n",
    "```"
   ],
   "id": "c8d5f4a6f8d606f2"
  },
  {
   "metadata": {},
   "cell_type": "code",
   "source": [
    "arr3 = np.array([0, np.pi/2, np.pi])\n",
    "np.sin(arr3)"
   ],
   "id": "f40373d595e0ecde",
   "outputs": [],
   "execution_count": null
  },
  {
   "metadata": {},
   "cell_type": "markdown",
   "source": [
    "### Indexing and Slicing\n",
    "\n",
    "Sometimes we want to pick a single element from an array. We can do this using **indexing**. <u>**In Python, indexing starts from `0`.**</u> Indices must be integers. For example, to access the first element of `arr`, we can use:\n",
    "\n",
    "```python\n",
    "arr[0]\n",
    "```"
   ],
   "id": "10910ba730e2899d"
  },
  {
   "metadata": {},
   "cell_type": "code",
   "source": "arr[0]",
   "id": "e25c4b6dace7e448",
   "outputs": [],
   "execution_count": null
  },
  {
   "metadata": {},
   "cell_type": "markdown",
   "source": [
    "```python\n",
    "arr[1]\n",
    "```"
   ],
   "id": "9323e3bd31c7f51"
  },
  {
   "metadata": {},
   "cell_type": "code",
   "source": "arr[1]",
   "id": "3f8ba822b07b3790",
   "outputs": [],
   "execution_count": null
  },
  {
   "metadata": {},
   "cell_type": "markdown",
   "source": [
    "```python\n",
    "arr[4]\n",
    "```"
   ],
   "id": "b0a0add98eedc620"
  },
  {
   "metadata": {},
   "cell_type": "code",
   "source": "arr[4]",
   "id": "203a5a46333a2810",
   "outputs": [],
   "execution_count": null
  },
  {
   "metadata": {},
   "cell_type": "markdown",
   "source": [
    "```python\n",
    "arr[-1]\n",
    "```"
   ],
   "id": "e0e4061c8bbc173c"
  },
  {
   "metadata": {},
   "cell_type": "code",
   "source": "arr[-1]",
   "id": "b8c33f6fa4cf5fba",
   "outputs": [],
   "execution_count": null
  },
  {
   "metadata": {},
   "cell_type": "markdown",
   "source": [
    "See what's going on for this `arr[-1]`? The index `-1` refers to the last element of the array. Similarly, `-2` refers to the second-to-last element, and so on.\n",
    "\n",
    "What if we try to access an index out of range?\n",
    "\n",
    "```python\n",
    "arr[5]\n",
    "```"
   ],
   "id": "2266724c295ee97e"
  },
  {
   "metadata": {},
   "cell_type": "code",
   "source": "# arr[5]",
   "id": "b79c239fe2c500c9",
   "outputs": [],
   "execution_count": null
  },
  {
   "metadata": {},
   "cell_type": "markdown",
   "source": [
    "Like the case that we want to access `pi` without importing `numpy`, we again see an _error_ here, but this is a different type of error, an `IndexError`, which indicates that the index is out of range. In this case, the valid indices for `arr` are `0` to `4` (or `-1` to `-5`), so trying to access index `5` results in an error. _We will discuss error handling later._\n",
    "\n",
    "If we want to access multiple elements from an array, we can use **slicing**. Slicing allows us to extract a portion of the array by specifying a range of indices. The syntax for slicing is `array[start:stop]`, where `start` is the index of the first element to <u>**include**</u>, and `stop` is the index of the first element to <u>**exclude**</u>. Since `start` and `stop` are indices, they must be integers. For example:\n",
    "\n",
    "```python\n",
    "arr[1:4]\n",
    "```"
   ],
   "id": "ab675aa5e986e06b"
  },
  {
   "metadata": {},
   "cell_type": "code",
   "source": "arr[1:4]",
   "id": "6cbadbd61b59d707",
   "outputs": [],
   "execution_count": null
  },
  {
   "metadata": {},
   "cell_type": "markdown",
   "source": [
    "```python\n",
    "arr[0:3]\n",
    "```"
   ],
   "id": "be516e77be71c826"
  },
  {
   "metadata": {},
   "cell_type": "code",
   "source": "arr[0:3]",
   "id": "2981636b842c8c90",
   "outputs": [],
   "execution_count": null
  },
  {
   "metadata": {},
   "cell_type": "markdown",
   "source": [
    "```python\n",
    "arr[2:5]\n",
    "```"
   ],
   "id": "87a1c416bca33333"
  },
  {
   "metadata": {},
   "cell_type": "code",
   "source": "arr[2:5]",
   "id": "15aefd640d646adb",
   "outputs": [],
   "execution_count": null
  },
  {
   "metadata": {},
   "cell_type": "markdown",
   "source": [
    "If we set `start` equal to `stop`, we get an empty array:\n",
    "\n",
    "```python\n",
    "arr[3:3]\n",
    "```"
   ],
   "id": "6ac9ddced2939025"
  },
  {
   "metadata": {},
   "cell_type": "code",
   "source": "arr[3:3]",
   "id": "67a204cfecd8c153",
   "outputs": [],
   "execution_count": null
  },
  {
   "metadata": {},
   "cell_type": "markdown",
   "source": [
    "Obviously, if `start` is greater than `stop`, we also get an empty array:\n",
    "\n",
    "```python\n",
    "arr[4:2]\n",
    "```"
   ],
   "id": "3241e613531daee6"
  },
  {
   "metadata": {},
   "cell_type": "code",
   "source": "arr[4:2]",
   "id": "6cb6fbbfd38a04ca",
   "outputs": [],
   "execution_count": null
  },
  {
   "metadata": {},
   "cell_type": "markdown",
   "source": [
    "If we omit the `start` index, it defaults to `0`. If we omit the `stop` index, it defaults to the length of the array. For example:\n",
    "\n",
    "```python\n",
    "arr[:3]\n",
    "```"
   ],
   "id": "cc4f4a3999c46fe7"
  },
  {
   "metadata": {},
   "cell_type": "code",
   "source": "arr[:3]",
   "id": "cba6e7856339bd0d",
   "outputs": [],
   "execution_count": null
  },
  {
   "metadata": {},
   "cell_type": "markdown",
   "source": [
    "```python\n",
    "arr[2:]\n",
    "```"
   ],
   "id": "de3112bf1be9c5f"
  },
  {
   "metadata": {},
   "cell_type": "code",
   "source": "arr[2:]",
   "id": "f259424ae2fbaab7",
   "outputs": [],
   "execution_count": null
  },
  {
   "metadata": {},
   "cell_type": "markdown",
   "source": [
    "Definitely, if we omit both `start` and `stop`, we get the entire array:\n",
    "\n",
    "```python\n",
    "arr[:]\n",
    "```"
   ],
   "id": "9ec34cff352119c4"
  },
  {
   "metadata": {},
   "cell_type": "code",
   "source": "arr[:]",
   "id": "d9397867a6b08160",
   "outputs": [],
   "execution_count": null
  },
  {
   "metadata": {},
   "cell_type": "markdown",
   "source": [
    "In addition to `start` and `stop`, we can also specify a `step` value using the syntax `array[start:stop:step]`. The `step` value determines the interval between elements to include in the slice. To avoid confusion, `step` must be a non-zero integer. If `step` is omitted, it defaults to `1`. For example:\n",
    "\n",
    "```python\n",
    "arrlong = np.array([1, 2, 3, 4, 5, 6, 7, 8, 9, 10])\n",
    "arrlong[2:7:2]\n",
    "```"
   ],
   "id": "d41d9fafc8b05d82"
  },
  {
   "metadata": {},
   "cell_type": "code",
   "source": [
    "arrlong = np.array([1, 2, 3, 4, 5, 6, 7, 8, 9, 10])\n",
    "arrlong[2:7:2]"
   ],
   "id": "debe9c92d6eb16fc",
   "outputs": [],
   "execution_count": null
  },
  {
   "metadata": {},
   "cell_type": "markdown",
   "source": [
    "```python\n",
    "arrlong[::3]\n",
    "```"
   ],
   "id": "744f3348d7620741"
  },
  {
   "metadata": {},
   "cell_type": "code",
   "source": "arrlong[::3]",
   "id": "8411e4dea9199f63",
   "outputs": [],
   "execution_count": null
  },
  {
   "metadata": {},
   "cell_type": "markdown",
   "source": [
    "```python\n",
    "arrlong[2:5:1]\n",
    "```"
   ],
   "id": "1daf328eb1fa6744"
  },
  {
   "metadata": {},
   "cell_type": "code",
   "source": "arrlong[2:5:1]",
   "id": "c5e9d649990de150",
   "outputs": [],
   "execution_count": null
  },
  {
   "metadata": {},
   "cell_type": "markdown",
   "source": [
    "For negative `step`, the slice is taken in _reverse_ order. For example:\n",
    "\n",
    "```python\n",
    "arrlong[::-1]\n",
    "```"
   ],
   "id": "dd61e293d3afe0b7"
  },
  {
   "metadata": {},
   "cell_type": "code",
   "source": "arrlong[::-1]",
   "id": "e3609d38f8d72c05",
   "outputs": [],
   "execution_count": null
  },
  {
   "metadata": {},
   "cell_type": "markdown",
   "source": [
    "If we use a negative `step`, we need to ensure that the `start` index is greater than the `stop` index; otherwise, we will get an empty array. For example:\n",
    "\n",
    "```python\n",
    "arrlong[7:2:-2]\n",
    "```"
   ],
   "id": "7e610e1195bfee4d"
  },
  {
   "metadata": {},
   "cell_type": "code",
   "source": "arrlong[7:2:-2]",
   "id": "20d2a36a270fb881",
   "outputs": [],
   "execution_count": null
  },
  {
   "metadata": {},
   "cell_type": "markdown",
   "source": [
    "```python\n",
    "arrlong[2:7:-2]\n",
    "```"
   ],
   "id": "c7af74f8ff528a02"
  },
  {
   "metadata": {},
   "cell_type": "code",
   "source": "arrlong[2:7:-2]",
   "id": "c58ff3afdca84d32",
   "outputs": [],
   "execution_count": null
  },
  {
   "metadata": {},
   "cell_type": "markdown",
   "source": [
    "<span style=\"color:green\">**Exercise**:</span> The code below generates an array of integers from 1 to 20.\n",
    "\n",
    "```python\n",
    "arr_ex = np.arange(1, 21)\n",
    "```\n",
    "\n",
    "Write code to implement the following tasks:\n",
    "\n",
    "  -  Extract the elements at odd indices (i.e., indices 1, 3, 5, ...) from this array using slicing.\n",
    "  -  Subtract 1 from each of these extracted elements.\n",
    "  -  Multiply each of the resulting elements by $\\pi/6$.\n",
    "  -  Calculate the cosine of each of these modified elements using `np.cos()`.\n",
    "\n",
    "Print the results of each step to verify your work."
   ],
   "id": "5f7ffae47b312f9d"
  },
  {
   "metadata": {},
   "cell_type": "code",
   "source": "",
   "id": "795217d5ac19061d",
   "outputs": [],
   "execution_count": null
  },
  {
   "metadata": {},
   "cell_type": "markdown",
   "source": [
    "## 2D Arrays\n",
    "\n",
    "NumPy also supports multidimensional arrays. A two-dimensional array can be thought of as a [matrix](https://en.wikipedia.org/wiki/Matrix_(mathematics)), with rows and columns. We can create a two-dimensional array using the `np.array()` function, by passing a list of lists. For example:\n",
    "\n",
    "$$\n",
    "\\begin{bmatrix}\n",
    "1 & 2 & 3 \\\\\n",
    "4 & 5 & 6 \\\\\n",
    "7 & 8 & 9\n",
    "\\end{bmatrix}\n",
    "$$\n",
    "\n",
    "```python\n",
    "matrix = np.array([[1, 2, 3], [4, 5, 6], [7, 8, 9]])\n",
    "matrix\n",
    "```"
   ],
   "id": "c0b759d0937af2c"
  },
  {
   "metadata": {},
   "cell_type": "code",
   "source": [
    "matrix = np.array([[1, 2, 3], [4, 5, 6], [7, 8, 9]])\n",
    "matrix"
   ],
   "id": "1f491e92b16ebc91",
   "outputs": [],
   "execution_count": null
  },
  {
   "metadata": {},
   "cell_type": "markdown",
   "source": [
    "Like one-dimensional arrays, we can check the type of the two-dimensional array:\n",
    "\n",
    "```python\n",
    "type(matrix)\n",
    "```"
   ],
   "id": "57599dd24791b73"
  },
  {
   "metadata": {},
   "cell_type": "code",
   "source": "type(matrix)",
   "id": "bdb51e4ca379b224",
   "outputs": [],
   "execution_count": null
  },
  {
   "metadata": {},
   "cell_type": "markdown",
   "source": [
    "We notice that the type is still `numpy.ndarray`, which means that NumPy does not differentiate between one-dimensional and multidimensional arrays in terms of type. We can also check the size of the two-dimensional array, which is the total number of elements in the array:\n",
    "\n",
    "```python\n",
    "matrix.size\n",
    "```"
   ],
   "id": "e52ffdf10a34dcb0"
  },
  {
   "metadata": {},
   "cell_type": "code",
   "source": "matrix.size",
   "id": "fb81d88befae0c1a",
   "outputs": [],
   "execution_count": null
  },
  {
   "metadata": {},
   "cell_type": "markdown",
   "source": [
    "For 2D arrays, we can also check the **shape** of the array using the `shape` attribute. The shape gives the number of rows and columns in the array in the form `(rows, columns)`:\n",
    "\n",
    "```python\n",
    "matrix.shape\n",
    "```"
   ],
   "id": "285d6e6ac16ae49e"
  },
  {
   "metadata": {},
   "cell_type": "code",
   "source": "matrix.shape",
   "id": "72490066b6b404bc",
   "outputs": [],
   "execution_count": null
  },
  {
   "metadata": {},
   "cell_type": "markdown",
   "source": [
    "The same operations we discussed for one-dimensional arrays can also be applied to two-dimensional arrays. For example, we can perform element-wise addition, subtraction, multiplication, and division between two matrices of the same shape. We can also use mathematical functions on each element of the matrix.\n",
    "\n",
    "$$\n",
    "\\begin{bmatrix}\n",
    "1 & 2 & 3 \\\\\n",
    "4 & 5 & 6 \\\\\n",
    "7 & 8 & 9\n",
    "\\end{bmatrix}\n",
    "+\n",
    "\\begin{bmatrix}\n",
    "9 & 8 & 7 \\\\\n",
    "6 & 5 & 4 \\\\\n",
    "3 & 2 & 1\n",
    "\\end{bmatrix}\n",
    "=\n",
    "\\begin{bmatrix}\n",
    "10 & 10 & 10 \\\\\n",
    "10 & 10 & 10 \\\\\n",
    "10 & 10 & 10\n",
    "\\end{bmatrix}\n",
    "$$\n",
    "\n",
    "```python\n",
    "matrix2 = np.array([[9, 8, 7], [6, 5, 4], [3, 2, 1]])\n",
    "matrix + matrix2\n",
    "```"
   ],
   "id": "3e9a56cd2f5a3ae1"
  },
  {
   "metadata": {},
   "cell_type": "code",
   "source": [
    "matrix2 = np.array([[9, 8, 7], [6, 5, 4], [3, 2, 1]])\n",
    "matrix + matrix2"
   ],
   "id": "cb31c8df009e349f",
   "outputs": [],
   "execution_count": null
  },
  {
   "metadata": {},
   "cell_type": "markdown",
   "source": [
    "$$\n",
    "\\begin{bmatrix}\n",
    "\\sqrt{1} & \\sqrt{2} & \\sqrt{3} \\\\\n",
    "\\sqrt{4} & \\sqrt{5} & \\sqrt{6} \\\\\n",
    "\\sqrt{7} & \\sqrt{8} & \\sqrt{9}\n",
    "\\end{bmatrix}\n",
    "=\n",
    "\\begin{bmatrix}\n",
    "1 & \\sqrt{2} & \\sqrt{3} \\\\\n",
    "2 & \\sqrt{5} & \\sqrt{6} \\\\\n",
    "\\sqrt{7} & 2\\sqrt{2} & 3\n",
    "\\end{bmatrix}\n",
    "\\approx\n",
    "\\begin{bmatrix}\n",
    "1 & 1.414 & 1.732 \\\\\n",
    "2 & 2.236 & 2.449 \\\\\n",
    "2.646 & 2.828 & 3\n",
    "\\end{bmatrix}\n",
    "$$\n",
    "\n",
    "```python\n",
    "np.sqrt(matrix)\n",
    "```"
   ],
   "id": "95e0ec8632bf24eb"
  },
  {
   "metadata": {},
   "cell_type": "code",
   "source": "np.sqrt(matrix)",
   "id": "cc37218eb03bf880",
   "outputs": [],
   "execution_count": null
  },
  {
   "metadata": {},
   "cell_type": "markdown",
   "source": [
    "Indexing and slicing also work similarly for two-dimensional arrays. We can access individual elements, rows, or columns using indexing and slicing. Use the following matrix as an example:\n",
    "\n",
    "```python\n",
    "a = np.array([[ 0,  1,  2,  3,  4,  5],\n",
    "              [10, 11, 12, 13, 14, 15],\n",
    "              [20, 21, 22, 23, 24, 25],\n",
    "              [30, 31, 32, 33, 34, 35],\n",
    "              [40, 41, 42, 43, 44, 45],\n",
    "              [50, 51, 52, 53, 54, 55]])\n",
    "a\n",
    "```"
   ],
   "id": "73732432bb975aca"
  },
  {
   "metadata": {},
   "cell_type": "code",
   "source": [
    "a = np.array([[ 0,  1,  2,  3,  4,  5],\n",
    "              [10, 11, 12, 13, 14, 15],\n",
    "              [20, 21, 22, 23, 24, 25],\n",
    "              [30, 31, 32, 33, 34, 35],\n",
    "              [40, 41, 42, 43, 44, 45],\n",
    "              [50, 51, 52, 53, 54, 55]])\n",
    "a"
   ],
   "id": "e73f5f77a99a53c5",
   "outputs": [],
   "execution_count": null
  },
  {
   "metadata": {},
   "cell_type": "markdown",
   "source": [
    "To access a single row, we can use a single index. For example, to access the second row (which is `[10, 11, 12, 13, 14, 15]`), we can use:\n",
    "\n",
    "```python\n",
    "a[1]\n",
    "```"
   ],
   "id": "8bbe69ddde4dd410"
  },
  {
   "metadata": {},
   "cell_type": "code",
   "source": "a[1]",
   "id": "cc809391dd3ee873",
   "outputs": [],
   "execution_count": null
  },
  {
   "metadata": {},
   "cell_type": "markdown",
   "source": [
    "To access a single element, we should use two indices: <u>the first index for the row</u> and <u>the second index for the column</u>. For example, to access the element in the second row and third column (which is `12`), we can use:\n",
    "\n",
    "```python\n",
    "a[1][2]\n",
    "```"
   ],
   "id": "a4d1a2c24b1cc32b"
  },
  {
   "metadata": {},
   "cell_type": "code",
   "source": "a[1][2]",
   "id": "1432679add24c8e1",
   "outputs": [],
   "execution_count": null
  },
  {
   "metadata": {},
   "cell_type": "markdown",
   "source": [
    "A shortcut of doing this picking is:\n",
    "\n",
    "```python\n",
    "a[1, 2]\n",
    "```\n",
    "\n",
    "This only applies to NumPy arrays, not Python lists."
   ],
   "id": "ca6c0ba54150da0d"
  },
  {
   "metadata": {},
   "cell_type": "code",
   "source": "a[1, 2]",
   "id": "6b3998bd0f548b73",
   "outputs": [],
   "execution_count": null
  },
  {
   "metadata": {},
   "cell_type": "markdown",
   "source": "However, accessing a single column is a bit tricky (for Python lists). Luckily, NumPy provides a convenient way to do this using slicing. Expanding the usage of the indexing shortcut above, we can replace any of the indices by a slice (`start:stop:step`).",
   "id": "3ca8b34f9a24099"
  },
  {
   "metadata": {},
   "cell_type": "markdown",
   "source": [
    "Let's see some examples:\n",
    "\n",
    "<img src=\"assets/numpy_indexing.png\" alt=\"2D array\" width=\"50%\" style=\"display=block; margin:auto\"/>\n",
    "\n",
    "> Image source: [NumPy documentation](https://lectures.scientific-python.org/intro/numpy/array_object.html#indexing-and-slicing)\n",
    "\n",
    "  -  The <span style=\"color:red\">red</span> one is `a[0, 3:5]`, which picks <u>the first row</u> on <u>the 4th to 5th columns</u> (excluding the 6th column).\n",
    "  -  The <span style=\"color:green\">green</span> one is `a[4:, 4:]`, which picks <u>the 5th to the last rows</u> on <u>the 5th to the last columns</u>.\n",
    "  -  The <span style=\"color:blue\">blue</span> one is `a[:, 2]`, which picks <u>all the rows</u> on <u>the 2nd column</u>.\n",
    "  -  The <span style=\"color:purple\">purple</span> one is `a[2::2, ::2]`, which picks <u>the 3rd to the last rows with a step of 2</u> on <u>all the columns with a step of 2</u>.\n",
    "\n",
    "To verify these, you can run the following codes:\n",
    "\n",
    "```python\n",
    "print(a[0, 3:5])    # Red\n",
    "print(a[4:, 4:])    # Green\n",
    "print(a[:, 2])      # Blue\n",
    "print(a[2::2, ::2]) # Purple\n",
    "```"
   ],
   "id": "3d8ebbcbfb93f1f"
  },
  {
   "metadata": {},
   "cell_type": "code",
   "source": [
    "print(a[0, 3:5])    # Red\n",
    "print(a[4:, 4:])    # Green\n",
    "print(a[:, 2])      # Blue\n",
    "print(a[2::2, ::2]) # Purple"
   ],
   "id": "52f1ce591cfcb5c9",
   "outputs": [],
   "execution_count": null
  },
  {
   "metadata": {},
   "cell_type": "markdown",
   "source": "<span style=\"color:green\">**Exercise**:</span> Using matrix slicing, extract the submatrix from the matrix `a` that includes the elements from the 2nd to the 4th rows and the 3rd to the 5th columns (inclusive of the start index and exclusive of the stop index, basically, a 3*3 submatrix centered around the element `23`). Print the resulting submatrix.",
   "id": "e01c3ea5f31a9fbe"
  },
  {
   "metadata": {},
   "cell_type": "code",
   "source": "",
   "id": "32e2dedfa89d1d1c",
   "outputs": [],
   "execution_count": null
  },
  {
   "metadata": {},
   "cell_type": "markdown",
   "source": [
    "## Two Useful Functions for Arrays\n",
    "\n",
    "Here are two useful functions to create arrays with evenly spaced values:\n",
    "\n",
    "  -  `np.arange(start, stop, step)`: Creates an array with evenly spaced values within a specified range.\n",
    "  -  `np.linspace(start, stop, num)`: Creates an array with a specified number of evenly spaced values between two endpoints.\n",
    "\n",
    "For example, to create an array of _integers_ from 0 to 9, we can use `np.arange()`:\n",
    "\n",
    "```python\n",
    "np.arange(0, 10, 1)\n",
    "```"
   ],
   "id": "66846ee599d1212d"
  },
  {
   "metadata": {},
   "cell_type": "code",
   "source": "np.arange(0, 10, 1)",
   "id": "7534cb016a992e25",
   "outputs": [],
   "execution_count": null
  },
  {
   "metadata": {},
   "cell_type": "markdown",
   "source": [
    "To create an array of _odd numbers_ from 5 to 15, we can use:\n",
    "\n",
    "```python\n",
    "np.arange(5, 16, 2)\n",
    "```"
   ],
   "id": "d9a5fbf97816231"
  },
  {
   "metadata": {},
   "cell_type": "code",
   "source": "np.arange(5, 16, 2)",
   "id": "6b07233d00bdfe85",
   "outputs": [],
   "execution_count": null
  },
  {
   "metadata": {},
   "cell_type": "markdown",
   "source": [
    "For making an array from 0 to 1 with 5 evenly spaced values, we can use `np.linspace()`:\n",
    "\n",
    "```python\n",
    "np.linspace(0, 1, 5)\n",
    "```"
   ],
   "id": "6c423bf4bf90206c"
  },
  {
   "metadata": {},
   "cell_type": "code",
   "source": "np.linspace(0, 1, 5)",
   "id": "619d86752489a175",
   "outputs": [],
   "execution_count": null
  },
  {
   "metadata": {},
   "cell_type": "markdown",
   "source": [
    "Finally, let's create an array of 4 evenly spaced values from 0 to $\\pi$:\n",
    "\n",
    "```python\n",
    "np.linspace(0, np.pi, 4)\n",
    "```"
   ],
   "id": "afd9efe4fcbb7390"
  },
  {
   "metadata": {},
   "cell_type": "code",
   "source": "np.linspace(0, np.pi, 4)",
   "id": "1b958f4817d762e2",
   "outputs": [],
   "execution_count": null
  },
  {
   "metadata": {},
   "cell_type": "markdown",
   "source": [
    "## End-of-Lesson Problems\n",
    "\n",
    "### Problem 1: Play with Arrays\n",
    "\n",
    "Using only methods introduced in this lesson:\n",
    "\n",
    "1. Create a 1D array `radians` of 9 evenly spaced values from 0 to π (inclusive) using `np.linspace`."
   ],
   "id": "937d49dafe4c120c"
  },
  {
   "metadata": {},
   "cell_type": "code",
   "source": "",
   "id": "35d4b82ecd9c9c61",
   "outputs": [],
   "execution_count": null
  },
  {
   "metadata": {},
   "cell_type": "markdown",
   "source": [
    "2. Compute two arrays:\n",
    "   - `s = np.sin(radians)`\n",
    "   - `c = np.cos(radians)`"
   ],
   "id": "b4c0b6b3c6a0057a"
  },
  {
   "metadata": {},
   "cell_type": "code",
   "source": "",
   "id": "fe7e37edf3bafba9",
   "outputs": [],
   "execution_count": null
  },
  {
   "metadata": {},
   "cell_type": "markdown",
   "source": "3. Form `t = s*s + c*c`. Using slicing, extract every second element of `t` starting from index `1`.",
   "id": "6030dfbc92704298"
  },
  {
   "metadata": {},
   "cell_type": "code",
   "source": "",
   "id": "88f986e98e8262eb",
   "outputs": [],
   "execution_count": null
  },
  {
   "metadata": {},
   "cell_type": "markdown",
   "source": [
    "4. Using the existing 2D array `matrix` (already defined in the notebook), do the following:\n",
    "   - Report `matrix.size` and `matrix.shape`.\n",
    "   - Extract the last column using slicing/indexing.\n",
    "   - Extract the submatrix consisting of all rows and the first two columns."
   ],
   "id": "b679c9567cfc4bbe"
  },
  {
   "metadata": {},
   "cell_type": "code",
   "source": "",
   "id": "5d62e84140387e84",
   "outputs": [],
   "execution_count": null
  },
  {
   "metadata": {},
   "cell_type": "markdown",
   "source": [
    "### Problem 2: Quantum Harmonic Oscillator\n",
    "\n",
    "Consider a one-dimensional [quantum harmonic oscillator](https://en.wikipedia.org/wiki/Quantum_harmonic_oscillator), but with a twist: the potential energy is added with a [Dirac delta function](https://en.wikipedia.org/wiki/Dirac_delta_function) at the origin. The potential is given by:\n",
    "\n",
    "$$V(x) = \\frac{1}{2} m \\omega^2 x^2 + \\alpha \\delta(x)$$\n",
    "\n",
    "where $m$ is the mass of the particle, $\\omega$ is the angular frequency, and $\\alpha$ is a constant representing the strength of the delta potential. For simplicity, we set $m = 1$, $\\omega = 1$, and $\\alpha = 1$. That is,\n",
    "\n",
    "$$V(x) = \\frac{1}{2} x^2 + \\delta(x)$$\n",
    "\n",
    "The wavefunctions of the unperturbed harmonic oscillator are given by:\n",
    "\n",
    "$$\\psi_n(x) = \\left(\\frac{m \\omega}{\\pi \\hbar}\\right)^{1/4} \\frac{1}{\\sqrt{2^n n!}} H_n\\left(\\sqrt{\\frac{m \\omega}{\\hbar}} x\\right) e^{-\\frac{m \\omega x^2}{2 \\hbar}}$$\n",
    "\n",
    "where $H_n$ are the [Hermite polynomials](https://zh.wikipedia.org/zh-cn/%E5%9F%83%E5%B0%94%E7%B1%B3%E7%89%B9%E5%A4%9A%E9%A1%B9%E5%BC%8F). For simplicity, we set $\\hbar = 1$. Substituting the values of $m$, $\\omega$, and $\\hbar$, we have:\n",
    "\n",
    "$$\\psi_n(x) = \\left(\\frac{1}{\\pi}\\right)^{1/4} \\frac{1}{\\sqrt{2^n n!}} H_n(x) e^{-\\frac{x^2}{2}}$$\n",
    "\n",
    "Using NumPy, perform the following tasks:\n",
    "\n",
    "1. Create a 1D array `x` of 200 evenly spaced values from -5 to 5 using `np.linspace`."
   ],
   "id": "431fb956e5f425b"
  },
  {
   "metadata": {},
   "cell_type": "code",
   "source": "",
   "id": "ddd2a3f4c53743fa",
   "outputs": [],
   "execution_count": null
  },
  {
   "metadata": {},
   "cell_type": "markdown",
   "source": [
    "2. The code below defines a function `harmonic_psi(n, x)` that computes the wavefunction $\\psi_n(x)$ for a given quantum number `n` and position array `x`. Test the value of $\\psi_0$ at $x = 0$ and $x = 1$.\n",
    "\n",
    "    ```python\n",
    "    from scipy.special import eval_hermite, factorial\n",
    "\n",
    "    def harmonic_psi(n, x):\n",
    "        return eval_hermite(n, x) * np.exp(-x ** 2 / 2) / np.sqrt(2 ** n * factorial(n)) / (np.pi) ** 0.25\n",
    "    ```"
   ],
   "id": "cc98874d18963402"
  },
  {
   "metadata": {},
   "cell_type": "code",
   "source": "",
   "id": "50554c31c1431ca4",
   "outputs": [],
   "execution_count": null
  },
  {
   "metadata": {},
   "cell_type": "markdown",
   "source": "3. Compute the values of $\\psi_0$ from $x=-5$ to $x=5$ using the array `x` created before, and store the result in `psi_0`. Similarly, compute `psi_1` to `psi_5` for the first to fifth excited states. Create a 2D array `psis` where each row corresponds to a different quantum state (from $n=0$ to $n=5$) and each column corresponds to a position in `x`.",
   "id": "c3b0149af9b6b695"
  },
  {
   "metadata": {},
   "cell_type": "code",
   "source": "",
   "id": "e6a965c699d21f6c",
   "outputs": [],
   "execution_count": null
  },
  {
   "metadata": {},
   "cell_type": "markdown",
   "source": "4. Now it's time to bring our delta potential into play. The presence of the delta function at the origin modifies the wavefunctions, but it only affects the even states ($n=0, 2, 4, ...$). It's a little bit more complicated to derive the even state solutions, but we can still keep our odd states. Create a new array `psis_odd` by slicing `psis` to keep only the odd states ($n=1, 3, 5$).",
   "id": "eb52fe029b500f92"
  },
  {
   "metadata": {},
   "cell_type": "code",
   "source": "",
   "id": "a0c2ffc04358c8a0",
   "outputs": [],
   "execution_count": null
  },
  {
   "metadata": {},
   "cell_type": "markdown",
   "source": [
    "5. Run the code below, and you should be able to visualize the wavefunctions of the odd states. _We will learn how to make plots like this later._\n",
    "\n",
    "    ```python\n",
    "    from matplotlib import pyplot as plt\n",
    "\n",
    "    plt.figure(figsize=(8, 6))\n",
    "\n",
    "    for n in range(psis_odd.shape[1]):\n",
    "        plt.plot(x, psis_odd[:, n], label=f'n={n}')\n",
    "\n",
    "    plt.grid(linestyle='--')\n",
    "\n",
    "    plt.legend()\n",
    "    plt.show()\n",
    "    ```"
   ],
   "id": "6fffa56f8bd9f889"
  },
  {
   "metadata": {},
   "cell_type": "code",
   "source": "",
   "id": "da8bdb00515e6fbc",
   "outputs": [],
   "execution_count": null
  },
  {
   "metadata": {},
   "cell_type": "markdown",
   "source": [
    "## Acknowledgement\n",
    "\n",
    "This lesson draws on ideas from the following sources:\n",
    "\n",
    "- [NumPy Official Website](https://numpy.org)\n",
    "- [Scientific Python Lectures](https://lectures.scientific-python.org/)\n",
    "- Charles J. Weiss's [Scientific Computing for Chemists with Python](https://weisscharlesj.github.io/SciCompforChemists/notebooks/introduction/intro.html)\n",
    "- [An Introduction to Python for Chemistry](https://pythoninchemistry.org/intro_python_chemists/intro.html)\n",
    "- GenAI for making paragraphs and codes(・ω< )★\n",
    "- And so many resources on Reddit, StackExchange, etc.!"
   ],
   "id": "bae1c59325cc7e53"
  }
 ],
 "metadata": {
  "kernelspec": {
   "display_name": "Python 3 (ipykernel)",
   "language": "python",
   "name": "python3"
  },
  "language_info": {
   "codemirror_mode": {
    "name": "ipython",
    "version": 2
   },
   "file_extension": ".py",
   "mimetype": "text/x-python",
   "name": "python",
   "nbconvert_exporter": "python",
   "pygments_lexer": "ipython2",
   "version": "2.7.6"
  }
 },
 "nbformat": 4,
 "nbformat_minor": 5
}
