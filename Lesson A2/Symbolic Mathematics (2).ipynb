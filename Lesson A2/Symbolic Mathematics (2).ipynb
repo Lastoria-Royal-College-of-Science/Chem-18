{
 "cells": [
  {
   "metadata": {
    "collapsed": true
   },
   "cell_type": "markdown",
   "source": [
    "# Lesson A2: Symbolic Mathematics (2)\n",
    "\n",
    "> Instructor: [Yuki Oyama](mailto:y.oyama@lrcs.ac), [Prprnya](mailto:nya@prpr.zip)\n",
    ">\n",
    "> The Christian F. Weichman Department of Chemistry, Lastoria Royal College of Science\n",
    "\n",
    "This material is licensed under <a href=\"https://creativecommons.org/licenses/by-nc-sa/4.0/\">CC BY-NC-SA 4.0</a><img src=\"https://mirrors.creativecommons.org/presskit/icons/cc.svg\" alt=\"\" style=\"max-width: 1em;max-height:1em;margin-left: .2em;\"><img src=\"https://mirrors.creativecommons.org/presskit/icons/by.svg\" alt=\"\" style=\"max-width: 1em;max-height:1em;margin-left: .2em;\"><img src=\"https://mirrors.creativecommons.org/presskit/icons/nc.svg\" alt=\"\" style=\"max-width: 1em;max-height:1em;margin-left: .2em;\"><img src=\"https://mirrors.creativecommons.org/presskit/icons/sa.svg\" alt=\"\" style=\"max-width: 1em;max-height:1em;margin-left: .2em;\">"
   ],
   "id": "80fa21190e5bce8a"
  },
  {
   "metadata": {},
   "cell_type": "markdown",
   "source": "## About Printing",
   "id": "522e4f3e61b2034a"
  },
  {
   "metadata": {},
   "cell_type": "markdown",
   "source": [
    "## More Equations\n",
    "\n",
    "Probably the most important thing we want to do with a computer is to solve equations. SymPy provides a variety of functions for solving equations. We will\n",
    "\n",
    "### Finding Roots of Polynomials\n",
    "\n",
    "### Inequalities\n",
    "\n",
    "### Ordinary Differential Equations\n",
    "\n",
    "### Partial Differential Equations"
   ],
   "id": "fc13bc39e53d371"
  },
  {
   "metadata": {},
   "cell_type": "markdown",
   "source": "## Linear Algebra",
   "id": "9d98e62138d3041f"
  },
  {
   "metadata": {},
   "cell_type": "markdown",
   "source": "## Physics",
   "id": "acf9b548c38b999c"
  },
  {
   "metadata": {},
   "cell_type": "markdown",
   "source": "## End-of-Lesson Problems",
   "id": "f2c967208da95cf9"
  },
  {
   "metadata": {},
   "cell_type": "markdown",
   "source": [
    "## Acknowledgement\n",
    "\n",
    "This lesson draws on ideas from the following sources:\n",
    "\n",
    "- [Anaconda](https://www.anaconda.com/) for providing an out-of-the-box Python environment\n",
    "- [SymPy Documentation](https://docs.sympy.org/latest/tutorials/index.html)\n",
    "- GenAI for making paragraphs and codes(・ω< )★\n",
    "- And so many resources on Reddit, StackExchange, etc.!"
   ],
   "id": "f4ae5728f98920a3"
  }
 ],
 "metadata": {
  "kernelspec": {
   "display_name": "Python 3",
   "language": "python",
   "name": "python3"
  },
  "language_info": {
   "codemirror_mode": {
    "name": "ipython",
    "version": 2
   },
   "file_extension": ".py",
   "mimetype": "text/x-python",
   "name": "python",
   "nbconvert_exporter": "python",
   "pygments_lexer": "ipython2",
   "version": "2.7.6"
  }
 },
 "nbformat": 4,
 "nbformat_minor": 5
}
