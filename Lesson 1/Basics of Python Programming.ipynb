{
 "cells": [
  {
   "cell_type": "markdown",
   "id": "77c025685acb0a64",
   "metadata": {},
   "source": [
    "# Lesson 1: Basics of Python Programming\n",
    "\n",
    "> Instructor: [Yuki Oyama](mailto:y.oyama@lrcs.ac), [Prprnya](mailto:nya@prpr.zip)\n",
    ">\n",
    "> The Christian F. Weichman Department of Chemistry, Lastoria Royal College of Science\n",
    "\n",
    "This material is licensed under <a href=\"https://creativecommons.org/licenses/by-nc-sa/4.0/\">CC BY-NC-SA 4.0</a><img src=\"https://mirrors.creativecommons.org/presskit/icons/cc.svg\" alt=\"\" style=\"max-width: 1em;max-height:1em;margin-left: .2em;\"><img src=\"https://mirrors.creativecommons.org/presskit/icons/by.svg\" alt=\"\" style=\"max-width: 1em;max-height:1em;margin-left: .2em;\"><img src=\"https://mirrors.creativecommons.org/presskit/icons/nc.svg\" alt=\"\" style=\"max-width: 1em;max-height:1em;margin-left: .2em;\"><img src=\"https://mirrors.creativecommons.org/presskit/icons/sa.svg\" alt=\"\" style=\"max-width: 1em;max-height:1em;margin-left: .2em;\">"
   ]
  },
  {
   "cell_type": "markdown",
   "id": "a9723d894f58af08",
   "metadata": {},
   "source": [
    "Welcome to the first lesson! In this lesson, we will cover the very basics of Python. If you have never programmed before, don't worry! We will start from the ground up. If you have some experience, this will be a good refresher."
   ]
  },
  {
   "cell_type": "markdown",
   "id": "dd14775b272bb188",
   "metadata": {},
   "source": [
    "## Variables and Data Types\n",
    "\n",
    "In Python, data is stored in **variables**. A variable is a name that refers to some data. You can think of it as a label for a box that holds something inside. You can create a variable by assigning a value to it using the `=` operator. This is called **assignment**. For example:\n",
    "\n",
    "```python\n",
    "x = 5\n",
    "```\n",
    "\n",
    "Copy this code into the next cell and run it by pressing <kbd>Shift</kbd> + <kbd>Enter</kbd> (on macOS pressing <kbd>Shift</kbd> + <kbd>Return</kbd> instead). You won't see any output, but the variable `x` is now created and holds the value `5`."
   ]
  },
  {
   "cell_type": "code",
   "execution_count": null,
   "id": "80be4451d4451e53",
   "metadata": {},
   "outputs": [],
   "source": [
    "x = 5"
   ]
  },
  {
   "cell_type": "markdown",
   "id": "b6cf4ac5112251ec",
   "metadata": {},
   "source": [
    "You can check the value of a variable by typing its name at the end of any cell after you defined it, then running it. For example:\n",
    "\n",
    "```python\n",
    "y = 10\n",
    "y\n",
    "```"
   ]
  },
  {
   "cell_type": "code",
   "execution_count": null,
   "id": "34b538dedc9502f1",
   "metadata": {},
   "outputs": [],
   "source": [
    "y = 10\n",
    "y"
   ]
  },
  {
   "cell_type": "markdown",
   "id": "668ea2646e91deae",
   "metadata": {},
   "source": [
    "Name of a variable can be anything you like, as long as it starts with a letter or an underscore (`_`), and is followed by letters, numbers, or underscores.\n",
    "\n",
    "- Valid variable names: `my_variable`, `data1`, `_temp`\n",
    "- Invalid variable names: `1data`, `my-variable`, `my variable`\n",
    "\n",
    "Variable names are case-sensitive, so `CAP`, `Cap` and `cap` are different variables. Run the code below to see how variable names work:\n",
    "\n",
    "```python\n",
    "CAP = 0\n",
    "Cap = 1\n",
    "cap = 2\n",
    "CAP, Cap, cap\n",
    "```"
   ]
  },
  {
   "cell_type": "code",
   "execution_count": null,
   "id": "6bce64aa2981e8ba",
   "metadata": {},
   "outputs": [],
   "source": [
    "CAP = 0\n",
    "Cap = 1\n",
    "cap = 2\n",
    "CAP, Cap, cap"
   ]
  },
  {
   "cell_type": "markdown",
   "id": "396381791b1746ac",
   "metadata": {},
   "source": [
    "Note that in the code mode, we can output multiple variables by separating them with commas. The output will give them in a sequence wrapped by parentheses and separated by commas. Otherwise, you can use `print()` **function** to customize the output format. _We will introduce functions later._\n",
    "\n",
    "```python\n",
    "print(CAP, Cap, cap)\n",
    "```"
   ]
  },
  {
   "cell_type": "code",
   "execution_count": null,
   "id": "e7d09723f2568fbe",
   "metadata": {},
   "outputs": [],
   "source": [
    "print(CAP, Cap, cap)"
   ]
  },
  {
   "cell_type": "markdown",
   "id": "eb9d8ca4e68af455",
   "metadata": {},
   "source": [
    "Spacing between the variable name and the operator is optional. However, it is good practice to put a single space after each operator.\n",
    "```python\n",
    "space1=10\n",
    "space2 = 10\n",
    "space3    =      10\n",
    "print(space1, space2, space3)\n",
    "```"
   ]
  },
  {
   "cell_type": "code",
   "execution_count": null,
   "id": "bee731e0428336f0",
   "metadata": {},
   "outputs": [],
   "source": [
    "space1=10\n",
    "space2 = 10\n",
    "space3    =      10\n",
    "print(space1, space2, space3)"
   ]
  },
  {
   "cell_type": "markdown",
   "id": "b69e5be6e9e4b2d5",
   "metadata": {},
   "source": [
    "### Data Types\n",
    "\n",
    "There are several basic data types in Python. We have put a `5` for `x`, which is an **integer**. Other common data types include:\n",
    "- **Float**: A number with a decimal point, e.g., `3.14`\n",
    "- **String**: A sequence of characters, e.g., `'Hello, World!'`\n",
    "- **Boolean**: A value that is either `True` or `False`\n",
    "\n",
    "Let's take a look at each of these data types."
   ]
  },
  {
   "cell_type": "markdown",
   "id": "7de3db01e54647ce",
   "metadata": {},
   "source": [
    "### Integer\n",
    "\n",
    "Integer is a whole number, positive or negative, without decimals. For example:\n",
    "\n",
    "```python\n",
    "beta = 147\n",
    "beta\n",
    "```"
   ]
  },
  {
   "cell_type": "code",
   "execution_count": null,
   "id": "d7307ded112f0b69",
   "metadata": {},
   "outputs": [],
   "source": [
    "beta = 147\n",
    "beta"
   ]
  },
  {
   "cell_type": "markdown",
   "id": "8cb8c45cf7f9608b",
   "metadata": {},
   "source": [
    "We can check the type of variable using the `type()` function (again, we will introduce functions later, don't worry!), type your variable name inside the parentheses of `type()`:\n",
    "\n",
    "```python\n",
    "type(beta)\n",
    "```"
   ]
  },
  {
   "cell_type": "code",
   "execution_count": null,
   "id": "93eb301c1fe01366",
   "metadata": {},
   "outputs": [],
   "source": [
    "type(beta)"
   ]
  },
  {
   "cell_type": "markdown",
   "id": "622099d1a585ad45",
   "metadata": {},
   "source": [
    "Here, `int` stands for integer."
   ]
  },
  {
   "cell_type": "markdown",
   "id": "bf0ff3bec5456cb0",
   "metadata": {},
   "source": [
    "### Float\n",
    "\n",
    "Float is a number that has a decimal point. For example:\n",
    "\n",
    "```python\n",
    "phi = 1.618\n",
    "phi, type(phi)\n",
    "```"
   ]
  },
  {
   "cell_type": "code",
   "execution_count": null,
   "id": "b28ee27054e804c",
   "metadata": {},
   "outputs": [],
   "source": [
    "phi = 1.618\n",
    "phi, type(phi)"
   ]
  },
  {
   "cell_type": "markdown",
   "id": "63fbc6836c518604",
   "metadata": {},
   "source": [
    "Even if a float has zero decimal parts, it is still considered a float—it's important to put a `.0` to indicate that it's a float:\n",
    "\n",
    "```python\n",
    "type(8), type(8.0)\n",
    "```"
   ]
  },
  {
   "cell_type": "code",
   "execution_count": null,
   "id": "438f402aa9dbe9b3",
   "metadata": {},
   "outputs": [],
   "source": [
    "type(8), type(8.0)"
   ]
  },
  {
   "cell_type": "markdown",
   "id": "c1b209b184b0e688",
   "metadata": {},
   "source": [
    "From the case above, you can see that integer and float are different data types. They have different preposes, and they behave differently in some operations. We will see more about this later.\n",
    "\n",
    "Some float numbers can be represented in scientific notation, which is a way of expressing huge or tiny numbers. For example, `3.0e8` represents $3.0 \\times 10^8$ (300,000,000), and `1.5e-4` represents $1.5 \\times 10^{-4}$ (0.00015):\n",
    "\n",
    "```python\n",
    "speed_of_light = 3.0e8  # in meters per second\n",
    "avogadro_number = 6.022e23  # in mol^-1\n",
    "speed_of_light, avogadro_number\n",
    "```"
   ]
  },
  {
   "cell_type": "code",
   "execution_count": null,
   "id": "d56fd6605fc71bee",
   "metadata": {},
   "outputs": [],
   "source": [
    "speed_of_light = 3.0e8  # in meters per second\n",
    "avogadro_number = 6.022e23  # in mol^-1\n",
    "speed_of_light, avogadro_number"
   ]
  },
  {
   "cell_type": "markdown",
   "id": "47773c421272bc93",
   "metadata": {},
   "source": [
    "Note that the content after `#` is a [comment](https://en.wikipedia.org/wiki/Comment_(computer_programming)), which is ignored by Python."
   ]
  },
  {
   "cell_type": "markdown",
   "id": "fff4043b939ffb0e",
   "metadata": {},
   "source": [
    "### String\n",
    "\n",
    "Strings are sequences of characters, enclosed in either single or double quotes.\n",
    "\n",
    "```python\n",
    "greeting = 'Hello, Chem 18!'\n",
    "greeting, type(greeting)\n",
    "```"
   ]
  },
  {
   "cell_type": "code",
   "execution_count": null,
   "id": "732ba0502912336d",
   "metadata": {
    "collapsed": true
   },
   "outputs": [],
   "source": [
    "greeting = 'Hello, Chem 18!'\n",
    "greeting, type(greeting)"
   ]
  },
  {
   "cell_type": "markdown",
   "id": "33b909362799487",
   "metadata": {},
   "source": [
    "Here, `str` stands for string.\n"
   ]
  },
  {
   "cell_type": "markdown",
   "id": "4162e2295d5bd381",
   "metadata": {},
   "source": [
    "### Boolean\n",
    "\n",
    "Booleans represent one of two values: `True` or `False`. They are often used in conditional statements and comparisons.\n",
    "\n",
    "```python\n",
    "is_chem_fun = True\n",
    "is_chem_fun, type(is_chem_fun)\n",
    "```"
   ]
  },
  {
   "cell_type": "code",
   "execution_count": null,
   "id": "57d8e64c5f269916",
   "metadata": {},
   "outputs": [],
   "source": [
    "is_chem_fun = True\n",
    "is_chem_fun, type(is_chem_fun)"
   ]
  },
  {
   "cell_type": "markdown",
   "id": "4f4a414a82502076",
   "metadata": {},
   "source": [
    "Here, `bool` stands for boolean."
   ]
  },
  {
   "cell_type": "markdown",
   "id": "b9e5e717e5a8374d",
   "metadata": {},
   "source": [
    "## Operators and Basic Arithmetic\n",
    "\n",
    "We now shift our focus to how to manipulate these variables using **operators**. Operators are special symbols that perform operations on variables and values. Python supports several types of operators, including:\n",
    "- **Arithmetic Operators**: `+`, `-`, `*`, `/`, `//` (floor division), `%` (modulus), `**` (exponentiation)\n",
    "- **Comparison Operators**: `==`, `!=`, `>`, `<`, `>=`, `<=`\n",
    "- **Logical Operators**: `and`, `or`, `not`"
   ]
  },
  {
   "cell_type": "markdown",
   "id": "55ac5ce0f02f926a",
   "metadata": {},
   "source": [
    "### Arithmetic Operators\n",
    "\n",
    "Arithmetic operators are used to perform mathematical operations. Here are some examples:\n",
    "\n",
    "```python\n",
    "3+2, 5-2, 4*3\n",
    "```"
   ]
  },
  {
   "cell_type": "code",
   "execution_count": null,
   "id": "a86b08e8ea8466f4",
   "metadata": {},
   "outputs": [],
   "source": [
    "3+2, 5-2, 4*3"
   ]
  },
  {
   "cell_type": "markdown",
   "id": "74961051a8c96d52",
   "metadata": {},
   "source": [
    "We can use parentheses to group operations and control the order of evaluation, just like what we study in primary school:\n",
    "\n",
    "```python\n",
    "(3+2)*4, 3+2*4\n",
    "```"
   ]
  },
  {
   "cell_type": "code",
   "execution_count": null,
   "id": "ee92c26425a2874",
   "metadata": {},
   "outputs": [],
   "source": [
    "(3+2)*4, 3+2*4"
   ]
  },
  {
   "cell_type": "markdown",
   "id": "66475f3e04eb3e3c",
   "metadata": {},
   "source": [
    "For exponentiation, use `**`:\n",
    "\n",
    "```python\n",
    "2**3, 4**0.5\n",
    "```"
   ]
  },
  {
   "cell_type": "code",
   "execution_count": null,
   "id": "804f41cf33ae6127",
   "metadata": {},
   "outputs": [],
   "source": [
    "2**3, 4**0.5"
   ]
  },
  {
   "cell_type": "markdown",
   "id": "c26733a60d065016",
   "metadata": {},
   "source": [
    "For division, Python uses `/` for floating-point division and `//` for integer (floor) division:\n",
    "\n",
    "```python\n",
    "7/2, 7//2\n",
    "```"
   ]
  },
  {
   "cell_type": "code",
   "execution_count": null,
   "id": "678fc0cb9bc98c9c",
   "metadata": {},
   "outputs": [],
   "source": [
    "7/2, 7//2"
   ]
  },
  {
   "cell_type": "markdown",
   "id": "e12e9197df3de728",
   "metadata": {},
   "source": [
    "What about the remainder of an integer division? The remainder can be obtained using the modulo operator `%`:\n",
    "\n",
    "```python\n",
    "7 % 2\n",
    "```"
   ]
  },
  {
   "cell_type": "code",
   "execution_count": null,
   "id": "dc90b2d2159bae90",
   "metadata": {},
   "outputs": [],
   "source": [
    "7 % 2"
   ]
  },
  {
   "cell_type": "markdown",
   "id": "e9a60f27dd226555",
   "metadata": {},
   "source": [
    "The above process can be represented as:\n",
    "\n",
    "$$7 \\div 2 = 3 \\cdots 1$$\n",
    "\n",
    "You may notice that types of the results vary depending on the operations. In general, if any operand is a float, the result will be a float. If both operands are integers, the result will be an integer (except for division `/`, which always returns a float)."
   ]
  },
  {
   "cell_type": "markdown",
   "id": "c310bb02efec7716",
   "metadata": {},
   "source": [
    "### Comparison Operators\n",
    "\n",
    "Comparison operators are used to compare two values. They return a Boolean value (`True` or `False`) based on the comparison. There are six comparison operators in Python:\n",
    "\n",
    "- `==`: Equal to ($=$)\n",
    "- `!=`: Not equal to ($\\ne$)\n",
    "- `>`: Greater than ($>$)\n",
    "- `<`: Less than ($<$)\n",
    "- `>=`: Greater than or equal to ($\\ge$)\n",
    "- `<=`: Less than or equal to ($\\le$)\n",
    "\n",
    "Be careful not to confuse `=` (assignment) with `==` (comparison)!\n",
    "\n",
    "Here are some examples:\n",
    "\n",
    "```python\n",
    "a = 5\n",
    "b = 3\n",
    "a == b, a != b, a > b, a < b, a >= b, a <= b\n",
    "```"
   ]
  },
  {
   "cell_type": "code",
   "execution_count": null,
   "id": "64b648745d97ceb0",
   "metadata": {},
   "outputs": [],
   "source": [
    "a = 5\n",
    "b = 3\n",
    "a == b, a != b, a > b, a < b, a >= b, a <= b"
   ]
  },
  {
   "cell_type": "markdown",
   "id": "1bbc298370881100",
   "metadata": {},
   "source": [
    "### Logical Operators\n",
    "\n",
    "Logical operators are used to combine multiple Boolean expressions. The three main logical operators in Python are:\n",
    "\n",
    "- `and`: Returns `True` if both operands are `True`\n",
    "- `or`: Returns `True` if at least one operand is `True`\n",
    "- `not`: Returns the opposite of the operand, which is `True` if the operand is `False` and `False` if the operand is `True`\n",
    "\n",
    "```python\n",
    "x = True\n",
    "y = False\n",
    "x and y, x or y, not x\n",
    "```"
   ]
  },
  {
   "cell_type": "code",
   "execution_count": null,
   "id": "3f059cf87aa4cd29",
   "metadata": {},
   "outputs": [],
   "source": [
    "x = True\n",
    "y = False\n",
    "x and y, x or y, not x"
   ]
  },
  {
   "cell_type": "markdown",
   "id": "9f9cb10ff67feded",
   "metadata": {},
   "source": [
    "If you are confused about how logical operators work, click [this link](https://math.libretexts.org/Courses/SUNY_Schenectady_County_Community_College/Discrete_Structures/02%3A_Logical_Reasoning/2.01%3A_Statements_and_Logical_Operators) or refer to any textbooks about logic."
   ]
  },
  {
   "cell_type": "markdown",
   "id": "66adb5e18f1442df",
   "metadata": {},
   "source": [
    "### Assignment Operators\n",
    "\n",
    "Before introducing assignment operators, let's see how to update the value of a variable. You can simply reassign a new value to the variable:\n",
    "\n",
    "```python\n",
    "count = 10\n",
    "print(count)\n",
    "count = 15\n",
    "print(count)\n",
    "count = 30\n",
    "print(count)\n",
    "```"
   ]
  },
  {
   "cell_type": "code",
   "execution_count": null,
   "id": "668e4f49609fa8f7",
   "metadata": {},
   "outputs": [],
   "source": [
    "count = 10\n",
    "print(count)\n",
    "count = 15\n",
    "print(count)\n",
    "count = 30\n",
    "print(count)"
   ]
  },
  {
   "cell_type": "markdown",
   "id": "a9e5d88171a338e1",
   "metadata": {},
   "source": [
    "Moreover, you can use the current value of the variable in the new assignment:\n",
    "\n",
    "```python\n",
    "count = 10\n",
    "print(count)\n",
    "count = count + 5\n",
    "print(count)\n",
    "```"
   ]
  },
  {
   "cell_type": "code",
   "execution_count": null,
   "id": "b3d2800ba3d134ec",
   "metadata": {},
   "outputs": [],
   "source": [
    "count = 10\n",
    "print(count)\n",
    "count = count + 5\n",
    "print(count)"
   ]
  },
  {
   "cell_type": "markdown",
   "id": "f6fceed1120e9b6c",
   "metadata": {},
   "source": [
    "Let's try it again by another operation:\n",
    "\n",
    "```python\n",
    "count = 15\n",
    "print(count)\n",
    "count = count * 2\n",
    "print(count)\n",
    "```"
   ]
  },
  {
   "cell_type": "code",
   "execution_count": null,
   "id": "a38f0bcc8cc24272",
   "metadata": {},
   "outputs": [],
   "source": [
    "count = 15\n",
    "print(count)\n",
    "count = count * 2\n",
    "print(count)"
   ]
  },
  {
   "cell_type": "markdown",
   "id": "5d50fd55f6035e04",
   "metadata": {},
   "source": [
    "Assignment operators are used to assign values to variables. The most common assignment operator is `=`, which we have already seen. However, Python also provides several compound assignment operators that combine an arithmetic operation with the assignment:\n",
    "\n",
    "- `+=`: Add and assign\n",
    "- `-=`: Subtract and assign\n",
    "- `*=`: Multiply and assign\n",
    "- `**=`: Exponentiate and assign\n",
    "- `/=`: Divide and assign\n",
    "- `//=`: Floor divide and assign\n",
    "- `%=`: Modulus and assign\n",
    "\n",
    "For example:\n",
    "\n",
    "```python\n",
    "count = 10\n",
    "print(count)\n",
    "count += 5  # Equivalent to count = count + 5\n",
    "print(count)\n",
    "count *= 2  # Equivalent to count = count * 2\n",
    "print(count)\n",
    "```"
   ]
  },
  {
   "cell_type": "code",
   "execution_count": null,
   "id": "b38888dabd0b0622",
   "metadata": {},
   "outputs": [],
   "source": [
    "count = 10\n",
    "print(count)\n",
    "count += 5  # Equivalent to count = count + 5\n",
    "print(count)\n",
    "count *= 2  # Equivalent to count = count * 2\n",
    "print(count)"
   ]
  },
  {
   "cell_type": "markdown",
   "id": "cfe9db26a7b5be29",
   "metadata": {},
   "source": [
    "## Defining Functions\n",
    "\n",
    "Functions are blocks of code that perform a specific task. They are useful for reusing code and avoiding repetition. We have already seen some functions in the previous lessons. For example, `print()` is a function that prints the value of a variable or expression. We can define our own functions using the `def` keyword.\n",
    "\n",
    "```python\n",
    "def plus_one(n):\n",
    "    return n+1\n",
    "\n",
    "plus_one(146)\n",
    "```"
   ]
  },
  {
   "cell_type": "code",
   "execution_count": null,
   "id": "e479445ce256d7b7",
   "metadata": {},
   "outputs": [],
   "source": [
    "def plus_one(n):\n",
    "    return n+1\n",
    "\n",
    "plus_one(146)"
   ]
  },
  {
   "cell_type": "markdown",
   "id": "8148cc8522543f63",
   "metadata": {},
   "source": [
    "Defining a function is as simple as defining a variable. The function name is followed by parentheses, which contain the arguments of the function. At the end of the function, we use the `return` keyword to return the value of the function. In some cases, we may not want to return anything, in which case we can drop the `return` keyword—which, is a rare case, and you don't need to care so much about it (´▽｀)\n",
    "\n",
    "You can take multiple arguments by separating them with commas:\n",
    "\n",
    "```python\n",
    "def plus(x, y):\n",
    "    return x+y\n",
    "\n",
    "plus(114, 514)\n",
    "```"
   ]
  },
  {
   "cell_type": "code",
   "execution_count": null,
   "id": "fb7579fbadeb2fa9",
   "metadata": {},
   "outputs": [],
   "source": [
    "def plus(x, y):\n",
    "    return x+y\n",
    "\n",
    "plus(114, 514)"
   ]
  },
  {
   "cell_type": "markdown",
   "id": "397380e7d0fc3e7b",
   "metadata": {},
   "source": [
    "Sometimes we want to make some arguments optional. We can do this by assigning _default values_ to the arguments:\n",
    "\n",
    "```python\n",
    "def plus_default(x, y=0):\n",
    "    return x+y\n",
    "\n",
    "print(plus_default(1919))\n",
    "print(plus_default(1919, 810))\n",
    "```"
   ]
  },
  {
   "cell_type": "code",
   "execution_count": null,
   "id": "3e6a17647f7cad2",
   "metadata": {},
   "outputs": [],
   "source": [
    "def plus_default(x, y=0):\n",
    "    return x+y\n",
    "\n",
    "print(plus_default(1919))\n",
    "print(plus_default(1919, 810))"
   ]
  },
  {
   "cell_type": "markdown",
   "id": "85f38860bf438c8f",
   "metadata": {},
   "source": [
    "Notice that all the optional arguments must come after the required arguments.\n",
    "\n",
    "We can even define functions with no arguments:\n",
    "\n",
    "```python\n",
    "def hello():\n",
    "    print('Hello, world!')\n",
    "\n",
    "hello()\n",
    "```"
   ]
  },
  {
   "cell_type": "code",
   "execution_count": null,
   "id": "9d1241f1e5be3bc9",
   "metadata": {},
   "outputs": [],
   "source": [
    "def hello():\n",
    "    print('Hello, world!')\n",
    "\n",
    "hello()"
   ]
  },
  {
   "cell_type": "markdown",
   "id": "f37bb3eacc0ac520",
   "metadata": {},
   "source": [
    "## End-of-Lesson Problems\n",
    "\n",
    "Now it's your turn! We will leave you with some interesting questions at the end of each lesson. Feel free to reach us out or discuss with your friends if you have any questions(´▽｀)"
   ]
  },
  {
   "cell_type": "markdown",
   "id": "9eb329a53c67f4c1",
   "metadata": {},
   "source": [
    "### Problem 1: 8-Twelve Discount\n",
    "\n",
    "Consider an 8-Twelve discount policy: a person is eligible for a discount if they are a minor (under 18 years old), a senior (65 years or older), or have a student ID.\n",
    "\n",
    "Define the variables below and write out the Boolean expressions to determine:\n",
    "- `is_minor`: whether `age` is less than 18\n",
    "- `is_senior`: whether `age` is at least 65\n",
    "- `eligible_discount`: true if a person is a minor, a senior, or has a student ID\n",
    "\n",
    "Return `eligible_discount` at the end of the cell. The initial values are given for you.\n",
    "\n",
    "```python\n",
    "age = 20\n",
    "has_student_id = True\n",
    "```"
   ]
  },
  {
   "cell_type": "code",
   "execution_count": null,
   "id": "f80639da5dcbf840",
   "metadata": {},
   "outputs": [],
   "source": [
    "age = 20\n",
    "has_student_id = True"
   ]
  },
  {
   "cell_type": "markdown",
   "id": "58a9b53b1cc1f76",
   "metadata": {},
   "source": [
    "### Problem 2: Functions\n",
    "\n",
    "Define functions below:\n",
    "- Polynomial function: $f(x) = 3x^2 - 2x + 1$\n",
    "- Square root function: $g(x) = \\sqrt{x} = x^{\\frac{1}{2}}$\n",
    "- Exponential function: $h(x, y) = 2^{x+y}$\n",
    "\n",
    "Use your functions to calculate $f(h(1, 3)) + f(6) \\cdot g(9)$."
   ]
  },
  {
   "cell_type": "code",
   "execution_count": null,
   "id": "15b04fee41ed23f3",
   "metadata": {},
   "outputs": [],
   "source": [
    "def f(x):\n",
    "    return 3 * x**2 - 2*x + 1\n",
    "\n",
    "def g(x):\n",
    "    return x**0.5\n",
    "\n",
    "def h(x, y):\n",
    "    return 2**(x + y)\n",
    "\n",
    "print(f(h(1, 3)) + f(6) * g(9))"
   ]
  },
  {
   "cell_type": "markdown",
   "id": "7f36f9823be7b63e",
   "metadata": {},
   "source": [
    "### Problem 3: Iodometry\n",
    "\n",
    "<span style=\"color:#39c5bb\">Yue 20 **Van Nya** \"<u>**5min**</u>\"</span> wants to measure the concentration of a $\\ce{KMnO4}$ solution by the following procedure:\n",
    "\n",
    "- Add $2.0\\ \\mathrm{g}$ of $\\ce{KI}$ and $10\\ \\mathrm{mL}$ of $\\ce{H2SO4}$ solution of concentration $1.0\\ \\mathrm{mol\\,L^{-1}}$ into a conical flask.\n",
    "- Add $5.00\\ \\mathrm{mL}$ of $\\ce{KMnO4}$ solution to measure into the flask, wait until the reaction is complete. The equation of reaction is:\n",
    "    $$\\ce{2MnO4-(aq) + 10I-(aq) + 16H+(aq) -> 2Mn^2+(aq) + 5I2(aq) + 8H2O(aq)}$$\n",
    "- Titrate the generated $\\ce{I2}$ using $0.1020\\ \\mathrm{mol\\,L^{-1}}$ $\\ce{Na2S2O3}$ solution. Add five drops of a starch solution while the titration is about to end. Continue titration until the blue color of the solution vanished. The titration consumed $26.43\\ \\mathrm{mL}$ of $\\ce{Na2S2O3}$ solution. The equation of titration is\n",
    "    $$\\ce{I2(aq) + 2S2O3^2-(aq) -> 2I-(aq) + S4O6^2-(aq)}$$\n",
    "\n",
    "Calculate the concentration of $\\ce{KMnO4}$ solution. Define some variables, perform calculations, make outputs of your answer—and be fun! Just make sure that <u>**you should show all the steps in the code cell below.**</u>\n",
    "\n",
    "_Hint: The following is the quantitative relationship between related ions:_\n",
    "\n",
    "$$\\ce{Mn^2+ \\sim 5I^- \\sim 5S2O3^2-}$$"
   ]
  },
  {
   "cell_type": "code",
   "execution_count": null,
   "id": "f1fd076256068b45",
   "metadata": {},
   "outputs": [],
   "source": [
    "C_S2O3 = 0.1020\n",
    "V_S2O3 = 26.43e-3\n",
    "V_KMnO4 = 5.00e-3\n",
    "\n",
    "C_KMnO4 = (C_S2O3 * V_S2O3) / (5 * V_KMnO4)\n",
    "round(C_KMnO4, 3)"
   ]
  },
  {
   "cell_type": "markdown",
   "id": "88af57559fa54c14",
   "metadata": {},
   "source": [
    "## Acknowledgement\n",
    "\n",
    "This lesson draws on ideas from the following sources:\n",
    "\n",
    "- [The Python Tutorial](https://docs.python.org/3/tutorial/)\n",
    "- [Scientific Python Lectures](https://lectures.scientific-python.org/)\n",
    "- Charles J. Weiss's [Scientific Computing for Chemists with Python](https://weisscharlesj.github.io/SciCompforChemists/notebooks/introduction/intro.html)\n",
    "- [An Introduction to Python for Chemistry](https://pythoninchemistry.org/intro_python_chemists/intro.html)\n",
    "- GenAI for making paragraphs and codes(・ω< )★\n",
    "- And so many resources on Reddit, StackExchange, etc.!"
   ]
  }
 ],
 "metadata": {
  "kernelspec": {
   "display_name": "Python 3 (ipykernel)",
   "language": "python",
   "name": "python3"
  },
  "language_info": {
   "codemirror_mode": {
    "name": "ipython",
    "version": 2
   },
   "file_extension": ".py",
   "mimetype": "text/x-python",
   "name": "python",
   "nbconvert_exporter": "python",
   "pygments_lexer": "ipython2",
   "version": "2.7.6"
  }
 },
 "nbformat": 4,
 "nbformat_minor": 5
}
