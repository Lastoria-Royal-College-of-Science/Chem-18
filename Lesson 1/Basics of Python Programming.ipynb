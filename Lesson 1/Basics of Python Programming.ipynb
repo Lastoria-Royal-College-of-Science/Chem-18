{
 "cells": [
  {
   "metadata": {},
   "cell_type": "markdown",
   "source": [
    "# Lesson 1: Basics of Python Programming\n",
    "\n",
    "> Instructor: [Yuki Oyama](mailto:y.oyama@lrcs.ac), [Prprnya](mailto:nya@prpr.zip)\n",
    ">\n",
    "> The Christian F. Weichman Department of Chemistry, Lastoria Royal College of Science\n",
    "\n",
    "This material is licensed under <a href=\"https://creativecommons.org/licenses/by-nc-sa/4.0/\">CC BY-NC-SA 4.0</a><img src=\"https://mirrors.creativecommons.org/presskit/icons/cc.svg\" alt=\"\" style=\"max-width: 1em;max-height:1em;margin-left: .2em;\"><img src=\"https://mirrors.creativecommons.org/presskit/icons/by.svg\" alt=\"\" style=\"max-width: 1em;max-height:1em;margin-left: .2em;\"><img src=\"https://mirrors.creativecommons.org/presskit/icons/nc.svg\" alt=\"\" style=\"max-width: 1em;max-height:1em;margin-left: .2em;\"><img src=\"https://mirrors.creativecommons.org/presskit/icons/sa.svg\" alt=\"\" style=\"max-width: 1em;max-height:1em;margin-left: .2em;\">\n",
    "\n",
    "\n",
    "Welcome to the first lesson! In this lesson, we will cover the very basics of Python. If you have never programmed before, don't worry! We will start from the ground up. If you have some experience, this will be a good refresher."
   ],
   "id": "77c025685acb0a64"
  },
  {
   "metadata": {},
   "cell_type": "markdown",
   "source": [
    "## Variables and Data Types\n",
    "\n",
    "In Python, data is stored in **variables**. A variable is a name that refers to a value. You can think of it as a label for a box that holds something inside. You can create a variable by assigning a value to it using the `=` operator. This is called **assignment**. For example:\n",
    "\n",
    "```python\n",
    "x = 5\n",
    "```\n",
    "\n",
    "Copy this code into the next cell and run it by pressing <kbd>Shift</kbd> + <kbd>Enter</kbd> (on macOS pressing <kbd>Shift</kbd> + <kbd>Return</kbd> instead). You won't see any output, but the variable `x` is now created and holds the value `5`."
   ],
   "id": "fc4c9226849d29e4"
  },
  {
   "metadata": {
    "ExecuteTime": {
     "end_time": "2025-09-07T21:59:49.707347Z",
     "start_time": "2025-09-07T21:59:49.700633Z"
    }
   },
   "cell_type": "code",
   "source": "x = 5",
   "id": "7262c0fc1fce2b28",
   "outputs": [],
   "execution_count": 1
  },
  {
   "metadata": {},
   "cell_type": "markdown",
   "source": [
    "You can check the value of a variable by typing its name at the end of any cell after you defined it, then running it. For example:\n",
    "\n",
    "```python\n",
    "y = 10\n",
    "y\n",
    "```"
   ],
   "id": "b6cf4ac5112251ec"
  },
  {
   "metadata": {
    "ExecuteTime": {
     "end_time": "2025-09-07T21:59:49.719659Z",
     "start_time": "2025-09-07T21:59:49.712131Z"
    }
   },
   "cell_type": "code",
   "source": [
    "y = 10\n",
    "y"
   ],
   "id": "34b538dedc9502f1",
   "outputs": [
    {
     "data": {
      "text/plain": [
       "10"
      ]
     },
     "execution_count": 2,
     "metadata": {},
     "output_type": "execute_result"
    }
   ],
   "execution_count": 2
  },
  {
   "metadata": {},
   "cell_type": "markdown",
   "source": [
    "Name of a variable can be anything you like, as long as it starts with a letter or an underscore (`_`), and is followed by letters, numbers, or underscores.\n",
    "\n",
    "- Valid variable names: `my_variable`, `data1`, `_temp`\n",
    "- Invalid variable names: `1data`, `my-variable`, `my variable`\n",
    "\n",
    "Variable names are case-sensitive, so `CAP`, `Cap` and `cap` are different variables. Run the code below to see how variable names work:\n",
    "\n",
    "```python\n",
    "CAP = 0\n",
    "Cap = 1\n",
    "cap = 2\n",
    "CAP, Cap, cap\n",
    "```"
   ],
   "id": "668ea2646e91deae"
  },
  {
   "metadata": {
    "ExecuteTime": {
     "end_time": "2025-09-07T21:59:49.733809Z",
     "start_time": "2025-09-07T21:59:49.725447Z"
    }
   },
   "cell_type": "code",
   "source": [
    "CAP = 0\n",
    "Cap = 1\n",
    "cap = 2\n",
    "CAP, Cap, cap"
   ],
   "id": "6bce64aa2981e8ba",
   "outputs": [
    {
     "data": {
      "text/plain": [
       "(0, 1, 2)"
      ]
     },
     "execution_count": 3,
     "metadata": {},
     "output_type": "execute_result"
    }
   ],
   "execution_count": 3
  },
  {
   "metadata": {},
   "cell_type": "markdown",
   "source": [
    "Note that in the code mode, we can output multiple variables by separating them with commas. The output will give them in a sequence wrapped by parentheses and separated by commas. Otherwise, you can use `print()` **function** to customize the output format. _We will introduce functions later._\n",
    "\n",
    "```python\n",
    "print(CAP, Cap, cap)\n",
    "```"
   ],
   "id": "396381791b1746ac"
  },
  {
   "metadata": {
    "ExecuteTime": {
     "end_time": "2025-09-07T21:59:49.748821Z",
     "start_time": "2025-09-07T21:59:49.742240Z"
    }
   },
   "cell_type": "code",
   "source": "print(CAP, Cap, cap)",
   "id": "e7d09723f2568fbe",
   "outputs": [
    {
     "name": "stdout",
     "output_type": "stream",
     "text": [
      "0 1 2\n"
     ]
    }
   ],
   "execution_count": 4
  },
  {
   "metadata": {},
   "cell_type": "markdown",
   "source": [
    "Spacing between the variable name and the operator is optional. However, it is good practice to put a single space after each operator.\n",
    "```python\n",
    "space1=10\n",
    "space2 = 10\n",
    "space3    =      10\n",
    "print(space1, space2, space3)\n",
    "```"
   ],
   "id": "eb9d8ca4e68af455"
  },
  {
   "metadata": {
    "ExecuteTime": {
     "end_time": "2025-09-07T21:59:49.764531Z",
     "start_time": "2025-09-07T21:59:49.761252Z"
    }
   },
   "cell_type": "code",
   "source": [
    "space1=10\n",
    "space2 = 10\n",
    "space3    =      10\n",
    "print(space1, space2, space3)"
   ],
   "id": "11e2830b433a1e48",
   "outputs": [
    {
     "name": "stdout",
     "output_type": "stream",
     "text": [
      "10 10 10\n"
     ]
    }
   ],
   "execution_count": 5
  },
  {
   "metadata": {},
   "cell_type": "markdown",
   "source": "### Data Types",
   "id": "3abe9ab8f21d1301"
  },
  {
   "metadata": {},
   "cell_type": "markdown",
   "source": [
    "There are several basic data types in Python. We have put a `5` for `x`, which is an **integer**. Other common data types include:\n",
    "- **Float**: A number with a decimal point, e.g., `3.14`\n",
    "- **String**: A sequence of characters, e.g., `'Hello, World!'`\n",
    "- **Boolean**: A value that is either `True` or `False`\n",
    "\n",
    "Let's take a look at each of these data types."
   ],
   "id": "b69e5be6e9e4b2d5"
  },
  {
   "metadata": {},
   "cell_type": "markdown",
   "source": [
    "### Integer\n",
    "\n",
    "Integer is a whole number, positive or negative, without decimals. For example:\n",
    "\n",
    "```python\n",
    "beta = 147\n",
    "beta\n",
    "```"
   ],
   "id": "7de3db01e54647ce"
  },
  {
   "metadata": {
    "ExecuteTime": {
     "end_time": "2025-09-07T21:59:49.784490Z",
     "start_time": "2025-09-07T21:59:49.780966Z"
    }
   },
   "cell_type": "code",
   "source": [
    "beta = 147\n",
    "beta"
   ],
   "id": "d7307ded112f0b69",
   "outputs": [
    {
     "data": {
      "text/plain": [
       "147"
      ]
     },
     "execution_count": 6,
     "metadata": {},
     "output_type": "execute_result"
    }
   ],
   "execution_count": 6
  },
  {
   "metadata": {},
   "cell_type": "markdown",
   "source": [
    "We can check the type of variable using the `type()` function (again, we will introduce functions later, don't worry!), type your variable name inside the parentheses of `type()`:\n",
    "\n",
    "```python\n",
    "type(beta)\n",
    "```"
   ],
   "id": "8cb8c45cf7f9608b"
  },
  {
   "metadata": {
    "ExecuteTime": {
     "end_time": "2025-09-07T21:59:49.802114Z",
     "start_time": "2025-09-07T21:59:49.798228Z"
    }
   },
   "cell_type": "code",
   "source": "type(beta)",
   "id": "93eb301c1fe01366",
   "outputs": [
    {
     "data": {
      "text/plain": [
       "int"
      ]
     },
     "execution_count": 7,
     "metadata": {},
     "output_type": "execute_result"
    }
   ],
   "execution_count": 7
  },
  {
   "metadata": {},
   "cell_type": "markdown",
   "source": "Here, `int` stands for integer.",
   "id": "622099d1a585ad45"
  },
  {
   "metadata": {},
   "cell_type": "markdown",
   "source": [
    "### Float\n",
    "\n",
    "Float is a number that has a decimal point. For example:\n",
    "\n",
    "```python\n",
    "phi = 1.618\n",
    "phi, type(phi)\n",
    "```"
   ],
   "id": "bf0ff3bec5456cb0"
  },
  {
   "metadata": {
    "ExecuteTime": {
     "end_time": "2025-09-07T21:59:49.827098Z",
     "start_time": "2025-09-07T21:59:49.818939Z"
    }
   },
   "cell_type": "code",
   "source": [
    "phi = 1.618\n",
    "phi, type(phi)"
   ],
   "id": "b28ee27054e804c",
   "outputs": [
    {
     "data": {
      "text/plain": [
       "(1.618, float)"
      ]
     },
     "execution_count": 8,
     "metadata": {},
     "output_type": "execute_result"
    }
   ],
   "execution_count": 8
  },
  {
   "metadata": {},
   "cell_type": "markdown",
   "source": [
    "Even if a float has zero decimal parts, it is still considered a float—it's important to put a `.0` to indicate that it's a float:\n",
    "\n",
    "```python\n",
    "type(8), type(8.0)\n",
    "```"
   ],
   "id": "63fbc6836c518604"
  },
  {
   "metadata": {
    "ExecuteTime": {
     "end_time": "2025-09-07T21:59:49.847035Z",
     "start_time": "2025-09-07T21:59:49.843439Z"
    }
   },
   "cell_type": "code",
   "source": "type(8), type(8.0)",
   "id": "438f402aa9dbe9b3",
   "outputs": [
    {
     "data": {
      "text/plain": [
       "(int, float)"
      ]
     },
     "execution_count": 9,
     "metadata": {},
     "output_type": "execute_result"
    }
   ],
   "execution_count": 9
  },
  {
   "metadata": {},
   "cell_type": "markdown",
   "source": [
    "From the case above, you can see that integer and float are different data types. They have different preposes, and they behave differently in some operations. We will see more about this later.\n",
    "\n",
    "Some float numbers can be represented in scientific notation, which is a way of expressing huge or tiny numbers. For example, `3.0e8` represents $3.0 \\times 10^8$ (300,000,000), and `1.5e-4` represents $1.5 \\times 10^{-4}$ (0.00015):\n",
    "\n",
    "```python\n",
    "speed_of_light = 3.0e8  # in meters per second\n",
    "avogadro_number = 6.022e23  # in mol^-1\n",
    "speed_of_light, avogadro_number\n",
    "```"
   ],
   "id": "c1b209b184b0e688"
  },
  {
   "metadata": {
    "ExecuteTime": {
     "end_time": "2025-09-07T21:59:49.892653Z",
     "start_time": "2025-09-07T21:59:49.889079Z"
    }
   },
   "cell_type": "code",
   "source": [
    "speed_of_light = 3.0e8  # in meters per second\n",
    "avogadro_number = 6.022e23  # in mol^-1\n",
    "speed_of_light, avogadro_number"
   ],
   "id": "d56fd6605fc71bee",
   "outputs": [
    {
     "data": {
      "text/plain": [
       "(300000000.0, 6.022e+23)"
      ]
     },
     "execution_count": 10,
     "metadata": {},
     "output_type": "execute_result"
    }
   ],
   "execution_count": 10
  },
  {
   "metadata": {},
   "cell_type": "markdown",
   "source": [
    "### String\n",
    "\n",
    "Strings are sequences of characters, enclosed in either single or double quotes.\n",
    "\n",
    "```python\n",
    "greeting = 'Hello, Chem 18!'\n",
    "greeting, type(greeting)\n",
    "```"
   ],
   "id": "fff4043b939ffb0e"
  },
  {
   "metadata": {
    "collapsed": true,
    "ExecuteTime": {
     "end_time": "2025-09-07T21:59:49.911671Z",
     "start_time": "2025-09-07T21:59:49.907040Z"
    }
   },
   "cell_type": "code",
   "source": [
    "greeting = 'Hello, Chem 18!'\n",
    "greeting, type(greeting)"
   ],
   "id": "732ba0502912336d",
   "outputs": [
    {
     "data": {
      "text/plain": [
       "('Hello, Chem 18!', str)"
      ]
     },
     "execution_count": 11,
     "metadata": {},
     "output_type": "execute_result"
    }
   ],
   "execution_count": 11
  },
  {
   "metadata": {},
   "cell_type": "markdown",
   "source": "Here, `str` stands for string.\n",
   "id": "33b909362799487"
  },
  {
   "metadata": {},
   "cell_type": "markdown",
   "source": [
    "### Boolean\n",
    "\n",
    "Booleans represent one of two values: `True` or `False`. They are often used in conditional statements and comparisons.\n",
    "\n",
    "```python\n",
    "is_chem_fun = True\n",
    "is_chem_fun, type(is_chem_fun)\n",
    "```"
   ],
   "id": "4162e2295d5bd381"
  },
  {
   "metadata": {
    "ExecuteTime": {
     "end_time": "2025-09-07T21:59:49.928425Z",
     "start_time": "2025-09-07T21:59:49.924652Z"
    }
   },
   "cell_type": "code",
   "source": [
    "is_chem_fun = True\n",
    "is_chem_fun, type(is_chem_fun)"
   ],
   "id": "57d8e64c5f269916",
   "outputs": [
    {
     "data": {
      "text/plain": [
       "(True, bool)"
      ]
     },
     "execution_count": 12,
     "metadata": {},
     "output_type": "execute_result"
    }
   ],
   "execution_count": 12
  },
  {
   "metadata": {},
   "cell_type": "markdown",
   "source": "Here, `bool` stands for boolean.",
   "id": "4f4a414a82502076"
  },
  {
   "metadata": {},
   "cell_type": "markdown",
   "source": [
    "## Operators and Basic Arithmetic\n",
    "\n",
    "We now shift our focus to how to manipulate these variables using **operators**. Operators are special symbols that perform operations on variables and values. Python supports several types of operators, including:\n",
    "- **Arithmetic Operators**: `+`, `-`, `*`, `/`, `//` (floor division), `%` (modulus), `**` (exponentiation)\n",
    "- **Comparison Operators**: `==`, `!=`, `>`, `<`, `>=`, `<=`\n",
    "- **Logical Operators**: `and`, `or`, `not`"
   ],
   "id": "b9e5e717e5a8374d"
  },
  {
   "metadata": {},
   "cell_type": "markdown",
   "source": [
    "### Arithmetic Operators\n",
    "\n",
    "Arithmetic operators are used to perform mathematical operations. Here are some examples:\n",
    "\n",
    "```python\n",
    "3+2, 5-2, 4*3\n",
    "```"
   ],
   "id": "55ac5ce0f02f926a"
  },
  {
   "metadata": {
    "ExecuteTime": {
     "end_time": "2025-09-07T21:59:49.955325Z",
     "start_time": "2025-09-07T21:59:49.950341Z"
    }
   },
   "cell_type": "code",
   "source": "3+2, 5-2, 4*3",
   "id": "a86b08e8ea8466f4",
   "outputs": [
    {
     "data": {
      "text/plain": [
       "(5, 3, 12)"
      ]
     },
     "execution_count": 13,
     "metadata": {},
     "output_type": "execute_result"
    }
   ],
   "execution_count": 13
  },
  {
   "metadata": {},
   "cell_type": "markdown",
   "source": [
    "We can use parentheses to group operations and control the order of evaluation, just like what we study in primary school:\n",
    "\n",
    "```python\n",
    "(3+2)*4, 3+2*4\n",
    "```"
   ],
   "id": "74961051a8c96d52"
  },
  {
   "metadata": {
    "ExecuteTime": {
     "end_time": "2025-09-07T21:59:49.975201Z",
     "start_time": "2025-09-07T21:59:49.969812Z"
    }
   },
   "cell_type": "code",
   "source": "(3+2)*4, 3+2*4",
   "id": "ee92c26425a2874",
   "outputs": [
    {
     "data": {
      "text/plain": [
       "(20, 11)"
      ]
     },
     "execution_count": 14,
     "metadata": {},
     "output_type": "execute_result"
    }
   ],
   "execution_count": 14
  },
  {
   "metadata": {},
   "cell_type": "markdown",
   "source": [
    "For exponentiation, use `**`:\n",
    "\n",
    "```python\n",
    "2**3, 4**0.5\n",
    "```"
   ],
   "id": "66475f3e04eb3e3c"
  },
  {
   "metadata": {
    "ExecuteTime": {
     "end_time": "2025-09-07T21:59:49.989975Z",
     "start_time": "2025-09-07T21:59:49.986541Z"
    }
   },
   "cell_type": "code",
   "source": "2**3, 4**0.5",
   "id": "804f41cf33ae6127",
   "outputs": [
    {
     "data": {
      "text/plain": [
       "(8, 2.0)"
      ]
     },
     "execution_count": 15,
     "metadata": {},
     "output_type": "execute_result"
    }
   ],
   "execution_count": 15
  },
  {
   "metadata": {},
   "cell_type": "markdown",
   "source": [
    "For division, Python uses `/` for floating-point division and `//` for integer (floor) division:\n",
    "\n",
    "```python\n",
    "7/2, 7//2\n",
    "```"
   ],
   "id": "c26733a60d065016"
  },
  {
   "metadata": {
    "ExecuteTime": {
     "end_time": "2025-09-07T21:59:50.006448Z",
     "start_time": "2025-09-07T21:59:50.003075Z"
    }
   },
   "cell_type": "code",
   "source": "7/2, 7//2",
   "id": "678fc0cb9bc98c9c",
   "outputs": [
    {
     "data": {
      "text/plain": [
       "(3.5, 3)"
      ]
     },
     "execution_count": 16,
     "metadata": {},
     "output_type": "execute_result"
    }
   ],
   "execution_count": 16
  },
  {
   "metadata": {},
   "cell_type": "markdown",
   "source": [
    "What about the remainder of an integer division? The remainder can be obtained using the modulo operator `%`:\n",
    "\n",
    "```python\n",
    "7 % 2\n",
    "```"
   ],
   "id": "e12e9197df3de728"
  },
  {
   "metadata": {
    "ExecuteTime": {
     "end_time": "2025-09-07T21:59:50.044166Z",
     "start_time": "2025-09-07T21:59:50.039361Z"
    }
   },
   "cell_type": "code",
   "source": "7 % 2",
   "id": "dc90b2d2159bae90",
   "outputs": [
    {
     "data": {
      "text/plain": [
       "1"
      ]
     },
     "execution_count": 17,
     "metadata": {},
     "output_type": "execute_result"
    }
   ],
   "execution_count": 17
  },
  {
   "metadata": {},
   "cell_type": "markdown",
   "source": [
    "The above process can be represented as:\n",
    "$$7 \\div 2 = 3 \\cdots 1$$"
   ],
   "id": "e9a60f27dd226555"
  },
  {
   "metadata": {},
   "cell_type": "markdown",
   "source": "You may notice that types of the results vary depending on the operations. In general, if any operand is a float, the result will be a float. If both operands are integers, the result will be an integer (except for division `/`, which always returns a float).",
   "id": "354e53ef4f9d8526"
  },
  {
   "metadata": {},
   "cell_type": "markdown",
   "source": [
    "### Comparison Operators\n",
    "\n",
    "Comparison operators are used to compare two values. They return a Boolean value (`True` or `False`) based on the comparison. There are six comparison operators in Python:\n",
    "\n",
    "- `==`: Equal to ($=$)\n",
    "- `!=`: Not equal to ($\\ne$)\n",
    "- `>`: Greater than ($>$)\n",
    "- `<`: Less than ($<$)\n",
    "- `>=`: Greater than or equal to ($\\ge$)\n",
    "- `<=`: Less than or equal to ($\\le$)\n",
    "\n",
    "Be careful not to confuse `=` (assignment) with `==` (comparison)!\n",
    "\n",
    "Here are some examples:\n",
    "\n",
    "```python\n",
    "a = 5\n",
    "b = 3\n",
    "a == b, a != b, a > b, a < b, a >= b, a <= b\n",
    "```"
   ],
   "id": "c72f40d5b13d3cff"
  },
  {
   "metadata": {
    "ExecuteTime": {
     "end_time": "2025-09-07T21:59:50.052302Z",
     "start_time": "2025-09-07T21:59:50.048467Z"
    }
   },
   "cell_type": "code",
   "source": [
    "a = 5\n",
    "b = 3\n",
    "a == b, a != b, a > b, a < b, a >= b, a <= b"
   ],
   "id": "6329f73fe89d4004",
   "outputs": [
    {
     "data": {
      "text/plain": [
       "(False, True, True, False, True, False)"
      ]
     },
     "execution_count": 18,
     "metadata": {},
     "output_type": "execute_result"
    }
   ],
   "execution_count": 18
  },
  {
   "metadata": {},
   "cell_type": "markdown",
   "source": [
    "### Logical Operators\n",
    "\n",
    "Logical operators are used to combine multiple Boolean expressions. The three main logical operators in Python are:\n",
    "\n",
    "- `and`: Returns `True` if both operands are `True`\n",
    "- `or`: Returns `True` if at least one operand is `True`\n",
    "- `not`: Returns the opposite of the operand, which is `True` if the operand is `False` and `False` if the operand is `True`\n",
    "\n",
    "```python\n",
    "x = True\n",
    "y = False\n",
    "x and y, x or y, not x\n",
    "```"
   ],
   "id": "1bbc298370881100"
  },
  {
   "metadata": {
    "ExecuteTime": {
     "end_time": "2025-09-07T21:59:50.069954Z",
     "start_time": "2025-09-07T21:59:50.065621Z"
    }
   },
   "cell_type": "code",
   "source": [
    "x = True\n",
    "y = False\n",
    "x and y, x or y, not x"
   ],
   "id": "3f059cf87aa4cd29",
   "outputs": [
    {
     "data": {
      "text/plain": [
       "(False, True, False)"
      ]
     },
     "execution_count": 19,
     "metadata": {},
     "output_type": "execute_result"
    }
   ],
   "execution_count": 19
  },
  {
   "metadata": {},
   "cell_type": "markdown",
   "source": "If you are confused about how logical operators work, click [this link](https://math.libretexts.org/Courses/SUNY_Schenectady_County_Community_College/Discrete_Structures/02%3A_Logical_Reasoning/2.01%3A_Statements_and_Logical_Operators) or refer to any textbooks about logic.",
   "id": "9f9cb10ff67feded"
  },
  {
   "metadata": {},
   "cell_type": "markdown",
   "source": [
    "### Assignment Operators\n",
    "\n",
    "Before introducing assignment operators, let's see how to update the value of a variable. You can simply reassign a new value to the variable:\n",
    "\n",
    "```python\n",
    "count = 10\n",
    "print(count)\n",
    "count = 15\n",
    "print(count)\n",
    "count = 30\n",
    "print(count)\n",
    "```"
   ],
   "id": "66adb5e18f1442df"
  },
  {
   "metadata": {
    "ExecuteTime": {
     "end_time": "2025-09-07T21:59:50.091091Z",
     "start_time": "2025-09-07T21:59:50.085316Z"
    }
   },
   "cell_type": "code",
   "source": [
    "count = 10\n",
    "print(count)\n",
    "count = 15\n",
    "print(count)\n",
    "count = 30\n",
    "print(count)"
   ],
   "id": "668e4f49609fa8f7",
   "outputs": [
    {
     "name": "stdout",
     "output_type": "stream",
     "text": [
      "10\n",
      "15\n",
      "30\n"
     ]
    }
   ],
   "execution_count": 20
  },
  {
   "metadata": {},
   "cell_type": "markdown",
   "source": [
    "Moreover, you can use the current value of the variable in the new assignment:\n",
    "\n",
    "```python\n",
    "count = 10\n",
    "print(count)\n",
    "count = count + 5\n",
    "print(count)\n",
    "```"
   ],
   "id": "a9e5d88171a338e1"
  },
  {
   "metadata": {
    "ExecuteTime": {
     "end_time": "2025-09-07T21:59:50.108098Z",
     "start_time": "2025-09-07T21:59:50.104602Z"
    }
   },
   "cell_type": "code",
   "source": [
    "count = 10\n",
    "print(count)\n",
    "count = count + 5\n",
    "print(count)"
   ],
   "id": "b3d2800ba3d134ec",
   "outputs": [
    {
     "name": "stdout",
     "output_type": "stream",
     "text": [
      "10\n",
      "15\n"
     ]
    }
   ],
   "execution_count": 21
  },
  {
   "metadata": {},
   "cell_type": "markdown",
   "source": [
    "Let's try it again by another operation:\n",
    "\n",
    "```python\n",
    "count = 15\n",
    "print(count)\n",
    "count = count * 2\n",
    "print(count)\n",
    "```"
   ],
   "id": "f6fceed1120e9b6c"
  },
  {
   "metadata": {
    "ExecuteTime": {
     "end_time": "2025-09-07T21:59:50.123588Z",
     "start_time": "2025-09-07T21:59:50.119819Z"
    }
   },
   "cell_type": "code",
   "source": [
    "count = 15\n",
    "print(count)\n",
    "count = count * 2\n",
    "print(count)"
   ],
   "id": "a38f0bcc8cc24272",
   "outputs": [
    {
     "name": "stdout",
     "output_type": "stream",
     "text": [
      "15\n",
      "30\n"
     ]
    }
   ],
   "execution_count": 22
  },
  {
   "metadata": {},
   "cell_type": "markdown",
   "source": [
    "Assignment operators are used to assign values to variables. The most common assignment operator is `=`, which we have already seen. However, Python also provides several compound assignment operators that combine an arithmetic operation with the assignment:\n",
    "\n",
    "- `+=`: Add and assign\n",
    "- `-=`: Subtract and assign\n",
    "- `*=`: Multiply and assign\n",
    "- `**=`: Exponentiate and assign\n",
    "- `/=`: Divide and assign\n",
    "- `//=`: Floor divide and assign\n",
    "- `%=`: Modulus and assign\n",
    "\n",
    "For example:\n",
    "\n",
    "```python\n",
    "count = 10\n",
    "print(count)\n",
    "count += 5  # Equivalent to count = count + 5\n",
    "print(count)\n",
    "count *= 2  # Equivalent to count = count * 2\n",
    "print(count)\n",
    "```"
   ],
   "id": "5d50fd55f6035e04"
  },
  {
   "metadata": {
    "ExecuteTime": {
     "end_time": "2025-09-07T21:59:50.142850Z",
     "start_time": "2025-09-07T21:59:50.138498Z"
    }
   },
   "cell_type": "code",
   "source": [
    "count = 10\n",
    "print(count)\n",
    "count += 5  # Equivalent to count = count + 5\n",
    "print(count)\n",
    "count *= 2  # Equivalent to count = count * 2\n",
    "print(count)"
   ],
   "id": "b38888dabd0b0622",
   "outputs": [
    {
     "name": "stdout",
     "output_type": "stream",
     "text": [
      "10\n",
      "15\n",
      "30\n"
     ]
    }
   ],
   "execution_count": 23
  },
  {
   "metadata": {},
   "cell_type": "markdown",
   "source": [
    "## Defining Functions\n",
    "\n",
    "Functions are blocks of code that perform a specific task. They are useful for reusing code and avoiding repetition. We have already seen some functions in the previous lessons. For example, `print()` is a function that prints the value of a variable or expression. We can define our own functions using the `def` keyword.\n",
    "\n",
    "```python\n",
    "def plus_one(n):\n",
    "    return n+1\n",
    "\n",
    "plus_one(146)\n",
    "```"
   ],
   "id": "cfe9db26a7b5be29"
  },
  {
   "metadata": {
    "ExecuteTime": {
     "end_time": "2025-09-07T21:59:50.163043Z",
     "start_time": "2025-09-07T21:59:50.159820Z"
    }
   },
   "cell_type": "code",
   "source": [
    "def plus_one(n):\n",
    "    return n+1\n",
    "\n",
    "plus_one(146)"
   ],
   "id": "e479445ce256d7b7",
   "outputs": [
    {
     "data": {
      "text/plain": [
       "147"
      ]
     },
     "execution_count": 24,
     "metadata": {},
     "output_type": "execute_result"
    }
   ],
   "execution_count": 24
  },
  {
   "metadata": {},
   "cell_type": "markdown",
   "source": [
    "Defining a function is as simple as defining a variable. The function name is followed by parentheses, which contain the arguments of the function. At the end of the function, we use the `return` keyword to return the value of the function. In some cases, we may not want to return anything, in which case we can drop the `return` keyword—which, is a rare case, and you don't need to care so much about it (´▽｀)\n",
    "\n",
    "You can take multiple arguments by separating them with commas:\n",
    "\n",
    "```python\n",
    "def plus(x, y):\n",
    "    return x+y\n",
    "\n",
    "plus(114, 514)\n",
    "```"
   ],
   "id": "8148cc8522543f63"
  },
  {
   "metadata": {
    "ExecuteTime": {
     "end_time": "2025-09-07T21:59:50.181858Z",
     "start_time": "2025-09-07T21:59:50.177332Z"
    }
   },
   "cell_type": "code",
   "source": [
    "def plus(x, y):\n",
    "    return x+y\n",
    "\n",
    "plus(114, 514)"
   ],
   "id": "fb7579fbadeb2fa9",
   "outputs": [
    {
     "data": {
      "text/plain": [
       "628"
      ]
     },
     "execution_count": 25,
     "metadata": {},
     "output_type": "execute_result"
    }
   ],
   "execution_count": 25
  },
  {
   "metadata": {},
   "cell_type": "markdown",
   "source": [
    "Sometimes we want to make some arguments optional. We can do this by assigning _default values_ to the arguments:\n",
    "\n",
    "```python\n",
    "def plus_default(x, y=0):\n",
    "    return x+y\n",
    "\n",
    "print(plus_default(1919))\n",
    "print(plus_default(1919, 810))\n",
    "```"
   ],
   "id": "397380e7d0fc3e7b"
  },
  {
   "metadata": {
    "ExecuteTime": {
     "end_time": "2025-09-07T21:59:50.199825Z",
     "start_time": "2025-09-07T21:59:50.194851Z"
    }
   },
   "cell_type": "code",
   "source": [
    "def plus_default(x, y=0):\n",
    "    return x+y\n",
    "\n",
    "print(plus_default(1919))\n",
    "print(plus_default(1919, 810))"
   ],
   "id": "3e6a17647f7cad2",
   "outputs": [
    {
     "name": "stdout",
     "output_type": "stream",
     "text": [
      "1919\n",
      "2729\n"
     ]
    }
   ],
   "execution_count": 26
  },
  {
   "metadata": {},
   "cell_type": "markdown",
   "source": [
    "Notice that all the optional arguments must come after the required arguments.\n",
    "\n",
    "We can even define functions with no arguments:\n",
    "\n",
    "```python\n",
    "def hello():\n",
    "    print('Hello, world!')\n",
    "\n",
    "hello()\n",
    "```"
   ],
   "id": "85f38860bf438c8f"
  },
  {
   "metadata": {
    "ExecuteTime": {
     "end_time": "2025-09-07T21:59:50.218422Z",
     "start_time": "2025-09-07T21:59:50.215504Z"
    }
   },
   "cell_type": "code",
   "source": [
    "def hello():\n",
    "    print('Hello, world!')\n",
    "\n",
    "hello()"
   ],
   "id": "fdc8645d461c7867",
   "outputs": [
    {
     "name": "stdout",
     "output_type": "stream",
     "text": [
      "Hello, world!\n"
     ]
    }
   ],
   "execution_count": 27
  },
  {
   "metadata": {},
   "cell_type": "markdown",
   "source": [
    "## End-of-Lesson Problems\n",
    "\n",
    "Now it's your turn! We will leave you with some interesting questions at the end of each lesson. Feel free to reach us out or discuss with your friends if you have any questions(´▽｀)\n",
    "\n",
    "### Problem 1: 8-Twelve Discount\n",
    "\n",
    "Consider an 8-Twelve discount policy: a person is eligible for a discount if they are a minor (under 18 years old), a senior (65 years or older), or have a student ID.\n",
    "\n",
    "Define the variables below and write out the Boolean expressions to determine:\n",
    "- `is_minor`: whether `age` is less than 18\n",
    "- `is_senior`: whether `age` is at least 65\n",
    "- `eligible_discount`: true if a person is a minor, a senior, or has a student ID\n",
    "\n",
    "Return `eligible_discount` at the end of the cell. The initial values are given for you.\n",
    "\n",
    "```python\n",
    "age = 20\n",
    "has_student_id = True\n",
    "```"
   ],
   "id": "e88152544496798f"
  },
  {
   "metadata": {
    "ExecuteTime": {
     "end_time": "2025-09-07T21:59:50.260788Z",
     "start_time": "2025-09-07T21:59:50.257002Z"
    }
   },
   "cell_type": "code",
   "source": [
    "age = 20\n",
    "has_student_id = True"
   ],
   "id": "60c14f58c6c43839",
   "outputs": [],
   "execution_count": 28
  },
  {
   "metadata": {},
   "cell_type": "markdown",
   "source": [
    "### Problem 2: Functions\n",
    "\n",
    "Define functions below:\n",
    "- Polynomial function: $f(x) = 3x^2 - 2x + 1$\n",
    "- Square root function: $g(x) = \\sqrt{x} = x^{\\frac{1}{2}}$\n",
    "- Exponential function: $h(x, y) = 2^{x+y}$\n",
    "\n",
    "Use your functions to calculate $f(h(1, 3)) + f(6) \\cdot g(9)$."
   ],
   "id": "58a9b53b1cc1f76"
  },
  {
   "metadata": {
    "ExecuteTime": {
     "end_time": "2025-09-07T21:59:50.274187Z",
     "start_time": "2025-09-07T21:59:50.270682Z"
    }
   },
   "cell_type": "code",
   "source": [
    "def f(x):\n",
    "    return 3 * x**2 - 2*x + 1\n",
    "\n",
    "def g(x):\n",
    "    return x**0.5\n",
    "\n",
    "def h(x, y):\n",
    "    return 2**(x + y)\n",
    "\n",
    "print(f(h(1, 3)) + f(6) * g(9))"
   ],
   "id": "15b04fee41ed23f3",
   "outputs": [
    {
     "name": "stdout",
     "output_type": "stream",
     "text": [
      "1028.0\n"
     ]
    }
   ],
   "execution_count": 29
  },
  {
   "metadata": {},
   "cell_type": "markdown",
   "source": [
    "### Problem 3: Iodometry\n",
    "\n",
    "<span style=\"color:#39c5bb\">Yue 20 **Van Nya** \"<u>**5min**</u>\"</span> wants to measure the concentration of a $\\ce{KMnO4}$ solution by the following procedure:\n",
    "\n",
    "- Add $2.0\\ \\mathrm{g}$ of $\\ce{KI}$ and $10\\ \\mathrm{mL}$ of $\\ce{H2SO4}$ solution of concentration $1.0\\ \\mathrm{mol\\,L^{-1}}$ into a conical flask.\n",
    "- Add $5.00\\ \\mathrm{mL}$ of $\\ce{KMnO4}$ solution to measure into the flask, wait until the reaction is complete. The equation of reaction is:\n",
    "    $$\\ce{2MnO4-(aq) + 10I-(aq) + 16H+(aq) -> 2Mn^2+(aq) + 5I2(aq) + 8H2O(aq)}$$\n",
    "- Titrate the generated $\\ce{I2}$ using $0.1020\\ \\mathrm{mol\\,L^{-1}}$ $\\ce{Na2S2O3}$ solution. Add five drops of a starch solution while the titration is about to end. Continue titration until the blue color of the solution vanished. The titration consumed $26.43\\ \\mathrm{mL}$ of $\\ce{Na2S2O3}$ solution. The equation of titration is\n",
    "    $$\\ce{I2(aq) + 2S2O3^2-(aq) -> 2I-(aq) + S4O6^2-(aq)}$$\n",
    "\n",
    "Calculate the concentration of $\\ce{KMnO4}$ solution. Define some variables, perform calculations, make outputs of your answer—and be fun! Just make sure that <u>**you should show all the steps in the code cell below.**</u>\n",
    "\n",
    "$$\\ce{Mn^2+ \\sim 5I^- \\sim 5S2O3^2-}$$\n",
    "\n",
    "```python\n",
    "C_S2O3 = 0.1020\n",
    "V_S2O3 = 26.43e-3\n",
    "V_KMnO4 = 5.00e-3\n",
    "\n",
    "C_KMnO4 = (C_S2O3 * V_S2O3) / (5 * V_KMnO4)\n",
    "round(C_KMnO4, 3)\n",
    "```"
   ],
   "id": "7f36f9823be7b63e"
  },
  {
   "metadata": {
    "ExecuteTime": {
     "end_time": "2025-09-07T21:59:50.284464Z",
     "start_time": "2025-09-07T21:59:50.279454Z"
    }
   },
   "cell_type": "code",
   "source": [
    "C_S2O3 = 0.1020\n",
    "V_S2O3 = 26.43e-3\n",
    "V_KMnO4 = 5.00e-3\n",
    "\n",
    "C_KMnO4 = (C_S2O3 * V_S2O3) / (5 * V_KMnO4)\n",
    "round(C_KMnO4, 3)"
   ],
   "id": "f1fd076256068b45",
   "outputs": [
    {
     "data": {
      "text/plain": [
       "0.108"
      ]
     },
     "execution_count": 30,
     "metadata": {},
     "output_type": "execute_result"
    }
   ],
   "execution_count": 30
  },
  {
   "metadata": {},
   "cell_type": "markdown",
   "source": [
    "## Acknowledgement\n",
    "\n",
    "This lesson draws on ideas from the following sources:\n",
    "\n",
    "- [The Python Tutorial](https://docs.python.org/3/tutorial/)\n",
    "- [Scientific Python Lectures](https://lectures.scientific-python.org/)\n",
    "- Charles J. Weiss's [Scientific Computing for Chemists with Python](https://weisscharlesj.github.io/SciCompforChemists/notebooks/introduction/intro.html)\n",
    "- [An Introduction to Python for Chemistry](https://pythoninchemistry.org/intro_python_chemists/intro.html)\n",
    "- GenAI for making paragraphs and codes(・ω< )★\n",
    "- And so many resources on Reddit, StackExchange, etc.!"
   ],
   "id": "88af57559fa54c14"
  }
 ],
 "metadata": {
  "kernelspec": {
   "display_name": "Python [conda env:base] *",
   "language": "python",
   "name": "conda-base-py"
  },
  "language_info": {
   "codemirror_mode": {
    "name": "ipython",
    "version": 2
   },
   "file_extension": ".py",
   "mimetype": "text/x-python",
   "name": "python",
   "nbconvert_exporter": "python",
   "pygments_lexer": "ipython2",
   "version": "2.7.6"
  }
 },
 "nbformat": 4,
 "nbformat_minor": 5
}
